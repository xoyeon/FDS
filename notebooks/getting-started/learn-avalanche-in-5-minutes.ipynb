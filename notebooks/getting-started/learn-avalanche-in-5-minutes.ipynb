{
  "cells": [
    {
      "cell_type": "markdown",
      "metadata": {
        "id": "view-in-github",
        "colab_type": "text"
      },
      "source": [
        "<a href=\"https://colab.research.google.com/github/xoyeon/FDS/blob/main/notebooks/getting-started/learn-avalanche-in-5-minutes.ipynb\" target=\"_parent\"><img src=\"https://colab.research.google.com/assets/colab-badge.svg\" alt=\"Open In Colab\"/></a>"
      ]
    },
    {
      "cell_type": "markdown",
      "metadata": {
        "pycharm": {
          "name": "#%% md\n"
        },
        "id": "49eT_6SRDeLU"
      },
      "source": [
        "# Learn Avalanche in 5 Minutes\n",
        "## A Short Guide for Researchers on the Run"
      ],
      "id": "49eT_6SRDeLU"
    },
    {
      "cell_type": "markdown",
      "metadata": {
        "pycharm": {
          "name": "#%% md\n"
        },
        "id": "OF5XAUXeDeLW"
      },
      "source": [
        "*Avalanche* is mostly about making the life of a continual learning researcher easier.\n",
        "\n",
        "Below, you can see the main Avalanche modules and how they interact with each other."
      ],
      "id": "OF5XAUXeDeLW"
    },
    {
      "cell_type": "markdown",
      "metadata": {
        "pycharm": {
          "name": "#%% md\n"
        },
        "id": "hJnzE8zWDeLX"
      },
      "source": [
        "![avalanche](https://raw.githubusercontent.com/ContinualAI/avalanche/master/docs/gitbook/.gitbook/assets/avalanche.png)"
      ],
      "id": "hJnzE8zWDeLX"
    },
    {
      "cell_type": "markdown",
      "metadata": {
        "pycharm": {
          "name": "#%% md\n"
        },
        "id": "klGUdVWzDeLX"
      },
      "source": [
        "**What are the three pillars of any respectful continual learning research project?**"
      ],
      "id": "klGUdVWzDeLX"
    },
    {
      "cell_type": "markdown",
      "metadata": {
        "pycharm": {
          "name": "#%% md\n"
        },
        "id": "tCvjneGODeLY"
      },
      "source": [
        "1. **`Benchmarks`**: Machine learning researchers need multiple benchmarks with efficient data handling utils to design and prototype new algorithms. Quantitative results on ever-changing benchmarks has been one of the driving forces of *Deep Learning*.\n",
        "1. **`Training`**: Efficient implementation and training of continual learning algorithms; comparisons with other baselines and state-of-the-art methods become fundamental to asses the quality of an original algorithmic proposal.\n",
        "1. **`Evaluation`**: *Training* utils and *Benchmarks* are not enough alone to push continual learning research forward. Comprehensive and sound *evaluation protocols* and *metrics* need to be employed as well.\n",
        "\n",
        "**With Avalanche, you can find all these three fundamental pieces together and much more, in a single and coherent, well-maintained codebase.**\n",
        "\n",
        "Let's take a quick tour on how you can use Avalanche for your research projects with a **5-minutes guide**, for *researchers on the run*!"
      ],
      "id": "tCvjneGODeLY"
    },
    {
      "cell_type": "markdown",
      "metadata": {
        "pycharm": {
          "name": "#%% md\n"
        },
        "id": "ZC5bt6xnDeLY"
      },
      "source": [
        "Let's first **install Avalanche**. Please, check out our [How to Install](https://avalanche.continualai.org/getting-started/how-to-install) guide for further details."
      ],
      "id": "ZC5bt6xnDeLY"
    },
    {
      "cell_type": "code",
      "execution_count": 1,
      "metadata": {
        "pycharm": {
          "name": "#%%\n"
        },
        "id": "6LnmmMkJDeLZ",
        "outputId": "5d3bbbd7-f19f-48e2-8c52-99305fa3921c",
        "colab": {
          "base_uri": "https://localhost:8080/"
        }
      },
      "outputs": [
        {
          "output_type": "stream",
          "name": "stdout",
          "text": [
            "Looking in indexes: https://pypi.org/simple, https://us-python.pkg.dev/colab-wheels/public/simple/\n",
            "Collecting avalanche-lib[all]\n",
            "  Downloading avalanche_lib-0.3.1-py3-none-any.whl (811 kB)\n",
            "\u001b[2K     \u001b[90m━━━━━━━━━━━━━━━━━━━━━━━━━━━━━━━━━━━━━━\u001b[0m \u001b[32m811.0/811.0 KB\u001b[0m \u001b[31m14.6 MB/s\u001b[0m eta \u001b[36m0:00:00\u001b[0m\n",
            "\u001b[?25hRequirement already satisfied: torch in /usr/local/lib/python3.8/dist-packages (from avalanche-lib[all]) (1.13.1+cu116)\n",
            "Requirement already satisfied: typing-extensions in /usr/local/lib/python3.8/dist-packages (from avalanche-lib[all]) (4.5.0)\n",
            "Requirement already satisfied: torchvision in /usr/local/lib/python3.8/dist-packages (from avalanche-lib[all]) (0.14.1+cu116)\n",
            "Requirement already satisfied: scikit-learn in /usr/local/lib/python3.8/dist-packages (from avalanche-lib[all]) (1.2.1)\n",
            "Requirement already satisfied: matplotlib in /usr/local/lib/python3.8/dist-packages (from avalanche-lib[all]) (3.5.3)\n",
            "Requirement already satisfied: numpy in /usr/local/lib/python3.8/dist-packages (from avalanche-lib[all]) (1.22.4)\n",
            "Collecting torchmetrics\n",
            "  Downloading torchmetrics-0.11.3-py3-none-any.whl (518 kB)\n",
            "\u001b[2K     \u001b[90m━━━━━━━━━━━━━━━━━━━━━━━━━━━━━━━━━━━━━━\u001b[0m \u001b[32m518.6/518.6 KB\u001b[0m \u001b[31m27.0 MB/s\u001b[0m eta \u001b[36m0:00:00\u001b[0m\n",
            "\u001b[?25hRequirement already satisfied: setuptools<=59.5.0 in /usr/local/lib/python3.8/dist-packages (from avalanche-lib[all]) (57.4.0)\n",
            "Requirement already satisfied: psutil in /usr/local/lib/python3.8/dist-packages (from avalanche-lib[all]) (5.4.8)\n",
            "Collecting gputil\n",
            "  Downloading GPUtil-1.4.0.tar.gz (5.5 kB)\n",
            "  Preparing metadata (setup.py) ... \u001b[?25l\u001b[?25hdone\n",
            "Collecting dill\n",
            "  Downloading dill-0.3.6-py3-none-any.whl (110 kB)\n",
            "\u001b[2K     \u001b[90m━━━━━━━━━━━━━━━━━━━━━━━━━━━━━━━━━━━━━━━\u001b[0m \u001b[32m110.5/110.5 KB\u001b[0m \u001b[31m8.9 MB/s\u001b[0m eta \u001b[36m0:00:00\u001b[0m\n",
            "\u001b[?25hRequirement already satisfied: tensorboard>=1.15 in /usr/local/lib/python3.8/dist-packages (from avalanche-lib[all]) (2.11.2)\n",
            "Requirement already satisfied: gdown in /usr/local/lib/python3.8/dist-packages (from avalanche-lib[all]) (4.4.0)\n",
            "Collecting wandb\n",
            "  Downloading wandb-0.13.10-py3-none-any.whl (2.0 MB)\n",
            "\u001b[2K     \u001b[90m━━━━━━━━━━━━━━━━━━━━━━━━━━━━━━━━━━━━━━━━\u001b[0m \u001b[32m2.0/2.0 MB\u001b[0m \u001b[31m19.2 MB/s\u001b[0m eta \u001b[36m0:00:00\u001b[0m\n",
            "\u001b[?25hCollecting quadprog\n",
            "  Downloading quadprog-0.1.11-cp38-cp38-manylinux_2_17_x86_64.manylinux2014_x86_64.whl (455 kB)\n",
            "\u001b[2K     \u001b[90m━━━━━━━━━━━━━━━━━━━━━━━━━━━━━━━━━━━━━━\u001b[0m \u001b[32m455.7/455.7 KB\u001b[0m \u001b[31m17.2 MB/s\u001b[0m eta \u001b[36m0:00:00\u001b[0m\n",
            "\u001b[?25hRequirement already satisfied: tqdm in /usr/local/lib/python3.8/dist-packages (from avalanche-lib[all]) (4.64.1)\n",
            "Collecting pytorchcv\n",
            "  Downloading pytorchcv-0.0.67-py2.py3-none-any.whl (532 kB)\n",
            "\u001b[2K     \u001b[90m━━━━━━━━━━━━━━━━━━━━━━━━━━━━━━━━━━━━━━\u001b[0m \u001b[32m532.4/532.4 KB\u001b[0m \u001b[31m24.0 MB/s\u001b[0m eta \u001b[36m0:00:00\u001b[0m\n",
            "\u001b[?25hRequirement already satisfied: pycocotools in /usr/local/lib/python3.8/dist-packages (from avalanche-lib[all]) (2.0.6)\n",
            "Collecting higher\n",
            "  Downloading higher-0.2.1-py3-none-any.whl (27 kB)\n",
            "Requirement already satisfied: gym in /usr/local/lib/python3.8/dist-packages (from avalanche-lib[all]) (0.25.2)\n",
            "Collecting lvis\n",
            "  Downloading lvis-0.5.3-py3-none-any.whl (14 kB)\n",
            "Requirement already satisfied: torchaudio in /usr/local/lib/python3.8/dist-packages (from avalanche-lib[all]) (0.13.1+cu116)\n",
            "Collecting ctrl-benchmark\n",
            "  Downloading ctrl_benchmark-0.0.4-py3-none-any.whl (50 kB)\n",
            "\u001b[2K     \u001b[90m━━━━━━━━━━━━━━━━━━━━━━━━━━━━━━━━━━━━━━━━\u001b[0m \u001b[32m51.0/51.0 KB\u001b[0m \u001b[31m4.0 MB/s\u001b[0m eta \u001b[36m0:00:00\u001b[0m\n",
            "\u001b[?25hRequirement already satisfied: tensorboard-plugin-wit>=1.6.0 in /usr/local/lib/python3.8/dist-packages (from tensorboard>=1.15->avalanche-lib[all]) (1.8.1)\n",
            "Requirement already satisfied: wheel>=0.26 in /usr/local/lib/python3.8/dist-packages (from tensorboard>=1.15->avalanche-lib[all]) (0.38.4)\n",
            "Requirement already satisfied: google-auth-oauthlib<0.5,>=0.4.1 in /usr/local/lib/python3.8/dist-packages (from tensorboard>=1.15->avalanche-lib[all]) (0.4.6)\n",
            "Requirement already satisfied: markdown>=2.6.8 in /usr/local/lib/python3.8/dist-packages (from tensorboard>=1.15->avalanche-lib[all]) (3.4.1)\n",
            "Requirement already satisfied: absl-py>=0.4 in /usr/local/lib/python3.8/dist-packages (from tensorboard>=1.15->avalanche-lib[all]) (1.4.0)\n",
            "Requirement already satisfied: protobuf<4,>=3.9.2 in /usr/local/lib/python3.8/dist-packages (from tensorboard>=1.15->avalanche-lib[all]) (3.19.6)\n",
            "Requirement already satisfied: tensorboard-data-server<0.7.0,>=0.6.0 in /usr/local/lib/python3.8/dist-packages (from tensorboard>=1.15->avalanche-lib[all]) (0.6.1)\n",
            "Requirement already satisfied: grpcio>=1.24.3 in /usr/local/lib/python3.8/dist-packages (from tensorboard>=1.15->avalanche-lib[all]) (1.51.3)\n",
            "Requirement already satisfied: werkzeug>=1.0.1 in /usr/local/lib/python3.8/dist-packages (from tensorboard>=1.15->avalanche-lib[all]) (2.2.3)\n",
            "Requirement already satisfied: google-auth<3,>=1.6.3 in /usr/local/lib/python3.8/dist-packages (from tensorboard>=1.15->avalanche-lib[all]) (2.16.1)\n",
            "Requirement already satisfied: requests<3,>=2.21.0 in /usr/local/lib/python3.8/dist-packages (from tensorboard>=1.15->avalanche-lib[all]) (2.25.1)\n",
            "Requirement already satisfied: pyyaml in /usr/local/lib/python3.8/dist-packages (from ctrl-benchmark->avalanche-lib[all]) (6.0)\n",
            "Requirement already satisfied: bs4 in /usr/local/lib/python3.8/dist-packages (from ctrl-benchmark->avalanche-lib[all]) (0.0.1)\n",
            "Requirement already satisfied: pydot in /usr/local/lib/python3.8/dist-packages (from ctrl-benchmark->avalanche-lib[all]) (1.3.0)\n",
            "Requirement already satisfied: plotly in /usr/local/lib/python3.8/dist-packages (from ctrl-benchmark->avalanche-lib[all]) (5.5.0)\n",
            "Collecting networkx<3,>2\n",
            "  Downloading networkx-2.8.8-py3-none-any.whl (2.0 MB)\n",
            "\u001b[2K     \u001b[90m━━━━━━━━━━━━━━━━━━━━━━━━━━━━━━━━━━━━━━━━\u001b[0m \u001b[32m2.0/2.0 MB\u001b[0m \u001b[31m27.0 MB/s\u001b[0m eta \u001b[36m0:00:00\u001b[0m\n",
            "\u001b[?25hRequirement already satisfied: pillow!=8.3.*,>=5.3.0 in /usr/local/lib/python3.8/dist-packages (from torchvision->avalanche-lib[all]) (8.4.0)\n",
            "Requirement already satisfied: beautifulsoup4 in /usr/local/lib/python3.8/dist-packages (from gdown->avalanche-lib[all]) (4.6.3)\n",
            "Requirement already satisfied: filelock in /usr/local/lib/python3.8/dist-packages (from gdown->avalanche-lib[all]) (3.9.0)\n",
            "Requirement already satisfied: six in /usr/local/lib/python3.8/dist-packages (from gdown->avalanche-lib[all]) (1.15.0)\n",
            "Requirement already satisfied: gym-notices>=0.0.4 in /usr/local/lib/python3.8/dist-packages (from gym->avalanche-lib[all]) (0.0.8)\n",
            "Requirement already satisfied: importlib-metadata>=4.8.0 in /usr/local/lib/python3.8/dist-packages (from gym->avalanche-lib[all]) (6.0.0)\n",
            "Requirement already satisfied: cloudpickle>=1.2.0 in /usr/local/lib/python3.8/dist-packages (from gym->avalanche-lib[all]) (2.2.1)\n",
            "Requirement already satisfied: kiwisolver>=1.1.0 in /usr/local/lib/python3.8/dist-packages (from lvis->avalanche-lib[all]) (1.4.4)\n",
            "Requirement already satisfied: pyparsing>=2.4.0 in /usr/local/lib/python3.8/dist-packages (from lvis->avalanche-lib[all]) (3.0.9)\n",
            "Requirement already satisfied: cycler>=0.10.0 in /usr/local/lib/python3.8/dist-packages (from lvis->avalanche-lib[all]) (0.11.0)\n",
            "Requirement already satisfied: opencv-python>=4.1.0.25 in /usr/local/lib/python3.8/dist-packages (from lvis->avalanche-lib[all]) (4.6.0.66)\n",
            "Requirement already satisfied: python-dateutil>=2.8.0 in /usr/local/lib/python3.8/dist-packages (from lvis->avalanche-lib[all]) (2.8.2)\n",
            "Requirement already satisfied: Cython>=0.29.12 in /usr/local/lib/python3.8/dist-packages (from lvis->avalanche-lib[all]) (0.29.33)\n",
            "Requirement already satisfied: fonttools>=4.22.0 in /usr/local/lib/python3.8/dist-packages (from matplotlib->avalanche-lib[all]) (4.38.0)\n",
            "Requirement already satisfied: packaging>=20.0 in /usr/local/lib/python3.8/dist-packages (from matplotlib->avalanche-lib[all]) (23.0)\n",
            "Requirement already satisfied: threadpoolctl>=2.0.0 in /usr/local/lib/python3.8/dist-packages (from scikit-learn->avalanche-lib[all]) (3.1.0)\n",
            "Requirement already satisfied: scipy>=1.3.2 in /usr/local/lib/python3.8/dist-packages (from scikit-learn->avalanche-lib[all]) (1.10.1)\n",
            "Requirement already satisfied: joblib>=1.1.1 in /usr/local/lib/python3.8/dist-packages (from scikit-learn->avalanche-lib[all]) (1.2.0)\n",
            "Collecting sentry-sdk>=1.0.0\n",
            "  Downloading sentry_sdk-1.16.0-py2.py3-none-any.whl (184 kB)\n",
            "\u001b[2K     \u001b[90m━━━━━━━━━━━━━━━━━━━━━━━━━━━━━━━━━━━━━━\u001b[0m \u001b[32m184.3/184.3 KB\u001b[0m \u001b[31m12.2 MB/s\u001b[0m eta \u001b[36m0:00:00\u001b[0m\n",
            "\u001b[?25hCollecting GitPython>=1.0.0\n",
            "  Downloading GitPython-3.1.31-py3-none-any.whl (184 kB)\n",
            "\u001b[2K     \u001b[90m━━━━━━━━━━━━━━━━━━━━━━━━━━━━━━━━━━━━━━\u001b[0m \u001b[32m184.3/184.3 KB\u001b[0m \u001b[31m11.9 MB/s\u001b[0m eta \u001b[36m0:00:00\u001b[0m\n",
            "\u001b[?25hRequirement already satisfied: appdirs>=1.4.3 in /usr/local/lib/python3.8/dist-packages (from wandb->avalanche-lib[all]) (1.4.4)\n",
            "Collecting pathtools\n",
            "  Downloading pathtools-0.1.2.tar.gz (11 kB)\n",
            "  Preparing metadata (setup.py) ... \u001b[?25l\u001b[?25hdone\n",
            "Collecting setproctitle\n",
            "  Downloading setproctitle-1.3.2-cp38-cp38-manylinux_2_5_x86_64.manylinux1_x86_64.manylinux_2_17_x86_64.manylinux2014_x86_64.whl (31 kB)\n",
            "Requirement already satisfied: Click!=8.0.0,>=7.0 in /usr/local/lib/python3.8/dist-packages (from wandb->avalanche-lib[all]) (8.1.3)\n",
            "Collecting docker-pycreds>=0.4.0\n",
            "  Downloading docker_pycreds-0.4.0-py2.py3-none-any.whl (9.0 kB)\n",
            "Collecting gitdb<5,>=4.0.1\n",
            "  Downloading gitdb-4.0.10-py3-none-any.whl (62 kB)\n",
            "\u001b[2K     \u001b[90m━━━━━━━━━━━━━━━━━━━━━━━━━━━━━━━━━━━━━━━━\u001b[0m \u001b[32m62.7/62.7 KB\u001b[0m \u001b[31m4.2 MB/s\u001b[0m eta \u001b[36m0:00:00\u001b[0m\n",
            "\u001b[?25hRequirement already satisfied: rsa<5,>=3.1.4 in /usr/local/lib/python3.8/dist-packages (from google-auth<3,>=1.6.3->tensorboard>=1.15->avalanche-lib[all]) (4.9)\n",
            "Requirement already satisfied: pyasn1-modules>=0.2.1 in /usr/local/lib/python3.8/dist-packages (from google-auth<3,>=1.6.3->tensorboard>=1.15->avalanche-lib[all]) (0.2.8)\n",
            "Requirement already satisfied: cachetools<6.0,>=2.0.0 in /usr/local/lib/python3.8/dist-packages (from google-auth<3,>=1.6.3->tensorboard>=1.15->avalanche-lib[all]) (5.3.0)\n",
            "Requirement already satisfied: requests-oauthlib>=0.7.0 in /usr/local/lib/python3.8/dist-packages (from google-auth-oauthlib<0.5,>=0.4.1->tensorboard>=1.15->avalanche-lib[all]) (1.3.1)\n",
            "Requirement already satisfied: zipp>=0.5 in /usr/local/lib/python3.8/dist-packages (from importlib-metadata>=4.8.0->gym->avalanche-lib[all]) (3.15.0)\n",
            "Requirement already satisfied: urllib3<1.27,>=1.21.1 in /usr/local/lib/python3.8/dist-packages (from requests<3,>=2.21.0->tensorboard>=1.15->avalanche-lib[all]) (1.26.14)\n",
            "Requirement already satisfied: idna<3,>=2.5 in /usr/local/lib/python3.8/dist-packages (from requests<3,>=2.21.0->tensorboard>=1.15->avalanche-lib[all]) (2.10)\n",
            "Requirement already satisfied: chardet<5,>=3.0.2 in /usr/local/lib/python3.8/dist-packages (from requests<3,>=2.21.0->tensorboard>=1.15->avalanche-lib[all]) (4.0.0)\n",
            "Requirement already satisfied: certifi>=2017.4.17 in /usr/local/lib/python3.8/dist-packages (from requests<3,>=2.21.0->tensorboard>=1.15->avalanche-lib[all]) (2022.12.7)\n",
            "Requirement already satisfied: MarkupSafe>=2.1.1 in /usr/local/lib/python3.8/dist-packages (from werkzeug>=1.0.1->tensorboard>=1.15->avalanche-lib[all]) (2.1.2)\n",
            "Requirement already satisfied: tenacity>=6.2.0 in /usr/local/lib/python3.8/dist-packages (from plotly->ctrl-benchmark->avalanche-lib[all]) (8.2.2)\n",
            "Requirement already satisfied: PySocks!=1.5.7,>=1.5.6 in /usr/local/lib/python3.8/dist-packages (from requests<3,>=2.21.0->tensorboard>=1.15->avalanche-lib[all]) (1.7.1)\n",
            "Collecting smmap<6,>=3.0.1\n",
            "  Downloading smmap-5.0.0-py3-none-any.whl (24 kB)\n",
            "Requirement already satisfied: pyasn1<0.5.0,>=0.4.6 in /usr/local/lib/python3.8/dist-packages (from pyasn1-modules>=0.2.1->google-auth<3,>=1.6.3->tensorboard>=1.15->avalanche-lib[all]) (0.4.8)\n",
            "Requirement already satisfied: oauthlib>=3.0.0 in /usr/local/lib/python3.8/dist-packages (from requests-oauthlib>=0.7.0->google-auth-oauthlib<0.5,>=0.4.1->tensorboard>=1.15->avalanche-lib[all]) (3.2.2)\n",
            "Building wheels for collected packages: gputil, pathtools\n",
            "  Building wheel for gputil (setup.py) ... \u001b[?25l\u001b[?25hdone\n",
            "  Created wheel for gputil: filename=GPUtil-1.4.0-py3-none-any.whl size=7409 sha256=ed22d426e5f881f5e644ebe799ca7f02bfbaf5a8f78d9d3735e3508c3f18fb4e\n",
            "  Stored in directory: /root/.cache/pip/wheels/ba/03/bb/7a97840eb54479b328672e15a536e49dc60da200fb21564d53\n",
            "  Building wheel for pathtools (setup.py) ... \u001b[?25l\u001b[?25hdone\n",
            "  Created wheel for pathtools: filename=pathtools-0.1.2-py3-none-any.whl size=8806 sha256=5e11658cd4feb0b56fbe0fe209a132bd6250fd74a94353b46d56144b9b8276da\n",
            "  Stored in directory: /root/.cache/pip/wheels/4c/8e/7e/72fbc243e1aeecae64a96875432e70d4e92f3d2d18123be004\n",
            "Successfully built gputil pathtools\n",
            "Installing collected packages: pathtools, gputil, smmap, setproctitle, sentry-sdk, quadprog, networkx, docker-pycreds, dill, torchmetrics, pytorchcv, higher, gitdb, lvis, GitPython, ctrl-benchmark, wandb, avalanche-lib\n",
            "  Attempting uninstall: networkx\n",
            "    Found existing installation: networkx 3.0\n",
            "    Uninstalling networkx-3.0:\n",
            "      Successfully uninstalled networkx-3.0\n",
            "Successfully installed GitPython-3.1.31 avalanche-lib-0.3.1 ctrl-benchmark-0.0.4 dill-0.3.6 docker-pycreds-0.4.0 gitdb-4.0.10 gputil-1.4.0 higher-0.2.1 lvis-0.5.3 networkx-2.8.8 pathtools-0.1.2 pytorchcv-0.0.67 quadprog-0.1.11 sentry-sdk-1.16.0 setproctitle-1.3.2 smmap-5.0.0 torchmetrics-0.11.3 wandb-0.13.10\n",
            "Name: avalanche-lib\n",
            "Version: 0.3.1\n",
            "Summary: Avalanche: a Comprehensive Framework for Continual Learning Research\n",
            "Home-page: https://github.com/ContinualAI/avalanche\n",
            "Author: ContinualAI\n",
            "Author-email: contact@continualai.org\n",
            "License: \n",
            "Location: /usr/local/lib/python3.8/dist-packages\n",
            "Requires: dill, gdown, gputil, matplotlib, numpy, psutil, pytorchcv, quadprog, scikit-learn, setuptools, tensorboard, torch, torchmetrics, torchvision, tqdm, typing-extensions, wandb\n",
            "Required-by: \n"
          ]
        }
      ],
      "source": [
        "!pip install avalanche-lib[all]\n",
        "!pip show avalanche-lib"
      ],
      "id": "6LnmmMkJDeLZ"
    },
    {
      "cell_type": "markdown",
      "metadata": {
        "pycharm": {
          "name": "#%% md\n"
        },
        "id": "hoqS6mOEDeLa"
      },
      "source": [
        "## 🏛️ General Architecture"
      ],
      "id": "hoqS6mOEDeLa"
    },
    {
      "cell_type": "markdown",
      "metadata": {
        "pycharm": {
          "name": "#%% md\n"
        },
        "id": "Mqc2TP3aDeLa"
      },
      "source": [
        "Avalanche is organized in five main modules:\n",
        "\n",
        "1. **Benchmarks**: This module maintains a uniform API for data handling: mostly generating a stream of data from one or more datasets. It contains all the major CL benchmarks (similar to what has been done for [torchvision](https://pytorch.org/docs/stable/torchvision/index.html)).\n",
        "1. **Training**: This module provides all the necessary utilities concerning model training. This includes simple and efficient ways of implement new continual learning strategies as well as a set pre-implemented CL baselines and state-of-the-art algorithms you will be able to use for comparison!\n",
        "1. **Evaluation**: This modules provides all the utilities and metrics that can help in evaluating a CL algorithm with respect to all the factors we believe to be important for a continually learning system.\n",
        "1. **Models**: In this module you'll be able to find several model architectures and pre-trained models that can be used for your continual learning experiment (similar to what has been done in [torchvision.models](https://pytorch.org/docs/stable/torchvision/index.html)).\n",
        "1. **Logging**: It includes advanced logging and plotting features, including native stdout, file and [Tensorboard](https://www.tensorflow.org/tensorboard) support (How cool it is to have a complete, interactive dashboard, tracking your experiment metrics in real-time with a single line of code?)\n",
        "\n",
        "In the graphic below, you can see how Avalanche sub-modules are available and organized as well:"
      ],
      "id": "Mqc2TP3aDeLa"
    },
    {
      "cell_type": "raw",
      "metadata": {
        "pycharm": {
          "name": "#%% raw\n"
        },
        "id": "oSaH1ihYDeLb"
      },
      "source": [
        "{% code title=\"Avalanche Main Modules and Sub-Modules\" %}\n",
        "```text\n",
        "Avalanche\n",
        "├── Benchmarks\n",
        "│   ├── Classic\n",
        "│   ├── Datasets\n",
        "│   ├── Generators\n",
        "│   ├── Scenarios\n",
        "│   └── Utils\n",
        "├── Evaluation\n",
        "│   ├── Metrics\n",
        "|   └── Utils\n",
        "├── Training\n",
        "│   ├── Strategies\n",
        "│   ├── Plugins\n",
        "|   └── Utils\n",
        "├── Models\n",
        "└── Loggers\n",
        "\n",
        "```\n",
        "{% endcode %}"
      ],
      "id": "oSaH1ihYDeLb"
    },
    {
      "cell_type": "markdown",
      "metadata": {
        "pycharm": {
          "name": "#%% md\n"
        },
        "id": "RMf9Jt_iDeLc"
      },
      "source": [
        "We will learn more about each of them during this tutorial series, but keep in mind that the [Avalanche API documentation](https://avalanche-api.continualai.org/en/latest/) is your friend as well!\n",
        "\n",
        "All right, let's start with the benchmarks module right away 👇"
      ],
      "id": "RMf9Jt_iDeLc"
    },
    {
      "cell_type": "markdown",
      "metadata": {
        "pycharm": {
          "name": "#%% md\n"
        },
        "id": "pKzY7g6bDeLc"
      },
      "source": [
        "## 📚 Benchmarks"
      ],
      "id": "pKzY7g6bDeLc"
    },
    {
      "cell_type": "markdown",
      "metadata": {
        "pycharm": {
          "name": "#%% md\n"
        },
        "id": "2vSAkXKKDeLc"
      },
      "source": [
        "The benchmark module offers three main features:\n",
        "1. **Datasets**: a comprehensive list of PyTorch Datasets ready to use (It includes all the Torchvision Datasets and more!).\n",
        "1. **Classic Benchmarks**: a set of classic Continual Learning Benchmarks ready to be used (there can be multiple benchmarks based on a single dataset).\n",
        "1. **Generators**: a set of functions you can use to generate your own benchmark starting from any PyTorch Dataset!"
      ],
      "id": "2vSAkXKKDeLc"
    },
    {
      "cell_type": "markdown",
      "metadata": {
        "pycharm": {
          "name": "#%% md\n"
        },
        "id": "oiM7TqX8DeLd"
      },
      "source": [
        "### Datasets"
      ],
      "id": "oiM7TqX8DeLd"
    },
    {
      "cell_type": "markdown",
      "metadata": {
        "pycharm": {
          "name": "#%% md\n"
        },
        "id": "iueuVmKPDeLd"
      },
      "source": [
        "Datasets can be imported in Avalanche as simply as:"
      ],
      "id": "iueuVmKPDeLd"
    },
    {
      "cell_type": "code",
      "execution_count": 2,
      "metadata": {
        "pycharm": {
          "name": "#%%\n"
        },
        "id": "-dzQ6XpLDeLd"
      },
      "outputs": [],
      "source": [
        "from avalanche.benchmarks.datasets import MNIST, FashionMNIST, KMNIST, EMNIST, \\\n",
        "    QMNIST, FakeData, CocoCaptions, CocoDetection, LSUN, ImageNet, CIFAR10, \\\n",
        "    CIFAR100, STL10, SVHN, PhotoTour, SBU, Flickr8k, Flickr30k, VOCDetection, \\\n",
        "    VOCSegmentation, Cityscapes, SBDataset, USPS, HMDB51, UCF101, CelebA, \\\n",
        "    CORe50Dataset, TinyImagenet, CUB200, OpenLORIS, MiniImageNetDataset, \\\n",
        "    Stream51, CLEARDataset"
      ],
      "id": "-dzQ6XpLDeLd"
    },
    {
      "cell_type": "markdown",
      "metadata": {
        "pycharm": {
          "name": "#%% md\n"
        },
        "id": "lAxBI5kLDeLd"
      },
      "source": [
        "Of course, you can use them as you would use any *PyTorch Dataset*."
      ],
      "id": "lAxBI5kLDeLd"
    },
    {
      "cell_type": "markdown",
      "metadata": {
        "pycharm": {
          "name": "#%% md\n"
        },
        "id": "_1HJUxqsDeLe"
      },
      "source": [
        "### Benchmarks Basics"
      ],
      "id": "_1HJUxqsDeLe"
    },
    {
      "cell_type": "markdown",
      "metadata": {
        "pycharm": {
          "name": "#%% md\n"
        },
        "id": "s49_msZODeLe"
      },
      "source": [
        "The *Avalanche* benchmarks (instances of the Scenario class), contains several attributes that describe the benchmark. However, the most important ones are the `train` and `test` streams.\n",
        "\n",
        "In *Avalanche* we often suppose to have access to these **two parallel stream** of data (even though some benchmarks may not provide such feature, but contain just a unique test set).\n",
        "\n",
        "Each of these `streams` are iterable, indexable and sliceable objects that are composed of **experiences**. Experiences are batch of data (or \"tasks\") that can be provided with or without a specific task label."
      ],
      "id": "s49_msZODeLe"
    },
    {
      "cell_type": "markdown",
      "metadata": {
        "pycharm": {
          "name": "#%% md\n"
        },
        "id": "OXCujZiaDeLe"
      },
      "source": [
        "### Classic Benchmarks"
      ],
      "id": "OXCujZiaDeLe"
    },
    {
      "cell_type": "markdown",
      "metadata": {
        "pycharm": {
          "name": "#%% md\n"
        },
        "id": "M9goqwqwDeLe"
      },
      "source": [
        "*Avalanche* maintains a set of commonly used benchmarks built on top of one or multiple datasets."
      ],
      "id": "M9goqwqwDeLe"
    },
    {
      "cell_type": "code",
      "execution_count": 3,
      "metadata": {
        "pycharm": {
          "name": "#%%\n"
        },
        "id": "Tkv9uh92DeLe",
        "outputId": "a25768ce-bed1-4585-b4e8-96433364027b",
        "colab": {
          "base_uri": "https://localhost:8080/",
          "height": 714,
          "referenced_widgets": [
            "1a64ddee00c4442c8aee108cedb53706",
            "0b050583610940eea7331ad75fac9902",
            "40ec1bdeb4c244398c9edc015a12832c",
            "7c451beee2b24e4fa7fc9e6b0e39c63e",
            "17bbdd79bab3494486cb3860c497eebe",
            "09036002d7d6439c9d7bf26c98843d51",
            "59277a35e622476ebc74e469a7cf3948",
            "6fcf3f5014ac4e8bbfbe1d4ca840f6c7",
            "3a56ae9bb1f8429c95841b7ba942fcff",
            "0e55d7cc46c54329bd5da4741049a856",
            "6e01539deb1640f28c20b46d86b33e9c",
            "09cb091186dc4ee5a2ada74a4a1f12b1",
            "6373ed1edb2f472ca01f1d6958eba114",
            "87ed0bc288674712b0d1fb7c42b50a66",
            "640171bb7f7a4db6b9264ce08bada4e6",
            "964e814fd9a44f7c95a3ffa29a808c2f",
            "e0366d4fcd914bbd9a5868f81d1f5fe3",
            "f873980dc70748b6bcf8e507acae564d",
            "b8dd445146b1411fb442802680b01689",
            "8b3df9b6424640408d46bc8a85e9309b",
            "fcc29376164f4c6ca1e95c94ec9b0447",
            "e6ba6113449846498ca4b5754725238b",
            "10be7a001f30434bbdceff99d213b38a",
            "799e3b8a45b94526b716d02a6c1e922e",
            "568f7fe459e34cf5a1c598370011ab96",
            "94442c1ef9a34e7fb0e5d07a508a813c",
            "2eb64b460e77471bb11c48d4d19dde08",
            "345e812144e34d9daa71f338e0cd8f40",
            "bc98c822bed24f7a838c556796aacb5d",
            "e910c1efb30a4d7abf35d003489a30e0",
            "b145229edda54c27b2abd972f80046b5",
            "e44b4893ac8845eebef14f51d6cd867e",
            "a2d21aa91d3043449717042b952f95a2",
            "2cc164ec33394b3495612b05533e7d29",
            "30626e23eef14941b11bff234464c679",
            "a6ee342ad12e4c11829cd503a6a894cf",
            "e5b65bf4070a4997ae0248935376e279",
            "084d60e2782245d3b6a1b556331caff5",
            "7c9fc54dae164a1a9e385c0d9c0687f7",
            "ff55665bf236463d9ac7111f6f3a1454",
            "ae7125c5a7ac485490b5d44f77e25c31",
            "f35960fea6d54046a7c9ef30a962722e",
            "b8ee5e1e4986441cb7296189c8a43a6d",
            "e73b61362a534c65ab1bc2d07e0b8010"
          ]
        }
      },
      "outputs": [
        {
          "output_type": "stream",
          "name": "stdout",
          "text": [
            "Downloading http://yann.lecun.com/exdb/mnist/train-images-idx3-ubyte.gz\n",
            "Downloading http://yann.lecun.com/exdb/mnist/train-images-idx3-ubyte.gz to /root/.avalanche/data/mnist/TensorMNIST/raw/train-images-idx3-ubyte.gz\n"
          ]
        },
        {
          "output_type": "display_data",
          "data": {
            "text/plain": [
              "  0%|          | 0/9912422 [00:00<?, ?it/s]"
            ],
            "application/vnd.jupyter.widget-view+json": {
              "version_major": 2,
              "version_minor": 0,
              "model_id": "1a64ddee00c4442c8aee108cedb53706"
            }
          },
          "metadata": {}
        },
        {
          "output_type": "stream",
          "name": "stdout",
          "text": [
            "Extracting /root/.avalanche/data/mnist/TensorMNIST/raw/train-images-idx3-ubyte.gz to /root/.avalanche/data/mnist/TensorMNIST/raw\n",
            "\n",
            "Downloading http://yann.lecun.com/exdb/mnist/train-labels-idx1-ubyte.gz\n",
            "Downloading http://yann.lecun.com/exdb/mnist/train-labels-idx1-ubyte.gz to /root/.avalanche/data/mnist/TensorMNIST/raw/train-labels-idx1-ubyte.gz\n"
          ]
        },
        {
          "output_type": "display_data",
          "data": {
            "text/plain": [
              "  0%|          | 0/28881 [00:00<?, ?it/s]"
            ],
            "application/vnd.jupyter.widget-view+json": {
              "version_major": 2,
              "version_minor": 0,
              "model_id": "09cb091186dc4ee5a2ada74a4a1f12b1"
            }
          },
          "metadata": {}
        },
        {
          "output_type": "stream",
          "name": "stdout",
          "text": [
            "Extracting /root/.avalanche/data/mnist/TensorMNIST/raw/train-labels-idx1-ubyte.gz to /root/.avalanche/data/mnist/TensorMNIST/raw\n",
            "\n",
            "Downloading http://yann.lecun.com/exdb/mnist/t10k-images-idx3-ubyte.gz\n",
            "Downloading http://yann.lecun.com/exdb/mnist/t10k-images-idx3-ubyte.gz to /root/.avalanche/data/mnist/TensorMNIST/raw/t10k-images-idx3-ubyte.gz\n"
          ]
        },
        {
          "output_type": "display_data",
          "data": {
            "text/plain": [
              "  0%|          | 0/1648877 [00:00<?, ?it/s]"
            ],
            "application/vnd.jupyter.widget-view+json": {
              "version_major": 2,
              "version_minor": 0,
              "model_id": "10be7a001f30434bbdceff99d213b38a"
            }
          },
          "metadata": {}
        },
        {
          "output_type": "stream",
          "name": "stdout",
          "text": [
            "Extracting /root/.avalanche/data/mnist/TensorMNIST/raw/t10k-images-idx3-ubyte.gz to /root/.avalanche/data/mnist/TensorMNIST/raw\n",
            "\n",
            "Downloading http://yann.lecun.com/exdb/mnist/t10k-labels-idx1-ubyte.gz\n",
            "Downloading http://yann.lecun.com/exdb/mnist/t10k-labels-idx1-ubyte.gz to /root/.avalanche/data/mnist/TensorMNIST/raw/t10k-labels-idx1-ubyte.gz\n"
          ]
        },
        {
          "output_type": "display_data",
          "data": {
            "text/plain": [
              "  0%|          | 0/4542 [00:00<?, ?it/s]"
            ],
            "application/vnd.jupyter.widget-view+json": {
              "version_major": 2,
              "version_minor": 0,
              "model_id": "2cc164ec33394b3495612b05533e7d29"
            }
          },
          "metadata": {}
        },
        {
          "output_type": "stream",
          "name": "stdout",
          "text": [
            "Extracting /root/.avalanche/data/mnist/TensorMNIST/raw/t10k-labels-idx1-ubyte.gz to /root/.avalanche/data/mnist/TensorMNIST/raw\n",
            "\n",
            "Start of task  0\n",
            "Classes in this task: [0, 1, 2, 3, 4, 5, 6, 7, 8, 9]\n",
            "Task 0\n",
            "This task contains 60000 training examples\n",
            "This task contains 10000 test examples\n",
            "Start of task  0\n",
            "Classes in this task: [0, 1, 2, 3, 4, 5, 6, 7, 8, 9]\n",
            "Task 0\n",
            "This task contains 60000 training examples\n",
            "This task contains 10000 test examples\n",
            "Start of task  0\n",
            "Classes in this task: [0, 1, 2, 3, 4, 5, 6, 7, 8, 9]\n",
            "Task 0\n",
            "This task contains 60000 training examples\n",
            "This task contains 10000 test examples\n"
          ]
        }
      ],
      "source": [
        "from avalanche.benchmarks.classic import CORe50, SplitTinyImageNet, SplitCIFAR10, \\\n",
        "    SplitCIFAR100, SplitCIFAR110, SplitMNIST, RotatedMNIST, PermutedMNIST, SplitCUB200\n",
        "\n",
        "# creating the benchmark (scenario object)\n",
        "perm_mnist = PermutedMNIST(\n",
        "    n_experiences=3,\n",
        "    seed=1234,\n",
        ")\n",
        "\n",
        "# recovering the train and test streams\n",
        "train_stream = perm_mnist.train_stream\n",
        "test_stream = perm_mnist.test_stream\n",
        "\n",
        "# iterating over the train stream\n",
        "for experience in train_stream:\n",
        "    print(\"Start of task \", experience.task_label)\n",
        "    print('Classes in this task:', experience.classes_in_this_experience)\n",
        "\n",
        "    # The current Pytorch training set can be easily recovered through the \n",
        "    # experience\n",
        "    current_training_set = experience.dataset\n",
        "    # ...as well as the task_label\n",
        "    print('Task {}'.format(experience.task_label))\n",
        "    print('This task contains', len(current_training_set), 'training examples')\n",
        "\n",
        "    # we can recover the corresponding test experience in the test stream\n",
        "    current_test_set = test_stream[experience.current_experience].dataset\n",
        "    print('This task contains', len(current_test_set), 'test examples')"
      ],
      "id": "Tkv9uh92DeLe"
    },
    {
      "cell_type": "markdown",
      "metadata": {
        "pycharm": {
          "name": "#%% md\n"
        },
        "id": "JmrvpYBbDeLf"
      },
      "source": [
        "### Benchmarks Generators"
      ],
      "id": "JmrvpYBbDeLf"
    },
    {
      "cell_type": "markdown",
      "metadata": {
        "pycharm": {
          "name": "#%% md\n"
        },
        "id": "rXcKooC6DeLf"
      },
      "source": [
        "What if we want to create a new benchmark that is not present in the *\"Classic\"* ones? Well, in that case Avalanche offers a number of utilities that you can use to create your own benchmark with maximum flexibility: the **benchmark generators**!\n",
        "\n",
        "The *specific* scenario generators are useful when starting from one or multiple PyTorch datasets and you want to create a **\"New Instances\"** or **\"New Classes\"** benchmark: i.e. it supports the easy and flexible creation of a *Domain-Incremental*, *Class-Incremental* or *Task-Incremental* scenarios among others."
      ],
      "id": "rXcKooC6DeLf"
    },
    {
      "cell_type": "code",
      "execution_count": 4,
      "metadata": {
        "pycharm": {
          "name": "#%%\n"
        },
        "id": "wj1YyxOrDeLf",
        "outputId": "4925dde3-d1db-41d9-ec20-a9b529cbd62b",
        "colab": {
          "base_uri": "https://localhost:8080/",
          "height": 439,
          "referenced_widgets": [
            "5339445bb6cf4b8196e7b49b5dfb6548",
            "f25d04bcb09f470bb68580de573e6b35",
            "9c3f82c3e6e048cd97f7ff712c4ebed2",
            "df0862f609084355aa8cdc937e148faa",
            "4540b26c420547a19081da8ba921e5aa",
            "bdbaccd36d0e4a26ae0eedeb8a02d922",
            "f01c62b4e6444fc0812a5c944d315b5c",
            "9423d6b544db4871b0731625d41402ea",
            "660656b497ca4e30a243979ca3c2fc05",
            "fdd7fd6a075a4b97bdbb9a6584904b94",
            "20c5e79cb40b495f84d740da064dcc48",
            "ee1f8d74044e445a92e2c75397a75484",
            "9bb147d4543440edb63b7a5ffb18bb13",
            "bbce57521d1b4d0eb7edf88a1f8b3b1d",
            "50890b038ae4463a8c7f16b854dfc647",
            "e675e51d65224dbd9cbe25496205b671",
            "a667a85163b34606bcef39849f48ba46",
            "d0a525d796744dfd8eb39e48bfb0b354",
            "2c3eaaaff72b4ff18627438ce8fa1110",
            "f64c5a93048c49a8b70df950455aca0b",
            "013fed93e96f432999f0334e11a91bfd",
            "736b463d509c47ee98817d9ba249e699",
            "10dc09f714c54ec4813d193dcdaafc21",
            "8d02da440b784e45890d1933721c01d7",
            "ff8e05a023854637aa7d007ffc7abef4",
            "cc11c2d4dbc34f3da7c7d9e4c32e3ee3",
            "b6687f11dc4247849900de8aebceb80a",
            "c2f146935cb3472ba74f71c0fe905215",
            "b6a15383e8f0448e87ac4dd66323f786",
            "40fea0c68c2e4fe987b563227ba51235",
            "831822744b2849ff83efd72bb6766460",
            "0bc2a26451804df9961669351343cc20",
            "fb27adba4af547ec99144ee1528df10f",
            "95103e539b044adeb5237e582599a00d",
            "caa4c4c39a2f44fb902899f3ecec9ada",
            "a191d54c47f64544a6a74f7da860e580",
            "2d1e5212c1f04378bef7727edf0e6fb1",
            "f5ed4494f8ff432bb6f2230850ae6bb6",
            "258fea7885b24c4cb367248510d8c726",
            "bb2eb732b1c449c08f7223d8f222fffb",
            "f1bd354ecc084b47a60c7a807fbcb13f",
            "200a6b3cddee4755a05dc919f37c5a28",
            "3267fb8d280d4e93b15f980f8cebef3e",
            "9768ece85fbc45fb90899bd1fddff93d"
          ]
        }
      },
      "outputs": [
        {
          "output_type": "stream",
          "name": "stdout",
          "text": [
            "Downloading http://yann.lecun.com/exdb/mnist/train-images-idx3-ubyte.gz\n",
            "Downloading http://yann.lecun.com/exdb/mnist/train-images-idx3-ubyte.gz to ./MNIST/raw/train-images-idx3-ubyte.gz\n"
          ]
        },
        {
          "output_type": "display_data",
          "data": {
            "text/plain": [
              "  0%|          | 0/9912422 [00:00<?, ?it/s]"
            ],
            "application/vnd.jupyter.widget-view+json": {
              "version_major": 2,
              "version_minor": 0,
              "model_id": "5339445bb6cf4b8196e7b49b5dfb6548"
            }
          },
          "metadata": {}
        },
        {
          "output_type": "stream",
          "name": "stdout",
          "text": [
            "Extracting ./MNIST/raw/train-images-idx3-ubyte.gz to ./MNIST/raw\n",
            "\n",
            "Downloading http://yann.lecun.com/exdb/mnist/train-labels-idx1-ubyte.gz\n",
            "Downloading http://yann.lecun.com/exdb/mnist/train-labels-idx1-ubyte.gz to ./MNIST/raw/train-labels-idx1-ubyte.gz\n"
          ]
        },
        {
          "output_type": "display_data",
          "data": {
            "text/plain": [
              "  0%|          | 0/28881 [00:00<?, ?it/s]"
            ],
            "application/vnd.jupyter.widget-view+json": {
              "version_major": 2,
              "version_minor": 0,
              "model_id": "ee1f8d74044e445a92e2c75397a75484"
            }
          },
          "metadata": {}
        },
        {
          "output_type": "stream",
          "name": "stdout",
          "text": [
            "Extracting ./MNIST/raw/train-labels-idx1-ubyte.gz to ./MNIST/raw\n",
            "\n",
            "Downloading http://yann.lecun.com/exdb/mnist/t10k-images-idx3-ubyte.gz\n",
            "Downloading http://yann.lecun.com/exdb/mnist/t10k-images-idx3-ubyte.gz to ./MNIST/raw/t10k-images-idx3-ubyte.gz\n"
          ]
        },
        {
          "output_type": "display_data",
          "data": {
            "text/plain": [
              "  0%|          | 0/1648877 [00:00<?, ?it/s]"
            ],
            "application/vnd.jupyter.widget-view+json": {
              "version_major": 2,
              "version_minor": 0,
              "model_id": "10dc09f714c54ec4813d193dcdaafc21"
            }
          },
          "metadata": {}
        },
        {
          "output_type": "stream",
          "name": "stdout",
          "text": [
            "Extracting ./MNIST/raw/t10k-images-idx3-ubyte.gz to ./MNIST/raw\n",
            "\n",
            "Downloading http://yann.lecun.com/exdb/mnist/t10k-labels-idx1-ubyte.gz\n",
            "Downloading http://yann.lecun.com/exdb/mnist/t10k-labels-idx1-ubyte.gz to ./MNIST/raw/t10k-labels-idx1-ubyte.gz\n"
          ]
        },
        {
          "output_type": "display_data",
          "data": {
            "text/plain": [
              "  0%|          | 0/4542 [00:00<?, ?it/s]"
            ],
            "application/vnd.jupyter.widget-view+json": {
              "version_major": 2,
              "version_minor": 0,
              "model_id": "95103e539b044adeb5237e582599a00d"
            }
          },
          "metadata": {}
        },
        {
          "output_type": "stream",
          "name": "stdout",
          "text": [
            "Extracting ./MNIST/raw/t10k-labels-idx1-ubyte.gz to ./MNIST/raw\n",
            "\n"
          ]
        }
      ],
      "source": [
        "from avalanche.benchmarks.generators import nc_benchmark, ni_benchmark\n",
        "from torchvision.datasets import MNIST\n",
        "\n",
        "mnist_train = MNIST('.', train=True, download=True)\n",
        "mnist_test = MNIST('.', train=False)\n",
        "\n",
        "benchmark = ni_benchmark(\n",
        "    mnist_train, mnist_test, n_experiences=10, shuffle=True, seed=1234,\n",
        "    balance_experiences=True\n",
        ")\n",
        "benchmark = nc_benchmark(\n",
        "    mnist_train, mnist_test, n_experiences=10, shuffle=True, seed=1234,\n",
        "    task_labels=False\n",
        ")"
      ],
      "id": "wj1YyxOrDeLf"
    },
    {
      "cell_type": "markdown",
      "metadata": {
        "pycharm": {
          "name": "#%% md\n"
        },
        "id": "LPPXIm0XDeLf"
      },
      "source": [
        "Finally, if your ideal benchmark does not fit well in the aforementioned *Domain-Incremental*, *Class-Incremental* or *Task-Incremental* scenarios, you can always use our **generic generators**:\n",
        "* **filelist_benchmark**\n",
        "* **paths_benchmark**\n",
        "* **dataset_benchmark**\n",
        "* **tensors_benchmark**"
      ],
      "id": "LPPXIm0XDeLf"
    },
    {
      "cell_type": "code",
      "execution_count": 5,
      "metadata": {
        "pycharm": {
          "name": "#%%\n"
        },
        "id": "_vGUINcFDeLf"
      },
      "outputs": [],
      "source": [
        "from avalanche.benchmarks.generators import filelist_benchmark, dataset_benchmark, \\\n",
        "                                            tensors_benchmark, paths_benchmark"
      ],
      "id": "_vGUINcFDeLf"
    },
    {
      "cell_type": "markdown",
      "metadata": {
        "pycharm": {
          "name": "#%% md\n"
        },
        "id": "Y6KOekL0DeLf"
      },
      "source": [
        "You can read more about how to use them the full *Benchmarks* module tutorial!"
      ],
      "id": "Y6KOekL0DeLf"
    },
    {
      "cell_type": "markdown",
      "metadata": {
        "pycharm": {
          "name": "#%% md\n"
        },
        "id": "5S8E63P9DeLg"
      },
      "source": [
        "## 💪 Training"
      ],
      "id": "5S8E63P9DeLg"
    },
    {
      "cell_type": "markdown",
      "metadata": {
        "pycharm": {
          "name": "#%% md\n"
        },
        "id": "8H8ugpecDeLg"
      },
      "source": [
        "The `training` module in *Avalanche* is build on modularity and it has two main goals:\n",
        "1. provide a set of standard *continual learning baselines* that can be easily run for comparison;\n",
        "1. provide the necessary utilities to **implement and run your own strategy** in the most efficient and simple way possible thanks to the building blocks we already prepared for you."
      ],
      "id": "8H8ugpecDeLg"
    },
    {
      "cell_type": "markdown",
      "metadata": {
        "pycharm": {
          "name": "#%% md\n"
        },
        "id": "Ub1RARwlDeLg"
      },
      "source": [
        "### Strategies"
      ],
      "id": "Ub1RARwlDeLg"
    },
    {
      "cell_type": "markdown",
      "metadata": {
        "pycharm": {
          "name": "#%% md\n"
        },
        "id": "gkai_675DeLg"
      },
      "source": [
        "If you want to compare your strategy with other classic continual learning algorithms or baselines, in *Avalanche* this is as simple as creating an object:"
      ],
      "id": "gkai_675DeLg"
    },
    {
      "cell_type": "code",
      "execution_count": 6,
      "metadata": {
        "pycharm": {
          "name": "#%%\n"
        },
        "id": "HI213cUsDeLg"
      },
      "outputs": [],
      "source": [
        "from avalanche.models import SimpleMLP\n",
        "from avalanche.training import Naive, CWRStar, Replay, GDumb, \\\n",
        "    Cumulative, LwF, GEM, AGEM, EWC, AR1\n",
        "from torch.optim import SGD\n",
        "from torch.nn import CrossEntropyLoss\n",
        "\n",
        "model = SimpleMLP(num_classes=10)\n",
        "cl_strategy = Naive(\n",
        "    model, SGD(model.parameters(), lr=0.001, momentum=0.9),\n",
        "    CrossEntropyLoss(), train_mb_size=100, train_epochs=4, eval_mb_size=100\n",
        ")"
      ],
      "id": "HI213cUsDeLg"
    },
    {
      "cell_type": "markdown",
      "metadata": {
        "pycharm": {
          "name": "#%% md\n"
        },
        "id": "TRtnPP-SDeLg"
      },
      "source": [
        "### Create your own Strategy"
      ],
      "id": "TRtnPP-SDeLg"
    },
    {
      "cell_type": "markdown",
      "metadata": {
        "pycharm": {
          "name": "#%% md\n"
        },
        "id": "EuWR_uB7DeLg"
      },
      "source": [
        "The simplest way to build your own strategy is to create a python class that implements the main `train` and `eval` methods.\n",
        "\n",
        "Let's define our Continual Learning algorithm **\"MyStrategy\"** as a simple python class:\n"
      ],
      "id": "EuWR_uB7DeLg"
    },
    {
      "cell_type": "code",
      "execution_count": 7,
      "metadata": {
        "pycharm": {
          "name": "#%%\n"
        },
        "id": "prB3MyfODeLh"
      },
      "outputs": [],
      "source": [
        "from torch.utils.data import DataLoader\n",
        "\n",
        "class MyStrategy():\n",
        "    \"\"\"My Basic Strategy\"\"\"\n",
        "\n",
        "    def __init__(self, model, optimizer, criterion):\n",
        "        self.model = model\n",
        "        self.optimizer = optimizer\n",
        "        self.criterion = criterion\n",
        "\n",
        "    def train(self, experience):\n",
        "        # here you can implement your own training loop for each experience (i.e. \n",
        "        # batch or task).\n",
        "\n",
        "        train_dataset = experience.dataset\n",
        "        t = experience.task_label\n",
        "        train_data_loader = DataLoader(\n",
        "            train_dataset, num_workers=4, batch_size=128\n",
        "        )\n",
        "\n",
        "        for epoch in range(1):\n",
        "            for mb in train_data_loader:\n",
        "                # you magin here...\n",
        "                pass\n",
        "\n",
        "    def eval(self, experience):\n",
        "        # here you can implement your own eval loop for each experience (i.e. \n",
        "        # batch or task).\n",
        "\n",
        "        eval_dataset = experience.dataset\n",
        "        t = experience.task_label\n",
        "        eval_data_loader = DataLoader(\n",
        "            eval_dataset, num_workers=4, batch_size=128\n",
        "        )\n",
        "\n",
        "        # eval here"
      ],
      "id": "prB3MyfODeLh"
    },
    {
      "cell_type": "markdown",
      "metadata": {
        "pycharm": {
          "name": "#%% md\n"
        },
        "id": "SLCVUx8nDeLh"
      },
      "source": [
        "Then, we can use our strategy as we would do for the pre-implemented ones:"
      ],
      "id": "SLCVUx8nDeLh"
    },
    {
      "cell_type": "code",
      "execution_count": 8,
      "metadata": {
        "pycharm": {
          "name": "#%%\n"
        },
        "id": "a4vvhxDqDeLh",
        "outputId": "716c0cde-3fc1-4b83-8b01-49726fe24949",
        "colab": {
          "base_uri": "https://localhost:8080/"
        }
      },
      "outputs": [
        {
          "output_type": "stream",
          "name": "stdout",
          "text": [
            "Starting experiment...\n",
            "Start of experience  0\n"
          ]
        },
        {
          "output_type": "stream",
          "name": "stderr",
          "text": [
            "/usr/local/lib/python3.8/dist-packages/torch/utils/data/dataloader.py:554: UserWarning: This DataLoader will create 4 worker processes in total. Our suggested max number of worker in current system is 2, which is smaller than what this DataLoader is going to create. Please be aware that excessive worker creation might get DataLoader running slow or even freeze, lower the worker number to avoid potential slowness/freeze if necessary.\n",
            "  warnings.warn(_create_warning_msg(\n"
          ]
        },
        {
          "output_type": "stream",
          "name": "stdout",
          "text": [
            "Training completed\n",
            "Computing accuracy on the current test set\n",
            "Start of experience  1\n",
            "Training completed\n",
            "Computing accuracy on the current test set\n",
            "Start of experience  2\n",
            "Training completed\n",
            "Computing accuracy on the current test set\n",
            "Start of experience  3\n",
            "Training completed\n",
            "Computing accuracy on the current test set\n",
            "Start of experience  4\n",
            "Training completed\n",
            "Computing accuracy on the current test set\n"
          ]
        }
      ],
      "source": [
        "from avalanche.models import SimpleMLP\n",
        "from avalanche.benchmarks import SplitMNIST\n",
        "\n",
        "# Benchmark creation\n",
        "benchmark = SplitMNIST(n_experiences=5)\n",
        "\n",
        "# Model Creation\n",
        "model = SimpleMLP(num_classes=benchmark.n_classes)\n",
        "\n",
        "# Create the Strategy Instance (MyStrategy)\n",
        "cl_strategy = MyStrategy(\n",
        "    model, SGD(model.parameters(), lr=0.001, momentum=0.9),\n",
        "    CrossEntropyLoss())\n",
        "\n",
        "# Training Loop\n",
        "print('Starting experiment...')\n",
        "\n",
        "for exp_id, experience in enumerate(benchmark.train_stream):\n",
        "    print(\"Start of experience \", experience.current_experience)\n",
        "\n",
        "    cl_strategy.train(experience)\n",
        "    print('Training completed')\n",
        "\n",
        "    print('Computing accuracy on the current test set')\n",
        "    cl_strategy.eval(benchmark.test_stream[exp_id])"
      ],
      "id": "a4vvhxDqDeLh"
    },
    {
      "cell_type": "markdown",
      "metadata": {
        "pycharm": {
          "name": "#%% md\n"
        },
        "id": "X31vgs5JDeLh"
      },
      "source": [
        "While this is the easiest possible way to add your own strategy, *Avalanche* supports more sophisticated modalities (based on *callbacks*) that lets you write **more neat, modular and reusable code**, inheriting functionality from a parent classes and using **pre-implemented plugins**.\n",
        "\n",
        "Check out more details about what Avalanche can offer in this module following the \"*Training*\" chapter of the **\"From Zero to Hero\"** tutorial!"
      ],
      "id": "X31vgs5JDeLh"
    },
    {
      "cell_type": "markdown",
      "metadata": {
        "pycharm": {
          "name": "#%% md\n"
        },
        "id": "e2F5jowDDeLh"
      },
      "source": [
        "## 📈 Evaluation"
      ],
      "id": "e2F5jowDDeLh"
    },
    {
      "cell_type": "markdown",
      "metadata": {
        "pycharm": {
          "name": "#%% md\n"
        },
        "id": "KH2ifI3fDeLh"
      },
      "source": [
        "The `evaluation` module is quite straightforward: it offers all the basic functionalities to evaluate and keep track of a continual learning experiment.\n",
        "\n",
        "This is mostly done through the **Metrics** and the **Loggers**. The **Metrics** provide a set of classes which implements the main continual learning metrics like Accuracy, Forgetting, Memory Usage, Running Times, etc.  \n",
        "Metrics should be created via the utility functions (e.g. `accuracy_metrics`, `timing_metrics` and others) specifying in the arguments when those metrics should be computed (after each minibatch, epoch, experience etc...).  \n",
        "The **Loggers** specify a way to report the metrics (e.g. with Tensorboard, on console or others). Loggers are created by instantiating the respective class.\n",
        "\n",
        "Metrics and loggers interact via the **Evaluation Plugin**: this is the main object responsible of tracking the experiment progress. Metrics and loggers are directly passed to the `EvaluationPlugin` instance. You will see the output of the loggers automatically during training and evaluation! Let's see how to put this together in few lines of code:"
      ],
      "id": "KH2ifI3fDeLh"
    },
    {
      "cell_type": "code",
      "execution_count": 9,
      "metadata": {
        "pycharm": {
          "name": "#%%\n"
        },
        "id": "PeOxYB8KDeLh"
      },
      "outputs": [],
      "source": [
        "# utility functions to create plugin metrics\n",
        "from avalanche.evaluation.metrics import accuracy_metrics, loss_metrics, forgetting_metrics\n",
        "from avalanche.logging import InteractiveLogger, TensorboardLogger\n",
        "from avalanche.training.plugins import EvaluationPlugin\n",
        "\n",
        "eval_plugin = EvaluationPlugin(\n",
        "    # accuracy after each training epoch\n",
        "    # and after each evaluation experience\n",
        "    accuracy_metrics(epoch=True, experience=True),\n",
        "    # loss after each training minibatch and each\n",
        "    # evaluation stream\n",
        "    loss_metrics(minibatch=True, stream=True),\n",
        "    # catastrophic forgetting after each evaluation\n",
        "    # experience\n",
        "    forgetting_metrics(experience=True, stream=True), \n",
        "    # add as many metrics as you like\n",
        "    loggers=[InteractiveLogger(), TensorboardLogger()])\n",
        "\n",
        "# pass the evaluation plugin instance to the strategy\n",
        "# strategy = EWC(..., evaluator=eval_plugin)\n",
        "\n",
        "# THAT'S IT!!"
      ],
      "id": "PeOxYB8KDeLh"
    },
    {
      "cell_type": "markdown",
      "metadata": {
        "pycharm": {
          "name": "#%% md\n"
        },
        "id": "ivT57FyxDeLi"
      },
      "source": [
        "For more details about the evaluation module (how to write new metrics/loggers, a deeper tutorial on metrics) check out the extended guide in the *\"Evaluation\"* chapter of the **\"From Zero to Hero\"** *Avalanche* tutorial!"
      ],
      "id": "ivT57FyxDeLi"
    },
    {
      "cell_type": "markdown",
      "metadata": {
        "pycharm": {
          "name": "#%% md\n"
        },
        "id": "oL3Cu6m8DeLi"
      },
      "source": [
        "## 🔗 Putting all Together"
      ],
      "id": "oL3Cu6m8DeLi"
    },
    {
      "cell_type": "markdown",
      "metadata": {
        "pycharm": {
          "name": "#%% md\n"
        },
        "id": "nxHAHf3CDeLi"
      },
      "source": [
        "You've learned how to install *Avalanche*, how to create benchmarks that can suit your needs, how you can create your own continual learning algorithm and how you can evaluate its performance.\n",
        "\n",
        "Here we show how you can use all these modules together to **design your experiments** as quantitative supporting evidence for your research project or paper."
      ],
      "id": "nxHAHf3CDeLi"
    },
    {
      "cell_type": "code",
      "execution_count": 10,
      "metadata": {
        "pycharm": {
          "name": "#%%\n"
        },
        "id": "lb_jCAAfDeLi",
        "outputId": "0cda6b18-60a6-4f15-bfc9-55a09d965f1c",
        "colab": {
          "base_uri": "https://localhost:8080/"
        }
      },
      "outputs": [
        {
          "output_type": "stream",
          "name": "stdout",
          "text": [
            "Starting experiment...\n",
            "Start of experience:  0\n",
            "Current Classes:  [8, 7]\n",
            "-- >> Start of training phase << --\n",
            "0it [00:00, ?it/s]"
          ]
        },
        {
          "output_type": "stream",
          "name": "stderr",
          "text": [
            "/usr/local/lib/python3.8/dist-packages/torch/utils/data/dataloader.py:554: UserWarning: This DataLoader will create 4 worker processes in total. Our suggested max number of worker in current system is 2, which is smaller than what this DataLoader is going to create. Please be aware that excessive worker creation might get DataLoader running slow or even freeze, lower the worker number to avoid potential slowness/freeze if necessary.\n",
            "  warnings.warn(_create_warning_msg(\n"
          ]
        },
        {
          "output_type": "stream",
          "name": "stdout",
          "text": [
            "100%|██████████| 25/25 [00:13<00:00,  1.86it/s]\n",
            "Epoch 0 ended.\n",
            "\tDiskUsage_Epoch/train_phase/train_stream/Task000 = 120532.7275\n",
            "\tDiskUsage_MB/train_phase/train_stream/Task000 = 120532.7275\n",
            "\tLoss_Epoch/train_phase/train_stream/Task000 = 1.2330\n",
            "\tLoss_MB/train_phase/train_stream/Task000 = 0.3037\n",
            "\tTime_Epoch/train_phase/train_stream/Task000 = 13.3719\n",
            "\tTop1_Acc_Epoch/train_phase/train_stream/Task000 = 0.6793\n",
            "\tTop1_Acc_MB/train_phase/train_stream/Task000 = 0.9569\n",
            "-- >> End of training phase << --\n",
            "Training completed\n",
            "Computing accuracy on the whole test set\n",
            "-- >> Start of eval phase << --\n",
            "-- Starting eval on experience 0 (Task 0) from test stream --\n",
            "100%|██████████| 21/21 [00:00<00:00, 28.42it/s]\n",
            "> Eval on experience 0 (Task 0) from test stream ended.\n",
            "\tCPUUsage_Exp/eval_phase/test_stream/Task000/Exp000 = 52.7274\n",
            "\tDiskUsage_Exp/eval_phase/test_stream/Task000/Exp000 = 120533.2559\n",
            "\tLoss_Exp/eval_phase/test_stream/Task000/Exp000 = 0.2961\n",
            "\tTop1_Acc_Exp/eval_phase/test_stream/Task000/Exp000 = 0.9500\n",
            "-- Starting eval on experience 1 (Task 0) from test stream --\n",
            "100%|██████████| 21/21 [00:00<00:00, 28.56it/s]\n",
            "> Eval on experience 1 (Task 0) from test stream ended.\n",
            "\tCPUUsage_Exp/eval_phase/test_stream/Task000/Exp001 = 55.4314\n",
            "\tDiskUsage_Exp/eval_phase/test_stream/Task000/Exp001 = 120533.6123\n",
            "\tLoss_Exp/eval_phase/test_stream/Task000/Exp001 = 5.2298\n",
            "\tTop1_Acc_Exp/eval_phase/test_stream/Task000/Exp001 = 0.0000\n",
            "-- Starting eval on experience 2 (Task 0) from test stream --\n",
            "100%|██████████| 20/20 [00:00<00:00, 28.28it/s]\n",
            "> Eval on experience 2 (Task 0) from test stream ended.\n",
            "\tCPUUsage_Exp/eval_phase/test_stream/Task000/Exp002 = 53.7855\n",
            "\tDiskUsage_Exp/eval_phase/test_stream/Task000/Exp002 = 120533.9688\n",
            "\tLoss_Exp/eval_phase/test_stream/Task000/Exp002 = 4.8337\n",
            "\tTop1_Acc_Exp/eval_phase/test_stream/Task000/Exp002 = 0.0000\n",
            "-- Starting eval on experience 3 (Task 0) from test stream --\n",
            "100%|██████████| 22/22 [00:00<00:00, 23.16it/s]\n",
            "> Eval on experience 3 (Task 0) from test stream ended.\n",
            "\tCPUUsage_Exp/eval_phase/test_stream/Task000/Exp003 = 49.4182\n",
            "\tDiskUsage_Exp/eval_phase/test_stream/Task000/Exp003 = 120534.3252\n",
            "\tLoss_Exp/eval_phase/test_stream/Task000/Exp003 = 4.2081\n",
            "\tTop1_Acc_Exp/eval_phase/test_stream/Task000/Exp003 = 0.0000\n",
            "-- Starting eval on experience 4 (Task 0) from test stream --\n",
            "100%|██████████| 19/19 [00:01<00:00, 18.58it/s]\n",
            "> Eval on experience 4 (Task 0) from test stream ended.\n",
            "\tCPUUsage_Exp/eval_phase/test_stream/Task000/Exp004 = 39.7562\n",
            "\tDiskUsage_Exp/eval_phase/test_stream/Task000/Exp004 = 120534.6816\n",
            "\tLoss_Exp/eval_phase/test_stream/Task000/Exp004 = 4.9181\n",
            "\tTop1_Acc_Exp/eval_phase/test_stream/Task000/Exp004 = 0.0000\n",
            "-- >> End of eval phase << --\n",
            "\tConfusionMatrix_Stream/eval_phase/test_stream = \n",
            "tensor([[  0,   0,   0,   0,   0,   0,   0, 173, 807,   0],\n",
            "        [  0,   0,   0,   0,   0,   0,   0, 216, 919,   0],\n",
            "        [  0,   0,   0,   0,   0,   0,   0, 126, 906,   0],\n",
            "        [  0,   0,   0,   0,   0,   0,   0,  64, 946,   0],\n",
            "        [  0,   0,   0,   0,   0,   0,   0, 697, 285,   0],\n",
            "        [  0,   0,   0,   0,   0,   0,   0, 167, 725,   0],\n",
            "        [  0,   0,   0,   0,   0,   0,   0, 248, 710,   0],\n",
            "        [  0,   0,   0,   0,   0,   0,   0, 953,  75,   0],\n",
            "        [  0,   0,   0,   0,   0,   0,   0,  25, 949,   0],\n",
            "        [  0,   0,   0,   0,   0,   0,   0, 840, 169,   0]])\n",
            "\tDiskUsage_Stream/eval_phase/test_stream/Task000 = 120534.6816\n",
            "\tLoss_Stream/eval_phase/test_stream/Task000 = 3.8886\n",
            "\tStreamForgetting/eval_phase/test_stream = 0.0000\n",
            "\tTop1_Acc_Stream/eval_phase/test_stream/Task000 = 0.1902\n",
            "Start of experience:  1\n",
            "Current Classes:  [9, 3]\n",
            "-- >> Start of training phase << --\n",
            "100%|██████████| 25/25 [00:13<00:00,  1.89it/s]\n",
            "Epoch 0 ended.\n",
            "\tDiskUsage_Epoch/train_phase/train_stream/Task000 = 120547.9609\n",
            "\tDiskUsage_MB/train_phase/train_stream/Task000 = 120547.9609\n",
            "\tLoss_Epoch/train_phase/train_stream/Task000 = 1.9522\n",
            "\tLoss_MB/train_phase/train_stream/Task000 = 0.3477\n",
            "\tTime_Epoch/train_phase/train_stream/Task000 = 13.1689\n",
            "\tTop1_Acc_Epoch/train_phase/train_stream/Task000 = 0.4932\n",
            "\tTop1_Acc_MB/train_phase/train_stream/Task000 = 0.9750\n",
            "-- >> End of training phase << --\n",
            "Training completed\n",
            "Computing accuracy on the whole test set\n",
            "-- >> Start of eval phase << --\n",
            "-- Starting eval on experience 0 (Task 0) from test stream --\n",
            "100%|██████████| 21/21 [00:00<00:00, 25.04it/s]\n",
            "> Eval on experience 0 (Task 0) from test stream ended.\n",
            "\tCPUUsage_Exp/eval_phase/test_stream/Task000/Exp000 = 52.0232\n",
            "\tDiskUsage_Exp/eval_phase/test_stream/Task000/Exp000 = 120552.4893\n",
            "\tExperienceForgetting/eval_phase/test_stream/Task000/Exp000 = 0.9500\n",
            "\tLoss_Exp/eval_phase/test_stream/Task000/Exp000 = 3.8234\n",
            "\tTop1_Acc_Exp/eval_phase/test_stream/Task000/Exp000 = 0.0000\n",
            "-- Starting eval on experience 1 (Task 0) from test stream --\n",
            "100%|██████████| 21/21 [00:01<00:00, 17.47it/s]\n",
            "> Eval on experience 1 (Task 0) from test stream ended.\n",
            "\tCPUUsage_Exp/eval_phase/test_stream/Task000/Exp001 = 37.6572\n",
            "\tDiskUsage_Exp/eval_phase/test_stream/Task000/Exp001 = 120552.9131\n",
            "\tLoss_Exp/eval_phase/test_stream/Task000/Exp001 = 0.2918\n",
            "\tTop1_Acc_Exp/eval_phase/test_stream/Task000/Exp001 = 0.9624\n",
            "-- Starting eval on experience 2 (Task 0) from test stream --\n",
            "100%|██████████| 20/20 [00:01<00:00, 18.44it/s]\n",
            "> Eval on experience 2 (Task 0) from test stream ended.\n",
            "\tCPUUsage_Exp/eval_phase/test_stream/Task000/Exp002 = 39.2993\n",
            "\tDiskUsage_Exp/eval_phase/test_stream/Task000/Exp002 = 120553.2695\n",
            "\tLoss_Exp/eval_phase/test_stream/Task000/Exp002 = 4.6097\n",
            "\tTop1_Acc_Exp/eval_phase/test_stream/Task000/Exp002 = 0.0000\n",
            "-- Starting eval on experience 3 (Task 0) from test stream --\n",
            "100%|██████████| 22/22 [00:01<00:00, 17.59it/s]\n",
            "> Eval on experience 3 (Task 0) from test stream ended.\n",
            "\tCPUUsage_Exp/eval_phase/test_stream/Task000/Exp003 = 37.7410\n",
            "\tDiskUsage_Exp/eval_phase/test_stream/Task000/Exp003 = 120553.6260\n",
            "\tLoss_Exp/eval_phase/test_stream/Task000/Exp003 = 4.1715\n",
            "\tTop1_Acc_Exp/eval_phase/test_stream/Task000/Exp003 = 0.0000\n",
            "-- Starting eval on experience 4 (Task 0) from test stream --\n",
            "100%|██████████| 19/19 [00:01<00:00, 17.77it/s]\n",
            "> Eval on experience 4 (Task 0) from test stream ended.\n",
            "\tCPUUsage_Exp/eval_phase/test_stream/Task000/Exp004 = 39.8558\n",
            "\tDiskUsage_Exp/eval_phase/test_stream/Task000/Exp004 = 120553.9824\n",
            "\tLoss_Exp/eval_phase/test_stream/Task000/Exp004 = 4.7919\n",
            "\tTop1_Acc_Exp/eval_phase/test_stream/Task000/Exp004 = 0.0000\n",
            "-- >> End of eval phase << --\n",
            "\tConfusionMatrix_Stream/eval_phase/test_stream = \n",
            "tensor([[  0,   0,   0, 808,   0,   0,   0,   0,   0, 172],\n",
            "        [  0,   0,   0, 686,   0,   0,   0,   0,   0, 449],\n",
            "        [  0,   0,   0, 754,   0,   0,   0,   0,   0, 278],\n",
            "        [  0,   0,   0, 963,   0,   0,   0,   0,   0,  47],\n",
            "        [  0,   0,   0,  24,   0,   0,   0,   0,   0, 958],\n",
            "        [  0,   0,   0, 592,   0,   0,   0,   0,   0, 300],\n",
            "        [  0,   0,   0, 239,   0,   0,   0,   0,   0, 719],\n",
            "        [  0,   0,   0,  48,   0,   0,   0,   0,   0, 980],\n",
            "        [  0,   0,   0, 651,   0,   0,   0,   0,   0, 323],\n",
            "        [  0,   0,   0,  29,   0,   0,   0,   0,   0, 980]])\n",
            "\tDiskUsage_Stream/eval_phase/test_stream/Task000 = 120553.9824\n",
            "\tLoss_Stream/eval_phase/test_stream/Task000 = 3.5218\n",
            "\tStreamForgetting/eval_phase/test_stream = 0.9500\n",
            "\tTop1_Acc_Stream/eval_phase/test_stream/Task000 = 0.1943\n",
            "Start of experience:  2\n",
            "Current Classes:  [2, 6]\n",
            "-- >> Start of training phase << --\n",
            "100%|██████████| 24/24 [00:11<00:00,  2.03it/s]\n",
            "Epoch 0 ended.\n",
            "\tDiskUsage_Epoch/train_phase/train_stream/Task000 = 120567.2617\n",
            "\tDiskUsage_MB/train_phase/train_stream/Task000 = 120567.2617\n",
            "\tLoss_Epoch/train_phase/train_stream/Task000 = 2.0667\n",
            "\tLoss_MB/train_phase/train_stream/Task000 = 0.6577\n",
            "\tTime_Epoch/train_phase/train_stream/Task000 = 11.7349\n",
            "\tTop1_Acc_Epoch/train_phase/train_stream/Task000 = 0.4282\n",
            "\tTop1_Acc_MB/train_phase/train_stream/Task000 = 0.8777\n",
            "-- >> End of training phase << --\n",
            "Training completed\n",
            "Computing accuracy on the whole test set\n",
            "-- >> Start of eval phase << --\n",
            "-- Starting eval on experience 0 (Task 0) from test stream --\n",
            "100%|██████████| 21/21 [00:01<00:00, 18.42it/s]\n",
            "> Eval on experience 0 (Task 0) from test stream ended.\n",
            "\tCPUUsage_Exp/eval_phase/test_stream/Task000/Exp000 = 39.4925\n",
            "\tDiskUsage_Exp/eval_phase/test_stream/Task000/Exp000 = 120567.7900\n",
            "\tExperienceForgetting/eval_phase/test_stream/Task000/Exp000 = 0.9500\n",
            "\tLoss_Exp/eval_phase/test_stream/Task000/Exp000 = 2.8360\n",
            "\tTop1_Acc_Exp/eval_phase/test_stream/Task000/Exp000 = 0.0000\n",
            "-- Starting eval on experience 1 (Task 0) from test stream --\n",
            "100%|██████████| 21/21 [00:01<00:00, 18.78it/s]\n",
            "> Eval on experience 1 (Task 0) from test stream ended.\n",
            "\tCPUUsage_Exp/eval_phase/test_stream/Task000/Exp001 = 39.1132\n",
            "\tDiskUsage_Exp/eval_phase/test_stream/Task000/Exp001 = 120568.2139\n",
            "\tExperienceForgetting/eval_phase/test_stream/Task000/Exp001 = 0.9044\n",
            "\tLoss_Exp/eval_phase/test_stream/Task000/Exp001 = 1.9505\n",
            "\tTop1_Acc_Exp/eval_phase/test_stream/Task000/Exp001 = 0.0579\n",
            "-- Starting eval on experience 2 (Task 0) from test stream --\n",
            "100%|██████████| 20/20 [00:01<00:00, 17.62it/s]\n",
            "> Eval on experience 2 (Task 0) from test stream ended.\n",
            "\tCPUUsage_Exp/eval_phase/test_stream/Task000/Exp002 = 39.2547\n",
            "\tDiskUsage_Exp/eval_phase/test_stream/Task000/Exp002 = 120568.6377\n",
            "\tLoss_Exp/eval_phase/test_stream/Task000/Exp002 = 0.5450\n",
            "\tTop1_Acc_Exp/eval_phase/test_stream/Task000/Exp002 = 0.9347\n",
            "-- Starting eval on experience 3 (Task 0) from test stream --\n",
            "100%|██████████| 22/22 [00:01<00:00, 18.25it/s]\n",
            "> Eval on experience 3 (Task 0) from test stream ended.\n",
            "\tCPUUsage_Exp/eval_phase/test_stream/Task000/Exp003 = 38.1559\n",
            "\tDiskUsage_Exp/eval_phase/test_stream/Task000/Exp003 = 120568.9941\n",
            "\tLoss_Exp/eval_phase/test_stream/Task000/Exp003 = 3.4612\n",
            "\tTop1_Acc_Exp/eval_phase/test_stream/Task000/Exp003 = 0.0000\n",
            "-- Starting eval on experience 4 (Task 0) from test stream --\n",
            "100%|██████████| 19/19 [00:00<00:00, 26.60it/s]\n",
            "> Eval on experience 4 (Task 0) from test stream ended.\n",
            "\tCPUUsage_Exp/eval_phase/test_stream/Task000/Exp004 = 54.1739\n",
            "\tDiskUsage_Exp/eval_phase/test_stream/Task000/Exp004 = 120569.3506\n",
            "\tLoss_Exp/eval_phase/test_stream/Task000/Exp004 = 3.7060\n",
            "\tTop1_Acc_Exp/eval_phase/test_stream/Task000/Exp004 = 0.0000\n",
            "-- >> End of eval phase << --\n",
            "\tConfusionMatrix_Stream/eval_phase/test_stream = \n",
            "tensor([[  0,   0, 487,   2,   0,   0, 491,   0,   0,   0],\n",
            "        [  0,   0, 458,   0,   0,   0, 677,   0,   0,   0],\n",
            "        [  0,   0, 920,   0,   0,   0, 112,   0,   0,   0],\n",
            "        [  0,   0, 673,  51,   0,   0, 285,   0,   0,   1],\n",
            "        [  0,   0, 219,   0,   0,   0, 758,   0,   0,   5],\n",
            "        [  0,   0, 295,  22,   0,   0, 550,   0,   0,  25],\n",
            "        [  0,   0,  18,   0,   0,   0, 940,   0,   0,   0],\n",
            "        [  0,   0, 526,   0,   0,   0, 199,   0,   0, 303],\n",
            "        [  0,   0, 663,   0,   0,   0, 311,   0,   0,   0],\n",
            "        [  0,   0, 186,   0,   0,   0, 757,   0,   0,  66]])\n",
            "\tDiskUsage_Stream/eval_phase/test_stream/Task000 = 120569.3506\n",
            "\tLoss_Stream/eval_phase/test_stream/Task000 = 2.4965\n",
            "\tStreamForgetting/eval_phase/test_stream = 0.9272\n",
            "\tTop1_Acc_Stream/eval_phase/test_stream/Task000 = 0.1977\n",
            "Start of experience:  3\n",
            "Current Classes:  [1, 4]\n",
            "-- >> Start of training phase << --\n",
            "100%|██████████| 26/26 [00:15<00:00,  1.64it/s]\n",
            "Epoch 0 ended.\n",
            "\tDiskUsage_Epoch/train_phase/train_stream/Task000 = 120586.6299\n",
            "\tDiskUsage_MB/train_phase/train_stream/Task000 = 120586.6299\n",
            "\tLoss_Epoch/train_phase/train_stream/Task000 = 1.9570\n",
            "\tLoss_MB/train_phase/train_stream/Task000 = 0.6127\n",
            "\tTime_Epoch/train_phase/train_stream/Task000 = 15.7860\n",
            "\tTop1_Acc_Epoch/train_phase/train_stream/Task000 = 0.4410\n",
            "\tTop1_Acc_MB/train_phase/train_stream/Task000 = 0.9286\n",
            "-- >> End of training phase << --\n",
            "Training completed\n",
            "Computing accuracy on the whole test set\n",
            "-- >> Start of eval phase << --\n",
            "-- Starting eval on experience 0 (Task 0) from test stream --\n",
            "100%|██████████| 21/21 [00:00<00:00, 27.39it/s]\n",
            "> Eval on experience 0 (Task 0) from test stream ended.\n",
            "\tCPUUsage_Exp/eval_phase/test_stream/Task000/Exp000 = 54.4620\n",
            "\tDiskUsage_Exp/eval_phase/test_stream/Task000/Exp000 = 120587.1582\n",
            "\tExperienceForgetting/eval_phase/test_stream/Task000/Exp000 = 0.9500\n",
            "\tLoss_Exp/eval_phase/test_stream/Task000/Exp000 = 2.7594\n",
            "\tTop1_Acc_Exp/eval_phase/test_stream/Task000/Exp000 = 0.0000\n",
            "-- Starting eval on experience 1 (Task 0) from test stream --\n",
            "100%|██████████| 21/21 [00:00<00:00, 25.88it/s]\n",
            "> Eval on experience 1 (Task 0) from test stream ended.\n",
            "\tCPUUsage_Exp/eval_phase/test_stream/Task000/Exp001 = 53.8355\n",
            "\tDiskUsage_Exp/eval_phase/test_stream/Task000/Exp001 = 120587.5820\n",
            "\tExperienceForgetting/eval_phase/test_stream/Task000/Exp001 = 0.9252\n",
            "\tLoss_Exp/eval_phase/test_stream/Task000/Exp001 = 2.3171\n",
            "\tTop1_Acc_Exp/eval_phase/test_stream/Task000/Exp001 = 0.0371\n",
            "-- Starting eval on experience 2 (Task 0) from test stream --\n",
            "100%|██████████| 20/20 [00:00<00:00, 26.06it/s]\n",
            "> Eval on experience 2 (Task 0) from test stream ended.\n",
            "\tCPUUsage_Exp/eval_phase/test_stream/Task000/Exp002 = 52.3893\n",
            "\tDiskUsage_Exp/eval_phase/test_stream/Task000/Exp002 = 120588.0059\n",
            "\tExperienceForgetting/eval_phase/test_stream/Task000/Exp002 = 0.8729\n",
            "\tLoss_Exp/eval_phase/test_stream/Task000/Exp002 = 1.7633\n",
            "\tTop1_Acc_Exp/eval_phase/test_stream/Task000/Exp002 = 0.0618\n",
            "-- Starting eval on experience 3 (Task 0) from test stream --\n",
            "100%|██████████| 22/22 [00:00<00:00, 27.22it/s]\n",
            "> Eval on experience 3 (Task 0) from test stream ended.\n",
            "\tCPUUsage_Exp/eval_phase/test_stream/Task000/Exp003 = 52.5148\n",
            "\tDiskUsage_Exp/eval_phase/test_stream/Task000/Exp003 = 120588.4297\n",
            "\tLoss_Exp/eval_phase/test_stream/Task000/Exp003 = 0.4932\n",
            "\tTop1_Acc_Exp/eval_phase/test_stream/Task000/Exp003 = 0.9660\n",
            "-- Starting eval on experience 4 (Task 0) from test stream --\n",
            "100%|██████████| 19/19 [00:00<00:00, 25.53it/s]\n",
            "> Eval on experience 4 (Task 0) from test stream ended.\n",
            "\tCPUUsage_Exp/eval_phase/test_stream/Task000/Exp004 = 53.8702\n",
            "\tDiskUsage_Exp/eval_phase/test_stream/Task000/Exp004 = 120588.7861\n",
            "\tLoss_Exp/eval_phase/test_stream/Task000/Exp004 = 3.3355\n",
            "\tTop1_Acc_Exp/eval_phase/test_stream/Task000/Exp004 = 0.0000\n",
            "-- >> End of eval phase << --\n",
            "\tConfusionMatrix_Stream/eval_phase/test_stream = \n",
            "tensor([[   0,   14,  120,   11,  827,    0,    8,    0,    0,    0],\n",
            "        [   0, 1135,    0,    0,    0,    0,    0,    0,    0,    0],\n",
            "        [   0,  493,   85,    0,  453,    0,    1,    0,    0,    0],\n",
            "        [   0,  643,   45,   75,  243,    0,    4,    0,    0,    0],\n",
            "        [   0,   72,    0,    0,  910,    0,    0,    0,    0,    0],\n",
            "        [   0,  344,   13,   35,  482,    0,   18,    0,    0,    0],\n",
            "        [   0,  303,    0,    0,  617,    0,   38,    0,    0,    0],\n",
            "        [   0,  261,    0,    0,  767,    0,    0,    0,    0,    0],\n",
            "        [   0,  563,    2,    0,  408,    0,    1,    0,    0,    0],\n",
            "        [   0,  109,    1,    0,  899,    0,    0,    0,    0,    0]])\n",
            "\tDiskUsage_Stream/eval_phase/test_stream/Task000 = 120588.7861\n",
            "\tLoss_Stream/eval_phase/test_stream/Task000 = 2.1000\n",
            "\tStreamForgetting/eval_phase/test_stream = 0.9160\n",
            "\tTop1_Acc_Stream/eval_phase/test_stream/Task000 = 0.2243\n",
            "Start of experience:  4\n",
            "Current Classes:  [0, 5]\n",
            "-- >> Start of training phase << --\n",
            "100%|██████████| 23/23 [00:14<00:00,  1.63it/s]\n",
            "Epoch 0 ended.\n",
            "\tDiskUsage_Epoch/train_phase/train_stream/Task000 = 120602.1631\n",
            "\tDiskUsage_MB/train_phase/train_stream/Task000 = 120602.1631\n",
            "\tLoss_Epoch/train_phase/train_stream/Task000 = 2.0956\n",
            "\tLoss_MB/train_phase/train_stream/Task000 = 0.9100\n",
            "\tTime_Epoch/train_phase/train_stream/Task000 = 14.0091\n",
            "\tTop1_Acc_Epoch/train_phase/train_stream/Task000 = 0.2987\n",
            "\tTop1_Acc_MB/train_phase/train_stream/Task000 = 0.6919\n",
            "-- >> End of training phase << --\n",
            "Training completed\n",
            "Computing accuracy on the whole test set\n",
            "-- >> Start of eval phase << --\n",
            "-- Starting eval on experience 0 (Task 0) from test stream --\n",
            "100%|██████████| 21/21 [00:00<00:00, 26.71it/s]\n",
            "> Eval on experience 0 (Task 0) from test stream ended.\n",
            "\tCPUUsage_Exp/eval_phase/test_stream/Task000/Exp000 = 52.7887\n",
            "\tDiskUsage_Exp/eval_phase/test_stream/Task000/Exp000 = 120602.6914\n",
            "\tExperienceForgetting/eval_phase/test_stream/Task000/Exp000 = 0.9401\n",
            "\tLoss_Exp/eval_phase/test_stream/Task000/Exp000 = 2.7556\n",
            "\tTop1_Acc_Exp/eval_phase/test_stream/Task000/Exp000 = 0.0100\n",
            "-- Starting eval on experience 1 (Task 0) from test stream --\n",
            "100%|██████████| 21/21 [00:00<00:00, 26.67it/s]\n",
            "> Eval on experience 1 (Task 0) from test stream ended.\n",
            "\tCPUUsage_Exp/eval_phase/test_stream/Task000/Exp001 = 54.0456\n",
            "\tDiskUsage_Exp/eval_phase/test_stream/Task000/Exp001 = 120603.1152\n",
            "\tExperienceForgetting/eval_phase/test_stream/Task000/Exp001 = 0.9614\n",
            "\tLoss_Exp/eval_phase/test_stream/Task000/Exp001 = 2.5415\n",
            "\tTop1_Acc_Exp/eval_phase/test_stream/Task000/Exp001 = 0.0010\n",
            "-- Starting eval on experience 2 (Task 0) from test stream --\n",
            "100%|██████████| 20/20 [00:00<00:00, 26.85it/s]\n",
            "> Eval on experience 2 (Task 0) from test stream ended.\n",
            "\tCPUUsage_Exp/eval_phase/test_stream/Task000/Exp002 = 54.9539\n",
            "\tDiskUsage_Exp/eval_phase/test_stream/Task000/Exp002 = 120603.5391\n",
            "\tExperienceForgetting/eval_phase/test_stream/Task000/Exp002 = 0.9332\n",
            "\tLoss_Exp/eval_phase/test_stream/Task000/Exp002 = 2.2838\n",
            "\tTop1_Acc_Exp/eval_phase/test_stream/Task000/Exp002 = 0.0015\n",
            "-- Starting eval on experience 3 (Task 0) from test stream --\n",
            "100%|██████████| 22/22 [00:00<00:00, 26.76it/s]\n",
            "> Eval on experience 3 (Task 0) from test stream ended.\n",
            "\tCPUUsage_Exp/eval_phase/test_stream/Task000/Exp003 = 51.6557\n",
            "\tDiskUsage_Exp/eval_phase/test_stream/Task000/Exp003 = 120607.9629\n",
            "\tExperienceForgetting/eval_phase/test_stream/Task000/Exp003 = 0.1469\n",
            "\tLoss_Exp/eval_phase/test_stream/Task000/Exp003 = 1.0119\n",
            "\tTop1_Acc_Exp/eval_phase/test_stream/Task000/Exp003 = 0.8191\n",
            "-- Starting eval on experience 4 (Task 0) from test stream --\n",
            "100%|██████████| 19/19 [00:00<00:00, 24.88it/s]\n",
            "> Eval on experience 4 (Task 0) from test stream ended.\n",
            "\tCPUUsage_Exp/eval_phase/test_stream/Task000/Exp004 = 51.9590\n",
            "\tDiskUsage_Exp/eval_phase/test_stream/Task000/Exp004 = 120608.3867\n",
            "\tLoss_Exp/eval_phase/test_stream/Task000/Exp004 = 0.8615\n",
            "\tTop1_Acc_Exp/eval_phase/test_stream/Task000/Exp004 = 0.6902\n",
            "-- >> End of eval phase << --\n",
            "\tConfusionMatrix_Stream/eval_phase/test_stream = \n",
            "tensor([[ 977,    0,    0,    0,    0,    3,    0,    0,    0,    0],\n",
            "        [   2, 1130,    0,    0,    0,    3,    0,    0,    0,    0],\n",
            "        [ 734,  259,    1,    0,   27,   11,    0,    0,    0,    0],\n",
            "        [ 574,   69,    0,    1,    5,  361,    0,    0,    0,    0],\n",
            "        [ 223,   55,    0,    0,  604,  100,    0,    0,    0,    0],\n",
            "        [ 514,   58,    0,    0,    5,  315,    0,    0,    0,    0],\n",
            "        [ 781,   88,    0,    0,   21,   66,    2,    0,    0,    0],\n",
            "        [ 393,  205,    0,    0,  209,  162,    0,   20,    0,   39],\n",
            "        [ 556,  155,    0,    0,    8,  255,    0,    0,    0,    0],\n",
            "        [ 269,   59,    0,    0,  353,  327,    0,    0,    0,    1]])\n",
            "\tDiskUsage_Stream/eval_phase/test_stream/Task000 = 120608.3867\n",
            "\tLoss_Stream/eval_phase/test_stream/Task000 = 1.8948\n",
            "\tStreamForgetting/eval_phase/test_stream = 0.7454\n",
            "\tTop1_Acc_Stream/eval_phase/test_stream/Task000 = 0.3051\n"
          ]
        }
      ],
      "source": [
        "from avalanche.benchmarks.classic import SplitMNIST\n",
        "from avalanche.evaluation.metrics import forgetting_metrics, accuracy_metrics,\\\n",
        "    loss_metrics, timing_metrics, cpu_usage_metrics, StreamConfusionMatrix,\\\n",
        "    disk_usage_metrics, gpu_usage_metrics\n",
        "from avalanche.models import SimpleMLP\n",
        "from avalanche.logging import InteractiveLogger, TextLogger, TensorboardLogger\n",
        "from avalanche.training.plugins import EvaluationPlugin\n",
        "from avalanche.training import Naive\n",
        "\n",
        "from torch.optim import SGD\n",
        "from torch.nn import CrossEntropyLoss\n",
        "\n",
        "benchmark = SplitMNIST(n_experiences=5)\n",
        "\n",
        "# MODEL CREATION\n",
        "model = SimpleMLP(num_classes=benchmark.n_classes)\n",
        "\n",
        "# DEFINE THE EVALUATION PLUGIN and LOGGERS\n",
        "# The evaluation plugin manages the metrics computation.\n",
        "# It takes as argument a list of metrics, collectes their results and returns \n",
        "# them to the strategy it is attached to.\n",
        "\n",
        "# log to Tensorboard\n",
        "tb_logger = TensorboardLogger()\n",
        "\n",
        "# log to text file\n",
        "text_logger = TextLogger(open('log.txt', 'a'))\n",
        "\n",
        "# print to stdout\n",
        "interactive_logger = InteractiveLogger()\n",
        "\n",
        "eval_plugin = EvaluationPlugin(\n",
        "    accuracy_metrics(minibatch=True, epoch=True, experience=True, stream=True),\n",
        "    loss_metrics(minibatch=True, epoch=True, experience=True, stream=True),\n",
        "    timing_metrics(epoch=True),\n",
        "    cpu_usage_metrics(experience=True),\n",
        "    forgetting_metrics(experience=True, stream=True),\n",
        "    StreamConfusionMatrix(num_classes=benchmark.n_classes, save_image=False),\n",
        "    disk_usage_metrics(minibatch=True, epoch=True, experience=True, stream=True),\n",
        "    loggers=[interactive_logger, text_logger, tb_logger]\n",
        ")\n",
        "\n",
        "# CREATE THE STRATEGY INSTANCE (NAIVE)\n",
        "cl_strategy = Naive(\n",
        "    model, SGD(model.parameters(), lr=0.001, momentum=0.9),\n",
        "    CrossEntropyLoss(), train_mb_size=500, train_epochs=1, eval_mb_size=100,\n",
        "    evaluator=eval_plugin)\n",
        "\n",
        "# TRAINING LOOP\n",
        "print('Starting experiment...')\n",
        "results = []\n",
        "for experience in benchmark.train_stream:\n",
        "    print(\"Start of experience: \", experience.current_experience)\n",
        "    print(\"Current Classes: \", experience.classes_in_this_experience)\n",
        "\n",
        "    # train returns a dictionary which contains all the metric values\n",
        "    res = cl_strategy.train(experience, num_workers=4)\n",
        "    print('Training completed')\n",
        "\n",
        "    print('Computing accuracy on the whole test set')\n",
        "    # eval also returns a dictionary which contains all the metric values\n",
        "    results.append(cl_strategy.eval(benchmark.test_stream, num_workers=4))"
      ],
      "id": "lb_jCAAfDeLi"
    },
    {
      "cell_type": "markdown",
      "metadata": {
        "pycharm": {
          "name": "#%% md\n"
        },
        "id": "Tqm_pOh1DeLi"
      },
      "source": [
        "## 🤝 Run it on Google Colab\n",
        "\n",
        "You can run _this chapter_ and play with it on Google Colaboratory: [![Open In Colab](https://colab.research.google.com/assets/colab-badge.svg)](https://colab.research.google.com/github/ContinualAI/avalanche/blob/master/notebooks/getting-started/learn-avalanche-in-5-minutes.ipynb)"
      ],
      "id": "Tqm_pOh1DeLi"
    }
  ],
  "metadata": {
    "kernelspec": {
      "display_name": "Python 3",
      "language": "python",
      "name": "python3"
    },
    "language_info": {
      "codemirror_mode": {
        "name": "ipython",
        "version": 3
      },
      "file_extension": ".py",
      "mimetype": "text/x-python",
      "name": "python",
      "nbconvert_exporter": "python",
      "pygments_lexer": "ipython3",
      "version": "3.7.6"
    },
    "colab": {
      "provenance": [],
      "include_colab_link": true
    },
    "widgets": {
      "application/vnd.jupyter.widget-state+json": {
        "1a64ddee00c4442c8aee108cedb53706": {
          "model_module": "@jupyter-widgets/controls",
          "model_name": "HBoxModel",
          "model_module_version": "1.5.0",
          "state": {
            "_dom_classes": [],
            "_model_module": "@jupyter-widgets/controls",
            "_model_module_version": "1.5.0",
            "_model_name": "HBoxModel",
            "_view_count": null,
            "_view_module": "@jupyter-widgets/controls",
            "_view_module_version": "1.5.0",
            "_view_name": "HBoxView",
            "box_style": "",
            "children": [
              "IPY_MODEL_0b050583610940eea7331ad75fac9902",
              "IPY_MODEL_40ec1bdeb4c244398c9edc015a12832c",
              "IPY_MODEL_7c451beee2b24e4fa7fc9e6b0e39c63e"
            ],
            "layout": "IPY_MODEL_17bbdd79bab3494486cb3860c497eebe"
          }
        },
        "0b050583610940eea7331ad75fac9902": {
          "model_module": "@jupyter-widgets/controls",
          "model_name": "HTMLModel",
          "model_module_version": "1.5.0",
          "state": {
            "_dom_classes": [],
            "_model_module": "@jupyter-widgets/controls",
            "_model_module_version": "1.5.0",
            "_model_name": "HTMLModel",
            "_view_count": null,
            "_view_module": "@jupyter-widgets/controls",
            "_view_module_version": "1.5.0",
            "_view_name": "HTMLView",
            "description": "",
            "description_tooltip": null,
            "layout": "IPY_MODEL_09036002d7d6439c9d7bf26c98843d51",
            "placeholder": "​",
            "style": "IPY_MODEL_59277a35e622476ebc74e469a7cf3948",
            "value": "100%"
          }
        },
        "40ec1bdeb4c244398c9edc015a12832c": {
          "model_module": "@jupyter-widgets/controls",
          "model_name": "FloatProgressModel",
          "model_module_version": "1.5.0",
          "state": {
            "_dom_classes": [],
            "_model_module": "@jupyter-widgets/controls",
            "_model_module_version": "1.5.0",
            "_model_name": "FloatProgressModel",
            "_view_count": null,
            "_view_module": "@jupyter-widgets/controls",
            "_view_module_version": "1.5.0",
            "_view_name": "ProgressView",
            "bar_style": "success",
            "description": "",
            "description_tooltip": null,
            "layout": "IPY_MODEL_6fcf3f5014ac4e8bbfbe1d4ca840f6c7",
            "max": 9912422,
            "min": 0,
            "orientation": "horizontal",
            "style": "IPY_MODEL_3a56ae9bb1f8429c95841b7ba942fcff",
            "value": 9912422
          }
        },
        "7c451beee2b24e4fa7fc9e6b0e39c63e": {
          "model_module": "@jupyter-widgets/controls",
          "model_name": "HTMLModel",
          "model_module_version": "1.5.0",
          "state": {
            "_dom_classes": [],
            "_model_module": "@jupyter-widgets/controls",
            "_model_module_version": "1.5.0",
            "_model_name": "HTMLModel",
            "_view_count": null,
            "_view_module": "@jupyter-widgets/controls",
            "_view_module_version": "1.5.0",
            "_view_name": "HTMLView",
            "description": "",
            "description_tooltip": null,
            "layout": "IPY_MODEL_0e55d7cc46c54329bd5da4741049a856",
            "placeholder": "​",
            "style": "IPY_MODEL_6e01539deb1640f28c20b46d86b33e9c",
            "value": " 9912422/9912422 [00:00&lt;00:00, 20298370.70it/s]"
          }
        },
        "17bbdd79bab3494486cb3860c497eebe": {
          "model_module": "@jupyter-widgets/base",
          "model_name": "LayoutModel",
          "model_module_version": "1.2.0",
          "state": {
            "_model_module": "@jupyter-widgets/base",
            "_model_module_version": "1.2.0",
            "_model_name": "LayoutModel",
            "_view_count": null,
            "_view_module": "@jupyter-widgets/base",
            "_view_module_version": "1.2.0",
            "_view_name": "LayoutView",
            "align_content": null,
            "align_items": null,
            "align_self": null,
            "border": null,
            "bottom": null,
            "display": null,
            "flex": null,
            "flex_flow": null,
            "grid_area": null,
            "grid_auto_columns": null,
            "grid_auto_flow": null,
            "grid_auto_rows": null,
            "grid_column": null,
            "grid_gap": null,
            "grid_row": null,
            "grid_template_areas": null,
            "grid_template_columns": null,
            "grid_template_rows": null,
            "height": null,
            "justify_content": null,
            "justify_items": null,
            "left": null,
            "margin": null,
            "max_height": null,
            "max_width": null,
            "min_height": null,
            "min_width": null,
            "object_fit": null,
            "object_position": null,
            "order": null,
            "overflow": null,
            "overflow_x": null,
            "overflow_y": null,
            "padding": null,
            "right": null,
            "top": null,
            "visibility": null,
            "width": null
          }
        },
        "09036002d7d6439c9d7bf26c98843d51": {
          "model_module": "@jupyter-widgets/base",
          "model_name": "LayoutModel",
          "model_module_version": "1.2.0",
          "state": {
            "_model_module": "@jupyter-widgets/base",
            "_model_module_version": "1.2.0",
            "_model_name": "LayoutModel",
            "_view_count": null,
            "_view_module": "@jupyter-widgets/base",
            "_view_module_version": "1.2.0",
            "_view_name": "LayoutView",
            "align_content": null,
            "align_items": null,
            "align_self": null,
            "border": null,
            "bottom": null,
            "display": null,
            "flex": null,
            "flex_flow": null,
            "grid_area": null,
            "grid_auto_columns": null,
            "grid_auto_flow": null,
            "grid_auto_rows": null,
            "grid_column": null,
            "grid_gap": null,
            "grid_row": null,
            "grid_template_areas": null,
            "grid_template_columns": null,
            "grid_template_rows": null,
            "height": null,
            "justify_content": null,
            "justify_items": null,
            "left": null,
            "margin": null,
            "max_height": null,
            "max_width": null,
            "min_height": null,
            "min_width": null,
            "object_fit": null,
            "object_position": null,
            "order": null,
            "overflow": null,
            "overflow_x": null,
            "overflow_y": null,
            "padding": null,
            "right": null,
            "top": null,
            "visibility": null,
            "width": null
          }
        },
        "59277a35e622476ebc74e469a7cf3948": {
          "model_module": "@jupyter-widgets/controls",
          "model_name": "DescriptionStyleModel",
          "model_module_version": "1.5.0",
          "state": {
            "_model_module": "@jupyter-widgets/controls",
            "_model_module_version": "1.5.0",
            "_model_name": "DescriptionStyleModel",
            "_view_count": null,
            "_view_module": "@jupyter-widgets/base",
            "_view_module_version": "1.2.0",
            "_view_name": "StyleView",
            "description_width": ""
          }
        },
        "6fcf3f5014ac4e8bbfbe1d4ca840f6c7": {
          "model_module": "@jupyter-widgets/base",
          "model_name": "LayoutModel",
          "model_module_version": "1.2.0",
          "state": {
            "_model_module": "@jupyter-widgets/base",
            "_model_module_version": "1.2.0",
            "_model_name": "LayoutModel",
            "_view_count": null,
            "_view_module": "@jupyter-widgets/base",
            "_view_module_version": "1.2.0",
            "_view_name": "LayoutView",
            "align_content": null,
            "align_items": null,
            "align_self": null,
            "border": null,
            "bottom": null,
            "display": null,
            "flex": null,
            "flex_flow": null,
            "grid_area": null,
            "grid_auto_columns": null,
            "grid_auto_flow": null,
            "grid_auto_rows": null,
            "grid_column": null,
            "grid_gap": null,
            "grid_row": null,
            "grid_template_areas": null,
            "grid_template_columns": null,
            "grid_template_rows": null,
            "height": null,
            "justify_content": null,
            "justify_items": null,
            "left": null,
            "margin": null,
            "max_height": null,
            "max_width": null,
            "min_height": null,
            "min_width": null,
            "object_fit": null,
            "object_position": null,
            "order": null,
            "overflow": null,
            "overflow_x": null,
            "overflow_y": null,
            "padding": null,
            "right": null,
            "top": null,
            "visibility": null,
            "width": null
          }
        },
        "3a56ae9bb1f8429c95841b7ba942fcff": {
          "model_module": "@jupyter-widgets/controls",
          "model_name": "ProgressStyleModel",
          "model_module_version": "1.5.0",
          "state": {
            "_model_module": "@jupyter-widgets/controls",
            "_model_module_version": "1.5.0",
            "_model_name": "ProgressStyleModel",
            "_view_count": null,
            "_view_module": "@jupyter-widgets/base",
            "_view_module_version": "1.2.0",
            "_view_name": "StyleView",
            "bar_color": null,
            "description_width": ""
          }
        },
        "0e55d7cc46c54329bd5da4741049a856": {
          "model_module": "@jupyter-widgets/base",
          "model_name": "LayoutModel",
          "model_module_version": "1.2.0",
          "state": {
            "_model_module": "@jupyter-widgets/base",
            "_model_module_version": "1.2.0",
            "_model_name": "LayoutModel",
            "_view_count": null,
            "_view_module": "@jupyter-widgets/base",
            "_view_module_version": "1.2.0",
            "_view_name": "LayoutView",
            "align_content": null,
            "align_items": null,
            "align_self": null,
            "border": null,
            "bottom": null,
            "display": null,
            "flex": null,
            "flex_flow": null,
            "grid_area": null,
            "grid_auto_columns": null,
            "grid_auto_flow": null,
            "grid_auto_rows": null,
            "grid_column": null,
            "grid_gap": null,
            "grid_row": null,
            "grid_template_areas": null,
            "grid_template_columns": null,
            "grid_template_rows": null,
            "height": null,
            "justify_content": null,
            "justify_items": null,
            "left": null,
            "margin": null,
            "max_height": null,
            "max_width": null,
            "min_height": null,
            "min_width": null,
            "object_fit": null,
            "object_position": null,
            "order": null,
            "overflow": null,
            "overflow_x": null,
            "overflow_y": null,
            "padding": null,
            "right": null,
            "top": null,
            "visibility": null,
            "width": null
          }
        },
        "6e01539deb1640f28c20b46d86b33e9c": {
          "model_module": "@jupyter-widgets/controls",
          "model_name": "DescriptionStyleModel",
          "model_module_version": "1.5.0",
          "state": {
            "_model_module": "@jupyter-widgets/controls",
            "_model_module_version": "1.5.0",
            "_model_name": "DescriptionStyleModel",
            "_view_count": null,
            "_view_module": "@jupyter-widgets/base",
            "_view_module_version": "1.2.0",
            "_view_name": "StyleView",
            "description_width": ""
          }
        },
        "09cb091186dc4ee5a2ada74a4a1f12b1": {
          "model_module": "@jupyter-widgets/controls",
          "model_name": "HBoxModel",
          "model_module_version": "1.5.0",
          "state": {
            "_dom_classes": [],
            "_model_module": "@jupyter-widgets/controls",
            "_model_module_version": "1.5.0",
            "_model_name": "HBoxModel",
            "_view_count": null,
            "_view_module": "@jupyter-widgets/controls",
            "_view_module_version": "1.5.0",
            "_view_name": "HBoxView",
            "box_style": "",
            "children": [
              "IPY_MODEL_6373ed1edb2f472ca01f1d6958eba114",
              "IPY_MODEL_87ed0bc288674712b0d1fb7c42b50a66",
              "IPY_MODEL_640171bb7f7a4db6b9264ce08bada4e6"
            ],
            "layout": "IPY_MODEL_964e814fd9a44f7c95a3ffa29a808c2f"
          }
        },
        "6373ed1edb2f472ca01f1d6958eba114": {
          "model_module": "@jupyter-widgets/controls",
          "model_name": "HTMLModel",
          "model_module_version": "1.5.0",
          "state": {
            "_dom_classes": [],
            "_model_module": "@jupyter-widgets/controls",
            "_model_module_version": "1.5.0",
            "_model_name": "HTMLModel",
            "_view_count": null,
            "_view_module": "@jupyter-widgets/controls",
            "_view_module_version": "1.5.0",
            "_view_name": "HTMLView",
            "description": "",
            "description_tooltip": null,
            "layout": "IPY_MODEL_e0366d4fcd914bbd9a5868f81d1f5fe3",
            "placeholder": "​",
            "style": "IPY_MODEL_f873980dc70748b6bcf8e507acae564d",
            "value": "100%"
          }
        },
        "87ed0bc288674712b0d1fb7c42b50a66": {
          "model_module": "@jupyter-widgets/controls",
          "model_name": "FloatProgressModel",
          "model_module_version": "1.5.0",
          "state": {
            "_dom_classes": [],
            "_model_module": "@jupyter-widgets/controls",
            "_model_module_version": "1.5.0",
            "_model_name": "FloatProgressModel",
            "_view_count": null,
            "_view_module": "@jupyter-widgets/controls",
            "_view_module_version": "1.5.0",
            "_view_name": "ProgressView",
            "bar_style": "success",
            "description": "",
            "description_tooltip": null,
            "layout": "IPY_MODEL_b8dd445146b1411fb442802680b01689",
            "max": 28881,
            "min": 0,
            "orientation": "horizontal",
            "style": "IPY_MODEL_8b3df9b6424640408d46bc8a85e9309b",
            "value": 28881
          }
        },
        "640171bb7f7a4db6b9264ce08bada4e6": {
          "model_module": "@jupyter-widgets/controls",
          "model_name": "HTMLModel",
          "model_module_version": "1.5.0",
          "state": {
            "_dom_classes": [],
            "_model_module": "@jupyter-widgets/controls",
            "_model_module_version": "1.5.0",
            "_model_name": "HTMLModel",
            "_view_count": null,
            "_view_module": "@jupyter-widgets/controls",
            "_view_module_version": "1.5.0",
            "_view_name": "HTMLView",
            "description": "",
            "description_tooltip": null,
            "layout": "IPY_MODEL_fcc29376164f4c6ca1e95c94ec9b0447",
            "placeholder": "​",
            "style": "IPY_MODEL_e6ba6113449846498ca4b5754725238b",
            "value": " 28881/28881 [00:00&lt;00:00, 793333.60it/s]"
          }
        },
        "964e814fd9a44f7c95a3ffa29a808c2f": {
          "model_module": "@jupyter-widgets/base",
          "model_name": "LayoutModel",
          "model_module_version": "1.2.0",
          "state": {
            "_model_module": "@jupyter-widgets/base",
            "_model_module_version": "1.2.0",
            "_model_name": "LayoutModel",
            "_view_count": null,
            "_view_module": "@jupyter-widgets/base",
            "_view_module_version": "1.2.0",
            "_view_name": "LayoutView",
            "align_content": null,
            "align_items": null,
            "align_self": null,
            "border": null,
            "bottom": null,
            "display": null,
            "flex": null,
            "flex_flow": null,
            "grid_area": null,
            "grid_auto_columns": null,
            "grid_auto_flow": null,
            "grid_auto_rows": null,
            "grid_column": null,
            "grid_gap": null,
            "grid_row": null,
            "grid_template_areas": null,
            "grid_template_columns": null,
            "grid_template_rows": null,
            "height": null,
            "justify_content": null,
            "justify_items": null,
            "left": null,
            "margin": null,
            "max_height": null,
            "max_width": null,
            "min_height": null,
            "min_width": null,
            "object_fit": null,
            "object_position": null,
            "order": null,
            "overflow": null,
            "overflow_x": null,
            "overflow_y": null,
            "padding": null,
            "right": null,
            "top": null,
            "visibility": null,
            "width": null
          }
        },
        "e0366d4fcd914bbd9a5868f81d1f5fe3": {
          "model_module": "@jupyter-widgets/base",
          "model_name": "LayoutModel",
          "model_module_version": "1.2.0",
          "state": {
            "_model_module": "@jupyter-widgets/base",
            "_model_module_version": "1.2.0",
            "_model_name": "LayoutModel",
            "_view_count": null,
            "_view_module": "@jupyter-widgets/base",
            "_view_module_version": "1.2.0",
            "_view_name": "LayoutView",
            "align_content": null,
            "align_items": null,
            "align_self": null,
            "border": null,
            "bottom": null,
            "display": null,
            "flex": null,
            "flex_flow": null,
            "grid_area": null,
            "grid_auto_columns": null,
            "grid_auto_flow": null,
            "grid_auto_rows": null,
            "grid_column": null,
            "grid_gap": null,
            "grid_row": null,
            "grid_template_areas": null,
            "grid_template_columns": null,
            "grid_template_rows": null,
            "height": null,
            "justify_content": null,
            "justify_items": null,
            "left": null,
            "margin": null,
            "max_height": null,
            "max_width": null,
            "min_height": null,
            "min_width": null,
            "object_fit": null,
            "object_position": null,
            "order": null,
            "overflow": null,
            "overflow_x": null,
            "overflow_y": null,
            "padding": null,
            "right": null,
            "top": null,
            "visibility": null,
            "width": null
          }
        },
        "f873980dc70748b6bcf8e507acae564d": {
          "model_module": "@jupyter-widgets/controls",
          "model_name": "DescriptionStyleModel",
          "model_module_version": "1.5.0",
          "state": {
            "_model_module": "@jupyter-widgets/controls",
            "_model_module_version": "1.5.0",
            "_model_name": "DescriptionStyleModel",
            "_view_count": null,
            "_view_module": "@jupyter-widgets/base",
            "_view_module_version": "1.2.0",
            "_view_name": "StyleView",
            "description_width": ""
          }
        },
        "b8dd445146b1411fb442802680b01689": {
          "model_module": "@jupyter-widgets/base",
          "model_name": "LayoutModel",
          "model_module_version": "1.2.0",
          "state": {
            "_model_module": "@jupyter-widgets/base",
            "_model_module_version": "1.2.0",
            "_model_name": "LayoutModel",
            "_view_count": null,
            "_view_module": "@jupyter-widgets/base",
            "_view_module_version": "1.2.0",
            "_view_name": "LayoutView",
            "align_content": null,
            "align_items": null,
            "align_self": null,
            "border": null,
            "bottom": null,
            "display": null,
            "flex": null,
            "flex_flow": null,
            "grid_area": null,
            "grid_auto_columns": null,
            "grid_auto_flow": null,
            "grid_auto_rows": null,
            "grid_column": null,
            "grid_gap": null,
            "grid_row": null,
            "grid_template_areas": null,
            "grid_template_columns": null,
            "grid_template_rows": null,
            "height": null,
            "justify_content": null,
            "justify_items": null,
            "left": null,
            "margin": null,
            "max_height": null,
            "max_width": null,
            "min_height": null,
            "min_width": null,
            "object_fit": null,
            "object_position": null,
            "order": null,
            "overflow": null,
            "overflow_x": null,
            "overflow_y": null,
            "padding": null,
            "right": null,
            "top": null,
            "visibility": null,
            "width": null
          }
        },
        "8b3df9b6424640408d46bc8a85e9309b": {
          "model_module": "@jupyter-widgets/controls",
          "model_name": "ProgressStyleModel",
          "model_module_version": "1.5.0",
          "state": {
            "_model_module": "@jupyter-widgets/controls",
            "_model_module_version": "1.5.0",
            "_model_name": "ProgressStyleModel",
            "_view_count": null,
            "_view_module": "@jupyter-widgets/base",
            "_view_module_version": "1.2.0",
            "_view_name": "StyleView",
            "bar_color": null,
            "description_width": ""
          }
        },
        "fcc29376164f4c6ca1e95c94ec9b0447": {
          "model_module": "@jupyter-widgets/base",
          "model_name": "LayoutModel",
          "model_module_version": "1.2.0",
          "state": {
            "_model_module": "@jupyter-widgets/base",
            "_model_module_version": "1.2.0",
            "_model_name": "LayoutModel",
            "_view_count": null,
            "_view_module": "@jupyter-widgets/base",
            "_view_module_version": "1.2.0",
            "_view_name": "LayoutView",
            "align_content": null,
            "align_items": null,
            "align_self": null,
            "border": null,
            "bottom": null,
            "display": null,
            "flex": null,
            "flex_flow": null,
            "grid_area": null,
            "grid_auto_columns": null,
            "grid_auto_flow": null,
            "grid_auto_rows": null,
            "grid_column": null,
            "grid_gap": null,
            "grid_row": null,
            "grid_template_areas": null,
            "grid_template_columns": null,
            "grid_template_rows": null,
            "height": null,
            "justify_content": null,
            "justify_items": null,
            "left": null,
            "margin": null,
            "max_height": null,
            "max_width": null,
            "min_height": null,
            "min_width": null,
            "object_fit": null,
            "object_position": null,
            "order": null,
            "overflow": null,
            "overflow_x": null,
            "overflow_y": null,
            "padding": null,
            "right": null,
            "top": null,
            "visibility": null,
            "width": null
          }
        },
        "e6ba6113449846498ca4b5754725238b": {
          "model_module": "@jupyter-widgets/controls",
          "model_name": "DescriptionStyleModel",
          "model_module_version": "1.5.0",
          "state": {
            "_model_module": "@jupyter-widgets/controls",
            "_model_module_version": "1.5.0",
            "_model_name": "DescriptionStyleModel",
            "_view_count": null,
            "_view_module": "@jupyter-widgets/base",
            "_view_module_version": "1.2.0",
            "_view_name": "StyleView",
            "description_width": ""
          }
        },
        "10be7a001f30434bbdceff99d213b38a": {
          "model_module": "@jupyter-widgets/controls",
          "model_name": "HBoxModel",
          "model_module_version": "1.5.0",
          "state": {
            "_dom_classes": [],
            "_model_module": "@jupyter-widgets/controls",
            "_model_module_version": "1.5.0",
            "_model_name": "HBoxModel",
            "_view_count": null,
            "_view_module": "@jupyter-widgets/controls",
            "_view_module_version": "1.5.0",
            "_view_name": "HBoxView",
            "box_style": "",
            "children": [
              "IPY_MODEL_799e3b8a45b94526b716d02a6c1e922e",
              "IPY_MODEL_568f7fe459e34cf5a1c598370011ab96",
              "IPY_MODEL_94442c1ef9a34e7fb0e5d07a508a813c"
            ],
            "layout": "IPY_MODEL_2eb64b460e77471bb11c48d4d19dde08"
          }
        },
        "799e3b8a45b94526b716d02a6c1e922e": {
          "model_module": "@jupyter-widgets/controls",
          "model_name": "HTMLModel",
          "model_module_version": "1.5.0",
          "state": {
            "_dom_classes": [],
            "_model_module": "@jupyter-widgets/controls",
            "_model_module_version": "1.5.0",
            "_model_name": "HTMLModel",
            "_view_count": null,
            "_view_module": "@jupyter-widgets/controls",
            "_view_module_version": "1.5.0",
            "_view_name": "HTMLView",
            "description": "",
            "description_tooltip": null,
            "layout": "IPY_MODEL_345e812144e34d9daa71f338e0cd8f40",
            "placeholder": "​",
            "style": "IPY_MODEL_bc98c822bed24f7a838c556796aacb5d",
            "value": "100%"
          }
        },
        "568f7fe459e34cf5a1c598370011ab96": {
          "model_module": "@jupyter-widgets/controls",
          "model_name": "FloatProgressModel",
          "model_module_version": "1.5.0",
          "state": {
            "_dom_classes": [],
            "_model_module": "@jupyter-widgets/controls",
            "_model_module_version": "1.5.0",
            "_model_name": "FloatProgressModel",
            "_view_count": null,
            "_view_module": "@jupyter-widgets/controls",
            "_view_module_version": "1.5.0",
            "_view_name": "ProgressView",
            "bar_style": "success",
            "description": "",
            "description_tooltip": null,
            "layout": "IPY_MODEL_e910c1efb30a4d7abf35d003489a30e0",
            "max": 1648877,
            "min": 0,
            "orientation": "horizontal",
            "style": "IPY_MODEL_b145229edda54c27b2abd972f80046b5",
            "value": 1648877
          }
        },
        "94442c1ef9a34e7fb0e5d07a508a813c": {
          "model_module": "@jupyter-widgets/controls",
          "model_name": "HTMLModel",
          "model_module_version": "1.5.0",
          "state": {
            "_dom_classes": [],
            "_model_module": "@jupyter-widgets/controls",
            "_model_module_version": "1.5.0",
            "_model_name": "HTMLModel",
            "_view_count": null,
            "_view_module": "@jupyter-widgets/controls",
            "_view_module_version": "1.5.0",
            "_view_name": "HTMLView",
            "description": "",
            "description_tooltip": null,
            "layout": "IPY_MODEL_e44b4893ac8845eebef14f51d6cd867e",
            "placeholder": "​",
            "style": "IPY_MODEL_a2d21aa91d3043449717042b952f95a2",
            "value": " 1648877/1648877 [00:00&lt;00:00, 21601224.99it/s]"
          }
        },
        "2eb64b460e77471bb11c48d4d19dde08": {
          "model_module": "@jupyter-widgets/base",
          "model_name": "LayoutModel",
          "model_module_version": "1.2.0",
          "state": {
            "_model_module": "@jupyter-widgets/base",
            "_model_module_version": "1.2.0",
            "_model_name": "LayoutModel",
            "_view_count": null,
            "_view_module": "@jupyter-widgets/base",
            "_view_module_version": "1.2.0",
            "_view_name": "LayoutView",
            "align_content": null,
            "align_items": null,
            "align_self": null,
            "border": null,
            "bottom": null,
            "display": null,
            "flex": null,
            "flex_flow": null,
            "grid_area": null,
            "grid_auto_columns": null,
            "grid_auto_flow": null,
            "grid_auto_rows": null,
            "grid_column": null,
            "grid_gap": null,
            "grid_row": null,
            "grid_template_areas": null,
            "grid_template_columns": null,
            "grid_template_rows": null,
            "height": null,
            "justify_content": null,
            "justify_items": null,
            "left": null,
            "margin": null,
            "max_height": null,
            "max_width": null,
            "min_height": null,
            "min_width": null,
            "object_fit": null,
            "object_position": null,
            "order": null,
            "overflow": null,
            "overflow_x": null,
            "overflow_y": null,
            "padding": null,
            "right": null,
            "top": null,
            "visibility": null,
            "width": null
          }
        },
        "345e812144e34d9daa71f338e0cd8f40": {
          "model_module": "@jupyter-widgets/base",
          "model_name": "LayoutModel",
          "model_module_version": "1.2.0",
          "state": {
            "_model_module": "@jupyter-widgets/base",
            "_model_module_version": "1.2.0",
            "_model_name": "LayoutModel",
            "_view_count": null,
            "_view_module": "@jupyter-widgets/base",
            "_view_module_version": "1.2.0",
            "_view_name": "LayoutView",
            "align_content": null,
            "align_items": null,
            "align_self": null,
            "border": null,
            "bottom": null,
            "display": null,
            "flex": null,
            "flex_flow": null,
            "grid_area": null,
            "grid_auto_columns": null,
            "grid_auto_flow": null,
            "grid_auto_rows": null,
            "grid_column": null,
            "grid_gap": null,
            "grid_row": null,
            "grid_template_areas": null,
            "grid_template_columns": null,
            "grid_template_rows": null,
            "height": null,
            "justify_content": null,
            "justify_items": null,
            "left": null,
            "margin": null,
            "max_height": null,
            "max_width": null,
            "min_height": null,
            "min_width": null,
            "object_fit": null,
            "object_position": null,
            "order": null,
            "overflow": null,
            "overflow_x": null,
            "overflow_y": null,
            "padding": null,
            "right": null,
            "top": null,
            "visibility": null,
            "width": null
          }
        },
        "bc98c822bed24f7a838c556796aacb5d": {
          "model_module": "@jupyter-widgets/controls",
          "model_name": "DescriptionStyleModel",
          "model_module_version": "1.5.0",
          "state": {
            "_model_module": "@jupyter-widgets/controls",
            "_model_module_version": "1.5.0",
            "_model_name": "DescriptionStyleModel",
            "_view_count": null,
            "_view_module": "@jupyter-widgets/base",
            "_view_module_version": "1.2.0",
            "_view_name": "StyleView",
            "description_width": ""
          }
        },
        "e910c1efb30a4d7abf35d003489a30e0": {
          "model_module": "@jupyter-widgets/base",
          "model_name": "LayoutModel",
          "model_module_version": "1.2.0",
          "state": {
            "_model_module": "@jupyter-widgets/base",
            "_model_module_version": "1.2.0",
            "_model_name": "LayoutModel",
            "_view_count": null,
            "_view_module": "@jupyter-widgets/base",
            "_view_module_version": "1.2.0",
            "_view_name": "LayoutView",
            "align_content": null,
            "align_items": null,
            "align_self": null,
            "border": null,
            "bottom": null,
            "display": null,
            "flex": null,
            "flex_flow": null,
            "grid_area": null,
            "grid_auto_columns": null,
            "grid_auto_flow": null,
            "grid_auto_rows": null,
            "grid_column": null,
            "grid_gap": null,
            "grid_row": null,
            "grid_template_areas": null,
            "grid_template_columns": null,
            "grid_template_rows": null,
            "height": null,
            "justify_content": null,
            "justify_items": null,
            "left": null,
            "margin": null,
            "max_height": null,
            "max_width": null,
            "min_height": null,
            "min_width": null,
            "object_fit": null,
            "object_position": null,
            "order": null,
            "overflow": null,
            "overflow_x": null,
            "overflow_y": null,
            "padding": null,
            "right": null,
            "top": null,
            "visibility": null,
            "width": null
          }
        },
        "b145229edda54c27b2abd972f80046b5": {
          "model_module": "@jupyter-widgets/controls",
          "model_name": "ProgressStyleModel",
          "model_module_version": "1.5.0",
          "state": {
            "_model_module": "@jupyter-widgets/controls",
            "_model_module_version": "1.5.0",
            "_model_name": "ProgressStyleModel",
            "_view_count": null,
            "_view_module": "@jupyter-widgets/base",
            "_view_module_version": "1.2.0",
            "_view_name": "StyleView",
            "bar_color": null,
            "description_width": ""
          }
        },
        "e44b4893ac8845eebef14f51d6cd867e": {
          "model_module": "@jupyter-widgets/base",
          "model_name": "LayoutModel",
          "model_module_version": "1.2.0",
          "state": {
            "_model_module": "@jupyter-widgets/base",
            "_model_module_version": "1.2.0",
            "_model_name": "LayoutModel",
            "_view_count": null,
            "_view_module": "@jupyter-widgets/base",
            "_view_module_version": "1.2.0",
            "_view_name": "LayoutView",
            "align_content": null,
            "align_items": null,
            "align_self": null,
            "border": null,
            "bottom": null,
            "display": null,
            "flex": null,
            "flex_flow": null,
            "grid_area": null,
            "grid_auto_columns": null,
            "grid_auto_flow": null,
            "grid_auto_rows": null,
            "grid_column": null,
            "grid_gap": null,
            "grid_row": null,
            "grid_template_areas": null,
            "grid_template_columns": null,
            "grid_template_rows": null,
            "height": null,
            "justify_content": null,
            "justify_items": null,
            "left": null,
            "margin": null,
            "max_height": null,
            "max_width": null,
            "min_height": null,
            "min_width": null,
            "object_fit": null,
            "object_position": null,
            "order": null,
            "overflow": null,
            "overflow_x": null,
            "overflow_y": null,
            "padding": null,
            "right": null,
            "top": null,
            "visibility": null,
            "width": null
          }
        },
        "a2d21aa91d3043449717042b952f95a2": {
          "model_module": "@jupyter-widgets/controls",
          "model_name": "DescriptionStyleModel",
          "model_module_version": "1.5.0",
          "state": {
            "_model_module": "@jupyter-widgets/controls",
            "_model_module_version": "1.5.0",
            "_model_name": "DescriptionStyleModel",
            "_view_count": null,
            "_view_module": "@jupyter-widgets/base",
            "_view_module_version": "1.2.0",
            "_view_name": "StyleView",
            "description_width": ""
          }
        },
        "2cc164ec33394b3495612b05533e7d29": {
          "model_module": "@jupyter-widgets/controls",
          "model_name": "HBoxModel",
          "model_module_version": "1.5.0",
          "state": {
            "_dom_classes": [],
            "_model_module": "@jupyter-widgets/controls",
            "_model_module_version": "1.5.0",
            "_model_name": "HBoxModel",
            "_view_count": null,
            "_view_module": "@jupyter-widgets/controls",
            "_view_module_version": "1.5.0",
            "_view_name": "HBoxView",
            "box_style": "",
            "children": [
              "IPY_MODEL_30626e23eef14941b11bff234464c679",
              "IPY_MODEL_a6ee342ad12e4c11829cd503a6a894cf",
              "IPY_MODEL_e5b65bf4070a4997ae0248935376e279"
            ],
            "layout": "IPY_MODEL_084d60e2782245d3b6a1b556331caff5"
          }
        },
        "30626e23eef14941b11bff234464c679": {
          "model_module": "@jupyter-widgets/controls",
          "model_name": "HTMLModel",
          "model_module_version": "1.5.0",
          "state": {
            "_dom_classes": [],
            "_model_module": "@jupyter-widgets/controls",
            "_model_module_version": "1.5.0",
            "_model_name": "HTMLModel",
            "_view_count": null,
            "_view_module": "@jupyter-widgets/controls",
            "_view_module_version": "1.5.0",
            "_view_name": "HTMLView",
            "description": "",
            "description_tooltip": null,
            "layout": "IPY_MODEL_7c9fc54dae164a1a9e385c0d9c0687f7",
            "placeholder": "​",
            "style": "IPY_MODEL_ff55665bf236463d9ac7111f6f3a1454",
            "value": "100%"
          }
        },
        "a6ee342ad12e4c11829cd503a6a894cf": {
          "model_module": "@jupyter-widgets/controls",
          "model_name": "FloatProgressModel",
          "model_module_version": "1.5.0",
          "state": {
            "_dom_classes": [],
            "_model_module": "@jupyter-widgets/controls",
            "_model_module_version": "1.5.0",
            "_model_name": "FloatProgressModel",
            "_view_count": null,
            "_view_module": "@jupyter-widgets/controls",
            "_view_module_version": "1.5.0",
            "_view_name": "ProgressView",
            "bar_style": "success",
            "description": "",
            "description_tooltip": null,
            "layout": "IPY_MODEL_ae7125c5a7ac485490b5d44f77e25c31",
            "max": 4542,
            "min": 0,
            "orientation": "horizontal",
            "style": "IPY_MODEL_f35960fea6d54046a7c9ef30a962722e",
            "value": 4542
          }
        },
        "e5b65bf4070a4997ae0248935376e279": {
          "model_module": "@jupyter-widgets/controls",
          "model_name": "HTMLModel",
          "model_module_version": "1.5.0",
          "state": {
            "_dom_classes": [],
            "_model_module": "@jupyter-widgets/controls",
            "_model_module_version": "1.5.0",
            "_model_name": "HTMLModel",
            "_view_count": null,
            "_view_module": "@jupyter-widgets/controls",
            "_view_module_version": "1.5.0",
            "_view_name": "HTMLView",
            "description": "",
            "description_tooltip": null,
            "layout": "IPY_MODEL_b8ee5e1e4986441cb7296189c8a43a6d",
            "placeholder": "​",
            "style": "IPY_MODEL_e73b61362a534c65ab1bc2d07e0b8010",
            "value": " 4542/4542 [00:00&lt;00:00, 193251.39it/s]"
          }
        },
        "084d60e2782245d3b6a1b556331caff5": {
          "model_module": "@jupyter-widgets/base",
          "model_name": "LayoutModel",
          "model_module_version": "1.2.0",
          "state": {
            "_model_module": "@jupyter-widgets/base",
            "_model_module_version": "1.2.0",
            "_model_name": "LayoutModel",
            "_view_count": null,
            "_view_module": "@jupyter-widgets/base",
            "_view_module_version": "1.2.0",
            "_view_name": "LayoutView",
            "align_content": null,
            "align_items": null,
            "align_self": null,
            "border": null,
            "bottom": null,
            "display": null,
            "flex": null,
            "flex_flow": null,
            "grid_area": null,
            "grid_auto_columns": null,
            "grid_auto_flow": null,
            "grid_auto_rows": null,
            "grid_column": null,
            "grid_gap": null,
            "grid_row": null,
            "grid_template_areas": null,
            "grid_template_columns": null,
            "grid_template_rows": null,
            "height": null,
            "justify_content": null,
            "justify_items": null,
            "left": null,
            "margin": null,
            "max_height": null,
            "max_width": null,
            "min_height": null,
            "min_width": null,
            "object_fit": null,
            "object_position": null,
            "order": null,
            "overflow": null,
            "overflow_x": null,
            "overflow_y": null,
            "padding": null,
            "right": null,
            "top": null,
            "visibility": null,
            "width": null
          }
        },
        "7c9fc54dae164a1a9e385c0d9c0687f7": {
          "model_module": "@jupyter-widgets/base",
          "model_name": "LayoutModel",
          "model_module_version": "1.2.0",
          "state": {
            "_model_module": "@jupyter-widgets/base",
            "_model_module_version": "1.2.0",
            "_model_name": "LayoutModel",
            "_view_count": null,
            "_view_module": "@jupyter-widgets/base",
            "_view_module_version": "1.2.0",
            "_view_name": "LayoutView",
            "align_content": null,
            "align_items": null,
            "align_self": null,
            "border": null,
            "bottom": null,
            "display": null,
            "flex": null,
            "flex_flow": null,
            "grid_area": null,
            "grid_auto_columns": null,
            "grid_auto_flow": null,
            "grid_auto_rows": null,
            "grid_column": null,
            "grid_gap": null,
            "grid_row": null,
            "grid_template_areas": null,
            "grid_template_columns": null,
            "grid_template_rows": null,
            "height": null,
            "justify_content": null,
            "justify_items": null,
            "left": null,
            "margin": null,
            "max_height": null,
            "max_width": null,
            "min_height": null,
            "min_width": null,
            "object_fit": null,
            "object_position": null,
            "order": null,
            "overflow": null,
            "overflow_x": null,
            "overflow_y": null,
            "padding": null,
            "right": null,
            "top": null,
            "visibility": null,
            "width": null
          }
        },
        "ff55665bf236463d9ac7111f6f3a1454": {
          "model_module": "@jupyter-widgets/controls",
          "model_name": "DescriptionStyleModel",
          "model_module_version": "1.5.0",
          "state": {
            "_model_module": "@jupyter-widgets/controls",
            "_model_module_version": "1.5.0",
            "_model_name": "DescriptionStyleModel",
            "_view_count": null,
            "_view_module": "@jupyter-widgets/base",
            "_view_module_version": "1.2.0",
            "_view_name": "StyleView",
            "description_width": ""
          }
        },
        "ae7125c5a7ac485490b5d44f77e25c31": {
          "model_module": "@jupyter-widgets/base",
          "model_name": "LayoutModel",
          "model_module_version": "1.2.0",
          "state": {
            "_model_module": "@jupyter-widgets/base",
            "_model_module_version": "1.2.0",
            "_model_name": "LayoutModel",
            "_view_count": null,
            "_view_module": "@jupyter-widgets/base",
            "_view_module_version": "1.2.0",
            "_view_name": "LayoutView",
            "align_content": null,
            "align_items": null,
            "align_self": null,
            "border": null,
            "bottom": null,
            "display": null,
            "flex": null,
            "flex_flow": null,
            "grid_area": null,
            "grid_auto_columns": null,
            "grid_auto_flow": null,
            "grid_auto_rows": null,
            "grid_column": null,
            "grid_gap": null,
            "grid_row": null,
            "grid_template_areas": null,
            "grid_template_columns": null,
            "grid_template_rows": null,
            "height": null,
            "justify_content": null,
            "justify_items": null,
            "left": null,
            "margin": null,
            "max_height": null,
            "max_width": null,
            "min_height": null,
            "min_width": null,
            "object_fit": null,
            "object_position": null,
            "order": null,
            "overflow": null,
            "overflow_x": null,
            "overflow_y": null,
            "padding": null,
            "right": null,
            "top": null,
            "visibility": null,
            "width": null
          }
        },
        "f35960fea6d54046a7c9ef30a962722e": {
          "model_module": "@jupyter-widgets/controls",
          "model_name": "ProgressStyleModel",
          "model_module_version": "1.5.0",
          "state": {
            "_model_module": "@jupyter-widgets/controls",
            "_model_module_version": "1.5.0",
            "_model_name": "ProgressStyleModel",
            "_view_count": null,
            "_view_module": "@jupyter-widgets/base",
            "_view_module_version": "1.2.0",
            "_view_name": "StyleView",
            "bar_color": null,
            "description_width": ""
          }
        },
        "b8ee5e1e4986441cb7296189c8a43a6d": {
          "model_module": "@jupyter-widgets/base",
          "model_name": "LayoutModel",
          "model_module_version": "1.2.0",
          "state": {
            "_model_module": "@jupyter-widgets/base",
            "_model_module_version": "1.2.0",
            "_model_name": "LayoutModel",
            "_view_count": null,
            "_view_module": "@jupyter-widgets/base",
            "_view_module_version": "1.2.0",
            "_view_name": "LayoutView",
            "align_content": null,
            "align_items": null,
            "align_self": null,
            "border": null,
            "bottom": null,
            "display": null,
            "flex": null,
            "flex_flow": null,
            "grid_area": null,
            "grid_auto_columns": null,
            "grid_auto_flow": null,
            "grid_auto_rows": null,
            "grid_column": null,
            "grid_gap": null,
            "grid_row": null,
            "grid_template_areas": null,
            "grid_template_columns": null,
            "grid_template_rows": null,
            "height": null,
            "justify_content": null,
            "justify_items": null,
            "left": null,
            "margin": null,
            "max_height": null,
            "max_width": null,
            "min_height": null,
            "min_width": null,
            "object_fit": null,
            "object_position": null,
            "order": null,
            "overflow": null,
            "overflow_x": null,
            "overflow_y": null,
            "padding": null,
            "right": null,
            "top": null,
            "visibility": null,
            "width": null
          }
        },
        "e73b61362a534c65ab1bc2d07e0b8010": {
          "model_module": "@jupyter-widgets/controls",
          "model_name": "DescriptionStyleModel",
          "model_module_version": "1.5.0",
          "state": {
            "_model_module": "@jupyter-widgets/controls",
            "_model_module_version": "1.5.0",
            "_model_name": "DescriptionStyleModel",
            "_view_count": null,
            "_view_module": "@jupyter-widgets/base",
            "_view_module_version": "1.2.0",
            "_view_name": "StyleView",
            "description_width": ""
          }
        },
        "5339445bb6cf4b8196e7b49b5dfb6548": {
          "model_module": "@jupyter-widgets/controls",
          "model_name": "HBoxModel",
          "model_module_version": "1.5.0",
          "state": {
            "_dom_classes": [],
            "_model_module": "@jupyter-widgets/controls",
            "_model_module_version": "1.5.0",
            "_model_name": "HBoxModel",
            "_view_count": null,
            "_view_module": "@jupyter-widgets/controls",
            "_view_module_version": "1.5.0",
            "_view_name": "HBoxView",
            "box_style": "",
            "children": [
              "IPY_MODEL_f25d04bcb09f470bb68580de573e6b35",
              "IPY_MODEL_9c3f82c3e6e048cd97f7ff712c4ebed2",
              "IPY_MODEL_df0862f609084355aa8cdc937e148faa"
            ],
            "layout": "IPY_MODEL_4540b26c420547a19081da8ba921e5aa"
          }
        },
        "f25d04bcb09f470bb68580de573e6b35": {
          "model_module": "@jupyter-widgets/controls",
          "model_name": "HTMLModel",
          "model_module_version": "1.5.0",
          "state": {
            "_dom_classes": [],
            "_model_module": "@jupyter-widgets/controls",
            "_model_module_version": "1.5.0",
            "_model_name": "HTMLModel",
            "_view_count": null,
            "_view_module": "@jupyter-widgets/controls",
            "_view_module_version": "1.5.0",
            "_view_name": "HTMLView",
            "description": "",
            "description_tooltip": null,
            "layout": "IPY_MODEL_bdbaccd36d0e4a26ae0eedeb8a02d922",
            "placeholder": "​",
            "style": "IPY_MODEL_f01c62b4e6444fc0812a5c944d315b5c",
            "value": "100%"
          }
        },
        "9c3f82c3e6e048cd97f7ff712c4ebed2": {
          "model_module": "@jupyter-widgets/controls",
          "model_name": "FloatProgressModel",
          "model_module_version": "1.5.0",
          "state": {
            "_dom_classes": [],
            "_model_module": "@jupyter-widgets/controls",
            "_model_module_version": "1.5.0",
            "_model_name": "FloatProgressModel",
            "_view_count": null,
            "_view_module": "@jupyter-widgets/controls",
            "_view_module_version": "1.5.0",
            "_view_name": "ProgressView",
            "bar_style": "success",
            "description": "",
            "description_tooltip": null,
            "layout": "IPY_MODEL_9423d6b544db4871b0731625d41402ea",
            "max": 9912422,
            "min": 0,
            "orientation": "horizontal",
            "style": "IPY_MODEL_660656b497ca4e30a243979ca3c2fc05",
            "value": 9912422
          }
        },
        "df0862f609084355aa8cdc937e148faa": {
          "model_module": "@jupyter-widgets/controls",
          "model_name": "HTMLModel",
          "model_module_version": "1.5.0",
          "state": {
            "_dom_classes": [],
            "_model_module": "@jupyter-widgets/controls",
            "_model_module_version": "1.5.0",
            "_model_name": "HTMLModel",
            "_view_count": null,
            "_view_module": "@jupyter-widgets/controls",
            "_view_module_version": "1.5.0",
            "_view_name": "HTMLView",
            "description": "",
            "description_tooltip": null,
            "layout": "IPY_MODEL_fdd7fd6a075a4b97bdbb9a6584904b94",
            "placeholder": "​",
            "style": "IPY_MODEL_20c5e79cb40b495f84d740da064dcc48",
            "value": " 9912422/9912422 [00:00&lt;00:00, 24336769.47it/s]"
          }
        },
        "4540b26c420547a19081da8ba921e5aa": {
          "model_module": "@jupyter-widgets/base",
          "model_name": "LayoutModel",
          "model_module_version": "1.2.0",
          "state": {
            "_model_module": "@jupyter-widgets/base",
            "_model_module_version": "1.2.0",
            "_model_name": "LayoutModel",
            "_view_count": null,
            "_view_module": "@jupyter-widgets/base",
            "_view_module_version": "1.2.0",
            "_view_name": "LayoutView",
            "align_content": null,
            "align_items": null,
            "align_self": null,
            "border": null,
            "bottom": null,
            "display": null,
            "flex": null,
            "flex_flow": null,
            "grid_area": null,
            "grid_auto_columns": null,
            "grid_auto_flow": null,
            "grid_auto_rows": null,
            "grid_column": null,
            "grid_gap": null,
            "grid_row": null,
            "grid_template_areas": null,
            "grid_template_columns": null,
            "grid_template_rows": null,
            "height": null,
            "justify_content": null,
            "justify_items": null,
            "left": null,
            "margin": null,
            "max_height": null,
            "max_width": null,
            "min_height": null,
            "min_width": null,
            "object_fit": null,
            "object_position": null,
            "order": null,
            "overflow": null,
            "overflow_x": null,
            "overflow_y": null,
            "padding": null,
            "right": null,
            "top": null,
            "visibility": null,
            "width": null
          }
        },
        "bdbaccd36d0e4a26ae0eedeb8a02d922": {
          "model_module": "@jupyter-widgets/base",
          "model_name": "LayoutModel",
          "model_module_version": "1.2.0",
          "state": {
            "_model_module": "@jupyter-widgets/base",
            "_model_module_version": "1.2.0",
            "_model_name": "LayoutModel",
            "_view_count": null,
            "_view_module": "@jupyter-widgets/base",
            "_view_module_version": "1.2.0",
            "_view_name": "LayoutView",
            "align_content": null,
            "align_items": null,
            "align_self": null,
            "border": null,
            "bottom": null,
            "display": null,
            "flex": null,
            "flex_flow": null,
            "grid_area": null,
            "grid_auto_columns": null,
            "grid_auto_flow": null,
            "grid_auto_rows": null,
            "grid_column": null,
            "grid_gap": null,
            "grid_row": null,
            "grid_template_areas": null,
            "grid_template_columns": null,
            "grid_template_rows": null,
            "height": null,
            "justify_content": null,
            "justify_items": null,
            "left": null,
            "margin": null,
            "max_height": null,
            "max_width": null,
            "min_height": null,
            "min_width": null,
            "object_fit": null,
            "object_position": null,
            "order": null,
            "overflow": null,
            "overflow_x": null,
            "overflow_y": null,
            "padding": null,
            "right": null,
            "top": null,
            "visibility": null,
            "width": null
          }
        },
        "f01c62b4e6444fc0812a5c944d315b5c": {
          "model_module": "@jupyter-widgets/controls",
          "model_name": "DescriptionStyleModel",
          "model_module_version": "1.5.0",
          "state": {
            "_model_module": "@jupyter-widgets/controls",
            "_model_module_version": "1.5.0",
            "_model_name": "DescriptionStyleModel",
            "_view_count": null,
            "_view_module": "@jupyter-widgets/base",
            "_view_module_version": "1.2.0",
            "_view_name": "StyleView",
            "description_width": ""
          }
        },
        "9423d6b544db4871b0731625d41402ea": {
          "model_module": "@jupyter-widgets/base",
          "model_name": "LayoutModel",
          "model_module_version": "1.2.0",
          "state": {
            "_model_module": "@jupyter-widgets/base",
            "_model_module_version": "1.2.0",
            "_model_name": "LayoutModel",
            "_view_count": null,
            "_view_module": "@jupyter-widgets/base",
            "_view_module_version": "1.2.0",
            "_view_name": "LayoutView",
            "align_content": null,
            "align_items": null,
            "align_self": null,
            "border": null,
            "bottom": null,
            "display": null,
            "flex": null,
            "flex_flow": null,
            "grid_area": null,
            "grid_auto_columns": null,
            "grid_auto_flow": null,
            "grid_auto_rows": null,
            "grid_column": null,
            "grid_gap": null,
            "grid_row": null,
            "grid_template_areas": null,
            "grid_template_columns": null,
            "grid_template_rows": null,
            "height": null,
            "justify_content": null,
            "justify_items": null,
            "left": null,
            "margin": null,
            "max_height": null,
            "max_width": null,
            "min_height": null,
            "min_width": null,
            "object_fit": null,
            "object_position": null,
            "order": null,
            "overflow": null,
            "overflow_x": null,
            "overflow_y": null,
            "padding": null,
            "right": null,
            "top": null,
            "visibility": null,
            "width": null
          }
        },
        "660656b497ca4e30a243979ca3c2fc05": {
          "model_module": "@jupyter-widgets/controls",
          "model_name": "ProgressStyleModel",
          "model_module_version": "1.5.0",
          "state": {
            "_model_module": "@jupyter-widgets/controls",
            "_model_module_version": "1.5.0",
            "_model_name": "ProgressStyleModel",
            "_view_count": null,
            "_view_module": "@jupyter-widgets/base",
            "_view_module_version": "1.2.0",
            "_view_name": "StyleView",
            "bar_color": null,
            "description_width": ""
          }
        },
        "fdd7fd6a075a4b97bdbb9a6584904b94": {
          "model_module": "@jupyter-widgets/base",
          "model_name": "LayoutModel",
          "model_module_version": "1.2.0",
          "state": {
            "_model_module": "@jupyter-widgets/base",
            "_model_module_version": "1.2.0",
            "_model_name": "LayoutModel",
            "_view_count": null,
            "_view_module": "@jupyter-widgets/base",
            "_view_module_version": "1.2.0",
            "_view_name": "LayoutView",
            "align_content": null,
            "align_items": null,
            "align_self": null,
            "border": null,
            "bottom": null,
            "display": null,
            "flex": null,
            "flex_flow": null,
            "grid_area": null,
            "grid_auto_columns": null,
            "grid_auto_flow": null,
            "grid_auto_rows": null,
            "grid_column": null,
            "grid_gap": null,
            "grid_row": null,
            "grid_template_areas": null,
            "grid_template_columns": null,
            "grid_template_rows": null,
            "height": null,
            "justify_content": null,
            "justify_items": null,
            "left": null,
            "margin": null,
            "max_height": null,
            "max_width": null,
            "min_height": null,
            "min_width": null,
            "object_fit": null,
            "object_position": null,
            "order": null,
            "overflow": null,
            "overflow_x": null,
            "overflow_y": null,
            "padding": null,
            "right": null,
            "top": null,
            "visibility": null,
            "width": null
          }
        },
        "20c5e79cb40b495f84d740da064dcc48": {
          "model_module": "@jupyter-widgets/controls",
          "model_name": "DescriptionStyleModel",
          "model_module_version": "1.5.0",
          "state": {
            "_model_module": "@jupyter-widgets/controls",
            "_model_module_version": "1.5.0",
            "_model_name": "DescriptionStyleModel",
            "_view_count": null,
            "_view_module": "@jupyter-widgets/base",
            "_view_module_version": "1.2.0",
            "_view_name": "StyleView",
            "description_width": ""
          }
        },
        "ee1f8d74044e445a92e2c75397a75484": {
          "model_module": "@jupyter-widgets/controls",
          "model_name": "HBoxModel",
          "model_module_version": "1.5.0",
          "state": {
            "_dom_classes": [],
            "_model_module": "@jupyter-widgets/controls",
            "_model_module_version": "1.5.0",
            "_model_name": "HBoxModel",
            "_view_count": null,
            "_view_module": "@jupyter-widgets/controls",
            "_view_module_version": "1.5.0",
            "_view_name": "HBoxView",
            "box_style": "",
            "children": [
              "IPY_MODEL_9bb147d4543440edb63b7a5ffb18bb13",
              "IPY_MODEL_bbce57521d1b4d0eb7edf88a1f8b3b1d",
              "IPY_MODEL_50890b038ae4463a8c7f16b854dfc647"
            ],
            "layout": "IPY_MODEL_e675e51d65224dbd9cbe25496205b671"
          }
        },
        "9bb147d4543440edb63b7a5ffb18bb13": {
          "model_module": "@jupyter-widgets/controls",
          "model_name": "HTMLModel",
          "model_module_version": "1.5.0",
          "state": {
            "_dom_classes": [],
            "_model_module": "@jupyter-widgets/controls",
            "_model_module_version": "1.5.0",
            "_model_name": "HTMLModel",
            "_view_count": null,
            "_view_module": "@jupyter-widgets/controls",
            "_view_module_version": "1.5.0",
            "_view_name": "HTMLView",
            "description": "",
            "description_tooltip": null,
            "layout": "IPY_MODEL_a667a85163b34606bcef39849f48ba46",
            "placeholder": "​",
            "style": "IPY_MODEL_d0a525d796744dfd8eb39e48bfb0b354",
            "value": "100%"
          }
        },
        "bbce57521d1b4d0eb7edf88a1f8b3b1d": {
          "model_module": "@jupyter-widgets/controls",
          "model_name": "FloatProgressModel",
          "model_module_version": "1.5.0",
          "state": {
            "_dom_classes": [],
            "_model_module": "@jupyter-widgets/controls",
            "_model_module_version": "1.5.0",
            "_model_name": "FloatProgressModel",
            "_view_count": null,
            "_view_module": "@jupyter-widgets/controls",
            "_view_module_version": "1.5.0",
            "_view_name": "ProgressView",
            "bar_style": "success",
            "description": "",
            "description_tooltip": null,
            "layout": "IPY_MODEL_2c3eaaaff72b4ff18627438ce8fa1110",
            "max": 28881,
            "min": 0,
            "orientation": "horizontal",
            "style": "IPY_MODEL_f64c5a93048c49a8b70df950455aca0b",
            "value": 28881
          }
        },
        "50890b038ae4463a8c7f16b854dfc647": {
          "model_module": "@jupyter-widgets/controls",
          "model_name": "HTMLModel",
          "model_module_version": "1.5.0",
          "state": {
            "_dom_classes": [],
            "_model_module": "@jupyter-widgets/controls",
            "_model_module_version": "1.5.0",
            "_model_name": "HTMLModel",
            "_view_count": null,
            "_view_module": "@jupyter-widgets/controls",
            "_view_module_version": "1.5.0",
            "_view_name": "HTMLView",
            "description": "",
            "description_tooltip": null,
            "layout": "IPY_MODEL_013fed93e96f432999f0334e11a91bfd",
            "placeholder": "​",
            "style": "IPY_MODEL_736b463d509c47ee98817d9ba249e699",
            "value": " 28881/28881 [00:00&lt;00:00, 615154.93it/s]"
          }
        },
        "e675e51d65224dbd9cbe25496205b671": {
          "model_module": "@jupyter-widgets/base",
          "model_name": "LayoutModel",
          "model_module_version": "1.2.0",
          "state": {
            "_model_module": "@jupyter-widgets/base",
            "_model_module_version": "1.2.0",
            "_model_name": "LayoutModel",
            "_view_count": null,
            "_view_module": "@jupyter-widgets/base",
            "_view_module_version": "1.2.0",
            "_view_name": "LayoutView",
            "align_content": null,
            "align_items": null,
            "align_self": null,
            "border": null,
            "bottom": null,
            "display": null,
            "flex": null,
            "flex_flow": null,
            "grid_area": null,
            "grid_auto_columns": null,
            "grid_auto_flow": null,
            "grid_auto_rows": null,
            "grid_column": null,
            "grid_gap": null,
            "grid_row": null,
            "grid_template_areas": null,
            "grid_template_columns": null,
            "grid_template_rows": null,
            "height": null,
            "justify_content": null,
            "justify_items": null,
            "left": null,
            "margin": null,
            "max_height": null,
            "max_width": null,
            "min_height": null,
            "min_width": null,
            "object_fit": null,
            "object_position": null,
            "order": null,
            "overflow": null,
            "overflow_x": null,
            "overflow_y": null,
            "padding": null,
            "right": null,
            "top": null,
            "visibility": null,
            "width": null
          }
        },
        "a667a85163b34606bcef39849f48ba46": {
          "model_module": "@jupyter-widgets/base",
          "model_name": "LayoutModel",
          "model_module_version": "1.2.0",
          "state": {
            "_model_module": "@jupyter-widgets/base",
            "_model_module_version": "1.2.0",
            "_model_name": "LayoutModel",
            "_view_count": null,
            "_view_module": "@jupyter-widgets/base",
            "_view_module_version": "1.2.0",
            "_view_name": "LayoutView",
            "align_content": null,
            "align_items": null,
            "align_self": null,
            "border": null,
            "bottom": null,
            "display": null,
            "flex": null,
            "flex_flow": null,
            "grid_area": null,
            "grid_auto_columns": null,
            "grid_auto_flow": null,
            "grid_auto_rows": null,
            "grid_column": null,
            "grid_gap": null,
            "grid_row": null,
            "grid_template_areas": null,
            "grid_template_columns": null,
            "grid_template_rows": null,
            "height": null,
            "justify_content": null,
            "justify_items": null,
            "left": null,
            "margin": null,
            "max_height": null,
            "max_width": null,
            "min_height": null,
            "min_width": null,
            "object_fit": null,
            "object_position": null,
            "order": null,
            "overflow": null,
            "overflow_x": null,
            "overflow_y": null,
            "padding": null,
            "right": null,
            "top": null,
            "visibility": null,
            "width": null
          }
        },
        "d0a525d796744dfd8eb39e48bfb0b354": {
          "model_module": "@jupyter-widgets/controls",
          "model_name": "DescriptionStyleModel",
          "model_module_version": "1.5.0",
          "state": {
            "_model_module": "@jupyter-widgets/controls",
            "_model_module_version": "1.5.0",
            "_model_name": "DescriptionStyleModel",
            "_view_count": null,
            "_view_module": "@jupyter-widgets/base",
            "_view_module_version": "1.2.0",
            "_view_name": "StyleView",
            "description_width": ""
          }
        },
        "2c3eaaaff72b4ff18627438ce8fa1110": {
          "model_module": "@jupyter-widgets/base",
          "model_name": "LayoutModel",
          "model_module_version": "1.2.0",
          "state": {
            "_model_module": "@jupyter-widgets/base",
            "_model_module_version": "1.2.0",
            "_model_name": "LayoutModel",
            "_view_count": null,
            "_view_module": "@jupyter-widgets/base",
            "_view_module_version": "1.2.0",
            "_view_name": "LayoutView",
            "align_content": null,
            "align_items": null,
            "align_self": null,
            "border": null,
            "bottom": null,
            "display": null,
            "flex": null,
            "flex_flow": null,
            "grid_area": null,
            "grid_auto_columns": null,
            "grid_auto_flow": null,
            "grid_auto_rows": null,
            "grid_column": null,
            "grid_gap": null,
            "grid_row": null,
            "grid_template_areas": null,
            "grid_template_columns": null,
            "grid_template_rows": null,
            "height": null,
            "justify_content": null,
            "justify_items": null,
            "left": null,
            "margin": null,
            "max_height": null,
            "max_width": null,
            "min_height": null,
            "min_width": null,
            "object_fit": null,
            "object_position": null,
            "order": null,
            "overflow": null,
            "overflow_x": null,
            "overflow_y": null,
            "padding": null,
            "right": null,
            "top": null,
            "visibility": null,
            "width": null
          }
        },
        "f64c5a93048c49a8b70df950455aca0b": {
          "model_module": "@jupyter-widgets/controls",
          "model_name": "ProgressStyleModel",
          "model_module_version": "1.5.0",
          "state": {
            "_model_module": "@jupyter-widgets/controls",
            "_model_module_version": "1.5.0",
            "_model_name": "ProgressStyleModel",
            "_view_count": null,
            "_view_module": "@jupyter-widgets/base",
            "_view_module_version": "1.2.0",
            "_view_name": "StyleView",
            "bar_color": null,
            "description_width": ""
          }
        },
        "013fed93e96f432999f0334e11a91bfd": {
          "model_module": "@jupyter-widgets/base",
          "model_name": "LayoutModel",
          "model_module_version": "1.2.0",
          "state": {
            "_model_module": "@jupyter-widgets/base",
            "_model_module_version": "1.2.0",
            "_model_name": "LayoutModel",
            "_view_count": null,
            "_view_module": "@jupyter-widgets/base",
            "_view_module_version": "1.2.0",
            "_view_name": "LayoutView",
            "align_content": null,
            "align_items": null,
            "align_self": null,
            "border": null,
            "bottom": null,
            "display": null,
            "flex": null,
            "flex_flow": null,
            "grid_area": null,
            "grid_auto_columns": null,
            "grid_auto_flow": null,
            "grid_auto_rows": null,
            "grid_column": null,
            "grid_gap": null,
            "grid_row": null,
            "grid_template_areas": null,
            "grid_template_columns": null,
            "grid_template_rows": null,
            "height": null,
            "justify_content": null,
            "justify_items": null,
            "left": null,
            "margin": null,
            "max_height": null,
            "max_width": null,
            "min_height": null,
            "min_width": null,
            "object_fit": null,
            "object_position": null,
            "order": null,
            "overflow": null,
            "overflow_x": null,
            "overflow_y": null,
            "padding": null,
            "right": null,
            "top": null,
            "visibility": null,
            "width": null
          }
        },
        "736b463d509c47ee98817d9ba249e699": {
          "model_module": "@jupyter-widgets/controls",
          "model_name": "DescriptionStyleModel",
          "model_module_version": "1.5.0",
          "state": {
            "_model_module": "@jupyter-widgets/controls",
            "_model_module_version": "1.5.0",
            "_model_name": "DescriptionStyleModel",
            "_view_count": null,
            "_view_module": "@jupyter-widgets/base",
            "_view_module_version": "1.2.0",
            "_view_name": "StyleView",
            "description_width": ""
          }
        },
        "10dc09f714c54ec4813d193dcdaafc21": {
          "model_module": "@jupyter-widgets/controls",
          "model_name": "HBoxModel",
          "model_module_version": "1.5.0",
          "state": {
            "_dom_classes": [],
            "_model_module": "@jupyter-widgets/controls",
            "_model_module_version": "1.5.0",
            "_model_name": "HBoxModel",
            "_view_count": null,
            "_view_module": "@jupyter-widgets/controls",
            "_view_module_version": "1.5.0",
            "_view_name": "HBoxView",
            "box_style": "",
            "children": [
              "IPY_MODEL_8d02da440b784e45890d1933721c01d7",
              "IPY_MODEL_ff8e05a023854637aa7d007ffc7abef4",
              "IPY_MODEL_cc11c2d4dbc34f3da7c7d9e4c32e3ee3"
            ],
            "layout": "IPY_MODEL_b6687f11dc4247849900de8aebceb80a"
          }
        },
        "8d02da440b784e45890d1933721c01d7": {
          "model_module": "@jupyter-widgets/controls",
          "model_name": "HTMLModel",
          "model_module_version": "1.5.0",
          "state": {
            "_dom_classes": [],
            "_model_module": "@jupyter-widgets/controls",
            "_model_module_version": "1.5.0",
            "_model_name": "HTMLModel",
            "_view_count": null,
            "_view_module": "@jupyter-widgets/controls",
            "_view_module_version": "1.5.0",
            "_view_name": "HTMLView",
            "description": "",
            "description_tooltip": null,
            "layout": "IPY_MODEL_c2f146935cb3472ba74f71c0fe905215",
            "placeholder": "​",
            "style": "IPY_MODEL_b6a15383e8f0448e87ac4dd66323f786",
            "value": "100%"
          }
        },
        "ff8e05a023854637aa7d007ffc7abef4": {
          "model_module": "@jupyter-widgets/controls",
          "model_name": "FloatProgressModel",
          "model_module_version": "1.5.0",
          "state": {
            "_dom_classes": [],
            "_model_module": "@jupyter-widgets/controls",
            "_model_module_version": "1.5.0",
            "_model_name": "FloatProgressModel",
            "_view_count": null,
            "_view_module": "@jupyter-widgets/controls",
            "_view_module_version": "1.5.0",
            "_view_name": "ProgressView",
            "bar_style": "success",
            "description": "",
            "description_tooltip": null,
            "layout": "IPY_MODEL_40fea0c68c2e4fe987b563227ba51235",
            "max": 1648877,
            "min": 0,
            "orientation": "horizontal",
            "style": "IPY_MODEL_831822744b2849ff83efd72bb6766460",
            "value": 1648877
          }
        },
        "cc11c2d4dbc34f3da7c7d9e4c32e3ee3": {
          "model_module": "@jupyter-widgets/controls",
          "model_name": "HTMLModel",
          "model_module_version": "1.5.0",
          "state": {
            "_dom_classes": [],
            "_model_module": "@jupyter-widgets/controls",
            "_model_module_version": "1.5.0",
            "_model_name": "HTMLModel",
            "_view_count": null,
            "_view_module": "@jupyter-widgets/controls",
            "_view_module_version": "1.5.0",
            "_view_name": "HTMLView",
            "description": "",
            "description_tooltip": null,
            "layout": "IPY_MODEL_0bc2a26451804df9961669351343cc20",
            "placeholder": "​",
            "style": "IPY_MODEL_fb27adba4af547ec99144ee1528df10f",
            "value": " 1648877/1648877 [00:00&lt;00:00, 8912371.46it/s]"
          }
        },
        "b6687f11dc4247849900de8aebceb80a": {
          "model_module": "@jupyter-widgets/base",
          "model_name": "LayoutModel",
          "model_module_version": "1.2.0",
          "state": {
            "_model_module": "@jupyter-widgets/base",
            "_model_module_version": "1.2.0",
            "_model_name": "LayoutModel",
            "_view_count": null,
            "_view_module": "@jupyter-widgets/base",
            "_view_module_version": "1.2.0",
            "_view_name": "LayoutView",
            "align_content": null,
            "align_items": null,
            "align_self": null,
            "border": null,
            "bottom": null,
            "display": null,
            "flex": null,
            "flex_flow": null,
            "grid_area": null,
            "grid_auto_columns": null,
            "grid_auto_flow": null,
            "grid_auto_rows": null,
            "grid_column": null,
            "grid_gap": null,
            "grid_row": null,
            "grid_template_areas": null,
            "grid_template_columns": null,
            "grid_template_rows": null,
            "height": null,
            "justify_content": null,
            "justify_items": null,
            "left": null,
            "margin": null,
            "max_height": null,
            "max_width": null,
            "min_height": null,
            "min_width": null,
            "object_fit": null,
            "object_position": null,
            "order": null,
            "overflow": null,
            "overflow_x": null,
            "overflow_y": null,
            "padding": null,
            "right": null,
            "top": null,
            "visibility": null,
            "width": null
          }
        },
        "c2f146935cb3472ba74f71c0fe905215": {
          "model_module": "@jupyter-widgets/base",
          "model_name": "LayoutModel",
          "model_module_version": "1.2.0",
          "state": {
            "_model_module": "@jupyter-widgets/base",
            "_model_module_version": "1.2.0",
            "_model_name": "LayoutModel",
            "_view_count": null,
            "_view_module": "@jupyter-widgets/base",
            "_view_module_version": "1.2.0",
            "_view_name": "LayoutView",
            "align_content": null,
            "align_items": null,
            "align_self": null,
            "border": null,
            "bottom": null,
            "display": null,
            "flex": null,
            "flex_flow": null,
            "grid_area": null,
            "grid_auto_columns": null,
            "grid_auto_flow": null,
            "grid_auto_rows": null,
            "grid_column": null,
            "grid_gap": null,
            "grid_row": null,
            "grid_template_areas": null,
            "grid_template_columns": null,
            "grid_template_rows": null,
            "height": null,
            "justify_content": null,
            "justify_items": null,
            "left": null,
            "margin": null,
            "max_height": null,
            "max_width": null,
            "min_height": null,
            "min_width": null,
            "object_fit": null,
            "object_position": null,
            "order": null,
            "overflow": null,
            "overflow_x": null,
            "overflow_y": null,
            "padding": null,
            "right": null,
            "top": null,
            "visibility": null,
            "width": null
          }
        },
        "b6a15383e8f0448e87ac4dd66323f786": {
          "model_module": "@jupyter-widgets/controls",
          "model_name": "DescriptionStyleModel",
          "model_module_version": "1.5.0",
          "state": {
            "_model_module": "@jupyter-widgets/controls",
            "_model_module_version": "1.5.0",
            "_model_name": "DescriptionStyleModel",
            "_view_count": null,
            "_view_module": "@jupyter-widgets/base",
            "_view_module_version": "1.2.0",
            "_view_name": "StyleView",
            "description_width": ""
          }
        },
        "40fea0c68c2e4fe987b563227ba51235": {
          "model_module": "@jupyter-widgets/base",
          "model_name": "LayoutModel",
          "model_module_version": "1.2.0",
          "state": {
            "_model_module": "@jupyter-widgets/base",
            "_model_module_version": "1.2.0",
            "_model_name": "LayoutModel",
            "_view_count": null,
            "_view_module": "@jupyter-widgets/base",
            "_view_module_version": "1.2.0",
            "_view_name": "LayoutView",
            "align_content": null,
            "align_items": null,
            "align_self": null,
            "border": null,
            "bottom": null,
            "display": null,
            "flex": null,
            "flex_flow": null,
            "grid_area": null,
            "grid_auto_columns": null,
            "grid_auto_flow": null,
            "grid_auto_rows": null,
            "grid_column": null,
            "grid_gap": null,
            "grid_row": null,
            "grid_template_areas": null,
            "grid_template_columns": null,
            "grid_template_rows": null,
            "height": null,
            "justify_content": null,
            "justify_items": null,
            "left": null,
            "margin": null,
            "max_height": null,
            "max_width": null,
            "min_height": null,
            "min_width": null,
            "object_fit": null,
            "object_position": null,
            "order": null,
            "overflow": null,
            "overflow_x": null,
            "overflow_y": null,
            "padding": null,
            "right": null,
            "top": null,
            "visibility": null,
            "width": null
          }
        },
        "831822744b2849ff83efd72bb6766460": {
          "model_module": "@jupyter-widgets/controls",
          "model_name": "ProgressStyleModel",
          "model_module_version": "1.5.0",
          "state": {
            "_model_module": "@jupyter-widgets/controls",
            "_model_module_version": "1.5.0",
            "_model_name": "ProgressStyleModel",
            "_view_count": null,
            "_view_module": "@jupyter-widgets/base",
            "_view_module_version": "1.2.0",
            "_view_name": "StyleView",
            "bar_color": null,
            "description_width": ""
          }
        },
        "0bc2a26451804df9961669351343cc20": {
          "model_module": "@jupyter-widgets/base",
          "model_name": "LayoutModel",
          "model_module_version": "1.2.0",
          "state": {
            "_model_module": "@jupyter-widgets/base",
            "_model_module_version": "1.2.0",
            "_model_name": "LayoutModel",
            "_view_count": null,
            "_view_module": "@jupyter-widgets/base",
            "_view_module_version": "1.2.0",
            "_view_name": "LayoutView",
            "align_content": null,
            "align_items": null,
            "align_self": null,
            "border": null,
            "bottom": null,
            "display": null,
            "flex": null,
            "flex_flow": null,
            "grid_area": null,
            "grid_auto_columns": null,
            "grid_auto_flow": null,
            "grid_auto_rows": null,
            "grid_column": null,
            "grid_gap": null,
            "grid_row": null,
            "grid_template_areas": null,
            "grid_template_columns": null,
            "grid_template_rows": null,
            "height": null,
            "justify_content": null,
            "justify_items": null,
            "left": null,
            "margin": null,
            "max_height": null,
            "max_width": null,
            "min_height": null,
            "min_width": null,
            "object_fit": null,
            "object_position": null,
            "order": null,
            "overflow": null,
            "overflow_x": null,
            "overflow_y": null,
            "padding": null,
            "right": null,
            "top": null,
            "visibility": null,
            "width": null
          }
        },
        "fb27adba4af547ec99144ee1528df10f": {
          "model_module": "@jupyter-widgets/controls",
          "model_name": "DescriptionStyleModel",
          "model_module_version": "1.5.0",
          "state": {
            "_model_module": "@jupyter-widgets/controls",
            "_model_module_version": "1.5.0",
            "_model_name": "DescriptionStyleModel",
            "_view_count": null,
            "_view_module": "@jupyter-widgets/base",
            "_view_module_version": "1.2.0",
            "_view_name": "StyleView",
            "description_width": ""
          }
        },
        "95103e539b044adeb5237e582599a00d": {
          "model_module": "@jupyter-widgets/controls",
          "model_name": "HBoxModel",
          "model_module_version": "1.5.0",
          "state": {
            "_dom_classes": [],
            "_model_module": "@jupyter-widgets/controls",
            "_model_module_version": "1.5.0",
            "_model_name": "HBoxModel",
            "_view_count": null,
            "_view_module": "@jupyter-widgets/controls",
            "_view_module_version": "1.5.0",
            "_view_name": "HBoxView",
            "box_style": "",
            "children": [
              "IPY_MODEL_caa4c4c39a2f44fb902899f3ecec9ada",
              "IPY_MODEL_a191d54c47f64544a6a74f7da860e580",
              "IPY_MODEL_2d1e5212c1f04378bef7727edf0e6fb1"
            ],
            "layout": "IPY_MODEL_f5ed4494f8ff432bb6f2230850ae6bb6"
          }
        },
        "caa4c4c39a2f44fb902899f3ecec9ada": {
          "model_module": "@jupyter-widgets/controls",
          "model_name": "HTMLModel",
          "model_module_version": "1.5.0",
          "state": {
            "_dom_classes": [],
            "_model_module": "@jupyter-widgets/controls",
            "_model_module_version": "1.5.0",
            "_model_name": "HTMLModel",
            "_view_count": null,
            "_view_module": "@jupyter-widgets/controls",
            "_view_module_version": "1.5.0",
            "_view_name": "HTMLView",
            "description": "",
            "description_tooltip": null,
            "layout": "IPY_MODEL_258fea7885b24c4cb367248510d8c726",
            "placeholder": "​",
            "style": "IPY_MODEL_bb2eb732b1c449c08f7223d8f222fffb",
            "value": "100%"
          }
        },
        "a191d54c47f64544a6a74f7da860e580": {
          "model_module": "@jupyter-widgets/controls",
          "model_name": "FloatProgressModel",
          "model_module_version": "1.5.0",
          "state": {
            "_dom_classes": [],
            "_model_module": "@jupyter-widgets/controls",
            "_model_module_version": "1.5.0",
            "_model_name": "FloatProgressModel",
            "_view_count": null,
            "_view_module": "@jupyter-widgets/controls",
            "_view_module_version": "1.5.0",
            "_view_name": "ProgressView",
            "bar_style": "success",
            "description": "",
            "description_tooltip": null,
            "layout": "IPY_MODEL_f1bd354ecc084b47a60c7a807fbcb13f",
            "max": 4542,
            "min": 0,
            "orientation": "horizontal",
            "style": "IPY_MODEL_200a6b3cddee4755a05dc919f37c5a28",
            "value": 4542
          }
        },
        "2d1e5212c1f04378bef7727edf0e6fb1": {
          "model_module": "@jupyter-widgets/controls",
          "model_name": "HTMLModel",
          "model_module_version": "1.5.0",
          "state": {
            "_dom_classes": [],
            "_model_module": "@jupyter-widgets/controls",
            "_model_module_version": "1.5.0",
            "_model_name": "HTMLModel",
            "_view_count": null,
            "_view_module": "@jupyter-widgets/controls",
            "_view_module_version": "1.5.0",
            "_view_name": "HTMLView",
            "description": "",
            "description_tooltip": null,
            "layout": "IPY_MODEL_3267fb8d280d4e93b15f980f8cebef3e",
            "placeholder": "​",
            "style": "IPY_MODEL_9768ece85fbc45fb90899bd1fddff93d",
            "value": " 4542/4542 [00:00&lt;00:00, 69300.61it/s]"
          }
        },
        "f5ed4494f8ff432bb6f2230850ae6bb6": {
          "model_module": "@jupyter-widgets/base",
          "model_name": "LayoutModel",
          "model_module_version": "1.2.0",
          "state": {
            "_model_module": "@jupyter-widgets/base",
            "_model_module_version": "1.2.0",
            "_model_name": "LayoutModel",
            "_view_count": null,
            "_view_module": "@jupyter-widgets/base",
            "_view_module_version": "1.2.0",
            "_view_name": "LayoutView",
            "align_content": null,
            "align_items": null,
            "align_self": null,
            "border": null,
            "bottom": null,
            "display": null,
            "flex": null,
            "flex_flow": null,
            "grid_area": null,
            "grid_auto_columns": null,
            "grid_auto_flow": null,
            "grid_auto_rows": null,
            "grid_column": null,
            "grid_gap": null,
            "grid_row": null,
            "grid_template_areas": null,
            "grid_template_columns": null,
            "grid_template_rows": null,
            "height": null,
            "justify_content": null,
            "justify_items": null,
            "left": null,
            "margin": null,
            "max_height": null,
            "max_width": null,
            "min_height": null,
            "min_width": null,
            "object_fit": null,
            "object_position": null,
            "order": null,
            "overflow": null,
            "overflow_x": null,
            "overflow_y": null,
            "padding": null,
            "right": null,
            "top": null,
            "visibility": null,
            "width": null
          }
        },
        "258fea7885b24c4cb367248510d8c726": {
          "model_module": "@jupyter-widgets/base",
          "model_name": "LayoutModel",
          "model_module_version": "1.2.0",
          "state": {
            "_model_module": "@jupyter-widgets/base",
            "_model_module_version": "1.2.0",
            "_model_name": "LayoutModel",
            "_view_count": null,
            "_view_module": "@jupyter-widgets/base",
            "_view_module_version": "1.2.0",
            "_view_name": "LayoutView",
            "align_content": null,
            "align_items": null,
            "align_self": null,
            "border": null,
            "bottom": null,
            "display": null,
            "flex": null,
            "flex_flow": null,
            "grid_area": null,
            "grid_auto_columns": null,
            "grid_auto_flow": null,
            "grid_auto_rows": null,
            "grid_column": null,
            "grid_gap": null,
            "grid_row": null,
            "grid_template_areas": null,
            "grid_template_columns": null,
            "grid_template_rows": null,
            "height": null,
            "justify_content": null,
            "justify_items": null,
            "left": null,
            "margin": null,
            "max_height": null,
            "max_width": null,
            "min_height": null,
            "min_width": null,
            "object_fit": null,
            "object_position": null,
            "order": null,
            "overflow": null,
            "overflow_x": null,
            "overflow_y": null,
            "padding": null,
            "right": null,
            "top": null,
            "visibility": null,
            "width": null
          }
        },
        "bb2eb732b1c449c08f7223d8f222fffb": {
          "model_module": "@jupyter-widgets/controls",
          "model_name": "DescriptionStyleModel",
          "model_module_version": "1.5.0",
          "state": {
            "_model_module": "@jupyter-widgets/controls",
            "_model_module_version": "1.5.0",
            "_model_name": "DescriptionStyleModel",
            "_view_count": null,
            "_view_module": "@jupyter-widgets/base",
            "_view_module_version": "1.2.0",
            "_view_name": "StyleView",
            "description_width": ""
          }
        },
        "f1bd354ecc084b47a60c7a807fbcb13f": {
          "model_module": "@jupyter-widgets/base",
          "model_name": "LayoutModel",
          "model_module_version": "1.2.0",
          "state": {
            "_model_module": "@jupyter-widgets/base",
            "_model_module_version": "1.2.0",
            "_model_name": "LayoutModel",
            "_view_count": null,
            "_view_module": "@jupyter-widgets/base",
            "_view_module_version": "1.2.0",
            "_view_name": "LayoutView",
            "align_content": null,
            "align_items": null,
            "align_self": null,
            "border": null,
            "bottom": null,
            "display": null,
            "flex": null,
            "flex_flow": null,
            "grid_area": null,
            "grid_auto_columns": null,
            "grid_auto_flow": null,
            "grid_auto_rows": null,
            "grid_column": null,
            "grid_gap": null,
            "grid_row": null,
            "grid_template_areas": null,
            "grid_template_columns": null,
            "grid_template_rows": null,
            "height": null,
            "justify_content": null,
            "justify_items": null,
            "left": null,
            "margin": null,
            "max_height": null,
            "max_width": null,
            "min_height": null,
            "min_width": null,
            "object_fit": null,
            "object_position": null,
            "order": null,
            "overflow": null,
            "overflow_x": null,
            "overflow_y": null,
            "padding": null,
            "right": null,
            "top": null,
            "visibility": null,
            "width": null
          }
        },
        "200a6b3cddee4755a05dc919f37c5a28": {
          "model_module": "@jupyter-widgets/controls",
          "model_name": "ProgressStyleModel",
          "model_module_version": "1.5.0",
          "state": {
            "_model_module": "@jupyter-widgets/controls",
            "_model_module_version": "1.5.0",
            "_model_name": "ProgressStyleModel",
            "_view_count": null,
            "_view_module": "@jupyter-widgets/base",
            "_view_module_version": "1.2.0",
            "_view_name": "StyleView",
            "bar_color": null,
            "description_width": ""
          }
        },
        "3267fb8d280d4e93b15f980f8cebef3e": {
          "model_module": "@jupyter-widgets/base",
          "model_name": "LayoutModel",
          "model_module_version": "1.2.0",
          "state": {
            "_model_module": "@jupyter-widgets/base",
            "_model_module_version": "1.2.0",
            "_model_name": "LayoutModel",
            "_view_count": null,
            "_view_module": "@jupyter-widgets/base",
            "_view_module_version": "1.2.0",
            "_view_name": "LayoutView",
            "align_content": null,
            "align_items": null,
            "align_self": null,
            "border": null,
            "bottom": null,
            "display": null,
            "flex": null,
            "flex_flow": null,
            "grid_area": null,
            "grid_auto_columns": null,
            "grid_auto_flow": null,
            "grid_auto_rows": null,
            "grid_column": null,
            "grid_gap": null,
            "grid_row": null,
            "grid_template_areas": null,
            "grid_template_columns": null,
            "grid_template_rows": null,
            "height": null,
            "justify_content": null,
            "justify_items": null,
            "left": null,
            "margin": null,
            "max_height": null,
            "max_width": null,
            "min_height": null,
            "min_width": null,
            "object_fit": null,
            "object_position": null,
            "order": null,
            "overflow": null,
            "overflow_x": null,
            "overflow_y": null,
            "padding": null,
            "right": null,
            "top": null,
            "visibility": null,
            "width": null
          }
        },
        "9768ece85fbc45fb90899bd1fddff93d": {
          "model_module": "@jupyter-widgets/controls",
          "model_name": "DescriptionStyleModel",
          "model_module_version": "1.5.0",
          "state": {
            "_model_module": "@jupyter-widgets/controls",
            "_model_module_version": "1.5.0",
            "_model_name": "DescriptionStyleModel",
            "_view_count": null,
            "_view_module": "@jupyter-widgets/base",
            "_view_module_version": "1.2.0",
            "_view_name": "StyleView",
            "description_width": ""
          }
        }
      }
    }
  },
  "nbformat": 4,
  "nbformat_minor": 5
}