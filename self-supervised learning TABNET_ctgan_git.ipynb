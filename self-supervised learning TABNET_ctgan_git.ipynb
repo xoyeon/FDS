{
 "cells": [
  {
   "cell_type": "markdown",
   "id": "beaa3c29",
   "metadata": {},
   "source": [
    "- https://medium.com/@vanillaxiangshuyang/self-supervised-learning-on-tabular-data-with-tabnet-544b3ec85cee\n",
    "- https://colab.research.google.com/drive/1P8Obe07DP3VeOld08ThyT1HnChLip_LO#scrollTo=gvy9vUUNOP0W\n",
    "\n",
    "- https://www.kaggle.com/code/sisharaneranjana/semi-supervised-pre-training-with-tabnet#%F0%9F%94%8FDescription-of-the-dataset-\n",
    "- https://dacon.io/en/codeshare/3837"
   ]
  },
  {
   "cell_type": "code",
   "execution_count": 1,
   "id": "133d6436",
   "metadata": {},
   "outputs": [],
   "source": [
    "import pandas as pd\n",
    "import numpy as np\n",
    "import pickle\n",
    "\n",
    "from matplotlib import pyplot as plt\n",
    "%matplotlib inline\n",
    "\n",
    "import warnings\n",
    "warnings.simplefilter(action='ignore')"
   ]
  },
  {
   "cell_type": "markdown",
   "id": "77893c77",
   "metadata": {},
   "source": [
    "# 전처리 된 데이터 불러오기"
   ]
  },
  {
   "cell_type": "code",
   "execution_count": 2,
   "id": "09afb566",
   "metadata": {},
   "outputs": [],
   "source": [
    "with open(\"./dataset/creditcard.pkl\",\"rb\") as file:\n",
    "    data = pickle.load(file)"
   ]
  },
  {
   "cell_type": "code",
   "execution_count": 3,
   "id": "b17a9bd5",
   "metadata": {},
   "outputs": [
    {
     "data": {
      "text/html": [
       "<div>\n",
       "<style scoped>\n",
       "    .dataframe tbody tr th:only-of-type {\n",
       "        vertical-align: middle;\n",
       "    }\n",
       "\n",
       "    .dataframe tbody tr th {\n",
       "        vertical-align: top;\n",
       "    }\n",
       "\n",
       "    .dataframe thead th {\n",
       "        text-align: right;\n",
       "    }\n",
       "</style>\n",
       "<table border=\"1\" class=\"dataframe\">\n",
       "  <thead>\n",
       "    <tr style=\"text-align: right;\">\n",
       "      <th></th>\n",
       "      <th>Time</th>\n",
       "      <th>V1</th>\n",
       "      <th>V2</th>\n",
       "      <th>V3</th>\n",
       "      <th>V4</th>\n",
       "      <th>V5</th>\n",
       "      <th>V6</th>\n",
       "      <th>V7</th>\n",
       "      <th>V8</th>\n",
       "      <th>V9</th>\n",
       "      <th>...</th>\n",
       "      <th>V21</th>\n",
       "      <th>V22</th>\n",
       "      <th>V23</th>\n",
       "      <th>V24</th>\n",
       "      <th>V25</th>\n",
       "      <th>V26</th>\n",
       "      <th>V27</th>\n",
       "      <th>V28</th>\n",
       "      <th>Amount</th>\n",
       "      <th>Class</th>\n",
       "    </tr>\n",
       "  </thead>\n",
       "  <tbody>\n",
       "    <tr>\n",
       "      <th>0</th>\n",
       "      <td>0.0</td>\n",
       "      <td>-1.359807</td>\n",
       "      <td>-0.072781</td>\n",
       "      <td>2.536347</td>\n",
       "      <td>1.378155</td>\n",
       "      <td>-0.338321</td>\n",
       "      <td>0.462388</td>\n",
       "      <td>0.239599</td>\n",
       "      <td>0.098698</td>\n",
       "      <td>0.363787</td>\n",
       "      <td>...</td>\n",
       "      <td>-0.018307</td>\n",
       "      <td>0.277838</td>\n",
       "      <td>-0.110474</td>\n",
       "      <td>0.066928</td>\n",
       "      <td>0.128539</td>\n",
       "      <td>-0.189115</td>\n",
       "      <td>0.133558</td>\n",
       "      <td>-0.021053</td>\n",
       "      <td>149.62</td>\n",
       "      <td>0</td>\n",
       "    </tr>\n",
       "    <tr>\n",
       "      <th>1</th>\n",
       "      <td>0.0</td>\n",
       "      <td>1.191857</td>\n",
       "      <td>0.266151</td>\n",
       "      <td>0.166480</td>\n",
       "      <td>0.448154</td>\n",
       "      <td>0.060018</td>\n",
       "      <td>-0.082361</td>\n",
       "      <td>-0.078803</td>\n",
       "      <td>0.085102</td>\n",
       "      <td>-0.255425</td>\n",
       "      <td>...</td>\n",
       "      <td>-0.225775</td>\n",
       "      <td>-0.638672</td>\n",
       "      <td>0.101288</td>\n",
       "      <td>-0.339846</td>\n",
       "      <td>0.167170</td>\n",
       "      <td>0.125895</td>\n",
       "      <td>-0.008983</td>\n",
       "      <td>0.014724</td>\n",
       "      <td>2.69</td>\n",
       "      <td>0</td>\n",
       "    </tr>\n",
       "    <tr>\n",
       "      <th>2</th>\n",
       "      <td>1.0</td>\n",
       "      <td>-1.358354</td>\n",
       "      <td>-1.340163</td>\n",
       "      <td>1.773209</td>\n",
       "      <td>0.379780</td>\n",
       "      <td>-0.503198</td>\n",
       "      <td>1.800499</td>\n",
       "      <td>0.791461</td>\n",
       "      <td>0.247676</td>\n",
       "      <td>-1.514654</td>\n",
       "      <td>...</td>\n",
       "      <td>0.247998</td>\n",
       "      <td>0.771679</td>\n",
       "      <td>0.909412</td>\n",
       "      <td>-0.689281</td>\n",
       "      <td>-0.327642</td>\n",
       "      <td>-0.139097</td>\n",
       "      <td>-0.055353</td>\n",
       "      <td>-0.059752</td>\n",
       "      <td>378.66</td>\n",
       "      <td>0</td>\n",
       "    </tr>\n",
       "    <tr>\n",
       "      <th>3</th>\n",
       "      <td>1.0</td>\n",
       "      <td>-0.966272</td>\n",
       "      <td>-0.185226</td>\n",
       "      <td>1.792993</td>\n",
       "      <td>-0.863291</td>\n",
       "      <td>-0.010309</td>\n",
       "      <td>1.247203</td>\n",
       "      <td>0.237609</td>\n",
       "      <td>0.377436</td>\n",
       "      <td>-1.387024</td>\n",
       "      <td>...</td>\n",
       "      <td>-0.108300</td>\n",
       "      <td>0.005274</td>\n",
       "      <td>-0.190321</td>\n",
       "      <td>-1.175575</td>\n",
       "      <td>0.647376</td>\n",
       "      <td>-0.221929</td>\n",
       "      <td>0.062723</td>\n",
       "      <td>0.061458</td>\n",
       "      <td>123.50</td>\n",
       "      <td>0</td>\n",
       "    </tr>\n",
       "    <tr>\n",
       "      <th>4</th>\n",
       "      <td>2.0</td>\n",
       "      <td>-1.158233</td>\n",
       "      <td>0.877737</td>\n",
       "      <td>1.548718</td>\n",
       "      <td>0.403034</td>\n",
       "      <td>-0.407193</td>\n",
       "      <td>0.095921</td>\n",
       "      <td>0.592941</td>\n",
       "      <td>-0.270533</td>\n",
       "      <td>0.817739</td>\n",
       "      <td>...</td>\n",
       "      <td>-0.009431</td>\n",
       "      <td>0.798278</td>\n",
       "      <td>-0.137458</td>\n",
       "      <td>0.141267</td>\n",
       "      <td>-0.206010</td>\n",
       "      <td>0.502292</td>\n",
       "      <td>0.219422</td>\n",
       "      <td>0.215153</td>\n",
       "      <td>69.99</td>\n",
       "      <td>0</td>\n",
       "    </tr>\n",
       "  </tbody>\n",
       "</table>\n",
       "<p>5 rows × 31 columns</p>\n",
       "</div>"
      ],
      "text/plain": [
       "   Time        V1        V2        V3        V4        V5        V6        V7  \\\n",
       "0   0.0 -1.359807 -0.072781  2.536347  1.378155 -0.338321  0.462388  0.239599   \n",
       "1   0.0  1.191857  0.266151  0.166480  0.448154  0.060018 -0.082361 -0.078803   \n",
       "2   1.0 -1.358354 -1.340163  1.773209  0.379780 -0.503198  1.800499  0.791461   \n",
       "3   1.0 -0.966272 -0.185226  1.792993 -0.863291 -0.010309  1.247203  0.237609   \n",
       "4   2.0 -1.158233  0.877737  1.548718  0.403034 -0.407193  0.095921  0.592941   \n",
       "\n",
       "         V8        V9  ...       V21       V22       V23       V24       V25  \\\n",
       "0  0.098698  0.363787  ... -0.018307  0.277838 -0.110474  0.066928  0.128539   \n",
       "1  0.085102 -0.255425  ... -0.225775 -0.638672  0.101288 -0.339846  0.167170   \n",
       "2  0.247676 -1.514654  ...  0.247998  0.771679  0.909412 -0.689281 -0.327642   \n",
       "3  0.377436 -1.387024  ... -0.108300  0.005274 -0.190321 -1.175575  0.647376   \n",
       "4 -0.270533  0.817739  ... -0.009431  0.798278 -0.137458  0.141267 -0.206010   \n",
       "\n",
       "        V26       V27       V28  Amount  Class  \n",
       "0 -0.189115  0.133558 -0.021053  149.62      0  \n",
       "1  0.125895 -0.008983  0.014724    2.69      0  \n",
       "2 -0.139097 -0.055353 -0.059752  378.66      0  \n",
       "3 -0.221929  0.062723  0.061458  123.50      0  \n",
       "4  0.502292  0.219422  0.215153   69.99      0  \n",
       "\n",
       "[5 rows x 31 columns]"
      ]
     },
     "execution_count": 3,
     "metadata": {},
     "output_type": "execute_result"
    }
   ],
   "source": [
    "df = data.copy()\n",
    "df.head()"
   ]
  },
  {
   "cell_type": "code",
   "execution_count": 4,
   "id": "0a34e904",
   "metadata": {},
   "outputs": [
    {
     "data": {
      "text/html": [
       "<div>\n",
       "<style scoped>\n",
       "    .dataframe tbody tr th:only-of-type {\n",
       "        vertical-align: middle;\n",
       "    }\n",
       "\n",
       "    .dataframe tbody tr th {\n",
       "        vertical-align: top;\n",
       "    }\n",
       "\n",
       "    .dataframe thead th {\n",
       "        text-align: right;\n",
       "    }\n",
       "</style>\n",
       "<table border=\"1\" class=\"dataframe\">\n",
       "  <thead>\n",
       "    <tr style=\"text-align: right;\">\n",
       "      <th></th>\n",
       "      <th>Time</th>\n",
       "      <th>V1</th>\n",
       "      <th>V2</th>\n",
       "      <th>V3</th>\n",
       "      <th>V4</th>\n",
       "      <th>V5</th>\n",
       "      <th>V6</th>\n",
       "      <th>V7</th>\n",
       "      <th>V8</th>\n",
       "      <th>V9</th>\n",
       "      <th>...</th>\n",
       "      <th>V21</th>\n",
       "      <th>V22</th>\n",
       "      <th>V23</th>\n",
       "      <th>V24</th>\n",
       "      <th>V25</th>\n",
       "      <th>V26</th>\n",
       "      <th>V27</th>\n",
       "      <th>V28</th>\n",
       "      <th>Class</th>\n",
       "      <th>Amount</th>\n",
       "    </tr>\n",
       "  </thead>\n",
       "  <tbody>\n",
       "    <tr>\n",
       "      <th>0</th>\n",
       "      <td>0.000000</td>\n",
       "      <td>-1.359807</td>\n",
       "      <td>-0.072781</td>\n",
       "      <td>2.536347</td>\n",
       "      <td>1.378155</td>\n",
       "      <td>-0.338321</td>\n",
       "      <td>0.462388</td>\n",
       "      <td>0.239599</td>\n",
       "      <td>0.098698</td>\n",
       "      <td>0.363787</td>\n",
       "      <td>...</td>\n",
       "      <td>-0.018307</td>\n",
       "      <td>0.277838</td>\n",
       "      <td>-0.110474</td>\n",
       "      <td>0.066928</td>\n",
       "      <td>0.128539</td>\n",
       "      <td>-0.189115</td>\n",
       "      <td>0.133558</td>\n",
       "      <td>-0.021053</td>\n",
       "      <td>0</td>\n",
       "      <td>5.008105</td>\n",
       "    </tr>\n",
       "    <tr>\n",
       "      <th>1</th>\n",
       "      <td>0.000000</td>\n",
       "      <td>1.191857</td>\n",
       "      <td>0.266151</td>\n",
       "      <td>0.166480</td>\n",
       "      <td>0.448154</td>\n",
       "      <td>0.060018</td>\n",
       "      <td>-0.082361</td>\n",
       "      <td>-0.078803</td>\n",
       "      <td>0.085102</td>\n",
       "      <td>-0.255425</td>\n",
       "      <td>...</td>\n",
       "      <td>-0.225775</td>\n",
       "      <td>-0.638672</td>\n",
       "      <td>0.101288</td>\n",
       "      <td>-0.339846</td>\n",
       "      <td>0.167170</td>\n",
       "      <td>0.125895</td>\n",
       "      <td>-0.008983</td>\n",
       "      <td>0.014724</td>\n",
       "      <td>0</td>\n",
       "      <td>0.989913</td>\n",
       "    </tr>\n",
       "    <tr>\n",
       "      <th>2</th>\n",
       "      <td>0.000278</td>\n",
       "      <td>-1.358354</td>\n",
       "      <td>-1.340163</td>\n",
       "      <td>1.773209</td>\n",
       "      <td>0.379780</td>\n",
       "      <td>-0.503198</td>\n",
       "      <td>1.800499</td>\n",
       "      <td>0.791461</td>\n",
       "      <td>0.247676</td>\n",
       "      <td>-1.514654</td>\n",
       "      <td>...</td>\n",
       "      <td>0.247998</td>\n",
       "      <td>0.771679</td>\n",
       "      <td>0.909412</td>\n",
       "      <td>-0.689281</td>\n",
       "      <td>-0.327642</td>\n",
       "      <td>-0.139097</td>\n",
       "      <td>-0.055353</td>\n",
       "      <td>-0.059752</td>\n",
       "      <td>0</td>\n",
       "      <td>5.936641</td>\n",
       "    </tr>\n",
       "    <tr>\n",
       "      <th>3</th>\n",
       "      <td>0.000278</td>\n",
       "      <td>-0.966272</td>\n",
       "      <td>-0.185226</td>\n",
       "      <td>1.792993</td>\n",
       "      <td>-0.863291</td>\n",
       "      <td>-0.010309</td>\n",
       "      <td>1.247203</td>\n",
       "      <td>0.237609</td>\n",
       "      <td>0.377436</td>\n",
       "      <td>-1.387024</td>\n",
       "      <td>...</td>\n",
       "      <td>-0.108300</td>\n",
       "      <td>0.005274</td>\n",
       "      <td>-0.190321</td>\n",
       "      <td>-1.175575</td>\n",
       "      <td>0.647376</td>\n",
       "      <td>-0.221929</td>\n",
       "      <td>0.062723</td>\n",
       "      <td>0.061458</td>\n",
       "      <td>0</td>\n",
       "      <td>4.816249</td>\n",
       "    </tr>\n",
       "    <tr>\n",
       "      <th>4</th>\n",
       "      <td>0.000556</td>\n",
       "      <td>-1.158233</td>\n",
       "      <td>0.877737</td>\n",
       "      <td>1.548718</td>\n",
       "      <td>0.403034</td>\n",
       "      <td>-0.407193</td>\n",
       "      <td>0.095921</td>\n",
       "      <td>0.592941</td>\n",
       "      <td>-0.270533</td>\n",
       "      <td>0.817739</td>\n",
       "      <td>...</td>\n",
       "      <td>-0.009431</td>\n",
       "      <td>0.798278</td>\n",
       "      <td>-0.137458</td>\n",
       "      <td>0.141267</td>\n",
       "      <td>-0.206010</td>\n",
       "      <td>0.502292</td>\n",
       "      <td>0.219422</td>\n",
       "      <td>0.215153</td>\n",
       "      <td>0</td>\n",
       "      <td>4.248367</td>\n",
       "    </tr>\n",
       "  </tbody>\n",
       "</table>\n",
       "<p>5 rows × 31 columns</p>\n",
       "</div>"
      ],
      "text/plain": [
       "       Time        V1        V2        V3        V4        V5        V6  \\\n",
       "0  0.000000 -1.359807 -0.072781  2.536347  1.378155 -0.338321  0.462388   \n",
       "1  0.000000  1.191857  0.266151  0.166480  0.448154  0.060018 -0.082361   \n",
       "2  0.000278 -1.358354 -1.340163  1.773209  0.379780 -0.503198  1.800499   \n",
       "3  0.000278 -0.966272 -0.185226  1.792993 -0.863291 -0.010309  1.247203   \n",
       "4  0.000556 -1.158233  0.877737  1.548718  0.403034 -0.407193  0.095921   \n",
       "\n",
       "         V7        V8        V9  ...       V21       V22       V23       V24  \\\n",
       "0  0.239599  0.098698  0.363787  ... -0.018307  0.277838 -0.110474  0.066928   \n",
       "1 -0.078803  0.085102 -0.255425  ... -0.225775 -0.638672  0.101288 -0.339846   \n",
       "2  0.791461  0.247676 -1.514654  ...  0.247998  0.771679  0.909412 -0.689281   \n",
       "3  0.237609  0.377436 -1.387024  ... -0.108300  0.005274 -0.190321 -1.175575   \n",
       "4  0.592941 -0.270533  0.817739  ... -0.009431  0.798278 -0.137458  0.141267   \n",
       "\n",
       "        V25       V26       V27       V28  Class    Amount  \n",
       "0  0.128539 -0.189115  0.133558 -0.021053      0  5.008105  \n",
       "1  0.167170  0.125895 -0.008983  0.014724      0  0.989913  \n",
       "2 -0.327642 -0.139097 -0.055353 -0.059752      0  5.936641  \n",
       "3  0.647376 -0.221929  0.062723  0.061458      0  4.816249  \n",
       "4 -0.206010  0.502292  0.219422  0.215153      0  4.248367  \n",
       "\n",
       "[5 rows x 31 columns]"
      ]
     },
     "execution_count": 4,
     "metadata": {},
     "output_type": "execute_result"
    }
   ],
   "source": [
    "# 데이터 전처리\n",
    "# Time 을 일중 시간으로 변환\n",
    "df.loc[:, \"Time\"] = df.loc[:, \"Time\"].apply(lambda x : x / 3600 % 24)\n",
    "\n",
    "# Amount column 은 편차가 크므로 log-scale 로 변환\n",
    "eps=0.001\n",
    "df['Amount'] = np.log(df.pop('Amount') + eps)\n",
    "\n",
    "df.head()"
   ]
  },
  {
   "cell_type": "markdown",
   "id": "bdaacba4",
   "metadata": {},
   "source": [
    "# train_test_split"
   ]
  },
  {
   "cell_type": "code",
   "execution_count": 5,
   "id": "55434ea7",
   "metadata": {},
   "outputs": [],
   "source": [
    "from sklearn.model_selection import train_test_split"
   ]
  },
  {
   "cell_type": "code",
   "execution_count": 6,
   "id": "4f0340ab",
   "metadata": {},
   "outputs": [],
   "source": [
    "features = df.values\n",
    "labels = np.array(df.pop('Class'))"
   ]
  },
  {
   "cell_type": "code",
   "execution_count": 7,
   "id": "b0af8321",
   "metadata": {},
   "outputs": [
    {
     "name": "stdout",
     "output_type": "stream",
     "text": [
      "X train shape:  (139554, 31)\n",
      "Y train shape:  (139554,)\n",
      "===============\n",
      "X validation shape:  (59810, 31)\n",
      "y validation shape:  (59810,)\n",
      "===============\n",
      "X test shape:  (85443, 31)\n",
      "Y test shape:  (85443,)\n"
     ]
    }
   ],
   "source": [
    "X_train, X_test, y_train, y_test = train_test_split(features, labels, test_size=0.3, random_state=0, stratify=labels)\n",
    "X_train, X_val, y_train, y_val = train_test_split(X_train, y_train, test_size=0.3, random_state=0)\n",
    "\n",
    "print(\"X train shape: \", X_train.shape)\n",
    "print(\"Y train shape: \", y_train.shape)\n",
    "print(\"===============\")\n",
    "print(\"X validation shape: \", X_val.shape)\n",
    "print(\"y validation shape: \", y_val.shape)\n",
    "print(\"===============\")\n",
    "print(\"X test shape: \", X_test.shape)\n",
    "print(\"Y test shape: \", y_test.shape)"
   ]
  },
  {
   "cell_type": "code",
   "execution_count": 8,
   "id": "bac72bef",
   "metadata": {},
   "outputs": [],
   "source": [
    "from sklearn.preprocessing import StandardScaler\n",
    "\n",
    "sc = StandardScaler()\n",
    "X_train = sc.fit_transform(X_train)\n",
    "X_test = sc.transform(X_test)\n",
    "X_val= sc.transform(X_val)"
   ]
  },
  {
   "cell_type": "markdown",
   "id": "6af6520d",
   "metadata": {},
   "source": [
    "# Network parameters"
   ]
  },
  {
   "cell_type": "markdown",
   "id": "48ac5bab",
   "metadata": {},
   "source": [
    "- https://github.com/dreamquark-ai/tabnet\n",
    "- https://github.com/dreamquark-ai/tabnet/blob/develop/pretraining_example.ipynb"
   ]
  },
  {
   "cell_type": "code",
   "execution_count": 9,
   "id": "629eb55b",
   "metadata": {},
   "outputs": [],
   "source": [
    "import torch\n",
    "from pytorch_tabnet.pretraining import TabNetPretrainer\n",
    "from pytorch_tabnet.tab_model import TabNetClassifier"
   ]
  },
  {
   "cell_type": "code",
   "execution_count": 10,
   "id": "f5671fc5",
   "metadata": {},
   "outputs": [],
   "source": [
    "# TabNetPretrainer\n",
    "unsupervised_model = TabNetPretrainer(\n",
    "#     cat_idxs=cat_idxs,\n",
    "#     cat_dims=cat_dims,\n",
    "    cat_emb_dim=3,\n",
    "    optimizer_fn=torch.optim.Adam,\n",
    "    optimizer_params=dict(lr=2e-2),\n",
    "    mask_type='entmax', # \"sparsemax\",\n",
    "    n_shared_decoder=1, # nb shared glu for decoding\n",
    "    n_indep_decoder=1, # nb independent glu for decoding\n",
    "#     grouped_features=[[0, 1]], # you can group features together here\n",
    "    verbose=5,\n",
    ")"
   ]
  },
  {
   "cell_type": "markdown",
   "id": "8185666f",
   "metadata": {},
   "source": [
    "# Self Supervised Training"
   ]
  },
  {
   "cell_type": "code",
   "execution_count": 11,
   "id": "f9ed2b30",
   "metadata": {},
   "outputs": [],
   "source": [
    "max_epochs = 100"
   ]
  },
  {
   "cell_type": "code",
   "execution_count": 12,
   "id": "c7a0c8e5",
   "metadata": {},
   "outputs": [
    {
     "name": "stdout",
     "output_type": "stream",
     "text": [
      "epoch 0  | loss: 1.31121 | val_0_unsup_loss_numpy: 0.9990599751472473|  0:00:09s\n",
      "epoch 5  | loss: 0.9533  | val_0_unsup_loss_numpy: 0.9183300137519836|  0:01:00s\n",
      "epoch 10 | loss: 0.91548 | val_0_unsup_loss_numpy: 0.9472500085830688|  0:01:45s\n",
      "\n",
      "Early stopping occurred at epoch 10 with best_epoch = 5 and best_val_0_unsup_loss_numpy = 0.9183300137519836\n"
     ]
    }
   ],
   "source": [
    "unsupervised_model.fit(\n",
    "    X_train=X_train,\n",
    "    eval_set=[X_val],\n",
    "    max_epochs=max_epochs , patience=5,\n",
    "    batch_size=2048, virtual_batch_size=128,\n",
    "    num_workers=0,\n",
    "    drop_last=False,\n",
    "    pretraining_ratio=0.5,\n",
    ")"
   ]
  },
  {
   "cell_type": "code",
   "execution_count": 13,
   "id": "99ea7777",
   "metadata": {},
   "outputs": [],
   "source": [
    "# Make reconstruction from a dataset\n",
    "reconstructed_X, embedded_X = unsupervised_model.predict(X_val)\n",
    "assert(reconstructed_X.shape==embedded_X.shape)"
   ]
  },
  {
   "cell_type": "code",
   "execution_count": 14,
   "id": "a97337ca",
   "metadata": {},
   "outputs": [],
   "source": [
    "unsupervised_explain_matrix, unsupervised_masks = unsupervised_model.explain(X_val)"
   ]
  },
  {
   "cell_type": "code",
   "execution_count": 15,
   "id": "dee164a9",
   "metadata": {},
   "outputs": [
    {
     "data": {
      "image/png": "[encoded data removed]",
      "text/plain": [
       "<Figure size 2000x2000 with 3 Axes>"
      ]
     },
     "metadata": {},
     "output_type": "display_data"
    }
   ],
   "source": [
    "fig, axs = plt.subplots(1, 3, figsize=(20,20))\n",
    "\n",
    "for i in range(3):\n",
    "    axs[i].imshow(unsupervised_masks[i][:50])\n",
    "    axs[i].set_title(f\"mask {i}\")"
   ]
  },
  {
   "cell_type": "markdown",
   "id": "393411df",
   "metadata": {},
   "source": [
    "# Save and load the same way as other TabNet models"
   ]
  },
  {
   "cell_type": "code",
   "execution_count": 16,
   "id": "f247a25d",
   "metadata": {},
   "outputs": [
    {
     "name": "stdout",
     "output_type": "stream",
     "text": [
      "Successfully saved model at ./test_pretrain.zip\n"
     ]
    }
   ],
   "source": [
    "unsupervised_model.save_model('./test_pretrain')\n",
    "loaded_pretrain = TabNetPretrainer()\n",
    "loaded_pretrain.load_model('./test_pretrain.zip')"
   ]
  },
  {
   "cell_type": "markdown",
   "id": "cfa76762",
   "metadata": {},
   "source": [
    "# Training"
   ]
  },
  {
   "cell_type": "code",
   "execution_count": 17,
   "id": "0b1f9be8",
   "metadata": {},
   "outputs": [],
   "source": [
    "clf = TabNetClassifier(optimizer_fn=torch.optim.Adam,\n",
    "                       optimizer_params=dict(lr=2e-3),\n",
    "                       scheduler_params={\"step_size\":10, # how to use learning rate scheduler\n",
    "                                         \"gamma\":0.9},\n",
    "                       scheduler_fn=torch.optim.lr_scheduler.StepLR,\n",
    "                       mask_type='sparsemax', # This will be overwritten if using pretrain model\n",
    "                       verbose=5,\n",
    "                      )"
   ]
  },
  {
   "cell_type": "code",
   "execution_count": 18,
   "id": "d74730e5",
   "metadata": {},
   "outputs": [],
   "source": [
    "from pytorch_tabnet.metrics import Metric\n",
    "from sklearn.metrics import f1_score\n",
    "\n",
    "class F1_Score(Metric):\n",
    "    def __init__(self):\n",
    "        self._name = \"f1\"\n",
    "        self._maximize = True\n",
    "\n",
    "    def __call__(self, y_true, y_score):\n",
    "        score = f1_score(y_true, (y_score[:, 1]>0.5)*1)\n",
    "        return score"
   ]
  },
  {
   "cell_type": "code",
   "execution_count": 19,
   "id": "35d0835b",
   "metadata": {},
   "outputs": [
    {
     "name": "stdout",
     "output_type": "stream",
     "text": [
      "epoch 0  | loss: 0.37583 | train_logloss: 0.2617  | train_f1: 0.04098 | valid_logloss: 0.26201 | valid_f1: 0.04219 |  0:00:12s\n",
      "epoch 5  | loss: 0.00322 | train_logloss: 0.00231 | train_f1: 0.88847 | valid_logloss: 0.00248 | valid_f1: 0.87705 |  0:01:17s\n",
      "epoch 10 | loss: 0.00164 | train_logloss: 0.00115 | train_f1: 0.94567 | valid_logloss: 0.00142 | valid_f1: 0.94737 |  0:02:25s\n",
      "epoch 15 | loss: 0.00114 | train_logloss: 0.00091 | train_f1: 0.95335 | valid_logloss: 0.00104 | valid_f1: 0.95575 |  0:03:31s\n",
      "epoch 20 | loss: 0.00085 | train_logloss: 0.00055 | train_f1: 0.96311 | valid_logloss: 0.00091 | valid_f1: 0.97321 |  0:04:34s\n",
      "epoch 25 | loss: 0.00071 | train_logloss: 0.00051 | train_f1: 0.96907 | valid_logloss: 0.00085 | valid_f1: 0.97321 |  0:05:36s\n",
      "epoch 30 | loss: 0.00056 | train_logloss: 0.00051 | train_f1: 0.97917 | valid_logloss: 0.00123 | valid_f1: 0.97321 |  0:06:38s\n",
      "epoch 35 | loss: 0.00046 | train_logloss: 0.0003  | train_f1: 0.97917 | valid_logloss: 0.00071 | valid_f1: 0.97321 |  0:07:41s\n",
      "epoch 40 | loss: 0.0003  | train_logloss: 6e-05   | train_f1: 0.99576 | valid_logloss: 0.00024 | valid_f1: 0.99091 |  0:08:48s\n",
      "epoch 45 | loss: 0.00021 | train_logloss: 0.0     | train_f1: 1.0     | valid_logloss: 0.0     | valid_f1: 1.0     |  0:09:51s\n",
      "epoch 50 | loss: 0.00014 | train_logloss: 9e-05   | train_f1: 0.99788 | valid_logloss: 0.0     | valid_f1: 1.0     |  0:10:57s\n",
      "epoch 55 | loss: 0.00011 | train_logloss: 8e-05   | train_f1: 0.99788 | valid_logloss: 0.0     | valid_f1: 1.0     |  0:12:03s\n",
      "epoch 60 | loss: 9e-05   | train_logloss: 6e-05   | train_f1: 0.99788 | valid_logloss: 0.0     | valid_f1: 1.0     |  0:13:13s\n",
      "\n",
      "Early stopping occurred at epoch 64 with best_epoch = 44 and best_valid_f1 = 1.0\n"
     ]
    }
   ],
   "source": [
    "clf.fit(\n",
    "    X_train=X_train, y_train=y_train,\n",
    "    eval_set=[(X_train, y_train), (X_val, y_val)],\n",
    "    eval_name=['train', 'valid'],\n",
    "    eval_metric=['logloss','f1'],\n",
    "    max_epochs=max_epochs , patience=20,\n",
    "    batch_size=1024, virtual_batch_size=128,\n",
    "    num_workers=0,\n",
    "    weights=1,\n",
    "    drop_last=False,\n",
    "    from_unsupervised=loaded_pretrain,\n",
    "    \n",
    ") "
   ]
  },
  {
   "cell_type": "code",
   "execution_count": 20,
   "id": "4ef09e90",
   "metadata": {},
   "outputs": [
    {
     "data": {
      "text/plain": [
       "[<matplotlib.lines.Line2D at 0x280cd9c63d0>]"
      ]
     },
     "execution_count": 20,
     "metadata": {},
     "output_type": "execute_result"
    },
    {
     "data": {
      "image/png": "[encoded data removed]",
      "text/plain": [
       "<Figure size 640x480 with 1 Axes>"
      ]
     },
     "metadata": {},
     "output_type": "display_data"
    }
   ],
   "source": [
    "# plot losses\n",
    "plt.plot(clf.history['loss'])"
   ]
  },
  {
   "cell_type": "code",
   "execution_count": 21,
   "id": "94c9d046",
   "metadata": {},
   "outputs": [
    {
     "data": {
      "text/plain": [
       "[<matplotlib.lines.Line2D at 0x280d65300a0>]"
      ]
     },
     "execution_count": 21,
     "metadata": {},
     "output_type": "execute_result"
    },
    {
     "data": {
      "image/png": "[encoded data removed]",
      "text/plain": [
       "<Figure size 640x480 with 1 Axes>"
      ]
     },
     "metadata": {},
     "output_type": "display_data"
    }
   ],
   "source": [
    "# plot auc\n",
    "plt.plot(clf.history['train_f1'])\n",
    "plt.plot(clf.history['valid_f1'])"
   ]
  },
  {
   "cell_type": "code",
   "execution_count": 22,
   "id": "58330feb",
   "metadata": {},
   "outputs": [
    {
     "data": {
      "text/plain": [
       "[<matplotlib.lines.Line2D at 0x280d6393c10>]"
      ]
     },
     "execution_count": 22,
     "metadata": {},
     "output_type": "execute_result"
    },
    {
     "data": {
      "image/png": "[encoded data removed]",
      "text/plain": [
       "<Figure size 640x480 with 1 Axes>"
      ]
     },
     "metadata": {},
     "output_type": "display_data"
    }
   ],
   "source": [
    "# plot learning rates\n",
    "plt.plot(clf.history['lr'])"
   ]
  },
  {
   "cell_type": "markdown",
   "id": "c586ef59",
   "metadata": {},
   "source": [
    "# Predictions"
   ]
  },
  {
   "cell_type": "code",
   "execution_count": 23,
   "id": "da3e71f8",
   "metadata": {},
   "outputs": [
    {
     "name": "stdout",
     "output_type": "stream",
     "text": [
      "BEST VALID SCORE :  1.0\n",
      "FINAL TEST SCORE :  1.0\n"
     ]
    }
   ],
   "source": [
    "# preds = clf.predict_proba(X_test)\n",
    "preds = clf.predict(X_test)\n",
    "test_f1 = f1_score(preds, y_test)\n",
    "\n",
    "preds_val = clf.predict(X_val)\n",
    "valid_f1 = f1_score(preds_val, y_val)\n",
    "\n",
    "print(\"BEST VALID SCORE : \", clf.best_cost)\n",
    "print(\"FINAL TEST SCORE : \", test_f1)"
   ]
  },
  {
   "cell_type": "code",
   "execution_count": 24,
   "id": "19d5344e",
   "metadata": {},
   "outputs": [],
   "source": [
    "# check that best weights are used\n",
    "assert np.isclose(valid_f1, np.max(clf.history['valid_f1']), atol=1e-6)"
   ]
  },
  {
   "cell_type": "markdown",
   "id": "33204480",
   "metadata": {},
   "source": [
    "# Save and load Model"
   ]
  },
  {
   "cell_type": "code",
   "execution_count": 25,
   "id": "efc2e303",
   "metadata": {},
   "outputs": [
    {
     "name": "stdout",
     "output_type": "stream",
     "text": [
      "Successfully saved model at ./tabnet_model_test_1.zip\n"
     ]
    }
   ],
   "source": [
    "# save tabnet model\n",
    "saving_path_name = \"./tabnet_model_test_1\"\n",
    "saved_filepath = clf.save_model(saving_path_name)"
   ]
  },
  {
   "cell_type": "code",
   "execution_count": 26,
   "id": "2fb52965",
   "metadata": {},
   "outputs": [],
   "source": [
    "# define new model with basic parameters and load state dict weights\n",
    "loaded_clf = TabNetClassifier()\n",
    "loaded_clf.load_model(saved_filepath)"
   ]
  },
  {
   "cell_type": "code",
   "execution_count": 27,
   "id": "77b9eb67",
   "metadata": {},
   "outputs": [
    {
     "name": "stdout",
     "output_type": "stream",
     "text": [
      "FINAL TEST SCORE :  1.0\n"
     ]
    }
   ],
   "source": [
    "# loaded_preds = loaded_clf.predict_proba(X_test)\n",
    "loaded_preds = loaded_clf.predict(X_test)\n",
    "loaded_test_f1 = f1_score(loaded_preds, y_test)\n",
    "\n",
    "print(\"FINAL TEST SCORE : \",loaded_test_f1)"
   ]
  },
  {
   "cell_type": "code",
   "execution_count": 28,
   "id": "b4316495",
   "metadata": {},
   "outputs": [],
   "source": [
    "assert(test_f1 == loaded_test_f1)"
   ]
  },
  {
   "cell_type": "markdown",
   "id": "0499af89",
   "metadata": {},
   "source": [
    "# Global explainability : feat importance summing to "
   ]
  },
  {
   "cell_type": "code",
   "execution_count": 29,
   "id": "6bb37934",
   "metadata": {},
   "outputs": [
    {
     "data": {
      "text/plain": [
       "array([2.31481352e-06, 8.89911958e-04, 1.74290142e-01, 4.04222686e-05,\n",
       "       1.98402582e-04, 3.73843428e-04, 1.05147061e-10, 2.18262077e-05,\n",
       "       5.76731748e-05, 1.32794609e-03, 3.04583539e-06, 3.63434526e-05,\n",
       "       3.17458225e-01, 7.82704972e-04, 1.33183297e-01, 5.29844023e-09,\n",
       "       3.89476519e-03, 1.07187936e-08, 2.00322505e-06, 3.55631025e-09,\n",
       "       2.21715031e-06, 1.12776304e-04, 6.89503905e-07, 2.69466729e-05,\n",
       "       2.30466539e-05, 2.28029074e-08, 6.88045021e-02, 2.48924315e-03,\n",
       "       7.97984209e-06, 2.95886749e-01, 8.29397373e-05])"
      ]
     },
     "execution_count": 29,
     "metadata": {},
     "output_type": "execute_result"
    }
   ],
   "source": [
    "clf.feature_importances_"
   ]
  },
  {
   "cell_type": "markdown",
   "id": "5f24fcdd",
   "metadata": {},
   "source": [
    "# Local explainability and masks"
   ]
  },
  {
   "cell_type": "code",
   "execution_count": 30,
   "id": "2542b2a2",
   "metadata": {},
   "outputs": [],
   "source": [
    "explain_matrix, masks = clf.explain(X_test)"
   ]
  },
  {
   "cell_type": "code",
   "execution_count": 31,
   "id": "33f07525",
   "metadata": {},
   "outputs": [
    {
     "data": {
      "image/png": "[encoded data removed]",
      "text/plain": [
       "<Figure size 2000x2000 with 3 Axes>"
      ]
     },
     "metadata": {},
     "output_type": "display_data"
    }
   ],
   "source": [
    "fig, axs = plt.subplots(1, 3, figsize=(20,20))\n",
    "\n",
    "for i in range(3):\n",
    "    axs[i].imshow(masks[i][:50])\n",
    "    axs[i].set_title(f\"mask {i}\")"
   ]
  },
  {
   "cell_type": "markdown",
   "id": "b96de21b",
   "metadata": {},
   "source": [
    "# Pre-trained 된 모델로 test\n",
    "- ctgan_generated로 test"
   ]
  },
  {
   "cell_type": "code",
   "execution_count": 32,
   "id": "dc9e3bea",
   "metadata": {},
   "outputs": [
    {
     "data": {
      "text/html": [
       "<div>\n",
       "<style scoped>\n",
       "    .dataframe tbody tr th:only-of-type {\n",
       "        vertical-align: middle;\n",
       "    }\n",
       "\n",
       "    .dataframe tbody tr th {\n",
       "        vertical-align: top;\n",
       "    }\n",
       "\n",
       "    .dataframe thead th {\n",
       "        text-align: right;\n",
       "    }\n",
       "</style>\n",
       "<table border=\"1\" class=\"dataframe\">\n",
       "  <thead>\n",
       "    <tr style=\"text-align: right;\">\n",
       "      <th></th>\n",
       "      <th>Time</th>\n",
       "      <th>V1</th>\n",
       "      <th>V2</th>\n",
       "      <th>V3</th>\n",
       "      <th>V4</th>\n",
       "      <th>V5</th>\n",
       "      <th>V6</th>\n",
       "      <th>V7</th>\n",
       "      <th>V8</th>\n",
       "      <th>V9</th>\n",
       "      <th>...</th>\n",
       "      <th>V21</th>\n",
       "      <th>V22</th>\n",
       "      <th>V23</th>\n",
       "      <th>V24</th>\n",
       "      <th>V25</th>\n",
       "      <th>V26</th>\n",
       "      <th>V27</th>\n",
       "      <th>V28</th>\n",
       "      <th>Amount</th>\n",
       "      <th>Class</th>\n",
       "    </tr>\n",
       "  </thead>\n",
       "  <tbody>\n",
       "    <tr>\n",
       "      <th>0</th>\n",
       "      <td>472</td>\n",
       "      <td>1.989026</td>\n",
       "      <td>6.759762</td>\n",
       "      <td>-3.436226</td>\n",
       "      <td>7.508126</td>\n",
       "      <td>-2.003154</td>\n",
       "      <td>-1.453226</td>\n",
       "      <td>4.816805</td>\n",
       "      <td>-9.721434</td>\n",
       "      <td>-6.471587</td>\n",
       "      <td>...</td>\n",
       "      <td>13.760328</td>\n",
       "      <td>0.463365</td>\n",
       "      <td>-2.383923</td>\n",
       "      <td>-0.485486</td>\n",
       "      <td>-1.485571</td>\n",
       "      <td>1.296262</td>\n",
       "      <td>0.110573</td>\n",
       "      <td>0.440638</td>\n",
       "      <td>219.80</td>\n",
       "      <td>1</td>\n",
       "    </tr>\n",
       "    <tr>\n",
       "      <th>1</th>\n",
       "      <td>6986</td>\n",
       "      <td>-2.064557</td>\n",
       "      <td>0.925835</td>\n",
       "      <td>-9.001415</td>\n",
       "      <td>2.821149</td>\n",
       "      <td>2.934994</td>\n",
       "      <td>0.809051</td>\n",
       "      <td>-2.381658</td>\n",
       "      <td>-0.717233</td>\n",
       "      <td>-1.331499</td>\n",
       "      <td>...</td>\n",
       "      <td>1.226586</td>\n",
       "      <td>1.401159</td>\n",
       "      <td>-0.804631</td>\n",
       "      <td>-0.842344</td>\n",
       "      <td>-0.119244</td>\n",
       "      <td>0.886038</td>\n",
       "      <td>0.461688</td>\n",
       "      <td>0.224494</td>\n",
       "      <td>357.95</td>\n",
       "      <td>1</td>\n",
       "    </tr>\n",
       "    <tr>\n",
       "      <th>2</th>\n",
       "      <td>6986</td>\n",
       "      <td>-0.695426</td>\n",
       "      <td>0.619314</td>\n",
       "      <td>-30.991254</td>\n",
       "      <td>2.067791</td>\n",
       "      <td>-5.309895</td>\n",
       "      <td>1.159233</td>\n",
       "      <td>-2.481335</td>\n",
       "      <td>-0.407266</td>\n",
       "      <td>-7.066150</td>\n",
       "      <td>...</td>\n",
       "      <td>-3.563537</td>\n",
       "      <td>0.418333</td>\n",
       "      <td>-0.282519</td>\n",
       "      <td>0.912088</td>\n",
       "      <td>-1.493152</td>\n",
       "      <td>-0.326489</td>\n",
       "      <td>0.438027</td>\n",
       "      <td>-1.155780</td>\n",
       "      <td>3.22</td>\n",
       "      <td>1</td>\n",
       "    </tr>\n",
       "    <tr>\n",
       "      <th>3</th>\n",
       "      <td>7535</td>\n",
       "      <td>1.904601</td>\n",
       "      <td>4.020354</td>\n",
       "      <td>-9.863136</td>\n",
       "      <td>4.722613</td>\n",
       "      <td>-3.603447</td>\n",
       "      <td>-3.186403</td>\n",
       "      <td>0.689895</td>\n",
       "      <td>-10.156282</td>\n",
       "      <td>0.433262</td>\n",
       "      <td>...</td>\n",
       "      <td>2.174024</td>\n",
       "      <td>0.633162</td>\n",
       "      <td>-1.026630</td>\n",
       "      <td>0.347991</td>\n",
       "      <td>-0.447925</td>\n",
       "      <td>0.185000</td>\n",
       "      <td>-2.555247</td>\n",
       "      <td>-1.000923</td>\n",
       "      <td>45.49</td>\n",
       "      <td>1</td>\n",
       "    </tr>\n",
       "    <tr>\n",
       "      <th>4</th>\n",
       "      <td>7543</td>\n",
       "      <td>-11.704200</td>\n",
       "      <td>6.025343</td>\n",
       "      <td>-5.197522</td>\n",
       "      <td>1.851403</td>\n",
       "      <td>4.832916</td>\n",
       "      <td>-0.518359</td>\n",
       "      <td>0.454355</td>\n",
       "      <td>-5.387303</td>\n",
       "      <td>-4.300301</td>\n",
       "      <td>...</td>\n",
       "      <td>1.353062</td>\n",
       "      <td>1.197828</td>\n",
       "      <td>-4.923546</td>\n",
       "      <td>0.573469</td>\n",
       "      <td>-0.704693</td>\n",
       "      <td>0.569465</td>\n",
       "      <td>-0.046174</td>\n",
       "      <td>-0.136388</td>\n",
       "      <td>1.00</td>\n",
       "      <td>1</td>\n",
       "    </tr>\n",
       "  </tbody>\n",
       "</table>\n",
       "<p>5 rows × 31 columns</p>\n",
       "</div>"
      ],
      "text/plain": [
       "   Time         V1        V2         V3        V4        V5        V6  \\\n",
       "0   472   1.989026  6.759762  -3.436226  7.508126 -2.003154 -1.453226   \n",
       "1  6986  -2.064557  0.925835  -9.001415  2.821149  2.934994  0.809051   \n",
       "2  6986  -0.695426  0.619314 -30.991254  2.067791 -5.309895  1.159233   \n",
       "3  7535   1.904601  4.020354  -9.863136  4.722613 -3.603447 -3.186403   \n",
       "4  7543 -11.704200  6.025343  -5.197522  1.851403  4.832916 -0.518359   \n",
       "\n",
       "         V7         V8        V9  ...        V21       V22       V23  \\\n",
       "0  4.816805  -9.721434 -6.471587  ...  13.760328  0.463365 -2.383923   \n",
       "1 -2.381658  -0.717233 -1.331499  ...   1.226586  1.401159 -0.804631   \n",
       "2 -2.481335  -0.407266 -7.066150  ...  -3.563537  0.418333 -0.282519   \n",
       "3  0.689895 -10.156282  0.433262  ...   2.174024  0.633162 -1.026630   \n",
       "4  0.454355  -5.387303 -4.300301  ...   1.353062  1.197828 -4.923546   \n",
       "\n",
       "        V24       V25       V26       V27       V28  Amount  Class  \n",
       "0 -0.485486 -1.485571  1.296262  0.110573  0.440638  219.80      1  \n",
       "1 -0.842344 -0.119244  0.886038  0.461688  0.224494  357.95      1  \n",
       "2  0.912088 -1.493152 -0.326489  0.438027 -1.155780    3.22      1  \n",
       "3  0.347991 -0.447925  0.185000 -2.555247 -1.000923   45.49      1  \n",
       "4  0.573469 -0.704693  0.569465 -0.046174 -0.136388    1.00      1  \n",
       "\n",
       "[5 rows x 31 columns]"
      ]
     },
     "execution_count": 32,
     "metadata": {},
     "output_type": "execute_result"
    }
   ],
   "source": [
    "generated = pd.read_csv('./dataset/ctgan_generated_0320.csv')\n",
    "generated.head()"
   ]
  },
  {
   "cell_type": "code",
   "execution_count": 33,
   "id": "40b2ee79",
   "metadata": {},
   "outputs": [
    {
     "data": {
      "text/html": [
       "<div>\n",
       "<style scoped>\n",
       "    .dataframe tbody tr th:only-of-type {\n",
       "        vertical-align: middle;\n",
       "    }\n",
       "\n",
       "    .dataframe tbody tr th {\n",
       "        vertical-align: top;\n",
       "    }\n",
       "\n",
       "    .dataframe thead th {\n",
       "        text-align: right;\n",
       "    }\n",
       "</style>\n",
       "<table border=\"1\" class=\"dataframe\">\n",
       "  <thead>\n",
       "    <tr style=\"text-align: right;\">\n",
       "      <th></th>\n",
       "      <th>Time</th>\n",
       "      <th>V1</th>\n",
       "      <th>V2</th>\n",
       "      <th>V3</th>\n",
       "      <th>V4</th>\n",
       "      <th>V5</th>\n",
       "      <th>V6</th>\n",
       "      <th>V7</th>\n",
       "      <th>V8</th>\n",
       "      <th>V9</th>\n",
       "      <th>...</th>\n",
       "      <th>V21</th>\n",
       "      <th>V22</th>\n",
       "      <th>V23</th>\n",
       "      <th>V24</th>\n",
       "      <th>V25</th>\n",
       "      <th>V26</th>\n",
       "      <th>V27</th>\n",
       "      <th>V28</th>\n",
       "      <th>Class</th>\n",
       "      <th>Amount</th>\n",
       "    </tr>\n",
       "  </thead>\n",
       "  <tbody>\n",
       "    <tr>\n",
       "      <th>0</th>\n",
       "      <td>0.131111</td>\n",
       "      <td>1.989026</td>\n",
       "      <td>6.759762</td>\n",
       "      <td>-3.436226</td>\n",
       "      <td>7.508126</td>\n",
       "      <td>-2.003154</td>\n",
       "      <td>-1.453226</td>\n",
       "      <td>4.816805</td>\n",
       "      <td>-9.721434</td>\n",
       "      <td>-6.471587</td>\n",
       "      <td>...</td>\n",
       "      <td>13.760328</td>\n",
       "      <td>0.463365</td>\n",
       "      <td>-2.383923</td>\n",
       "      <td>-0.485486</td>\n",
       "      <td>-1.485571</td>\n",
       "      <td>1.296262</td>\n",
       "      <td>0.110573</td>\n",
       "      <td>0.440638</td>\n",
       "      <td>1</td>\n",
       "      <td>5.392723</td>\n",
       "    </tr>\n",
       "    <tr>\n",
       "      <th>1</th>\n",
       "      <td>1.940556</td>\n",
       "      <td>-2.064557</td>\n",
       "      <td>0.925835</td>\n",
       "      <td>-9.001415</td>\n",
       "      <td>2.821149</td>\n",
       "      <td>2.934994</td>\n",
       "      <td>0.809051</td>\n",
       "      <td>-2.381658</td>\n",
       "      <td>-0.717233</td>\n",
       "      <td>-1.331499</td>\n",
       "      <td>...</td>\n",
       "      <td>1.226586</td>\n",
       "      <td>1.401159</td>\n",
       "      <td>-0.804631</td>\n",
       "      <td>-0.842344</td>\n",
       "      <td>-0.119244</td>\n",
       "      <td>0.886038</td>\n",
       "      <td>0.461688</td>\n",
       "      <td>0.224494</td>\n",
       "      <td>1</td>\n",
       "      <td>5.880396</td>\n",
       "    </tr>\n",
       "    <tr>\n",
       "      <th>2</th>\n",
       "      <td>1.940556</td>\n",
       "      <td>-0.695426</td>\n",
       "      <td>0.619314</td>\n",
       "      <td>-30.991254</td>\n",
       "      <td>2.067791</td>\n",
       "      <td>-5.309895</td>\n",
       "      <td>1.159233</td>\n",
       "      <td>-2.481335</td>\n",
       "      <td>-0.407266</td>\n",
       "      <td>-7.066150</td>\n",
       "      <td>...</td>\n",
       "      <td>-3.563537</td>\n",
       "      <td>0.418333</td>\n",
       "      <td>-0.282519</td>\n",
       "      <td>0.912088</td>\n",
       "      <td>-1.493152</td>\n",
       "      <td>-0.326489</td>\n",
       "      <td>0.438027</td>\n",
       "      <td>-1.155780</td>\n",
       "      <td>1</td>\n",
       "      <td>1.169692</td>\n",
       "    </tr>\n",
       "    <tr>\n",
       "      <th>3</th>\n",
       "      <td>2.093056</td>\n",
       "      <td>1.904601</td>\n",
       "      <td>4.020354</td>\n",
       "      <td>-9.863136</td>\n",
       "      <td>4.722613</td>\n",
       "      <td>-3.603447</td>\n",
       "      <td>-3.186403</td>\n",
       "      <td>0.689895</td>\n",
       "      <td>-10.156282</td>\n",
       "      <td>0.433262</td>\n",
       "      <td>...</td>\n",
       "      <td>2.174024</td>\n",
       "      <td>0.633162</td>\n",
       "      <td>-1.026630</td>\n",
       "      <td>0.347991</td>\n",
       "      <td>-0.447925</td>\n",
       "      <td>0.185000</td>\n",
       "      <td>-2.555247</td>\n",
       "      <td>-1.000923</td>\n",
       "      <td>1</td>\n",
       "      <td>3.817515</td>\n",
       "    </tr>\n",
       "    <tr>\n",
       "      <th>4</th>\n",
       "      <td>2.095278</td>\n",
       "      <td>-11.704200</td>\n",
       "      <td>6.025343</td>\n",
       "      <td>-5.197522</td>\n",
       "      <td>1.851403</td>\n",
       "      <td>4.832916</td>\n",
       "      <td>-0.518359</td>\n",
       "      <td>0.454355</td>\n",
       "      <td>-5.387303</td>\n",
       "      <td>-4.300301</td>\n",
       "      <td>...</td>\n",
       "      <td>1.353062</td>\n",
       "      <td>1.197828</td>\n",
       "      <td>-4.923546</td>\n",
       "      <td>0.573469</td>\n",
       "      <td>-0.704693</td>\n",
       "      <td>0.569465</td>\n",
       "      <td>-0.046174</td>\n",
       "      <td>-0.136388</td>\n",
       "      <td>1</td>\n",
       "      <td>0.001000</td>\n",
       "    </tr>\n",
       "  </tbody>\n",
       "</table>\n",
       "<p>5 rows × 31 columns</p>\n",
       "</div>"
      ],
      "text/plain": [
       "       Time         V1        V2         V3        V4        V5        V6  \\\n",
       "0  0.131111   1.989026  6.759762  -3.436226  7.508126 -2.003154 -1.453226   \n",
       "1  1.940556  -2.064557  0.925835  -9.001415  2.821149  2.934994  0.809051   \n",
       "2  1.940556  -0.695426  0.619314 -30.991254  2.067791 -5.309895  1.159233   \n",
       "3  2.093056   1.904601  4.020354  -9.863136  4.722613 -3.603447 -3.186403   \n",
       "4  2.095278 -11.704200  6.025343  -5.197522  1.851403  4.832916 -0.518359   \n",
       "\n",
       "         V7         V8        V9  ...        V21       V22       V23  \\\n",
       "0  4.816805  -9.721434 -6.471587  ...  13.760328  0.463365 -2.383923   \n",
       "1 -2.381658  -0.717233 -1.331499  ...   1.226586  1.401159 -0.804631   \n",
       "2 -2.481335  -0.407266 -7.066150  ...  -3.563537  0.418333 -0.282519   \n",
       "3  0.689895 -10.156282  0.433262  ...   2.174024  0.633162 -1.026630   \n",
       "4  0.454355  -5.387303 -4.300301  ...   1.353062  1.197828 -4.923546   \n",
       "\n",
       "        V24       V25       V26       V27       V28  Class    Amount  \n",
       "0 -0.485486 -1.485571  1.296262  0.110573  0.440638      1  5.392723  \n",
       "1 -0.842344 -0.119244  0.886038  0.461688  0.224494      1  5.880396  \n",
       "2  0.912088 -1.493152 -0.326489  0.438027 -1.155780      1  1.169692  \n",
       "3  0.347991 -0.447925  0.185000 -2.555247 -1.000923      1  3.817515  \n",
       "4  0.573469 -0.704693  0.569465 -0.046174 -0.136388      1  0.001000  \n",
       "\n",
       "[5 rows x 31 columns]"
      ]
     },
     "execution_count": 33,
     "metadata": {},
     "output_type": "execute_result"
    }
   ],
   "source": [
    "# 데이터 전처리\n",
    "ctgan = generated.copy()\n",
    "\n",
    "# Time 을 일중 시간으로 변환\n",
    "ctgan.loc[:, \"Time\"] = ctgan.loc[:, \"Time\"].apply(lambda x : x / 3600 % 24)\n",
    "\n",
    "# Amount column 은 편차가 크므로 log-scale 로 변환\n",
    "eps=0.001\n",
    "ctgan['Amount'] = np.log(ctgan.pop('Amount') + eps)\n",
    "\n",
    "ctgan.head()"
   ]
  },
  {
   "cell_type": "code",
   "execution_count": 34,
   "id": "892d048e",
   "metadata": {},
   "outputs": [],
   "source": [
    "ctgan_features = ctgan.values\n",
    "ctgan_labels = np.array(ctgan.pop('Class'))"
   ]
  },
  {
   "cell_type": "code",
   "execution_count": 35,
   "id": "8836095d",
   "metadata": {},
   "outputs": [],
   "source": [
    "X_train, X_test, y_train, y_test = train_test_split(ctgan_features, ctgan_labels, test_size=0.5, random_state=0, stratify=ctgan_labels)\n",
    "X_train, X_val, y_train, y_val = train_test_split(X_train, y_train, test_size=0.5, random_state=0)"
   ]
  },
  {
   "cell_type": "code",
   "execution_count": 36,
   "id": "b1d15267",
   "metadata": {},
   "outputs": [],
   "source": [
    "clf = TabNetClassifier(\n",
    "    optimizer_fn=torch.optim.Adam,\n",
    "    optimizer_params=dict(lr=2e-2),\n",
    "    scheduler_params={\"step_size\":10, # how to use learning rate scheduler\n",
    "                      \"gamma\":0.9},\n",
    "    scheduler_fn=torch.optim.lr_scheduler.StepLR,\n",
    "    mask_type='sparsemax' # This will be overwritten if using pretrain model\n",
    ")"
   ]
  },
  {
   "cell_type": "code",
   "execution_count": 37,
   "id": "fb997d40",
   "metadata": {
    "scrolled": true
   },
   "outputs": [
    {
     "name": "stdout",
     "output_type": "stream",
     "text": [
      "epoch 0  | loss: 0.0     | train_logloss: 4.99623 | train_f1: 0.19355 | valid_logloss: 5.37832 | valid_f1: 0.15    |  0:00:00s\n",
      "epoch 1  | loss: 0.0     | train_logloss: 4.99623 | train_f1: 0.19355 | valid_logloss: 5.37832 | valid_f1: 0.15    |  0:00:00s\n",
      "epoch 2  | loss: 0.0     | train_logloss: 4.99623 | train_f1: 0.19355 | valid_logloss: 5.37832 | valid_f1: 0.15    |  0:00:00s\n",
      "epoch 3  | loss: 0.0     | train_logloss: 4.99623 | train_f1: 0.19355 | valid_logloss: 5.37832 | valid_f1: 0.15    |  0:00:00s\n",
      "epoch 4  | loss: 0.0     | train_logloss: 4.99623 | train_f1: 0.19355 | valid_logloss: 5.37832 | valid_f1: 0.15    |  0:00:00s\n",
      "epoch 5  | loss: 0.0     | train_logloss: 4.99623 | train_f1: 0.19355 | valid_logloss: 5.37832 | valid_f1: 0.15    |  0:00:00s\n",
      "epoch 6  | loss: 0.0     | train_logloss: 4.99623 | train_f1: 0.19355 | valid_logloss: 5.37832 | valid_f1: 0.15    |  0:00:00s\n",
      "epoch 7  | loss: 0.0     | train_logloss: 4.99623 | train_f1: 0.19355 | valid_logloss: 5.37832 | valid_f1: 0.15    |  0:00:00s\n",
      "epoch 8  | loss: 0.0     | train_logloss: 4.99623 | train_f1: 0.19355 | valid_logloss: 5.37832 | valid_f1: 0.15    |  0:00:00s\n",
      "epoch 9  | loss: 0.0     | train_logloss: 4.99623 | train_f1: 0.19355 | valid_logloss: 5.37832 | valid_f1: 0.15    |  0:00:00s\n",
      "epoch 10 | loss: 0.0     | train_logloss: 4.99623 | train_f1: 0.19355 | valid_logloss: 5.37832 | valid_f1: 0.15    |  0:00:00s\n",
      "\n",
      "Early stopping occurred at epoch 10 with best_epoch = 0 and best_valid_f1 = 0.15\n"
     ]
    }
   ],
   "source": [
    "clf.fit(X_train,y_train,\n",
    "    eval_set=[(X_train, y_train), (X_val, y_val)],\n",
    "    eval_name=['train', 'valid'],\n",
    "    eval_metric=['logloss','f1'],\n",
    ")"
   ]
  },
  {
   "cell_type": "code",
   "execution_count": 38,
   "id": "398e9c33",
   "metadata": {},
   "outputs": [
    {
     "name": "stdout",
     "output_type": "stream",
     "text": [
      "0.15625\n"
     ]
    }
   ],
   "source": [
    "predicted_test=clf.predict(X_test)\n",
    "score=f1_score(y_test,predicted_test)\n",
    "print(score)"
   ]
  },
  {
   "cell_type": "markdown",
   "id": "471ebaf5",
   "metadata": {},
   "source": [
    "- ctgan_generated : 0.3146067415730337\n",
    "- ctgan_generated_0320 / test_size = 0.3 : 0.15686274509803924\n",
    "- ctgan_generated_0320 / test_size = 0.5 : 0.15625"
   ]
  },
  {
   "cell_type": "code",
   "execution_count": null,
   "id": "b4c372f2",
   "metadata": {},
   "outputs": [],
   "source": []
  }
 ],
 "metadata": {
  "kernelspec": {
   "display_name": "soyeon",
   "language": "python",
   "name": "soyeon"
  },
  "language_info": {
   "codemirror_mode": {
    "name": "ipython",
    "version": 3
   },
   "file_extension": ".py",
   "mimetype": "text/x-python",
   "name": "python",
   "nbconvert_exporter": "python",
   "pygments_lexer": "ipython3",
   "version": "3.8.13"
  }
 },
 "nbformat": 4,
 "nbformat_minor": 5
}
