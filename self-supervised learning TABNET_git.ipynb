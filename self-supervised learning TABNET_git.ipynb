{
 "cells": [
  {
   "cell_type": "markdown",
   "id": "beaa3c29",
   "metadata": {},
   "source": [
    "- https://medium.com/@vanillaxiangshuyang/self-supervised-learning-on-tabular-data-with-tabnet-544b3ec85cee\n",
    "- https://colab.research.google.com/drive/1P8Obe07DP3VeOld08ThyT1HnChLip_LO#scrollTo=gvy9vUUNOP0W\n",
    "\n",
    "- https://www.kaggle.com/code/sisharaneranjana/semi-supervised-pre-training-with-tabnet#%F0%9F%94%8FDescription-of-the-dataset-\n",
    "- https://dacon.io/en/codeshare/3837"
   ]
  },
  {
   "cell_type": "code",
   "execution_count": 1,
   "id": "133d6436",
   "metadata": {},
   "outputs": [],
   "source": [
    "import pandas as pd\n",
    "import numpy as np\n",
    "import pickle\n",
    "\n",
    "from matplotlib import pyplot as plt\n",
    "%matplotlib inline\n",
    "\n",
    "import warnings\n",
    "warnings.simplefilter(action='ignore')"
   ]
  },
  {
   "cell_type": "code",
   "execution_count": 2,
   "id": "0a34e904",
   "metadata": {},
   "outputs": [],
   "source": [
    "# # 데이터 전처리\n",
    "# # Time 을 일중 시간으로 변환\n",
    "# df.loc[:, \"Time\"] = df.loc[:, \"Time\"].apply(lambda x : x / 3600 % 24)\n",
    "\n",
    "# # Amount column 은 편차가 크므로 log-scale 로 변환\n",
    "# eps=0.001\n",
    "# df['Amount'] = np.log(df.pop('Amount') + eps)"
   ]
  },
  {
   "cell_type": "markdown",
   "id": "77893c77",
   "metadata": {},
   "source": [
    "# 전처리 된 데이터 불러오기"
   ]
  },
  {
   "cell_type": "code",
   "execution_count": 3,
   "id": "09afb566",
   "metadata": {},
   "outputs": [],
   "source": [
    "with open(\"./dataset/creditcard.pkl\",\"rb\") as file:\n",
    "    data = pickle.load(file)"
   ]
  },
  {
   "cell_type": "code",
   "execution_count": 4,
   "id": "b17a9bd5",
   "metadata": {},
   "outputs": [
    {
     "data": {
      "text/html": [
       "<div>\n",
       "<style scoped>\n",
       "    .dataframe tbody tr th:only-of-type {\n",
       "        vertical-align: middle;\n",
       "    }\n",
       "\n",
       "    .dataframe tbody tr th {\n",
       "        vertical-align: top;\n",
       "    }\n",
       "\n",
       "    .dataframe thead th {\n",
       "        text-align: right;\n",
       "    }\n",
       "</style>\n",
       "<table border=\"1\" class=\"dataframe\">\n",
       "  <thead>\n",
       "    <tr style=\"text-align: right;\">\n",
       "      <th></th>\n",
       "      <th>Time</th>\n",
       "      <th>V1</th>\n",
       "      <th>V2</th>\n",
       "      <th>V3</th>\n",
       "      <th>V4</th>\n",
       "      <th>V5</th>\n",
       "      <th>V6</th>\n",
       "      <th>V7</th>\n",
       "      <th>V8</th>\n",
       "      <th>V9</th>\n",
       "      <th>...</th>\n",
       "      <th>V21</th>\n",
       "      <th>V22</th>\n",
       "      <th>V23</th>\n",
       "      <th>V24</th>\n",
       "      <th>V25</th>\n",
       "      <th>V26</th>\n",
       "      <th>V27</th>\n",
       "      <th>V28</th>\n",
       "      <th>Amount</th>\n",
       "      <th>Class</th>\n",
       "    </tr>\n",
       "  </thead>\n",
       "  <tbody>\n",
       "    <tr>\n",
       "      <th>0</th>\n",
       "      <td>0.0</td>\n",
       "      <td>-1.359807</td>\n",
       "      <td>-0.072781</td>\n",
       "      <td>2.536347</td>\n",
       "      <td>1.378155</td>\n",
       "      <td>-0.338321</td>\n",
       "      <td>0.462388</td>\n",
       "      <td>0.239599</td>\n",
       "      <td>0.098698</td>\n",
       "      <td>0.363787</td>\n",
       "      <td>...</td>\n",
       "      <td>-0.018307</td>\n",
       "      <td>0.277838</td>\n",
       "      <td>-0.110474</td>\n",
       "      <td>0.066928</td>\n",
       "      <td>0.128539</td>\n",
       "      <td>-0.189115</td>\n",
       "      <td>0.133558</td>\n",
       "      <td>-0.021053</td>\n",
       "      <td>149.62</td>\n",
       "      <td>0</td>\n",
       "    </tr>\n",
       "    <tr>\n",
       "      <th>1</th>\n",
       "      <td>0.0</td>\n",
       "      <td>1.191857</td>\n",
       "      <td>0.266151</td>\n",
       "      <td>0.166480</td>\n",
       "      <td>0.448154</td>\n",
       "      <td>0.060018</td>\n",
       "      <td>-0.082361</td>\n",
       "      <td>-0.078803</td>\n",
       "      <td>0.085102</td>\n",
       "      <td>-0.255425</td>\n",
       "      <td>...</td>\n",
       "      <td>-0.225775</td>\n",
       "      <td>-0.638672</td>\n",
       "      <td>0.101288</td>\n",
       "      <td>-0.339846</td>\n",
       "      <td>0.167170</td>\n",
       "      <td>0.125895</td>\n",
       "      <td>-0.008983</td>\n",
       "      <td>0.014724</td>\n",
       "      <td>2.69</td>\n",
       "      <td>0</td>\n",
       "    </tr>\n",
       "    <tr>\n",
       "      <th>2</th>\n",
       "      <td>1.0</td>\n",
       "      <td>-1.358354</td>\n",
       "      <td>-1.340163</td>\n",
       "      <td>1.773209</td>\n",
       "      <td>0.379780</td>\n",
       "      <td>-0.503198</td>\n",
       "      <td>1.800499</td>\n",
       "      <td>0.791461</td>\n",
       "      <td>0.247676</td>\n",
       "      <td>-1.514654</td>\n",
       "      <td>...</td>\n",
       "      <td>0.247998</td>\n",
       "      <td>0.771679</td>\n",
       "      <td>0.909412</td>\n",
       "      <td>-0.689281</td>\n",
       "      <td>-0.327642</td>\n",
       "      <td>-0.139097</td>\n",
       "      <td>-0.055353</td>\n",
       "      <td>-0.059752</td>\n",
       "      <td>378.66</td>\n",
       "      <td>0</td>\n",
       "    </tr>\n",
       "    <tr>\n",
       "      <th>3</th>\n",
       "      <td>1.0</td>\n",
       "      <td>-0.966272</td>\n",
       "      <td>-0.185226</td>\n",
       "      <td>1.792993</td>\n",
       "      <td>-0.863291</td>\n",
       "      <td>-0.010309</td>\n",
       "      <td>1.247203</td>\n",
       "      <td>0.237609</td>\n",
       "      <td>0.377436</td>\n",
       "      <td>-1.387024</td>\n",
       "      <td>...</td>\n",
       "      <td>-0.108300</td>\n",
       "      <td>0.005274</td>\n",
       "      <td>-0.190321</td>\n",
       "      <td>-1.175575</td>\n",
       "      <td>0.647376</td>\n",
       "      <td>-0.221929</td>\n",
       "      <td>0.062723</td>\n",
       "      <td>0.061458</td>\n",
       "      <td>123.50</td>\n",
       "      <td>0</td>\n",
       "    </tr>\n",
       "    <tr>\n",
       "      <th>4</th>\n",
       "      <td>2.0</td>\n",
       "      <td>-1.158233</td>\n",
       "      <td>0.877737</td>\n",
       "      <td>1.548718</td>\n",
       "      <td>0.403034</td>\n",
       "      <td>-0.407193</td>\n",
       "      <td>0.095921</td>\n",
       "      <td>0.592941</td>\n",
       "      <td>-0.270533</td>\n",
       "      <td>0.817739</td>\n",
       "      <td>...</td>\n",
       "      <td>-0.009431</td>\n",
       "      <td>0.798278</td>\n",
       "      <td>-0.137458</td>\n",
       "      <td>0.141267</td>\n",
       "      <td>-0.206010</td>\n",
       "      <td>0.502292</td>\n",
       "      <td>0.219422</td>\n",
       "      <td>0.215153</td>\n",
       "      <td>69.99</td>\n",
       "      <td>0</td>\n",
       "    </tr>\n",
       "  </tbody>\n",
       "</table>\n",
       "<p>5 rows × 31 columns</p>\n",
       "</div>"
      ],
      "text/plain": [
       "   Time        V1        V2        V3        V4        V5        V6        V7  \\\n",
       "0   0.0 -1.359807 -0.072781  2.536347  1.378155 -0.338321  0.462388  0.239599   \n",
       "1   0.0  1.191857  0.266151  0.166480  0.448154  0.060018 -0.082361 -0.078803   \n",
       "2   1.0 -1.358354 -1.340163  1.773209  0.379780 -0.503198  1.800499  0.791461   \n",
       "3   1.0 -0.966272 -0.185226  1.792993 -0.863291 -0.010309  1.247203  0.237609   \n",
       "4   2.0 -1.158233  0.877737  1.548718  0.403034 -0.407193  0.095921  0.592941   \n",
       "\n",
       "         V8        V9  ...       V21       V22       V23       V24       V25  \\\n",
       "0  0.098698  0.363787  ... -0.018307  0.277838 -0.110474  0.066928  0.128539   \n",
       "1  0.085102 -0.255425  ... -0.225775 -0.638672  0.101288 -0.339846  0.167170   \n",
       "2  0.247676 -1.514654  ...  0.247998  0.771679  0.909412 -0.689281 -0.327642   \n",
       "3  0.377436 -1.387024  ... -0.108300  0.005274 -0.190321 -1.175575  0.647376   \n",
       "4 -0.270533  0.817739  ... -0.009431  0.798278 -0.137458  0.141267 -0.206010   \n",
       "\n",
       "        V26       V27       V28  Amount  Class  \n",
       "0 -0.189115  0.133558 -0.021053  149.62      0  \n",
       "1  0.125895 -0.008983  0.014724    2.69      0  \n",
       "2 -0.139097 -0.055353 -0.059752  378.66      0  \n",
       "3 -0.221929  0.062723  0.061458  123.50      0  \n",
       "4  0.502292  0.219422  0.215153   69.99      0  \n",
       "\n",
       "[5 rows x 31 columns]"
      ]
     },
     "execution_count": 4,
     "metadata": {},
     "output_type": "execute_result"
    }
   ],
   "source": [
    "df = data.copy()\n",
    "df.head()"
   ]
  },
  {
   "cell_type": "markdown",
   "id": "bdaacba4",
   "metadata": {},
   "source": [
    "# train_test_split"
   ]
  },
  {
   "cell_type": "code",
   "execution_count": 5,
   "id": "55434ea7",
   "metadata": {},
   "outputs": [],
   "source": [
    "from sklearn.model_selection import train_test_split"
   ]
  },
  {
   "cell_type": "code",
   "execution_count": 6,
   "id": "4f0340ab",
   "metadata": {},
   "outputs": [],
   "source": [
    "features = df.values\n",
    "labels = np.array(df.pop('Class'))"
   ]
  },
  {
   "cell_type": "code",
   "execution_count": 7,
   "id": "b0af8321",
   "metadata": {},
   "outputs": [
    {
     "name": "stdout",
     "output_type": "stream",
     "text": [
      "X train shape:  (139554, 31)\n",
      "Y train shape:  (139554,)\n",
      "===============\n",
      "X validation shape:  (59810, 31)\n",
      "y validation shape:  (59810,)\n",
      "===============\n",
      "X test shape:  (85443, 31)\n",
      "Y test shape:  (85443,)\n"
     ]
    }
   ],
   "source": [
    "X_train, X_test, y_train, y_test = train_test_split(features, labels, test_size=0.3, random_state=0, stratify=labels)\n",
    "X_train, X_val, y_train, y_val = train_test_split(X_train, y_train, test_size=0.3, random_state=0)\n",
    "\n",
    "print(\"X train shape: \", X_train.shape)\n",
    "print(\"Y train shape: \", y_train.shape)\n",
    "print(\"===============\")\n",
    "print(\"X validation shape: \", X_val.shape)\n",
    "print(\"y validation shape: \", y_val.shape)\n",
    "print(\"===============\")\n",
    "print(\"X test shape: \", X_test.shape)\n",
    "print(\"Y test shape: \", y_test.shape)"
   ]
  },
  {
   "cell_type": "code",
   "execution_count": 8,
   "id": "bac72bef",
   "metadata": {},
   "outputs": [],
   "source": [
    "from sklearn.preprocessing import StandardScaler\n",
    "\n",
    "sc = StandardScaler()\n",
    "X_train = sc.fit_transform(X_train)\n",
    "X_test = sc.transform(X_test)\n",
    "X_val= sc.transform(X_val)"
   ]
  },
  {
   "cell_type": "markdown",
   "id": "6af6520d",
   "metadata": {},
   "source": [
    "# Network parameters"
   ]
  },
  {
   "cell_type": "markdown",
   "id": "48ac5bab",
   "metadata": {},
   "source": [
    "- https://github.com/dreamquark-ai/tabnet\n",
    "- https://github.com/dreamquark-ai/tabnet/blob/develop/pretraining_example.ipynb"
   ]
  },
  {
   "cell_type": "code",
   "execution_count": 9,
   "id": "629eb55b",
   "metadata": {},
   "outputs": [],
   "source": [
    "import torch\n",
    "from pytorch_tabnet.pretraining import TabNetPretrainer\n",
    "from pytorch_tabnet.tab_model import TabNetClassifier"
   ]
  },
  {
   "cell_type": "code",
   "execution_count": 10,
   "id": "f5671fc5",
   "metadata": {},
   "outputs": [],
   "source": [
    "# TabNetPretrainer\n",
    "unsupervised_model = TabNetPretrainer(\n",
    "#     cat_idxs=cat_idxs,\n",
    "#     cat_dims=cat_dims,\n",
    "    cat_emb_dim=3,\n",
    "    optimizer_fn=torch.optim.Adam,\n",
    "    optimizer_params=dict(lr=2e-2),\n",
    "    mask_type='entmax', # \"sparsemax\",\n",
    "    n_shared_decoder=1, # nb shared glu for decoding\n",
    "    n_indep_decoder=1, # nb independent glu for decoding\n",
    "#     grouped_features=[[0, 1]], # you can group features together here\n",
    "    verbose=5,\n",
    ")"
   ]
  },
  {
   "cell_type": "markdown",
   "id": "8185666f",
   "metadata": {},
   "source": [
    "# Self Supervised Training"
   ]
  },
  {
   "cell_type": "code",
   "execution_count": 11,
   "id": "f9ed2b30",
   "metadata": {},
   "outputs": [],
   "source": [
    "max_epochs = 100"
   ]
  },
  {
   "cell_type": "code",
   "execution_count": 12,
   "id": "c7a0c8e5",
   "metadata": {},
   "outputs": [
    {
     "name": "stdout",
     "output_type": "stream",
     "text": [
      "epoch 0  | loss: 1.29573 | val_0_unsup_loss_numpy: 0.9893800020217896|  0:00:09s\n",
      "epoch 5  | loss: 0.93936 | val_0_unsup_loss_numpy: 0.9921900033950806|  0:00:53s\n",
      "\n",
      "Early stopping occurred at epoch 5 with best_epoch = 0 and best_val_0_unsup_loss_numpy = 0.9893800020217896\n"
     ]
    }
   ],
   "source": [
    "unsupervised_model.fit(\n",
    "    X_train=X_train,\n",
    "    eval_set=[X_val],\n",
    "    max_epochs=max_epochs , patience=5,\n",
    "    batch_size=2048, virtual_batch_size=128,\n",
    "    num_workers=0,\n",
    "    drop_last=False,\n",
    "    pretraining_ratio=0.5,\n",
    ")"
   ]
  },
  {
   "cell_type": "code",
   "execution_count": 13,
   "id": "99ea7777",
   "metadata": {},
   "outputs": [],
   "source": [
    "# Make reconstruction from a dataset\n",
    "reconstructed_X, embedded_X = unsupervised_model.predict(X_val)\n",
    "assert(reconstructed_X.shape==embedded_X.shape)"
   ]
  },
  {
   "cell_type": "code",
   "execution_count": 14,
   "id": "a97337ca",
   "metadata": {},
   "outputs": [],
   "source": [
    "unsupervised_explain_matrix, unsupervised_masks = unsupervised_model.explain(X_val)"
   ]
  },
  {
   "cell_type": "code",
   "execution_count": 15,
   "id": "dee164a9",
   "metadata": {},
   "outputs": [
    {
     "data": {
      "image/png": "[encoded data removed]",
      "text/plain": [
       "<Figure size 2000x2000 with 3 Axes>"
      ]
     },
     "metadata": {},
     "output_type": "display_data"
    }
   ],
   "source": [
    "fig, axs = plt.subplots(1, 3, figsize=(20,20))\n",
    "\n",
    "for i in range(3):\n",
    "    axs[i].imshow(unsupervised_masks[i][:50])\n",
    "    axs[i].set_title(f\"mask {i}\")"
   ]
  },
  {
   "cell_type": "markdown",
   "id": "393411df",
   "metadata": {},
   "source": [
    "# Save and load the same way as other TabNet models"
   ]
  },
  {
   "cell_type": "code",
   "execution_count": 16,
   "id": "f247a25d",
   "metadata": {},
   "outputs": [
    {
     "name": "stdout",
     "output_type": "stream",
     "text": [
      "Successfully saved model at ./test_pretrain.zip\n"
     ]
    }
   ],
   "source": [
    "unsupervised_model.save_model('./test_pretrain')\n",
    "loaded_pretrain = TabNetPretrainer()\n",
    "loaded_pretrain.load_model('./test_pretrain.zip')"
   ]
  },
  {
   "cell_type": "markdown",
   "id": "cfa76762",
   "metadata": {},
   "source": [
    "# Training"
   ]
  },
  {
   "cell_type": "code",
   "execution_count": 17,
   "id": "0b1f9be8",
   "metadata": {},
   "outputs": [],
   "source": [
    "clf = TabNetClassifier(optimizer_fn=torch.optim.Adam,\n",
    "                       optimizer_params=dict(lr=2e-3),\n",
    "                       scheduler_params={\"step_size\":10, # how to use learning rate scheduler\n",
    "                                         \"gamma\":0.9},\n",
    "                       scheduler_fn=torch.optim.lr_scheduler.StepLR,\n",
    "                       mask_type='sparsemax', # This will be overwritten if using pretrain model\n",
    "                       verbose=5,\n",
    "                      )"
   ]
  },
  {
   "cell_type": "code",
   "execution_count": 18,
   "id": "d74730e5",
   "metadata": {},
   "outputs": [],
   "source": [
    "from pytorch_tabnet.metrics import Metric\n",
    "from sklearn.metrics import f1_score\n",
    "\n",
    "class F1_Score(Metric):\n",
    "    def __init__(self):\n",
    "        self._name = \"f1\"\n",
    "        self._maximize = True\n",
    "\n",
    "    def __call__(self, y_true, y_score):\n",
    "        score = f1_score(y_true, (y_score[:, 1]>0.5)*1)\n",
    "        return score"
   ]
  },
  {
   "cell_type": "code",
   "execution_count": 19,
   "id": "7afbfbd5",
   "metadata": {},
   "outputs": [],
   "source": [
    "from pytorch_tabnet.metrics import Metric\n",
    "\n",
    "class F1_score(Metric):\n",
    "    def __init__(self):\n",
    "        self._name = \"f1\"\n",
    "        self._maximize = True\n",
    "\n",
    "    def __call__(self, y_true, y_score):\n",
    "        y_score = np.where(y_score > 0.5, 1, 0)\n",
    "        y_score = y_score[:,1]\n",
    "        return f1_score(y_true, y_score, average=\"weighted\")"
   ]
  },
  {
   "cell_type": "code",
   "execution_count": 20,
   "id": "35d0835b",
   "metadata": {},
   "outputs": [
    {
     "name": "stdout",
     "output_type": "stream",
     "text": [
      "epoch 0  | loss: 0.20829 | train_logloss: 0.06555 | train_f1: 0.20383 | valid_logloss: 0.06416 | valid_f1: 0.21011 |  0:00:11s\n",
      "epoch 5  | loss: 0.00206 | train_logloss: 0.00154 | train_f1: 0.91797 | valid_logloss: 0.00172 | valid_f1: 0.91064 |  0:01:11s\n",
      "epoch 10 | loss: 0.00124 | train_logloss: 0.00011 | train_f1: 0.98947 | valid_logloss: 0.00023 | valid_f1: 0.98198 |  0:02:11s\n",
      "epoch 15 | loss: 0.00099 | train_logloss: 0.00013 | train_f1: 0.99576 | valid_logloss: 0.00021 | valid_f1: 0.99091 |  0:03:11s\n",
      "epoch 20 | loss: 0.00084 | train_logloss: 1e-05   | train_f1: 1.0     | valid_logloss: 4e-05   | valid_f1: 0.99539 |  0:04:11s\n",
      "epoch 25 | loss: 0.00066 | train_logloss: 1e-05   | train_f1: 1.0     | valid_logloss: 4e-05   | valid_f1: 0.99539 |  0:05:12s\n",
      "epoch 30 | loss: 0.00057 | train_logloss: 1e-05   | train_f1: 1.0     | valid_logloss: 3e-05   | valid_f1: 0.99543 |  0:06:12s\n",
      "epoch 35 | loss: 0.00049 | train_logloss: 1e-05   | train_f1: 1.0     | valid_logloss: 1e-05   | valid_f1: 1.0     |  0:07:12s\n",
      "\n",
      "Early stopping occurred at epoch 38 with best_epoch = 18 and best_valid_f1 = 1.0\n"
     ]
    }
   ],
   "source": [
    "clf.fit(\n",
    "    X_train=X_train, y_train=y_train,\n",
    "    eval_set=[(X_train, y_train), (X_val, y_val)],\n",
    "    eval_name=['train', 'valid'],\n",
    "    eval_metric=['logloss','f1'],\n",
    "    max_epochs=max_epochs , patience=20,\n",
    "    batch_size=1024, virtual_batch_size=128,\n",
    "    num_workers=0,\n",
    "    weights=1,\n",
    "    drop_last=False,\n",
    "    from_unsupervised=loaded_pretrain,\n",
    "    \n",
    ") "
   ]
  },
  {
   "cell_type": "code",
   "execution_count": 21,
   "id": "4ef09e90",
   "metadata": {},
   "outputs": [
    {
     "data": {
      "text/plain": [
       "[<matplotlib.lines.Line2D at 0x1fac45c9700>]"
      ]
     },
     "execution_count": 21,
     "metadata": {},
     "output_type": "execute_result"
    },
    {
     "data": {
      "image/png": "[encoded data removed]",
      "text/plain": [
       "<Figure size 640x480 with 1 Axes>"
      ]
     },
     "metadata": {},
     "output_type": "display_data"
    }
   ],
   "source": [
    "# plot losses\n",
    "plt.plot(clf.history['loss'])"
   ]
  },
  {
   "cell_type": "code",
   "execution_count": 22,
   "id": "94c9d046",
   "metadata": {},
   "outputs": [
    {
     "data": {
      "text/plain": [
       "[<matplotlib.lines.Line2D at 0x1fabb84baf0>]"
      ]
     },
     "execution_count": 22,
     "metadata": {},
     "output_type": "execute_result"
    },
    {
     "data": {
      "image/png": "[encoded data removed]",
      "text/plain": [
       "<Figure size 640x480 with 1 Axes>"
      ]
     },
     "metadata": {},
     "output_type": "display_data"
    }
   ],
   "source": [
    "# plot auc\n",
    "plt.plot(clf.history['train_f1'])\n",
    "plt.plot(clf.history['valid_f1'])"
   ]
  },
  {
   "cell_type": "code",
   "execution_count": 23,
   "id": "58330feb",
   "metadata": {},
   "outputs": [
    {
     "data": {
      "text/plain": [
       "[<matplotlib.lines.Line2D at 0x1fac422f970>]"
      ]
     },
     "execution_count": 23,
     "metadata": {},
     "output_type": "execute_result"
    },
    {
     "data": {
      "image/png": "[encoded data removed]",
      "text/plain": [
       "<Figure size 640x480 with 1 Axes>"
      ]
     },
     "metadata": {},
     "output_type": "display_data"
    }
   ],
   "source": [
    "# plot learning rates\n",
    "plt.plot(clf.history['lr'])"
   ]
  },
  {
   "cell_type": "markdown",
   "id": "c586ef59",
   "metadata": {},
   "source": [
    "# Predictions"
   ]
  },
  {
   "cell_type": "code",
   "execution_count": 24,
   "id": "da3e71f8",
   "metadata": {},
   "outputs": [
    {
     "name": "stdout",
     "output_type": "stream",
     "text": [
      "BEST VALID SCORE :  1.0\n",
      "FINAL TEST SCORE :  0.9966329966329966\n"
     ]
    }
   ],
   "source": [
    "# preds = clf.predict_proba(X_test)\n",
    "preds = clf.predict(X_test)\n",
    "test_f1 = f1_score(preds, y_test)\n",
    "\n",
    "preds_val = clf.predict(X_val)\n",
    "valid_f1 = f1_score(preds_val, y_val)\n",
    "\n",
    "print(\"BEST VALID SCORE : \", clf.best_cost)\n",
    "print(\"FINAL TEST SCORE : \", test_f1)"
   ]
  },
  {
   "cell_type": "code",
   "execution_count": 25,
   "id": "19d5344e",
   "metadata": {},
   "outputs": [],
   "source": [
    "# check that best weights are used\n",
    "assert np.isclose(valid_f1, np.max(clf.history['valid_f1']), atol=1e-6)"
   ]
  },
  {
   "cell_type": "markdown",
   "id": "33204480",
   "metadata": {},
   "source": [
    "# Save and load Model"
   ]
  },
  {
   "cell_type": "code",
   "execution_count": 26,
   "id": "efc2e303",
   "metadata": {},
   "outputs": [
    {
     "name": "stdout",
     "output_type": "stream",
     "text": [
      "Successfully saved model at ./tabnet_model_test_1.zip\n"
     ]
    }
   ],
   "source": [
    "# save tabnet model\n",
    "saving_path_name = \"./tabnet_model_test_1\"\n",
    "saved_filepath = clf.save_model(saving_path_name)"
   ]
  },
  {
   "cell_type": "code",
   "execution_count": 27,
   "id": "2fb52965",
   "metadata": {},
   "outputs": [],
   "source": [
    "# define new model with basic parameters and load state dict weights\n",
    "loaded_clf = TabNetClassifier()\n",
    "loaded_clf.load_model(saved_filepath)"
   ]
  },
  {
   "cell_type": "code",
   "execution_count": 28,
   "id": "77b9eb67",
   "metadata": {},
   "outputs": [
    {
     "name": "stdout",
     "output_type": "stream",
     "text": [
      "FINAL TEST SCORE :  0.9966329966329966\n"
     ]
    }
   ],
   "source": [
    "# loaded_preds = loaded_clf.predict_proba(X_test)\n",
    "loaded_preds = loaded_clf.predict(X_test)\n",
    "loaded_test_f1 = f1_score(loaded_preds, y_test)\n",
    "\n",
    "print(\"FINAL TEST SCORE : \",loaded_test_f1)"
   ]
  },
  {
   "cell_type": "code",
   "execution_count": 29,
   "id": "b4316495",
   "metadata": {},
   "outputs": [],
   "source": [
    "assert(test_f1 == loaded_test_f1)"
   ]
  },
  {
   "cell_type": "markdown",
   "id": "0499af89",
   "metadata": {},
   "source": [
    "# Global explainability : feat importance summing to "
   ]
  },
  {
   "cell_type": "code",
   "execution_count": 30,
   "id": "6bb37934",
   "metadata": {},
   "outputs": [
    {
     "data": {
      "text/plain": [
       "array([8.12829949e-07, 2.94905892e-01, 8.96544115e-03, 1.23060893e-04,\n",
       "       4.45257041e-02, 7.09905085e-04, 7.95922569e-06, 1.00241629e-02,\n",
       "       1.92790022e-02, 1.10047102e-02, 1.23582193e-01, 9.31756053e-03,\n",
       "       2.10987936e-02, 3.64702337e-04, 9.43152630e-02, 6.27713129e-03,\n",
       "       2.41614023e-01, 1.07682022e-02, 4.40770390e-05, 6.97589449e-05,\n",
       "       3.02075005e-04, 1.32499809e-03, 1.60042224e-02, 5.86784179e-05,\n",
       "       1.18430670e-05, 4.10332215e-04, 5.19294243e-04, 7.95564789e-05,\n",
       "       2.33819509e-04, 8.87950829e-04, 8.31688743e-02])"
      ]
     },
     "execution_count": 30,
     "metadata": {},
     "output_type": "execute_result"
    }
   ],
   "source": [
    "clf.feature_importances_"
   ]
  },
  {
   "cell_type": "markdown",
   "id": "5f24fcdd",
   "metadata": {},
   "source": [
    "# Local explainability and masks"
   ]
  },
  {
   "cell_type": "code",
   "execution_count": 31,
   "id": "2542b2a2",
   "metadata": {},
   "outputs": [],
   "source": [
    "explain_matrix, masks = clf.explain(X_test)"
   ]
  },
  {
   "cell_type": "code",
   "execution_count": 32,
   "id": "33f07525",
   "metadata": {},
   "outputs": [
    {
     "data": {
      "image/png": "[encoded data removed]",
      "text/plain": [
       "<Figure size 2000x2000 with 3 Axes>"
      ]
     },
     "metadata": {},
     "output_type": "display_data"
    }
   ],
   "source": [
    "fig, axs = plt.subplots(1, 3, figsize=(20,20))\n",
    "\n",
    "for i in range(3):\n",
    "    axs[i].imshow(masks[i][:50])\n",
    "    axs[i].set_title(f\"mask {i}\")"
   ]
  },
  {
   "cell_type": "markdown",
   "id": "b96de21b",
   "metadata": {},
   "source": [
    "# Pre-trained 된 모델로 test\n",
    "- ctgan_generated로 test"
   ]
  },
  {
   "cell_type": "code",
   "execution_count": 33,
   "id": "dc9e3bea",
   "metadata": {},
   "outputs": [
    {
     "data": {
      "text/html": [
       "<div>\n",
       "<style scoped>\n",
       "    .dataframe tbody tr th:only-of-type {\n",
       "        vertical-align: middle;\n",
       "    }\n",
       "\n",
       "    .dataframe tbody tr th {\n",
       "        vertical-align: top;\n",
       "    }\n",
       "\n",
       "    .dataframe thead th {\n",
       "        text-align: right;\n",
       "    }\n",
       "</style>\n",
       "<table border=\"1\" class=\"dataframe\">\n",
       "  <thead>\n",
       "    <tr style=\"text-align: right;\">\n",
       "      <th></th>\n",
       "      <th>Time</th>\n",
       "      <th>V1</th>\n",
       "      <th>V2</th>\n",
       "      <th>V3</th>\n",
       "      <th>V4</th>\n",
       "      <th>V5</th>\n",
       "      <th>V6</th>\n",
       "      <th>V7</th>\n",
       "      <th>V8</th>\n",
       "      <th>V9</th>\n",
       "      <th>...</th>\n",
       "      <th>V21</th>\n",
       "      <th>V22</th>\n",
       "      <th>V23</th>\n",
       "      <th>V24</th>\n",
       "      <th>V25</th>\n",
       "      <th>V26</th>\n",
       "      <th>V27</th>\n",
       "      <th>V28</th>\n",
       "      <th>Amount</th>\n",
       "      <th>Class</th>\n",
       "    </tr>\n",
       "  </thead>\n",
       "  <tbody>\n",
       "    <tr>\n",
       "      <th>0</th>\n",
       "      <td>26</td>\n",
       "      <td>0.526711</td>\n",
       "      <td>0.506531</td>\n",
       "      <td>2.323598</td>\n",
       "      <td>0.538318</td>\n",
       "      <td>-1.445373</td>\n",
       "      <td>0.567182</td>\n",
       "      <td>-1.134017</td>\n",
       "      <td>0.933505</td>\n",
       "      <td>0.585911</td>\n",
       "      <td>...</td>\n",
       "      <td>-0.105562</td>\n",
       "      <td>-0.587608</td>\n",
       "      <td>-0.065944</td>\n",
       "      <td>0.043478</td>\n",
       "      <td>0.131319</td>\n",
       "      <td>-0.477668</td>\n",
       "      <td>-0.023228</td>\n",
       "      <td>0.187240</td>\n",
       "      <td>183.84</td>\n",
       "      <td>0</td>\n",
       "    </tr>\n",
       "    <tr>\n",
       "      <th>1</th>\n",
       "      <td>26</td>\n",
       "      <td>-1.000721</td>\n",
       "      <td>-0.689407</td>\n",
       "      <td>0.491482</td>\n",
       "      <td>-0.399631</td>\n",
       "      <td>-0.331155</td>\n",
       "      <td>-1.191797</td>\n",
       "      <td>-0.904256</td>\n",
       "      <td>0.242771</td>\n",
       "      <td>-1.002102</td>\n",
       "      <td>...</td>\n",
       "      <td>0.312251</td>\n",
       "      <td>-0.557088</td>\n",
       "      <td>-0.054971</td>\n",
       "      <td>0.938367</td>\n",
       "      <td>0.010017</td>\n",
       "      <td>-0.208705</td>\n",
       "      <td>0.049386</td>\n",
       "      <td>0.027675</td>\n",
       "      <td>1.00</td>\n",
       "      <td>0</td>\n",
       "    </tr>\n",
       "    <tr>\n",
       "      <th>2</th>\n",
       "      <td>26</td>\n",
       "      <td>0.879617</td>\n",
       "      <td>-0.585084</td>\n",
       "      <td>1.342711</td>\n",
       "      <td>0.319722</td>\n",
       "      <td>-0.971214</td>\n",
       "      <td>-1.719158</td>\n",
       "      <td>-1.033463</td>\n",
       "      <td>0.218678</td>\n",
       "      <td>-1.085625</td>\n",
       "      <td>...</td>\n",
       "      <td>0.122075</td>\n",
       "      <td>-1.169211</td>\n",
       "      <td>-0.596052</td>\n",
       "      <td>0.107330</td>\n",
       "      <td>0.443202</td>\n",
       "      <td>1.119314</td>\n",
       "      <td>0.089819</td>\n",
       "      <td>0.034891</td>\n",
       "      <td>1.00</td>\n",
       "      <td>0</td>\n",
       "    </tr>\n",
       "    <tr>\n",
       "      <th>3</th>\n",
       "      <td>33</td>\n",
       "      <td>1.056257</td>\n",
       "      <td>0.958284</td>\n",
       "      <td>1.306321</td>\n",
       "      <td>-2.260671</td>\n",
       "      <td>-0.225238</td>\n",
       "      <td>-0.092485</td>\n",
       "      <td>0.356266</td>\n",
       "      <td>-0.023558</td>\n",
       "      <td>1.165119</td>\n",
       "      <td>...</td>\n",
       "      <td>0.022474</td>\n",
       "      <td>0.578880</td>\n",
       "      <td>-0.235727</td>\n",
       "      <td>0.961696</td>\n",
       "      <td>0.346246</td>\n",
       "      <td>0.352786</td>\n",
       "      <td>0.328290</td>\n",
       "      <td>0.015913</td>\n",
       "      <td>29.68</td>\n",
       "      <td>0</td>\n",
       "    </tr>\n",
       "    <tr>\n",
       "      <th>4</th>\n",
       "      <td>41</td>\n",
       "      <td>0.827262</td>\n",
       "      <td>-0.251887</td>\n",
       "      <td>-0.684657</td>\n",
       "      <td>-0.076610</td>\n",
       "      <td>-0.479253</td>\n",
       "      <td>-0.162641</td>\n",
       "      <td>-1.105629</td>\n",
       "      <td>0.219017</td>\n",
       "      <td>-1.084473</td>\n",
       "      <td>...</td>\n",
       "      <td>0.318296</td>\n",
       "      <td>-0.496126</td>\n",
       "      <td>-0.114626</td>\n",
       "      <td>1.008221</td>\n",
       "      <td>0.186005</td>\n",
       "      <td>0.531161</td>\n",
       "      <td>0.033279</td>\n",
       "      <td>0.050230</td>\n",
       "      <td>1.00</td>\n",
       "      <td>0</td>\n",
       "    </tr>\n",
       "  </tbody>\n",
       "</table>\n",
       "<p>5 rows × 31 columns</p>\n",
       "</div>"
      ],
      "text/plain": [
       "   Time        V1        V2        V3        V4        V5        V6        V7  \\\n",
       "0    26  0.526711  0.506531  2.323598  0.538318 -1.445373  0.567182 -1.134017   \n",
       "1    26 -1.000721 -0.689407  0.491482 -0.399631 -0.331155 -1.191797 -0.904256   \n",
       "2    26  0.879617 -0.585084  1.342711  0.319722 -0.971214 -1.719158 -1.033463   \n",
       "3    33  1.056257  0.958284  1.306321 -2.260671 -0.225238 -0.092485  0.356266   \n",
       "4    41  0.827262 -0.251887 -0.684657 -0.076610 -0.479253 -0.162641 -1.105629   \n",
       "\n",
       "         V8        V9  ...       V21       V22       V23       V24       V25  \\\n",
       "0  0.933505  0.585911  ... -0.105562 -0.587608 -0.065944  0.043478  0.131319   \n",
       "1  0.242771 -1.002102  ...  0.312251 -0.557088 -0.054971  0.938367  0.010017   \n",
       "2  0.218678 -1.085625  ...  0.122075 -1.169211 -0.596052  0.107330  0.443202   \n",
       "3 -0.023558  1.165119  ...  0.022474  0.578880 -0.235727  0.961696  0.346246   \n",
       "4  0.219017 -1.084473  ...  0.318296 -0.496126 -0.114626  1.008221  0.186005   \n",
       "\n",
       "        V26       V27       V28  Amount  Class  \n",
       "0 -0.477668 -0.023228  0.187240  183.84      0  \n",
       "1 -0.208705  0.049386  0.027675    1.00      0  \n",
       "2  1.119314  0.089819  0.034891    1.00      0  \n",
       "3  0.352786  0.328290  0.015913   29.68      0  \n",
       "4  0.531161  0.033279  0.050230    1.00      0  \n",
       "\n",
       "[5 rows x 31 columns]"
      ]
     },
     "execution_count": 33,
     "metadata": {},
     "output_type": "execute_result"
    }
   ],
   "source": [
    "generated = pd.read_csv('./dataset/ctgan_generated.csv')\n",
    "generated.head()"
   ]
  },
  {
   "cell_type": "code",
   "execution_count": 34,
   "id": "40b2ee79",
   "metadata": {},
   "outputs": [
    {
     "data": {
      "text/html": [
       "<div>\n",
       "<style scoped>\n",
       "    .dataframe tbody tr th:only-of-type {\n",
       "        vertical-align: middle;\n",
       "    }\n",
       "\n",
       "    .dataframe tbody tr th {\n",
       "        vertical-align: top;\n",
       "    }\n",
       "\n",
       "    .dataframe thead th {\n",
       "        text-align: right;\n",
       "    }\n",
       "</style>\n",
       "<table border=\"1\" class=\"dataframe\">\n",
       "  <thead>\n",
       "    <tr style=\"text-align: right;\">\n",
       "      <th></th>\n",
       "      <th>Time</th>\n",
       "      <th>V1</th>\n",
       "      <th>V2</th>\n",
       "      <th>V3</th>\n",
       "      <th>V4</th>\n",
       "      <th>V5</th>\n",
       "      <th>V6</th>\n",
       "      <th>V7</th>\n",
       "      <th>V8</th>\n",
       "      <th>V9</th>\n",
       "      <th>...</th>\n",
       "      <th>V21</th>\n",
       "      <th>V22</th>\n",
       "      <th>V23</th>\n",
       "      <th>V24</th>\n",
       "      <th>V25</th>\n",
       "      <th>V26</th>\n",
       "      <th>V27</th>\n",
       "      <th>V28</th>\n",
       "      <th>Class</th>\n",
       "      <th>Amount</th>\n",
       "    </tr>\n",
       "  </thead>\n",
       "  <tbody>\n",
       "    <tr>\n",
       "      <th>0</th>\n",
       "      <td>0.007222</td>\n",
       "      <td>0.526711</td>\n",
       "      <td>0.506531</td>\n",
       "      <td>2.323598</td>\n",
       "      <td>0.538318</td>\n",
       "      <td>-1.445373</td>\n",
       "      <td>0.567182</td>\n",
       "      <td>-1.134017</td>\n",
       "      <td>0.933505</td>\n",
       "      <td>0.585911</td>\n",
       "      <td>...</td>\n",
       "      <td>-0.105562</td>\n",
       "      <td>-0.587608</td>\n",
       "      <td>-0.065944</td>\n",
       "      <td>0.043478</td>\n",
       "      <td>0.131319</td>\n",
       "      <td>-0.477668</td>\n",
       "      <td>-0.023228</td>\n",
       "      <td>0.187240</td>\n",
       "      <td>0</td>\n",
       "      <td>5.214071</td>\n",
       "    </tr>\n",
       "    <tr>\n",
       "      <th>1</th>\n",
       "      <td>0.007222</td>\n",
       "      <td>-1.000721</td>\n",
       "      <td>-0.689407</td>\n",
       "      <td>0.491482</td>\n",
       "      <td>-0.399631</td>\n",
       "      <td>-0.331155</td>\n",
       "      <td>-1.191797</td>\n",
       "      <td>-0.904256</td>\n",
       "      <td>0.242771</td>\n",
       "      <td>-1.002102</td>\n",
       "      <td>...</td>\n",
       "      <td>0.312251</td>\n",
       "      <td>-0.557088</td>\n",
       "      <td>-0.054971</td>\n",
       "      <td>0.938367</td>\n",
       "      <td>0.010017</td>\n",
       "      <td>-0.208705</td>\n",
       "      <td>0.049386</td>\n",
       "      <td>0.027675</td>\n",
       "      <td>0</td>\n",
       "      <td>0.001000</td>\n",
       "    </tr>\n",
       "    <tr>\n",
       "      <th>2</th>\n",
       "      <td>0.007222</td>\n",
       "      <td>0.879617</td>\n",
       "      <td>-0.585084</td>\n",
       "      <td>1.342711</td>\n",
       "      <td>0.319722</td>\n",
       "      <td>-0.971214</td>\n",
       "      <td>-1.719158</td>\n",
       "      <td>-1.033463</td>\n",
       "      <td>0.218678</td>\n",
       "      <td>-1.085625</td>\n",
       "      <td>...</td>\n",
       "      <td>0.122075</td>\n",
       "      <td>-1.169211</td>\n",
       "      <td>-0.596052</td>\n",
       "      <td>0.107330</td>\n",
       "      <td>0.443202</td>\n",
       "      <td>1.119314</td>\n",
       "      <td>0.089819</td>\n",
       "      <td>0.034891</td>\n",
       "      <td>0</td>\n",
       "      <td>0.001000</td>\n",
       "    </tr>\n",
       "    <tr>\n",
       "      <th>3</th>\n",
       "      <td>0.009167</td>\n",
       "      <td>1.056257</td>\n",
       "      <td>0.958284</td>\n",
       "      <td>1.306321</td>\n",
       "      <td>-2.260671</td>\n",
       "      <td>-0.225238</td>\n",
       "      <td>-0.092485</td>\n",
       "      <td>0.356266</td>\n",
       "      <td>-0.023558</td>\n",
       "      <td>1.165119</td>\n",
       "      <td>...</td>\n",
       "      <td>0.022474</td>\n",
       "      <td>0.578880</td>\n",
       "      <td>-0.235727</td>\n",
       "      <td>0.961696</td>\n",
       "      <td>0.346246</td>\n",
       "      <td>0.352786</td>\n",
       "      <td>0.328290</td>\n",
       "      <td>0.015913</td>\n",
       "      <td>0</td>\n",
       "      <td>3.390507</td>\n",
       "    </tr>\n",
       "    <tr>\n",
       "      <th>4</th>\n",
       "      <td>0.011389</td>\n",
       "      <td>0.827262</td>\n",
       "      <td>-0.251887</td>\n",
       "      <td>-0.684657</td>\n",
       "      <td>-0.076610</td>\n",
       "      <td>-0.479253</td>\n",
       "      <td>-0.162641</td>\n",
       "      <td>-1.105629</td>\n",
       "      <td>0.219017</td>\n",
       "      <td>-1.084473</td>\n",
       "      <td>...</td>\n",
       "      <td>0.318296</td>\n",
       "      <td>-0.496126</td>\n",
       "      <td>-0.114626</td>\n",
       "      <td>1.008221</td>\n",
       "      <td>0.186005</td>\n",
       "      <td>0.531161</td>\n",
       "      <td>0.033279</td>\n",
       "      <td>0.050230</td>\n",
       "      <td>0</td>\n",
       "      <td>0.001000</td>\n",
       "    </tr>\n",
       "  </tbody>\n",
       "</table>\n",
       "<p>5 rows × 31 columns</p>\n",
       "</div>"
      ],
      "text/plain": [
       "       Time        V1        V2        V3        V4        V5        V6  \\\n",
       "0  0.007222  0.526711  0.506531  2.323598  0.538318 -1.445373  0.567182   \n",
       "1  0.007222 -1.000721 -0.689407  0.491482 -0.399631 -0.331155 -1.191797   \n",
       "2  0.007222  0.879617 -0.585084  1.342711  0.319722 -0.971214 -1.719158   \n",
       "3  0.009167  1.056257  0.958284  1.306321 -2.260671 -0.225238 -0.092485   \n",
       "4  0.011389  0.827262 -0.251887 -0.684657 -0.076610 -0.479253 -0.162641   \n",
       "\n",
       "         V7        V8        V9  ...       V21       V22       V23       V24  \\\n",
       "0 -1.134017  0.933505  0.585911  ... -0.105562 -0.587608 -0.065944  0.043478   \n",
       "1 -0.904256  0.242771 -1.002102  ...  0.312251 -0.557088 -0.054971  0.938367   \n",
       "2 -1.033463  0.218678 -1.085625  ...  0.122075 -1.169211 -0.596052  0.107330   \n",
       "3  0.356266 -0.023558  1.165119  ...  0.022474  0.578880 -0.235727  0.961696   \n",
       "4 -1.105629  0.219017 -1.084473  ...  0.318296 -0.496126 -0.114626  1.008221   \n",
       "\n",
       "        V25       V26       V27       V28  Class    Amount  \n",
       "0  0.131319 -0.477668 -0.023228  0.187240      0  5.214071  \n",
       "1  0.010017 -0.208705  0.049386  0.027675      0  0.001000  \n",
       "2  0.443202  1.119314  0.089819  0.034891      0  0.001000  \n",
       "3  0.346246  0.352786  0.328290  0.015913      0  3.390507  \n",
       "4  0.186005  0.531161  0.033279  0.050230      0  0.001000  \n",
       "\n",
       "[5 rows x 31 columns]"
      ]
     },
     "execution_count": 34,
     "metadata": {},
     "output_type": "execute_result"
    }
   ],
   "source": [
    "# 데이터 전처리\n",
    "ctgan = generated.copy()\n",
    "\n",
    "# Time 을 일중 시간으로 변환\n",
    "ctgan.loc[:, \"Time\"] = ctgan.loc[:, \"Time\"].apply(lambda x : x / 3600 % 24)\n",
    "\n",
    "# Amount column 은 편차가 크므로 log-scale 로 변환\n",
    "eps=0.001\n",
    "ctgan['Amount'] = np.log(ctgan.pop('Amount') + eps)\n",
    "\n",
    "ctgan.head()"
   ]
  },
  {
   "cell_type": "code",
   "execution_count": 35,
   "id": "892d048e",
   "metadata": {},
   "outputs": [],
   "source": [
    "ctgan_features = ctgan.values\n",
    "ctgan_labels = np.array(ctgan.pop('Class'))"
   ]
  },
  {
   "cell_type": "code",
   "execution_count": 36,
   "id": "8836095d",
   "metadata": {},
   "outputs": [],
   "source": [
    "X_train, X_test, y_train, y_test = train_test_split(ctgan_features, ctgan_labels, test_size=0.3, random_state=0, stratify=ctgan_labels)\n",
    "X_train, X_val, y_train, y_val = train_test_split(X_train, y_train, test_size=0.3, random_state=0)"
   ]
  },
  {
   "cell_type": "code",
   "execution_count": 37,
   "id": "b1d15267",
   "metadata": {},
   "outputs": [],
   "source": [
    "clf = TabNetClassifier(\n",
    "    optimizer_fn=torch.optim.Adam,\n",
    "    optimizer_params=dict(lr=2e-2),\n",
    "    scheduler_params={\"step_size\":10, # how to use learning rate scheduler\n",
    "                      \"gamma\":0.9},\n",
    "    scheduler_fn=torch.optim.lr_scheduler.StepLR,\n",
    "    mask_type='sparsemax' # This will be overwritten if using pretrain model\n",
    ")"
   ]
  },
  {
   "cell_type": "code",
   "execution_count": 38,
   "id": "fb997d40",
   "metadata": {
    "scrolled": true
   },
   "outputs": [
    {
     "name": "stdout",
     "output_type": "stream",
     "text": [
      "epoch 0  | loss: 0.0     | train_logloss: 0.8661  | train_f1: 0.26415 | valid_logloss: 1.15551 | valid_f1: 0.39506 |  0:00:00s\n",
      "epoch 1  | loss: 0.0     | train_logloss: 0.8661  | train_f1: 0.26415 | valid_logloss: 1.15551 | valid_f1: 0.39506 |  0:00:00s\n",
      "epoch 2  | loss: 0.0     | train_logloss: 0.8661  | train_f1: 0.26415 | valid_logloss: 1.15551 | valid_f1: 0.39506 |  0:00:00s\n",
      "epoch 3  | loss: 0.0     | train_logloss: 0.8661  | train_f1: 0.26415 | valid_logloss: 1.15551 | valid_f1: 0.39506 |  0:00:00s\n",
      "epoch 4  | loss: 0.0     | train_logloss: 0.8661  | train_f1: 0.26415 | valid_logloss: 1.15551 | valid_f1: 0.39506 |  0:00:00s\n",
      "epoch 5  | loss: 0.0     | train_logloss: 0.8661  | train_f1: 0.26415 | valid_logloss: 1.15551 | valid_f1: 0.39506 |  0:00:00s\n",
      "epoch 6  | loss: 0.0     | train_logloss: 0.8661  | train_f1: 0.26415 | valid_logloss: 1.15551 | valid_f1: 0.39506 |  0:00:00s\n",
      "epoch 7  | loss: 0.0     | train_logloss: 0.8661  | train_f1: 0.26415 | valid_logloss: 1.15551 | valid_f1: 0.39506 |  0:00:00s\n",
      "epoch 8  | loss: 0.0     | train_logloss: 0.8661  | train_f1: 0.26415 | valid_logloss: 1.15551 | valid_f1: 0.39506 |  0:00:00s\n",
      "epoch 9  | loss: 0.0     | train_logloss: 0.8661  | train_f1: 0.26415 | valid_logloss: 1.15551 | valid_f1: 0.39506 |  0:00:00s\n",
      "epoch 10 | loss: 0.0     | train_logloss: 0.8661  | train_f1: 0.26415 | valid_logloss: 1.15551 | valid_f1: 0.39506 |  0:00:00s\n",
      "\n",
      "Early stopping occurred at epoch 10 with best_epoch = 0 and best_valid_f1 = 0.39506\n"
     ]
    }
   ],
   "source": [
    "clf.fit(X_train,y_train,\n",
    "    eval_set=[(X_train, y_train), (X_val, y_val)],\n",
    "    eval_name=['train', 'valid'],\n",
    "    eval_metric=['logloss','f1'],\n",
    ")"
   ]
  },
  {
   "cell_type": "code",
   "execution_count": 39,
   "id": "398e9c33",
   "metadata": {},
   "outputs": [
    {
     "name": "stdout",
     "output_type": "stream",
     "text": [
      "0.3146067415730337\n"
     ]
    }
   ],
   "source": [
    "predicted_test=clf.predict(X_test)\n",
    "score=f1_score(y_test,predicted_test)\n",
    "print(score)"
   ]
  },
  {
   "cell_type": "code",
   "execution_count": 40,
   "id": "25fa49bb",
   "metadata": {},
   "outputs": [],
   "source": [
    "### predict, predic_proba, predict_classes"
   ]
  }
 ],
 "metadata": {
  "kernelspec": {
   "display_name": "soyeon",
   "language": "python",
   "name": "soyeon"
  },
  "language_info": {
   "codemirror_mode": {
    "name": "ipython",
    "version": 3
   },
   "file_extension": ".py",
   "mimetype": "text/x-python",
   "name": "python",
   "nbconvert_exporter": "python",
   "pygments_lexer": "ipython3",
   "version": "3.8.13"
  }
 },
 "nbformat": 4,
 "nbformat_minor": 5
}
