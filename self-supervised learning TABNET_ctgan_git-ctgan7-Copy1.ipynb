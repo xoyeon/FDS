{
 "cells": [
  {
   "cell_type": "markdown",
   "id": "beaa3c29",
   "metadata": {},
   "source": [
    "- https://medium.com/@vanillaxiangshuyang/self-supervised-learning-on-tabular-data-with-tabnet-544b3ec85cee\n",
    "- https://colab.research.google.com/drive/1P8Obe07DP3VeOld08ThyT1HnChLip_LO#scrollTo=gvy9vUUNOP0W\n",
    "\n",
    "- https://www.kaggle.com/code/sisharaneranjana/semi-supervised-pre-training-with-tabnet#%F0%9F%94%8FDescription-of-the-dataset-\n",
    "- https://dacon.io/en/codeshare/3837"
   ]
  },
  {
   "cell_type": "code",
   "execution_count": 1,
   "id": "133d6436",
   "metadata": {},
   "outputs": [],
   "source": [
    "import pandas as pd\n",
    "import numpy as np\n",
    "import pickle\n",
    "\n",
    "from matplotlib import pyplot as plt\n",
    "%matplotlib inline\n",
    "\n",
    "import warnings\n",
    "warnings.simplefilter(action='ignore')"
   ]
  },
  {
   "cell_type": "code",
   "execution_count": 2,
   "id": "b1b61481",
   "metadata": {},
   "outputs": [],
   "source": [
    "# 원본 데이터\n",
    "data = pd.read_csv(\"./dataset/generated/data7.csv\")"
   ]
  },
  {
   "cell_type": "markdown",
   "id": "77893c77",
   "metadata": {},
   "source": [
    "# 데이터 전처리"
   ]
  },
  {
   "cell_type": "code",
   "execution_count": 3,
   "id": "09afb566",
   "metadata": {},
   "outputs": [
    {
     "data": {
      "text/html": [
       "<div>\n",
       "<style scoped>\n",
       "    .dataframe tbody tr th:only-of-type {\n",
       "        vertical-align: middle;\n",
       "    }\n",
       "\n",
       "    .dataframe tbody tr th {\n",
       "        vertical-align: top;\n",
       "    }\n",
       "\n",
       "    .dataframe thead th {\n",
       "        text-align: right;\n",
       "    }\n",
       "</style>\n",
       "<table border=\"1\" class=\"dataframe\">\n",
       "  <thead>\n",
       "    <tr style=\"text-align: right;\">\n",
       "      <th></th>\n",
       "      <th>Time</th>\n",
       "      <th>V1</th>\n",
       "      <th>V2</th>\n",
       "      <th>V3</th>\n",
       "      <th>V4</th>\n",
       "      <th>V5</th>\n",
       "      <th>V6</th>\n",
       "      <th>V7</th>\n",
       "      <th>V8</th>\n",
       "      <th>V9</th>\n",
       "      <th>...</th>\n",
       "      <th>V21</th>\n",
       "      <th>V22</th>\n",
       "      <th>V23</th>\n",
       "      <th>V24</th>\n",
       "      <th>V25</th>\n",
       "      <th>V26</th>\n",
       "      <th>V27</th>\n",
       "      <th>V28</th>\n",
       "      <th>Class</th>\n",
       "      <th>Amount</th>\n",
       "    </tr>\n",
       "  </thead>\n",
       "  <tbody>\n",
       "    <tr>\n",
       "      <th>0</th>\n",
       "      <td>0.000000</td>\n",
       "      <td>-1.359807</td>\n",
       "      <td>-0.072781</td>\n",
       "      <td>2.536347</td>\n",
       "      <td>1.378155</td>\n",
       "      <td>-0.338321</td>\n",
       "      <td>0.462388</td>\n",
       "      <td>0.239599</td>\n",
       "      <td>0.098698</td>\n",
       "      <td>0.363787</td>\n",
       "      <td>...</td>\n",
       "      <td>-0.018307</td>\n",
       "      <td>0.277838</td>\n",
       "      <td>-0.110474</td>\n",
       "      <td>0.066928</td>\n",
       "      <td>0.128539</td>\n",
       "      <td>-0.189115</td>\n",
       "      <td>0.133558</td>\n",
       "      <td>-0.021053</td>\n",
       "      <td>0</td>\n",
       "      <td>5.008105</td>\n",
       "    </tr>\n",
       "    <tr>\n",
       "      <th>1</th>\n",
       "      <td>0.000000</td>\n",
       "      <td>1.191857</td>\n",
       "      <td>0.266151</td>\n",
       "      <td>0.166480</td>\n",
       "      <td>0.448154</td>\n",
       "      <td>0.060018</td>\n",
       "      <td>-0.082361</td>\n",
       "      <td>-0.078803</td>\n",
       "      <td>0.085102</td>\n",
       "      <td>-0.255425</td>\n",
       "      <td>...</td>\n",
       "      <td>-0.225775</td>\n",
       "      <td>-0.638672</td>\n",
       "      <td>0.101288</td>\n",
       "      <td>-0.339846</td>\n",
       "      <td>0.167170</td>\n",
       "      <td>0.125895</td>\n",
       "      <td>-0.008983</td>\n",
       "      <td>0.014724</td>\n",
       "      <td>0</td>\n",
       "      <td>0.989913</td>\n",
       "    </tr>\n",
       "    <tr>\n",
       "      <th>2</th>\n",
       "      <td>0.000278</td>\n",
       "      <td>-1.358354</td>\n",
       "      <td>-1.340163</td>\n",
       "      <td>1.773209</td>\n",
       "      <td>0.379780</td>\n",
       "      <td>-0.503198</td>\n",
       "      <td>1.800499</td>\n",
       "      <td>0.791461</td>\n",
       "      <td>0.247676</td>\n",
       "      <td>-1.514654</td>\n",
       "      <td>...</td>\n",
       "      <td>0.247998</td>\n",
       "      <td>0.771679</td>\n",
       "      <td>0.909412</td>\n",
       "      <td>-0.689281</td>\n",
       "      <td>-0.327642</td>\n",
       "      <td>-0.139097</td>\n",
       "      <td>-0.055353</td>\n",
       "      <td>-0.059752</td>\n",
       "      <td>0</td>\n",
       "      <td>5.936641</td>\n",
       "    </tr>\n",
       "    <tr>\n",
       "      <th>3</th>\n",
       "      <td>0.000278</td>\n",
       "      <td>-0.966272</td>\n",
       "      <td>-0.185226</td>\n",
       "      <td>1.792993</td>\n",
       "      <td>-0.863291</td>\n",
       "      <td>-0.010309</td>\n",
       "      <td>1.247203</td>\n",
       "      <td>0.237609</td>\n",
       "      <td>0.377436</td>\n",
       "      <td>-1.387024</td>\n",
       "      <td>...</td>\n",
       "      <td>-0.108300</td>\n",
       "      <td>0.005274</td>\n",
       "      <td>-0.190321</td>\n",
       "      <td>-1.175575</td>\n",
       "      <td>0.647376</td>\n",
       "      <td>-0.221929</td>\n",
       "      <td>0.062723</td>\n",
       "      <td>0.061458</td>\n",
       "      <td>0</td>\n",
       "      <td>4.816249</td>\n",
       "    </tr>\n",
       "    <tr>\n",
       "      <th>4</th>\n",
       "      <td>0.000556</td>\n",
       "      <td>-1.158233</td>\n",
       "      <td>0.877737</td>\n",
       "      <td>1.548718</td>\n",
       "      <td>0.403034</td>\n",
       "      <td>-0.407193</td>\n",
       "      <td>0.095921</td>\n",
       "      <td>0.592941</td>\n",
       "      <td>-0.270533</td>\n",
       "      <td>0.817739</td>\n",
       "      <td>...</td>\n",
       "      <td>-0.009431</td>\n",
       "      <td>0.798278</td>\n",
       "      <td>-0.137458</td>\n",
       "      <td>0.141267</td>\n",
       "      <td>-0.206010</td>\n",
       "      <td>0.502292</td>\n",
       "      <td>0.219422</td>\n",
       "      <td>0.215153</td>\n",
       "      <td>0</td>\n",
       "      <td>4.248367</td>\n",
       "    </tr>\n",
       "  </tbody>\n",
       "</table>\n",
       "<p>5 rows × 31 columns</p>\n",
       "</div>"
      ],
      "text/plain": [
       "       Time        V1        V2        V3        V4        V5        V6  \\\n",
       "0  0.000000 -1.359807 -0.072781  2.536347  1.378155 -0.338321  0.462388   \n",
       "1  0.000000  1.191857  0.266151  0.166480  0.448154  0.060018 -0.082361   \n",
       "2  0.000278 -1.358354 -1.340163  1.773209  0.379780 -0.503198  1.800499   \n",
       "3  0.000278 -0.966272 -0.185226  1.792993 -0.863291 -0.010309  1.247203   \n",
       "4  0.000556 -1.158233  0.877737  1.548718  0.403034 -0.407193  0.095921   \n",
       "\n",
       "         V7        V8        V9  ...       V21       V22       V23       V24  \\\n",
       "0  0.239599  0.098698  0.363787  ... -0.018307  0.277838 -0.110474  0.066928   \n",
       "1 -0.078803  0.085102 -0.255425  ... -0.225775 -0.638672  0.101288 -0.339846   \n",
       "2  0.791461  0.247676 -1.514654  ...  0.247998  0.771679  0.909412 -0.689281   \n",
       "3  0.237609  0.377436 -1.387024  ... -0.108300  0.005274 -0.190321 -1.175575   \n",
       "4  0.592941 -0.270533  0.817739  ... -0.009431  0.798278 -0.137458  0.141267   \n",
       "\n",
       "        V25       V26       V27       V28  Class    Amount  \n",
       "0  0.128539 -0.189115  0.133558 -0.021053      0  5.008105  \n",
       "1  0.167170  0.125895 -0.008983  0.014724      0  0.989913  \n",
       "2 -0.327642 -0.139097 -0.055353 -0.059752      0  5.936641  \n",
       "3  0.647376 -0.221929  0.062723  0.061458      0  4.816249  \n",
       "4 -0.206010  0.502292  0.219422  0.215153      0  4.248367  \n",
       "\n",
       "[5 rows x 31 columns]"
      ]
     },
     "execution_count": 3,
     "metadata": {},
     "output_type": "execute_result"
    }
   ],
   "source": [
    "df = data.copy()\n",
    "\n",
    "# Time 을 일중 시간으로 변환\n",
    "df.loc[:, \"Time\"] = df.loc[:, \"Time\"].apply(lambda x : x / 3600 % 24)\n",
    "\n",
    "# Amount column 은 편차가 크므로 log-scale 로 변환\n",
    "df['Amount'] = np.log(df.pop('Amount') + 0.001)\n",
    "\n",
    "df.head()"
   ]
  },
  {
   "cell_type": "markdown",
   "id": "bdaacba4",
   "metadata": {},
   "source": [
    "# train_test_split"
   ]
  },
  {
   "cell_type": "code",
   "execution_count": 4,
   "id": "55434ea7",
   "metadata": {},
   "outputs": [],
   "source": [
    "from sklearn.model_selection import train_test_split"
   ]
  },
  {
   "cell_type": "code",
   "execution_count": 5,
   "id": "4f0340ab",
   "metadata": {},
   "outputs": [],
   "source": [
    "features = df.values\n",
    "labels = np.array(df.pop('Class'))"
   ]
  },
  {
   "cell_type": "code",
   "execution_count": 6,
   "id": "b0af8321",
   "metadata": {},
   "outputs": [
    {
     "name": "stdout",
     "output_type": "stream",
     "text": [
      "X train shape:  (71577, 31)\n",
      "Y train shape:  (71577,)\n",
      "===============\n",
      "X validation shape:  (71577, 31)\n",
      "y validation shape:  (71577,)\n",
      "===============\n",
      "X test shape:  (143155, 31)\n",
      "Y test shape:  (143155,)\n"
     ]
    }
   ],
   "source": [
    "X_train, X_test, y_train, y_test = train_test_split(features, labels, test_size=0.5, random_state=0, stratify=labels)\n",
    "X_train, X_val, y_train, y_val = train_test_split(X_train, y_train, test_size=0.5, random_state=0)\n",
    "\n",
    "print(\"X train shape: \", X_train.shape)\n",
    "print(\"Y train shape: \", y_train.shape)\n",
    "print(\"===============\")\n",
    "print(\"X validation shape: \", X_val.shape)\n",
    "print(\"y validation shape: \", y_val.shape)\n",
    "print(\"===============\")\n",
    "print(\"X test shape: \", X_test.shape)\n",
    "print(\"Y test shape: \", y_test.shape)"
   ]
  },
  {
   "cell_type": "code",
   "execution_count": 7,
   "id": "bac72bef",
   "metadata": {},
   "outputs": [],
   "source": [
    "from sklearn.preprocessing import StandardScaler\n",
    "\n",
    "sc = StandardScaler()\n",
    "X_train = sc.fit_transform(X_train)\n",
    "X_test = sc.transform(X_test)\n",
    "X_val= sc.transform(X_val)"
   ]
  },
  {
   "cell_type": "markdown",
   "id": "6af6520d",
   "metadata": {},
   "source": [
    "# Network parameters"
   ]
  },
  {
   "cell_type": "markdown",
   "id": "48ac5bab",
   "metadata": {},
   "source": [
    "- https://github.com/dreamquark-ai/tabnet\n",
    "- https://github.com/dreamquark-ai/tabnet/blob/develop/pretraining_example.ipynb"
   ]
  },
  {
   "cell_type": "code",
   "execution_count": 8,
   "id": "629eb55b",
   "metadata": {},
   "outputs": [],
   "source": [
    "import torch\n",
    "from pytorch_tabnet.pretraining import TabNetPretrainer\n",
    "from pytorch_tabnet.tab_model import TabNetClassifier"
   ]
  },
  {
   "cell_type": "code",
   "execution_count": 9,
   "id": "f5671fc5",
   "metadata": {},
   "outputs": [],
   "source": [
    "# TabNetPretrainer\n",
    "unsupervised_model = TabNetPretrainer(\n",
    "#     cat_idxs=cat_idxs,\n",
    "#     cat_dims=cat_dims,\n",
    "#     cat_emb_dim=3,\n",
    "    optimizer_fn=torch.optim.Adam,\n",
    "    optimizer_params=dict(lr=2e-2),\n",
    "    mask_type='entmax', # \"sparsemax\",\n",
    "    n_shared_decoder=1, # nb shared glu for decoding\n",
    "    n_indep_decoder=1, # nb independent glu for decoding\n",
    "#     grouped_features=[[0, 1]], # you can group features together here\n",
    "    verbose=5,\n",
    ")"
   ]
  },
  {
   "cell_type": "markdown",
   "id": "8185666f",
   "metadata": {},
   "source": [
    "# Self Supervised Training"
   ]
  },
  {
   "cell_type": "code",
   "execution_count": 10,
   "id": "f9ed2b30",
   "metadata": {},
   "outputs": [],
   "source": [
    "max_epochs = 100"
   ]
  },
  {
   "cell_type": "code",
   "execution_count": 11,
   "id": "c7a0c8e5",
   "metadata": {},
   "outputs": [
    {
     "name": "stdout",
     "output_type": "stream",
     "text": [
      "epoch 0  | loss: 1.62514 | val_0_unsup_loss_numpy: 0.9977899789810181|  0:00:08s\n",
      "epoch 5  | loss: 0.93351 | val_0_unsup_loss_numpy: 0.9346200227737427|  0:00:51s\n",
      "epoch 10 | loss: 0.9055  | val_0_unsup_loss_numpy: 0.9001299738883972|  0:01:31s\n",
      "epoch 15 | loss: 0.89072 | val_0_unsup_loss_numpy: 0.8520600199699402|  0:02:09s\n",
      "epoch 20 | loss: 0.87838 | val_0_unsup_loss_numpy: 0.8607900142669678|  0:02:53s\n",
      "\n",
      "Early stopping occurred at epoch 20 with best_epoch = 15 and best_val_0_unsup_loss_numpy = 0.8520600199699402\n"
     ]
    }
   ],
   "source": [
    "unsupervised_model.fit(\n",
    "    X_train=X_train,\n",
    "    eval_set=[X_val],\n",
    "    max_epochs=max_epochs , patience=5,\n",
    "    batch_size=2048, virtual_batch_size=128,\n",
    "    num_workers=0,\n",
    "    drop_last=False,\n",
    "    pretraining_ratio=0.5,\n",
    ")"
   ]
  },
  {
   "cell_type": "code",
   "execution_count": 12,
   "id": "99ea7777",
   "metadata": {},
   "outputs": [],
   "source": [
    "# Make reconstruction from a dataset\n",
    "reconstructed_X, embedded_X = unsupervised_model.predict(X_val)\n",
    "assert(reconstructed_X.shape==embedded_X.shape)"
   ]
  },
  {
   "cell_type": "code",
   "execution_count": 13,
   "id": "a97337ca",
   "metadata": {},
   "outputs": [],
   "source": [
    "unsupervised_explain_matrix, unsupervised_masks = unsupervised_model.explain(X_val)"
   ]
  },
  {
   "cell_type": "code",
   "execution_count": 14,
   "id": "dee164a9",
   "metadata": {},
   "outputs": [
    {
     "data": {
      "image/png": "[encoded data removed]",
      "text/plain": [
       "<Figure size 2000x2000 with 3 Axes>"
      ]
     },
     "metadata": {},
     "output_type": "display_data"
    }
   ],
   "source": [
    "fig, axs = plt.subplots(1, 3, figsize=(20,20))\n",
    "\n",
    "for i in range(3):\n",
    "    axs[i].imshow(unsupervised_masks[i][:50])\n",
    "    axs[i].set_title(f\"mask {i}\")"
   ]
  },
  {
   "cell_type": "markdown",
   "id": "393411df",
   "metadata": {},
   "source": [
    "# Save and load the same way as other TabNet models"
   ]
  },
  {
   "cell_type": "code",
   "execution_count": 15,
   "id": "f247a25d",
   "metadata": {},
   "outputs": [
    {
     "name": "stdout",
     "output_type": "stream",
     "text": [
      "Successfully saved model at ./test_pretrain.zip\n"
     ]
    }
   ],
   "source": [
    "unsupervised_model.save_model('./test_pretrain')\n",
    "loaded_pretrain = TabNetPretrainer()\n",
    "loaded_pretrain.load_model('./test_pretrain.zip')"
   ]
  },
  {
   "cell_type": "markdown",
   "id": "cfa76762",
   "metadata": {},
   "source": [
    "# Training"
   ]
  },
  {
   "cell_type": "code",
   "execution_count": 16,
   "id": "0b1f9be8",
   "metadata": {},
   "outputs": [],
   "source": [
    "clf = TabNetClassifier(optimizer_fn=torch.optim.Adam,\n",
    "                       optimizer_params=dict(lr=2e-3),\n",
    "                       scheduler_params={\"step_size\":10, # how to use learning rate scheduler\n",
    "                                         \"gamma\":0.9},\n",
    "                       scheduler_fn=torch.optim.lr_scheduler.StepLR,\n",
    "                       mask_type='sparsemax', # This will be overwritten if using pretrain model\n",
    "                       verbose=5,\n",
    "                      )"
   ]
  },
  {
   "cell_type": "code",
   "execution_count": 17,
   "id": "d74730e5",
   "metadata": {},
   "outputs": [],
   "source": [
    "from pytorch_tabnet.metrics import Metric\n",
    "from sklearn.metrics import f1_score\n",
    "\n",
    "class F1_Score(Metric):\n",
    "    def __init__(self):\n",
    "        self._name = \"f1\"\n",
    "        self._maximize = True\n",
    "\n",
    "    def __call__(self, y_true, y_score):\n",
    "        score = f1_score(y_true, (y_score[:, 1]>0.5)*1)\n",
    "        return score"
   ]
  },
  {
   "cell_type": "code",
   "execution_count": 18,
   "id": "35d0835b",
   "metadata": {},
   "outputs": [
    {
     "name": "stdout",
     "output_type": "stream",
     "text": [
      "epoch 0  | loss: 0.45104 | train_logloss: 0.39295 | train_f1: 0.08298 | valid_logloss: 0.39316 | valid_f1: 0.08247 |  0:00:09s\n",
      "epoch 5  | loss: 0.00495 | train_logloss: 0.00261 | train_f1: 0.97752 | valid_logloss: 0.00269 | valid_f1: 0.96787 |  0:00:57s\n",
      "epoch 10 | loss: 0.00255 | train_logloss: 0.00088 | train_f1: 0.9901  | valid_logloss: 0.00057 | valid_f1: 0.99399 |  0:01:48s\n",
      "epoch 15 | loss: 0.00143 | train_logloss: 0.00054 | train_f1: 0.99404 | valid_logloss: 0.00032 | valid_f1: 0.99699 |  0:02:35s\n",
      "epoch 20 | loss: 0.00125 | train_logloss: 0.00047 | train_f1: 0.99404 | valid_logloss: 0.00017 | valid_f1: 0.99899 |  0:03:21s\n",
      "epoch 25 | loss: 0.0009  | train_logloss: 0.0002  | train_f1: 0.99701 | valid_logloss: 0.00012 | valid_f1: 0.99899 |  0:04:09s\n",
      "epoch 30 | loss: 0.00079 | train_logloss: 0.00026 | train_f1: 0.99602 | valid_logloss: 4e-05   | valid_f1: 1.0     |  0:05:00s\n",
      "epoch 35 | loss: 0.0009  | train_logloss: 0.00017 | train_f1: 0.99701 | valid_logloss: 3e-05   | valid_f1: 1.0     |  0:05:50s\n",
      "epoch 40 | loss: 0.00079 | train_logloss: 0.0002  | train_f1: 0.998   | valid_logloss: 2e-05   | valid_f1: 1.0     |  0:06:39s\n",
      "\n",
      "Early stopping occurred at epoch 42 with best_epoch = 22 and best_valid_f1 = 1.0\n"
     ]
    }
   ],
   "source": [
    "clf.fit(\n",
    "    X_train=X_train, y_train=y_train,\n",
    "    eval_set=[(X_train, y_train), (X_val, y_val)],\n",
    "    eval_name=['train', 'valid'],\n",
    "    eval_metric=['logloss','f1'],\n",
    "    max_epochs=max_epochs , patience=20,\n",
    "    batch_size=1024, virtual_batch_size=128,\n",
    "    num_workers=0,\n",
    "    weights=1,\n",
    "    drop_last=False,\n",
    "    from_unsupervised=loaded_pretrain,\n",
    "    \n",
    ") "
   ]
  },
  {
   "cell_type": "code",
   "execution_count": 19,
   "id": "4ef09e90",
   "metadata": {},
   "outputs": [
    {
     "data": {
      "text/plain": [
       "[<matplotlib.lines.Line2D at 0x2d2ab26f3a0>]"
      ]
     },
     "execution_count": 19,
     "metadata": {},
     "output_type": "execute_result"
    },
    {
     "data": {
      "image/png": "[encoded data removed]",
      "text/plain": [
       "<Figure size 640x480 with 1 Axes>"
      ]
     },
     "metadata": {},
     "output_type": "display_data"
    }
   ],
   "source": [
    "# plot losses\n",
    "plt.plot(clf.history['loss'])"
   ]
  },
  {
   "cell_type": "code",
   "execution_count": 20,
   "id": "94c9d046",
   "metadata": {},
   "outputs": [
    {
     "data": {
      "text/plain": [
       "[<matplotlib.lines.Line2D at 0x2d2c27ffd30>]"
      ]
     },
     "execution_count": 20,
     "metadata": {},
     "output_type": "execute_result"
    },
    {
     "data": {
      "image/png": "[encoded data removed]",
      "text/plain": [
       "<Figure size 640x480 with 1 Axes>"
      ]
     },
     "metadata": {},
     "output_type": "display_data"
    }
   ],
   "source": [
    "# plot auc\n",
    "plt.plot(clf.history['train_f1'])\n",
    "plt.plot(clf.history['valid_f1'])"
   ]
  },
  {
   "cell_type": "code",
   "execution_count": 21,
   "id": "58330feb",
   "metadata": {},
   "outputs": [
    {
     "data": {
      "text/plain": [
       "[<matplotlib.lines.Line2D at 0x2d2b794aa60>]"
      ]
     },
     "execution_count": 21,
     "metadata": {},
     "output_type": "execute_result"
    },
    {
     "data": {
      "image/png": "[encoded data removed]",
      "text/plain": [
       "<Figure size 640x480 with 1 Axes>"
      ]
     },
     "metadata": {},
     "output_type": "display_data"
    }
   ],
   "source": [
    "# plot learning rates\n",
    "plt.plot(clf.history['lr'])"
   ]
  },
  {
   "cell_type": "markdown",
   "id": "c586ef59",
   "metadata": {},
   "source": [
    "# Predictions"
   ]
  },
  {
   "cell_type": "code",
   "execution_count": 22,
   "id": "da3e71f8",
   "metadata": {},
   "outputs": [
    {
     "name": "stdout",
     "output_type": "stream",
     "text": [
      "BEST VALID SCORE :  1.0\n",
      "FINAL TEST SCORE :  0.9925261584454409\n"
     ]
    }
   ],
   "source": [
    "# preds = clf.predict_proba(X_test)\n",
    "preds = clf.predict(X_test)\n",
    "test_f1 = f1_score(preds, y_test)\n",
    "\n",
    "preds_val = clf.predict(X_val)\n",
    "valid_f1 = f1_score(preds_val, y_val)\n",
    "\n",
    "print(\"BEST VALID SCORE : \", clf.best_cost)\n",
    "print(\"FINAL TEST SCORE : \", test_f1)"
   ]
  },
  {
   "cell_type": "code",
   "execution_count": 23,
   "id": "19d5344e",
   "metadata": {},
   "outputs": [],
   "source": [
    "# check that best weights are used\n",
    "assert np.isclose(valid_f1, np.max(clf.history['valid_f1']), atol=1e-6)"
   ]
  },
  {
   "cell_type": "markdown",
   "id": "33204480",
   "metadata": {},
   "source": [
    "# Save and load Model"
   ]
  },
  {
   "cell_type": "code",
   "execution_count": 24,
   "id": "efc2e303",
   "metadata": {},
   "outputs": [
    {
     "name": "stdout",
     "output_type": "stream",
     "text": [
      "Successfully saved model at ./tabnet_model_test_1.zip\n"
     ]
    }
   ],
   "source": [
    "# save tabnet model\n",
    "saving_path_name = \"./tabnet_model_test_1\"\n",
    "saved_filepath = clf.save_model(saving_path_name)"
   ]
  },
  {
   "cell_type": "code",
   "execution_count": 25,
   "id": "2fb52965",
   "metadata": {},
   "outputs": [],
   "source": [
    "# define new model with basic parameters and load state dict weights\n",
    "loaded_clf = TabNetClassifier()\n",
    "loaded_clf.load_model(saved_filepath)"
   ]
  },
  {
   "cell_type": "code",
   "execution_count": 26,
   "id": "77b9eb67",
   "metadata": {},
   "outputs": [
    {
     "name": "stdout",
     "output_type": "stream",
     "text": [
      "FINAL TEST SCORE :  0.9925261584454409\n"
     ]
    }
   ],
   "source": [
    "# loaded_preds = loaded_clf.predict_proba(X_test)\n",
    "loaded_preds = loaded_clf.predict(X_test)\n",
    "loaded_test_f1 = f1_score(loaded_preds, y_test)\n",
    "\n",
    "print(\"FINAL TEST SCORE : \",loaded_test_f1)"
   ]
  },
  {
   "cell_type": "code",
   "execution_count": 27,
   "id": "b4316495",
   "metadata": {},
   "outputs": [],
   "source": [
    "assert(test_f1 == loaded_test_f1)"
   ]
  },
  {
   "cell_type": "markdown",
   "id": "0499af89",
   "metadata": {},
   "source": [
    "# Global explainability : feat importance summing to "
   ]
  },
  {
   "cell_type": "code",
   "execution_count": 28,
   "id": "6bb37934",
   "metadata": {},
   "outputs": [
    {
     "data": {
      "text/plain": [
       "array([3.45361417e-02, 6.05140878e-02, 1.30709121e-02, 2.83407552e-04,\n",
       "       2.24033903e-04, 1.10499946e-07, 1.13697375e-03, 8.19507993e-03,\n",
       "       3.09324350e-02, 4.53449330e-03, 4.51150170e-03, 9.82450674e-03,\n",
       "       7.15685736e-02, 6.19300926e-05, 1.93173332e-01, 1.76084686e-05,\n",
       "       2.01331259e-04, 9.56001124e-02, 3.06727247e-06, 6.95766289e-02,\n",
       "       6.51646370e-03, 3.28923784e-07, 1.36120316e-03, 1.58738989e-06,\n",
       "       3.73855669e-02, 1.49397224e-05, 4.15479898e-03, 7.69345654e-05,\n",
       "       3.36091036e-04, 3.28998025e-01, 2.31877923e-02])"
      ]
     },
     "execution_count": 28,
     "metadata": {},
     "output_type": "execute_result"
    }
   ],
   "source": [
    "clf.feature_importances_"
   ]
  },
  {
   "cell_type": "markdown",
   "id": "5f24fcdd",
   "metadata": {},
   "source": [
    "# Local explainability and masks"
   ]
  },
  {
   "cell_type": "code",
   "execution_count": 29,
   "id": "2542b2a2",
   "metadata": {},
   "outputs": [],
   "source": [
    "explain_matrix, masks = clf.explain(X_test)"
   ]
  },
  {
   "cell_type": "code",
   "execution_count": 30,
   "id": "33f07525",
   "metadata": {},
   "outputs": [
    {
     "data": {
      "image/png": "[encoded data removed]",
      "text/plain": [
       "<Figure size 2000x2000 with 3 Axes>"
      ]
     },
     "metadata": {},
     "output_type": "display_data"
    }
   ],
   "source": [
    "fig, axs = plt.subplots(1, 3, figsize=(20,20))\n",
    "\n",
    "for i in range(3):\n",
    "    axs[i].imshow(masks[i][:50])\n",
    "    axs[i].set_title(f\"mask {i}\")"
   ]
  },
  {
   "cell_type": "code",
   "execution_count": null,
   "id": "b4c372f2",
   "metadata": {},
   "outputs": [],
   "source": []
  }
 ],
 "metadata": {
  "kernelspec": {
   "display_name": "soyeon",
   "language": "python",
   "name": "soyeon"
  },
  "language_info": {
   "codemirror_mode": {
    "name": "ipython",
    "version": 3
   },
   "file_extension": ".py",
   "mimetype": "text/x-python",
   "name": "python",
   "nbconvert_exporter": "python",
   "pygments_lexer": "ipython3",
   "version": "3.8.13"
  }
 },
 "nbformat": 4,
 "nbformat_minor": 5
}
