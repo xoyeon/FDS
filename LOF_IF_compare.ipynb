{
 "cells": [
  {
   "cell_type": "code",
   "execution_count": 16,
   "id": "06ef3af4",
   "metadata": {},
   "outputs": [],
   "source": [
    "import numpy as np\n",
    "import pandas as pd\n",
    "import sklearn\n",
    "import scipy\n",
    "import matplotlib.pyplot as plt\n",
    "import seaborn as sns\n",
    "from sklearn.manifold import TSNE\n",
    "\n",
    "from sklearn.metrics import classification_report, precision_score, recall_score, accuracy_score, confusion_matrix,f1_score\n",
    "from sklearn.model_selection import train_test_split\n",
    "from sklearn.preprocessing import StandardScaler\n",
    "from sklearn.cluster import DBSCAN\n",
    "from sklearn.ensemble import IsolationForest\n",
    "from sklearn.neighbors import LocalOutlierFactor\n",
    "\n",
    "import time"
   ]
  },
  {
   "cell_type": "code",
   "execution_count": 2,
   "id": "665f496c",
   "metadata": {},
   "outputs": [
    {
     "data": {
      "text/html": [
       "<div>\n",
       "<style scoped>\n",
       "    .dataframe tbody tr th:only-of-type {\n",
       "        vertical-align: middle;\n",
       "    }\n",
       "\n",
       "    .dataframe tbody tr th {\n",
       "        vertical-align: top;\n",
       "    }\n",
       "\n",
       "    .dataframe thead th {\n",
       "        text-align: right;\n",
       "    }\n",
       "</style>\n",
       "<table border=\"1\" class=\"dataframe\">\n",
       "  <thead>\n",
       "    <tr style=\"text-align: right;\">\n",
       "      <th></th>\n",
       "      <th>Time</th>\n",
       "      <th>V1</th>\n",
       "      <th>V2</th>\n",
       "      <th>V3</th>\n",
       "      <th>V4</th>\n",
       "      <th>V5</th>\n",
       "      <th>V6</th>\n",
       "      <th>V7</th>\n",
       "      <th>V8</th>\n",
       "      <th>V9</th>\n",
       "      <th>...</th>\n",
       "      <th>V21</th>\n",
       "      <th>V22</th>\n",
       "      <th>V23</th>\n",
       "      <th>V24</th>\n",
       "      <th>V25</th>\n",
       "      <th>V26</th>\n",
       "      <th>V27</th>\n",
       "      <th>V28</th>\n",
       "      <th>Amount</th>\n",
       "      <th>Class</th>\n",
       "    </tr>\n",
       "  </thead>\n",
       "  <tbody>\n",
       "    <tr>\n",
       "      <th>0</th>\n",
       "      <td>0:00:00</td>\n",
       "      <td>-1.359807</td>\n",
       "      <td>-0.072781</td>\n",
       "      <td>2.536347</td>\n",
       "      <td>1.378155</td>\n",
       "      <td>-0.338321</td>\n",
       "      <td>0.462388</td>\n",
       "      <td>0.239599</td>\n",
       "      <td>0.098698</td>\n",
       "      <td>0.363787</td>\n",
       "      <td>...</td>\n",
       "      <td>-0.018307</td>\n",
       "      <td>0.277838</td>\n",
       "      <td>-0.110474</td>\n",
       "      <td>0.066928</td>\n",
       "      <td>0.128539</td>\n",
       "      <td>-0.189115</td>\n",
       "      <td>0.133558</td>\n",
       "      <td>-0.021053</td>\n",
       "      <td>5.008105</td>\n",
       "      <td>0</td>\n",
       "    </tr>\n",
       "    <tr>\n",
       "      <th>1</th>\n",
       "      <td>0:00:00</td>\n",
       "      <td>1.191857</td>\n",
       "      <td>0.266151</td>\n",
       "      <td>0.166480</td>\n",
       "      <td>0.448154</td>\n",
       "      <td>0.060018</td>\n",
       "      <td>-0.082361</td>\n",
       "      <td>-0.078803</td>\n",
       "      <td>0.085102</td>\n",
       "      <td>-0.255425</td>\n",
       "      <td>...</td>\n",
       "      <td>-0.225775</td>\n",
       "      <td>-0.638672</td>\n",
       "      <td>0.101288</td>\n",
       "      <td>-0.339846</td>\n",
       "      <td>0.167170</td>\n",
       "      <td>0.125895</td>\n",
       "      <td>-0.008983</td>\n",
       "      <td>0.014724</td>\n",
       "      <td>0.989913</td>\n",
       "      <td>0</td>\n",
       "    </tr>\n",
       "    <tr>\n",
       "      <th>2</th>\n",
       "      <td>0:00:24</td>\n",
       "      <td>-1.358354</td>\n",
       "      <td>-1.340163</td>\n",
       "      <td>1.773209</td>\n",
       "      <td>0.379780</td>\n",
       "      <td>-0.503198</td>\n",
       "      <td>1.800499</td>\n",
       "      <td>0.791461</td>\n",
       "      <td>0.247676</td>\n",
       "      <td>-1.514654</td>\n",
       "      <td>...</td>\n",
       "      <td>0.247998</td>\n",
       "      <td>0.771679</td>\n",
       "      <td>0.909412</td>\n",
       "      <td>-0.689281</td>\n",
       "      <td>-0.327642</td>\n",
       "      <td>-0.139097</td>\n",
       "      <td>-0.055353</td>\n",
       "      <td>-0.059752</td>\n",
       "      <td>5.936641</td>\n",
       "      <td>0</td>\n",
       "    </tr>\n",
       "    <tr>\n",
       "      <th>3</th>\n",
       "      <td>0:00:24</td>\n",
       "      <td>-0.966272</td>\n",
       "      <td>-0.185226</td>\n",
       "      <td>1.792993</td>\n",
       "      <td>-0.863291</td>\n",
       "      <td>-0.010309</td>\n",
       "      <td>1.247203</td>\n",
       "      <td>0.237609</td>\n",
       "      <td>0.377436</td>\n",
       "      <td>-1.387024</td>\n",
       "      <td>...</td>\n",
       "      <td>-0.108300</td>\n",
       "      <td>0.005274</td>\n",
       "      <td>-0.190321</td>\n",
       "      <td>-1.175575</td>\n",
       "      <td>0.647376</td>\n",
       "      <td>-0.221929</td>\n",
       "      <td>0.062723</td>\n",
       "      <td>0.061458</td>\n",
       "      <td>4.816249</td>\n",
       "      <td>0</td>\n",
       "    </tr>\n",
       "    <tr>\n",
       "      <th>4</th>\n",
       "      <td>0:00:48</td>\n",
       "      <td>-1.158233</td>\n",
       "      <td>0.877737</td>\n",
       "      <td>1.548718</td>\n",
       "      <td>0.403034</td>\n",
       "      <td>-0.407193</td>\n",
       "      <td>0.095921</td>\n",
       "      <td>0.592941</td>\n",
       "      <td>-0.270533</td>\n",
       "      <td>0.817739</td>\n",
       "      <td>...</td>\n",
       "      <td>-0.009431</td>\n",
       "      <td>0.798278</td>\n",
       "      <td>-0.137458</td>\n",
       "      <td>0.141267</td>\n",
       "      <td>-0.206010</td>\n",
       "      <td>0.502292</td>\n",
       "      <td>0.219422</td>\n",
       "      <td>0.215153</td>\n",
       "      <td>4.248367</td>\n",
       "      <td>0</td>\n",
       "    </tr>\n",
       "  </tbody>\n",
       "</table>\n",
       "<p>5 rows × 31 columns</p>\n",
       "</div>"
      ],
      "text/plain": [
       "      Time        V1        V2        V3        V4        V5        V6  \\\n",
       "0  0:00:00 -1.359807 -0.072781  2.536347  1.378155 -0.338321  0.462388   \n",
       "1  0:00:00  1.191857  0.266151  0.166480  0.448154  0.060018 -0.082361   \n",
       "2  0:00:24 -1.358354 -1.340163  1.773209  0.379780 -0.503198  1.800499   \n",
       "3  0:00:24 -0.966272 -0.185226  1.792993 -0.863291 -0.010309  1.247203   \n",
       "4  0:00:48 -1.158233  0.877737  1.548718  0.403034 -0.407193  0.095921   \n",
       "\n",
       "         V7        V8        V9  ...       V21       V22       V23       V24  \\\n",
       "0  0.239599  0.098698  0.363787  ... -0.018307  0.277838 -0.110474  0.066928   \n",
       "1 -0.078803  0.085102 -0.255425  ... -0.225775 -0.638672  0.101288 -0.339846   \n",
       "2  0.791461  0.247676 -1.514654  ...  0.247998  0.771679  0.909412 -0.689281   \n",
       "3  0.237609  0.377436 -1.387024  ... -0.108300  0.005274 -0.190321 -1.175575   \n",
       "4  0.592941 -0.270533  0.817739  ... -0.009431  0.798278 -0.137458  0.141267   \n",
       "\n",
       "        V25       V26       V27       V28    Amount  Class  \n",
       "0  0.128539 -0.189115  0.133558 -0.021053  5.008105      0  \n",
       "1  0.167170  0.125895 -0.008983  0.014724  0.989913      0  \n",
       "2 -0.327642 -0.139097 -0.055353 -0.059752  5.936641      0  \n",
       "3  0.647376 -0.221929  0.062723  0.061458  4.816249      0  \n",
       "4 -0.206010  0.502292  0.219422  0.215153  4.248367      0  \n",
       "\n",
       "[5 rows x 31 columns]"
      ]
     },
     "execution_count": 2,
     "metadata": {},
     "output_type": "execute_result"
    }
   ],
   "source": [
    "df = pd.read_csv('./dataset/inflearn_creditcard.csv')\n",
    "df.head()"
   ]
  },
  {
   "cell_type": "code",
   "execution_count": 3,
   "id": "3af4e53e",
   "metadata": {},
   "outputs": [
    {
     "data": {
      "text/plain": [
       "((473, 31), (283253, 31))"
      ]
     },
     "execution_count": 3,
     "metadata": {},
     "output_type": "execute_result"
    }
   ],
   "source": [
    "fraud = df[df['Class'] == 1].copy()\n",
    "normal = df[df['Class'] == 0].copy()\n",
    "\n",
    "outlier_fraction = len(fraud)/float(len(normal))\n",
    "\n",
    "fraud.shape, normal.shape"
   ]
  },
  {
   "cell_type": "code",
   "execution_count": 4,
   "id": "33377211",
   "metadata": {},
   "outputs": [
    {
     "data": {
      "text/plain": [
       "((283726, 29), (283726,))"
      ]
     },
     "execution_count": 4,
     "metadata": {},
     "output_type": "execute_result"
    }
   ],
   "source": [
    "X = df.drop(['Time','Class'], axis=1).values\n",
    "y = df['Class'].values\n",
    "X.shape, y.shape"
   ]
  },
  {
   "cell_type": "code",
   "execution_count": 5,
   "id": "c0aa95c9",
   "metadata": {},
   "outputs": [
    {
     "data": {
      "text/plain": [
       "((141863, 29), (141863, 29), (141863,), (141863,))"
      ]
     },
     "execution_count": 5,
     "metadata": {},
     "output_type": "execute_result"
    }
   ],
   "source": [
    "X_train, X_test, y_train, y_test = train_test_split(X, y, \n",
    "                            test_size=0.5, random_state=0)\n",
    "X_train.shape, X_test.shape, y_train.shape, y_test.shape"
   ]
  },
  {
   "cell_type": "code",
   "execution_count": 6,
   "id": "65f5e65f",
   "metadata": {},
   "outputs": [
    {
     "data": {
      "text/plain": [
       "0.001769312646708444"
      ]
     },
     "execution_count": 6,
     "metadata": {},
     "output_type": "execute_result"
    }
   ],
   "source": [
    "# fraud data 비율\n",
    "sum(y_train == 1) / len(y_train)"
   ]
  },
  {
   "cell_type": "markdown",
   "id": "f26a3fc6",
   "metadata": {},
   "source": [
    "# Local Outlier Factor(LOF) Algorithm"
   ]
  },
  {
   "cell_type": "code",
   "execution_count": 7,
   "id": "f2edf7b3",
   "metadata": {},
   "outputs": [
    {
     "name": "stdout",
     "output_type": "stream",
     "text": [
      "CPU times: total: 17min 23s\n",
      "Wall time: 19min 24s\n"
     ]
    },
    {
     "data": {
      "text/plain": [
       "LocalOutlierFactor(contamination=0.0016698852262818046, novelty=True)"
      ]
     },
     "execution_count": 7,
     "metadata": {},
     "output_type": "execute_result"
    }
   ],
   "source": [
    "%%time\n",
    "\n",
    "lof = LocalOutlierFactor(contamination=outlier_fraction, novelty=True).fit(X_train)\n",
    "lof"
   ]
  },
  {
   "cell_type": "code",
   "execution_count": 8,
   "id": "529ba382",
   "metadata": {},
   "outputs": [
    {
     "name": "stdout",
     "output_type": "stream",
     "text": [
      "LOF 의 분류 값 : [-1  1]\n",
      "1 로 분류된 sample 수: 141648\n",
      "-1 로 분류된 sample 수: 215\n",
      "CPU times: total: 16min 29s\n",
      "Wall time: 18min 34s\n"
     ]
    }
   ],
   "source": [
    "%%time\n",
    "y_pred_lof = lof.predict(X_test)\n",
    "\n",
    "print(\"LOF 의 분류 값 :\", np.unique(y_pred_lof))\n",
    "print(\"1 로 분류된 sample 수:\", sum(y_pred_lof == 1))\n",
    "print(\"-1 로 분류된 sample 수:\", sum(y_pred_lof == -1))"
   ]
  },
  {
   "cell_type": "code",
   "execution_count": 23,
   "id": "f0728cc2",
   "metadata": {},
   "outputs": [
    {
     "name": "stdout",
     "output_type": "stream",
     "text": [
      "              precision    recall  f1-score   support\n",
      "\n",
      "           0       1.00      1.00      1.00    141641\n",
      "           1       0.00      0.00      0.00       222\n",
      "\n",
      "    accuracy                           1.00    141863\n",
      "   macro avg       0.50      0.50      0.50    141863\n",
      "weighted avg       1.00      1.00      1.00    141863\n",
      "\n"
     ]
    },
    {
     "name": "stderr",
     "output_type": "stream",
     "text": [
      "C:\\Users\\syeon\\AppData\\Local\\Packages\\PythonSoftwareFoundation.Python.3.8_qbz5n2kfra8p0\\LocalCache\\local-packages\\Python38\\site-packages\\sklearn\\metrics\\_classification.py:1221: UndefinedMetricWarning: Precision and F-score are ill-defined and being set to 0.0 in labels with no predicted samples. Use `zero_division` parameter to control this behavior.\n",
      "  _warn_prf(average, modifier, msg_start, len(result))\n"
     ]
    }
   ],
   "source": [
    "y_pred_lof[y_pred_lof == 1] = 0\n",
    "y_pred_lof[y_pred_lof == -1] = 1\n",
    "\n",
    "print(classification_report(y_test, y_pred_lof))"
   ]
  },
  {
   "cell_type": "markdown",
   "id": "bb20f941",
   "metadata": {},
   "source": [
    "# Isolation Forest Algorithm"
   ]
  },
  {
   "cell_type": "code",
   "execution_count": 10,
   "id": "e65fb828",
   "metadata": {},
   "outputs": [
    {
     "name": "stdout",
     "output_type": "stream",
     "text": [
      "CPU times: total: 31.3 s\n",
      "Wall time: 36.3 s\n"
     ]
    }
   ],
   "source": [
    "%%time\n",
    "isof = IsolationForest(contamination=outlier_fraction).fit(X_train)"
   ]
  },
  {
   "cell_type": "code",
   "execution_count": 11,
   "id": "3c42f907",
   "metadata": {},
   "outputs": [
    {
     "name": "stdout",
     "output_type": "stream",
     "text": [
      "ISOF 의 분류 값 : [-1  1]\n",
      "1 로 분류된 sample 수: 141621\n",
      "-1 로 분류된 sample 수: 242\n",
      "CPU times: total: 16.3 s\n",
      "Wall time: 19.3 s\n"
     ]
    }
   ],
   "source": [
    "%%time\n",
    "y_pred_isof = isof.predict(X_test)\n",
    "\n",
    "print(\"ISOF 의 분류 값 :\", np.unique(y_pred_isof))\n",
    "print(\"1 로 분류된 sample 수:\", sum(y_pred_isof == 1))\n",
    "print(\"-1 로 분류된 sample 수:\", sum(y_pred_isof == -1))"
   ]
  },
  {
   "cell_type": "code",
   "execution_count": 24,
   "id": "c4a12a5a",
   "metadata": {},
   "outputs": [
    {
     "name": "stdout",
     "output_type": "stream",
     "text": [
      "              precision    recall  f1-score   support\n",
      "\n",
      "           0       1.00      1.00      1.00    141641\n",
      "           1       0.00      0.00      0.00       222\n",
      "\n",
      "    accuracy                           1.00    141863\n",
      "   macro avg       0.50      0.50      0.50    141863\n",
      "weighted avg       1.00      1.00      1.00    141863\n",
      "\n"
     ]
    }
   ],
   "source": [
    "y_pred_isof[y_pred_isof == 1] = 0\n",
    "y_pred_isof[y_pred_isof == -1] = 1\n",
    "\n",
    "print(classification_report(y_test, y_pred_lof))"
   ]
  },
  {
   "cell_type": "markdown",
   "id": "85b67c4a",
   "metadata": {},
   "source": [
    "# Model 비교"
   ]
  },
  {
   "cell_type": "code",
   "execution_count": 21,
   "id": "9e31a075",
   "metadata": {},
   "outputs": [],
   "source": [
    "predictions = {\"lof\": y_pred_lof, \"isof\": y_pred_isof}"
   ]
  },
  {
   "cell_type": "code",
   "execution_count": 25,
   "id": "1e8347c8",
   "metadata": {},
   "outputs": [
    {
     "name": "stdout",
     "output_type": "stream",
     "text": [
      "lof: 222\n",
      "f1 score: 0.00000\n",
      "Accuracy Score : 0.99844\n",
      "Precision Score: 0.00000\n",
      "Recall Score   : 0.00000\n",
      "\n"
     ]
    },
    {
     "name": "stderr",
     "output_type": "stream",
     "text": [
      "C:\\Users\\syeon\\AppData\\Local\\Packages\\PythonSoftwareFoundation.Python.3.8_qbz5n2kfra8p0\\LocalCache\\local-packages\\Python38\\site-packages\\sklearn\\metrics\\_classification.py:1221: UndefinedMetricWarning: Precision is ill-defined and being set to 0.0 due to no predicted samples. Use `zero_division` parameter to control this behavior.\n",
      "  _warn_prf(average, modifier, msg_start, len(result))\n"
     ]
    },
    {
     "data": {
      "image/png": "[encoded data removed]",
      "text/plain": [
       "<Figure size 640x480 with 2 Axes>"
      ]
     },
     "metadata": {},
     "output_type": "display_data"
    },
    {
     "name": "stdout",
     "output_type": "stream",
     "text": [
      "isof: 222\n",
      "f1 score: 0.00000\n",
      "Accuracy Score : 0.99844\n",
      "Precision Score: 0.00000\n",
      "Recall Score   : 0.00000\n",
      "\n"
     ]
    },
    {
     "data": {
      "image/png": "[encoded data removed]",
      "text/plain": [
       "<Figure size 640x480 with 2 Axes>"
      ]
     },
     "metadata": {},
     "output_type": "display_data"
    }
   ],
   "source": [
    "for clf_name, y_pred in predictions.items():\n",
    "    \n",
    "    n_errors = (y_pred != y_test).sum()\n",
    "    \n",
    "    # Run Classification Metrics\n",
    "    print(f\"{clf_name}: {n_errors}\")\n",
    "    print(f\"f1 score: {f1_score(y_test, y_pred):.5f}\")\n",
    "    print(f\"Accuracy Score : {accuracy_score(y_test, y_pred):.5f}\")\n",
    "    print(f\"Precision Score: {precision_score(y_test, y_pred):.5f}\")\n",
    "    print(f\"Recall Score   : {recall_score(y_test, y_pred):.5f}\")\n",
    "    print()\n",
    "\n",
    "    cm = confusion_matrix(y_test, y_pred)\n",
    "    plt.figure()\n",
    "    ax = sns.heatmap(cm, annot=True, fmt='d')\n",
    "    ax.set_title(clf_name)\n",
    "    ax.set_ylabel('True')\n",
    "    ax.set_xlabel('Predicted')\n",
    "    plt.show()"
   ]
  },
  {
   "cell_type": "code",
   "execution_count": null,
   "id": "124d8c32",
   "metadata": {},
   "outputs": [],
   "source": []
  }
 ],
 "metadata": {
  "kernelspec": {
   "display_name": "soyeon",
   "language": "python",
   "name": "soyeon"
  },
  "language_info": {
   "codemirror_mode": {
    "name": "ipython",
    "version": 3
   },
   "file_extension": ".py",
   "mimetype": "text/x-python",
   "name": "python",
   "nbconvert_exporter": "python",
   "pygments_lexer": "ipython3",
   "version": "3.8.10"
  }
 },
 "nbformat": 4,
 "nbformat_minor": 5
}
