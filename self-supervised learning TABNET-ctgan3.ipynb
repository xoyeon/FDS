{
 "cells": [
  {
   "cell_type": "markdown",
   "id": "beaa3c29",
   "metadata": {},
   "source": [
    "- https://medium.com/@vanillaxiangshuyang/self-supervised-learning-on-tabular-data-with-tabnet-544b3ec85cee\n",
    "- https://colab.research.google.com/drive/1P8Obe07DP3VeOld08ThyT1HnChLip_LO#scrollTo=gvy9vUUNOP0W\n",
    "\n",
    "- https://www.kaggle.com/code/sisharaneranjana/semi-supervised-pre-training-with-tabnet#%F0%9F%94%8FDescription-of-the-dataset-\n",
    "- https://dacon.io/en/codeshare/3837"
   ]
  },
  {
   "cell_type": "code",
   "execution_count": 1,
   "id": "133d6436",
   "metadata": {},
   "outputs": [],
   "source": [
    "import pandas as pd\n",
    "import numpy as np\n",
    "import pickle\n",
    "\n",
    "import warnings\n",
    "warnings.simplefilter(action='ignore')"
   ]
  },
  {
   "cell_type": "code",
   "execution_count": 2,
   "id": "09afb566",
   "metadata": {},
   "outputs": [],
   "source": [
    "# 원본 데이터\n",
    "data = pd.read_csv(\"./dataset/generated/data3.csv\")"
   ]
  },
  {
   "cell_type": "markdown",
   "id": "7392ef24",
   "metadata": {},
   "source": [
    "# 데이터 전처리"
   ]
  },
  {
   "cell_type": "code",
   "execution_count": 3,
   "id": "b17a9bd5",
   "metadata": {},
   "outputs": [],
   "source": [
    "df = data.copy()\n",
    "\n",
    "# Time 을 일중 시간으로 변환\n",
    "df.loc[:, \"Time\"] = df.loc[:, \"Time\"].apply(lambda x : x / 3600 % 24)\n",
    "\n",
    "# Amount column 은 편차가 크므로 log-scale 로 변환\n",
    "df['Amount'] = np.log(df.pop('Amount') + 0.001)"
   ]
  },
  {
   "cell_type": "code",
   "execution_count": 4,
   "id": "1ced8e53",
   "metadata": {},
   "outputs": [
    {
     "data": {
      "text/html": [
       "<div>\n",
       "<style scoped>\n",
       "    .dataframe tbody tr th:only-of-type {\n",
       "        vertical-align: middle;\n",
       "    }\n",
       "\n",
       "    .dataframe tbody tr th {\n",
       "        vertical-align: top;\n",
       "    }\n",
       "\n",
       "    .dataframe thead th {\n",
       "        text-align: right;\n",
       "    }\n",
       "</style>\n",
       "<table border=\"1\" class=\"dataframe\">\n",
       "  <thead>\n",
       "    <tr style=\"text-align: right;\">\n",
       "      <th></th>\n",
       "      <th>Unnamed: 0</th>\n",
       "      <th>Time</th>\n",
       "      <th>V1</th>\n",
       "      <th>V2</th>\n",
       "      <th>V3</th>\n",
       "      <th>V4</th>\n",
       "      <th>V5</th>\n",
       "      <th>V6</th>\n",
       "      <th>V7</th>\n",
       "      <th>V8</th>\n",
       "      <th>...</th>\n",
       "      <th>V21</th>\n",
       "      <th>V22</th>\n",
       "      <th>V23</th>\n",
       "      <th>V24</th>\n",
       "      <th>V25</th>\n",
       "      <th>V26</th>\n",
       "      <th>V27</th>\n",
       "      <th>V28</th>\n",
       "      <th>Class</th>\n",
       "      <th>Amount</th>\n",
       "    </tr>\n",
       "  </thead>\n",
       "  <tbody>\n",
       "    <tr>\n",
       "      <th>0</th>\n",
       "      <td>0</td>\n",
       "      <td>0.000000</td>\n",
       "      <td>-1.359807</td>\n",
       "      <td>-0.072781</td>\n",
       "      <td>2.536347</td>\n",
       "      <td>1.378155</td>\n",
       "      <td>-0.338321</td>\n",
       "      <td>0.462388</td>\n",
       "      <td>0.239599</td>\n",
       "      <td>0.098698</td>\n",
       "      <td>...</td>\n",
       "      <td>-0.018307</td>\n",
       "      <td>0.277838</td>\n",
       "      <td>-0.110474</td>\n",
       "      <td>0.066928</td>\n",
       "      <td>0.128539</td>\n",
       "      <td>-0.189115</td>\n",
       "      <td>0.133558</td>\n",
       "      <td>-0.021053</td>\n",
       "      <td>0</td>\n",
       "      <td>5.008105</td>\n",
       "    </tr>\n",
       "    <tr>\n",
       "      <th>1</th>\n",
       "      <td>1</td>\n",
       "      <td>0.000000</td>\n",
       "      <td>1.191857</td>\n",
       "      <td>0.266151</td>\n",
       "      <td>0.166480</td>\n",
       "      <td>0.448154</td>\n",
       "      <td>0.060018</td>\n",
       "      <td>-0.082361</td>\n",
       "      <td>-0.078803</td>\n",
       "      <td>0.085102</td>\n",
       "      <td>...</td>\n",
       "      <td>-0.225775</td>\n",
       "      <td>-0.638672</td>\n",
       "      <td>0.101288</td>\n",
       "      <td>-0.339846</td>\n",
       "      <td>0.167170</td>\n",
       "      <td>0.125895</td>\n",
       "      <td>-0.008983</td>\n",
       "      <td>0.014724</td>\n",
       "      <td>0</td>\n",
       "      <td>0.989913</td>\n",
       "    </tr>\n",
       "    <tr>\n",
       "      <th>2</th>\n",
       "      <td>2</td>\n",
       "      <td>0.000278</td>\n",
       "      <td>-1.358354</td>\n",
       "      <td>-1.340163</td>\n",
       "      <td>1.773209</td>\n",
       "      <td>0.379780</td>\n",
       "      <td>-0.503198</td>\n",
       "      <td>1.800499</td>\n",
       "      <td>0.791461</td>\n",
       "      <td>0.247676</td>\n",
       "      <td>...</td>\n",
       "      <td>0.247998</td>\n",
       "      <td>0.771679</td>\n",
       "      <td>0.909412</td>\n",
       "      <td>-0.689281</td>\n",
       "      <td>-0.327642</td>\n",
       "      <td>-0.139097</td>\n",
       "      <td>-0.055353</td>\n",
       "      <td>-0.059752</td>\n",
       "      <td>0</td>\n",
       "      <td>5.936641</td>\n",
       "    </tr>\n",
       "    <tr>\n",
       "      <th>3</th>\n",
       "      <td>3</td>\n",
       "      <td>0.000278</td>\n",
       "      <td>-0.966272</td>\n",
       "      <td>-0.185226</td>\n",
       "      <td>1.792993</td>\n",
       "      <td>-0.863291</td>\n",
       "      <td>-0.010309</td>\n",
       "      <td>1.247203</td>\n",
       "      <td>0.237609</td>\n",
       "      <td>0.377436</td>\n",
       "      <td>...</td>\n",
       "      <td>-0.108300</td>\n",
       "      <td>0.005274</td>\n",
       "      <td>-0.190321</td>\n",
       "      <td>-1.175575</td>\n",
       "      <td>0.647376</td>\n",
       "      <td>-0.221929</td>\n",
       "      <td>0.062723</td>\n",
       "      <td>0.061458</td>\n",
       "      <td>0</td>\n",
       "      <td>4.816249</td>\n",
       "    </tr>\n",
       "    <tr>\n",
       "      <th>4</th>\n",
       "      <td>4</td>\n",
       "      <td>0.000556</td>\n",
       "      <td>-1.158233</td>\n",
       "      <td>0.877737</td>\n",
       "      <td>1.548718</td>\n",
       "      <td>0.403034</td>\n",
       "      <td>-0.407193</td>\n",
       "      <td>0.095921</td>\n",
       "      <td>0.592941</td>\n",
       "      <td>-0.270533</td>\n",
       "      <td>...</td>\n",
       "      <td>-0.009431</td>\n",
       "      <td>0.798278</td>\n",
       "      <td>-0.137458</td>\n",
       "      <td>0.141267</td>\n",
       "      <td>-0.206010</td>\n",
       "      <td>0.502292</td>\n",
       "      <td>0.219422</td>\n",
       "      <td>0.215153</td>\n",
       "      <td>0</td>\n",
       "      <td>4.248367</td>\n",
       "    </tr>\n",
       "  </tbody>\n",
       "</table>\n",
       "<p>5 rows × 32 columns</p>\n",
       "</div>"
      ],
      "text/plain": [
       "   Unnamed: 0      Time        V1        V2        V3        V4        V5  \\\n",
       "0           0  0.000000 -1.359807 -0.072781  2.536347  1.378155 -0.338321   \n",
       "1           1  0.000000  1.191857  0.266151  0.166480  0.448154  0.060018   \n",
       "2           2  0.000278 -1.358354 -1.340163  1.773209  0.379780 -0.503198   \n",
       "3           3  0.000278 -0.966272 -0.185226  1.792993 -0.863291 -0.010309   \n",
       "4           4  0.000556 -1.158233  0.877737  1.548718  0.403034 -0.407193   \n",
       "\n",
       "         V6        V7        V8  ...       V21       V22       V23       V24  \\\n",
       "0  0.462388  0.239599  0.098698  ... -0.018307  0.277838 -0.110474  0.066928   \n",
       "1 -0.082361 -0.078803  0.085102  ... -0.225775 -0.638672  0.101288 -0.339846   \n",
       "2  1.800499  0.791461  0.247676  ...  0.247998  0.771679  0.909412 -0.689281   \n",
       "3  1.247203  0.237609  0.377436  ... -0.108300  0.005274 -0.190321 -1.175575   \n",
       "4  0.095921  0.592941 -0.270533  ... -0.009431  0.798278 -0.137458  0.141267   \n",
       "\n",
       "        V25       V26       V27       V28  Class    Amount  \n",
       "0  0.128539 -0.189115  0.133558 -0.021053      0  5.008105  \n",
       "1  0.167170  0.125895 -0.008983  0.014724      0  0.989913  \n",
       "2 -0.327642 -0.139097 -0.055353 -0.059752      0  5.936641  \n",
       "3  0.647376 -0.221929  0.062723  0.061458      0  4.816249  \n",
       "4 -0.206010  0.502292  0.219422  0.215153      0  4.248367  \n",
       "\n",
       "[5 rows x 32 columns]"
      ]
     },
     "execution_count": 4,
     "metadata": {},
     "output_type": "execute_result"
    }
   ],
   "source": [
    "df.head()"
   ]
  },
  {
   "cell_type": "markdown",
   "id": "bdaacba4",
   "metadata": {},
   "source": [
    "# train_test_split"
   ]
  },
  {
   "cell_type": "code",
   "execution_count": 5,
   "id": "55434ea7",
   "metadata": {},
   "outputs": [],
   "source": [
    "from sklearn.model_selection import train_test_split"
   ]
  },
  {
   "cell_type": "code",
   "execution_count": 6,
   "id": "4f0340ab",
   "metadata": {},
   "outputs": [],
   "source": [
    "features = df.values\n",
    "labels = np.array(df.pop('Class'))"
   ]
  },
  {
   "cell_type": "code",
   "execution_count": 7,
   "id": "b0af8321",
   "metadata": {},
   "outputs": [
    {
     "name": "stdout",
     "output_type": "stream",
     "text": [
      "X train shape:  (71292, 32)\n",
      "X validation shape:  (71293, 32)\n",
      "X test shape:  (142585, 32)\n",
      "Y train shape:  (71292,)\n",
      "Y validation shape:  (71293,)\n",
      "Y test shape:  (142585,)\n"
     ]
    }
   ],
   "source": [
    "X_train, X_test, y_train, y_test = train_test_split(features, labels, test_size=0.5, random_state=0, stratify=labels)\n",
    "X_train, X_val, y_train, y_val = train_test_split(X_train, y_train, test_size=0.5, random_state=0)\n",
    "\n",
    "print(\"X train shape: \", X_train.shape)\n",
    "print(\"X validation shape: \", X_val.shape)\n",
    "print(\"X test shape: \", X_test.shape)\n",
    "print(\"Y train shape: \", y_train.shape)\n",
    "print(\"Y validation shape: \", y_val.shape)\n",
    "print(\"Y test shape: \", y_test.shape)"
   ]
  },
  {
   "cell_type": "code",
   "execution_count": 8,
   "id": "bac72bef",
   "metadata": {},
   "outputs": [],
   "source": [
    "from sklearn.preprocessing import StandardScaler\n",
    "\n",
    "sc = StandardScaler()\n",
    "X_train = sc.fit_transform(X_train)\n",
    "X_test = sc.transform(X_test)\n",
    "x_val= sc.transform(X_val)"
   ]
  },
  {
   "cell_type": "markdown",
   "id": "6af6520d",
   "metadata": {},
   "source": [
    "# TabNetClassifier"
   ]
  },
  {
   "cell_type": "markdown",
   "id": "48ac5bab",
   "metadata": {},
   "source": [
    "https://github.com/dreamquark-ai/tabnet"
   ]
  },
  {
   "cell_type": "code",
   "execution_count": 9,
   "id": "35d0835b",
   "metadata": {},
   "outputs": [],
   "source": [
    "# train on the whole dataset with labels\n",
    "import torch\n",
    "from pytorch_tabnet.tab_model import TabNetClassifier\n",
    "\n",
    "supervised = TabNetClassifier(\n",
    "    optimizer_fn=torch.optim.Adam,\n",
    "    optimizer_params=dict(lr=2e-2),\n",
    "    scheduler_params={\"step_size\":10, # how to use learning rate scheduler\n",
    "                      \"gamma\":0.9},\n",
    "    scheduler_fn=torch.optim.lr_scheduler.StepLR,\n",
    "    mask_type='sparsemax' # This will be overwritten if using pretrain model\n",
    ")"
   ]
  },
  {
   "cell_type": "code",
   "execution_count": 10,
   "id": "80dd707f",
   "metadata": {},
   "outputs": [],
   "source": [
    "from pytorch_tabnet.metrics import Metric\n",
    "from sklearn.metrics import f1_score\n",
    "\n",
    "class F1_Score(Metric):\n",
    "    def __init__(self):\n",
    "        self._name = \"f1\"\n",
    "        self._maximize = True\n",
    "\n",
    "    def __call__(self, y_true, y_score):\n",
    "        score = f1_score(y_true, (y_score[:, 1]>0.5)*1)\n",
    "        return score"
   ]
  },
  {
   "cell_type": "code",
   "execution_count": 11,
   "id": "55f92b2e",
   "metadata": {},
   "outputs": [
    {
     "name": "stdout",
     "output_type": "stream",
     "text": [
      "epoch 0  | loss: 0.08366 | val_0_logloss: 0.0169  | val_0_f1: 0.45198 | val_1_logloss: 0.01779 | val_1_f1: 0.33437 |  0:00:10s\n",
      "epoch 1  | loss: 0.01182 | val_0_logloss: 0.00814 | val_0_f1: 0.72632 | val_1_logloss: 0.00863 | val_1_f1: 0.69914 |  0:00:21s\n",
      "epoch 2  | loss: 0.00755 | val_0_logloss: 0.00916 | val_0_f1: 0.74328 | val_1_logloss: 0.01024 | val_1_f1: 0.68195 |  0:00:31s\n",
      "epoch 3  | loss: 0.00669 | val_0_logloss: 0.00903 | val_0_f1: 0.81416 | val_1_logloss: 0.011   | val_1_f1: 0.77641 |  0:00:41s\n",
      "epoch 4  | loss: 0.00624 | val_0_logloss: 0.00756 | val_0_f1: 0.82511 | val_1_logloss: 0.0069  | val_1_f1: 0.79293 |  0:00:53s\n",
      "epoch 5  | loss: 0.00707 | val_0_logloss: 0.00494 | val_0_f1: 0.85106 | val_1_logloss: 0.0047  | val_1_f1: 0.816   |  0:01:06s\n",
      "epoch 6  | loss: 0.00529 | val_0_logloss: 0.00632 | val_0_f1: 0.76316 | val_1_logloss: 0.00655 | val_1_f1: 0.76271 |  0:01:18s\n",
      "epoch 7  | loss: 0.00503 | val_0_logloss: 0.00436 | val_0_f1: 0.88837 | val_1_logloss: 0.00351 | val_1_f1: 0.85564 |  0:01:30s\n",
      "epoch 8  | loss: 0.00314 | val_0_logloss: 0.00334 | val_0_f1: 0.88557 | val_1_logloss: 0.00338 | val_1_f1: 0.85635 |  0:01:42s\n",
      "epoch 9  | loss: 0.00283 | val_0_logloss: 0.00302 | val_0_f1: 0.88626 | val_1_logloss: 0.00294 | val_1_f1: 0.86016 |  0:01:54s\n",
      "epoch 10 | loss: 0.00196 | val_0_logloss: 0.00503 | val_0_f1: 0.77778 | val_1_logloss: 0.00436 | val_1_f1: 0.71471 |  0:02:05s\n",
      "epoch 11 | loss: 0.00173 | val_0_logloss: 0.00399 | val_0_f1: 0.82597 | val_1_logloss: 0.00414 | val_1_f1: 0.76276 |  0:02:16s\n",
      "epoch 12 | loss: 0.00126 | val_0_logloss: 0.00656 | val_0_f1: 0.59327 | val_1_logloss: 0.00708 | val_1_f1: 0.49477 |  0:02:27s\n",
      "epoch 13 | loss: 0.00132 | val_0_logloss: 0.00808 | val_0_f1: 0.35294 | val_1_logloss: 0.00806 | val_1_f1: 0.28333 |  0:02:38s\n",
      "epoch 14 | loss: 0.00069 | val_0_logloss: 0.01002 | val_0_f1: 0.29119 | val_1_logloss: 0.00984 | val_1_f1: 0.22511 |  0:02:49s\n",
      "\n",
      "Early stopping occurred at epoch 14 with best_epoch = 9 and best_val_1_f1 = 0.86016\n"
     ]
    }
   ],
   "source": [
    "supervised.fit(X_train, y_train,\n",
    "               patience=5,\n",
    "               eval_set=[(X_train, y_train), (x_val,y_val)],\n",
    "               eval_metric=['logloss','f1']\n",
    ")"
   ]
  },
  {
   "cell_type": "code",
   "execution_count": 12,
   "id": "58330feb",
   "metadata": {},
   "outputs": [
    {
     "name": "stdout",
     "output_type": "stream",
     "text": [
      "0.8737373737373738\n"
     ]
    }
   ],
   "source": [
    "predicted_test = supervised.predict(X_test)\n",
    "score = f1_score(y_test,predicted_test)\n",
    "print(score)"
   ]
  },
  {
   "cell_type": "code",
   "execution_count": 13,
   "id": "da3e71f8",
   "metadata": {},
   "outputs": [],
   "source": [
    "from pytorch_tabnet.pretraining import TabNetPretrainer\n",
    "\n",
    "# TabNetPretrainer\n",
    "unsupervised = TabNetPretrainer(\n",
    "    optimizer_fn=torch.optim.Adam,\n",
    "    optimizer_params=dict(lr=2e-2),\n",
    "    mask_type='entmax' # \"sparsemax\"\n",
    ")"
   ]
  },
  {
   "cell_type": "code",
   "execution_count": 14,
   "id": "19d5344e",
   "metadata": {},
   "outputs": [
    {
     "name": "stdout",
     "output_type": "stream",
     "text": [
      "epoch 0  | loss: 1.33566 | val_0_unsup_loss_numpy: 5110445.5|  0:00:11s\n",
      "epoch 1  | loss: 0.9939  | val_0_unsup_loss_numpy: 89464944.0|  0:00:22s\n",
      "epoch 2  | loss: 0.98544 | val_0_unsup_loss_numpy: 3225056.5|  0:00:33s\n",
      "epoch 3  | loss: 0.98276 | val_0_unsup_loss_numpy: 485151.21875|  0:00:43s\n",
      "epoch 4  | loss: 0.97515 | val_0_unsup_loss_numpy: 62346912.0|  0:00:54s\n",
      "epoch 5  | loss: 0.96886 | val_0_unsup_loss_numpy: 4731309056.0|  0:01:05s\n",
      "epoch 6  | loss: 0.96686 | val_0_unsup_loss_numpy: 15139349504.0|  0:01:16s\n",
      "epoch 7  | loss: 0.96801 | val_0_unsup_loss_numpy: 27528189952.0|  0:01:27s\n",
      "epoch 8  | loss: 0.96398 | val_0_unsup_loss_numpy: 75670680.0|  0:01:37s\n",
      "epoch 9  | loss: 0.96017 | val_0_unsup_loss_numpy: 380426048.0|  0:01:48s\n",
      "epoch 10 | loss: 0.95443 | val_0_unsup_loss_numpy: 134012232.0|  0:02:00s\n",
      "epoch 11 | loss: 0.9491  | val_0_unsup_loss_numpy: 81459648.0|  0:02:10s\n",
      "epoch 12 | loss: 0.95885 | val_0_unsup_loss_numpy: 263123920.0|  0:02:20s\n",
      "epoch 13 | loss: 0.95728 | val_0_unsup_loss_numpy: 375844288.0|  0:02:30s\n",
      "\n",
      "Early stopping occurred at epoch 13 with best_epoch = 3 and best_val_0_unsup_loss_numpy = 485151.21875\n"
     ]
    }
   ],
   "source": [
    "unsupervised.fit(X_train,\n",
    "                 eval_set=[X_val],\n",
    "                 pretraining_ratio=0.8,\n",
    ")"
   ]
  },
  {
   "cell_type": "markdown",
   "id": "b96de21b",
   "metadata": {},
   "source": [
    "# Pre-trained 된 모델로 test"
   ]
  },
  {
   "cell_type": "code",
   "execution_count": 15,
   "id": "b1d15267",
   "metadata": {},
   "outputs": [],
   "source": [
    "clf = TabNetClassifier(\n",
    "    optimizer_fn=torch.optim.Adam,\n",
    "    optimizer_params=dict(lr=2e-2),\n",
    "    scheduler_params={\"step_size\":10, # how to use learning rate scheduler\n",
    "                      \"gamma\":0.9},\n",
    "    scheduler_fn=torch.optim.lr_scheduler.StepLR,\n",
    "    mask_type='sparsemax' # This will be overwritten if using pretrain model\n",
    ")"
   ]
  },
  {
   "cell_type": "code",
   "execution_count": 16,
   "id": "fb997d40",
   "metadata": {},
   "outputs": [
    {
     "name": "stdout",
     "output_type": "stream",
     "text": [
      "epoch 0  | loss: 0.05682 | train_logloss: 0.01411 | train_f1: 0.63934 | valid_logloss: 0.0685  | valid_f1: 0.24786 |  0:00:11s\n",
      "epoch 1  | loss: 0.00809 | train_logloss: 0.00588 | train_f1: 0.82323 | valid_logloss: 0.06248 | valid_f1: 0.28479 |  0:00:23s\n",
      "epoch 2  | loss: 0.00513 | train_logloss: 0.00446 | train_f1: 0.83688 | valid_logloss: 0.06317 | valid_f1: 0.28794 |  0:00:34s\n",
      "epoch 3  | loss: 0.00485 | train_logloss: 0.00348 | train_f1: 0.86331 | valid_logloss: 0.0317  | valid_f1: 0.39628 |  0:00:45s\n",
      "epoch 4  | loss: 0.00372 | train_logloss: 0.00187 | train_f1: 0.96056 | valid_logloss: 0.06221 | valid_f1: 0.27004 |  0:00:56s\n",
      "epoch 5  | loss: 0.00146 | train_logloss: 9e-05   | train_f1: 1.0     | valid_logloss: 0.07236 | valid_f1: 0.08411 |  0:01:07s\n",
      "epoch 6  | loss: 0.00085 | train_logloss: 7e-05   | train_f1: 0.99775 | valid_logloss: 0.07175 | valid_f1: 0.16143 |  0:01:19s\n",
      "epoch 7  | loss: 0.00065 | train_logloss: 2e-05   | train_f1: 1.0     | valid_logloss: 0.07362 | valid_f1: 0.13636 |  0:01:30s\n",
      "epoch 8  | loss: 0.00056 | train_logloss: 2e-05   | train_f1: 1.0     | valid_logloss: 0.07132 | valid_f1: 0.12785 |  0:01:42s\n",
      "epoch 9  | loss: 0.00047 | train_logloss: 1e-05   | train_f1: 1.0     | valid_logloss: 0.07167 | valid_f1: 0.06604 |  0:01:53s\n",
      "epoch 10 | loss: 0.00053 | train_logloss: 2e-05   | train_f1: 1.0     | valid_logloss: 0.07162 | valid_f1: 0.08411 |  0:02:06s\n",
      "epoch 11 | loss: 0.00041 | train_logloss: 1e-05   | train_f1: 1.0     | valid_logloss: 0.07189 | valid_f1: 0.05687 |  0:02:17s\n",
      "epoch 12 | loss: 0.00038 | train_logloss: 1e-05   | train_f1: 1.0     | valid_logloss: 0.07277 | valid_f1: 0.04762 |  0:02:28s\n",
      "epoch 13 | loss: 0.00036 | train_logloss: 1e-05   | train_f1: 1.0     | valid_logloss: 0.07186 | valid_f1: 0.03828 |  0:02:40s\n",
      "\n",
      "Early stopping occurred at epoch 13 with best_epoch = 3 and best_valid_f1 = 0.39628\n"
     ]
    }
   ],
   "source": [
    "clf.fit(X_train,y_train,\n",
    "    eval_set=[(X_train, y_train), (X_val, y_val)],\n",
    "    eval_name=['train', 'valid'],\n",
    "    eval_metric=['logloss','f1'],\n",
    "    from_unsupervised=unsupervised\n",
    ")"
   ]
  },
  {
   "cell_type": "code",
   "execution_count": 17,
   "id": "398e9c33",
   "metadata": {},
   "outputs": [
    {
     "name": "stdout",
     "output_type": "stream",
     "text": [
      "0.8585987261146497\n"
     ]
    }
   ],
   "source": [
    "predicted_test=clf.predict(X_test)\n",
    "score=f1_score(y_test,predicted_test)\n",
    "print(score)"
   ]
  },
  {
   "cell_type": "code",
   "execution_count": null,
   "id": "25fa49bb",
   "metadata": {},
   "outputs": [],
   "source": []
  }
 ],
 "metadata": {
  "kernelspec": {
   "display_name": "soyeon",
   "language": "python",
   "name": "soyeon"
  },
  "language_info": {
   "codemirror_mode": {
    "name": "ipython",
    "version": 3
   },
   "file_extension": ".py",
   "mimetype": "text/x-python",
   "name": "python",
   "nbconvert_exporter": "python",
   "pygments_lexer": "ipython3",
   "version": "3.8.13"
  }
 },
 "nbformat": 4,
 "nbformat_minor": 5
}
