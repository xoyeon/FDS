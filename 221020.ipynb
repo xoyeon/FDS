{
 "cells": [
  {
   "cell_type": "code",
   "execution_count": 1,
   "id": "6cdd6282",
   "metadata": {},
   "outputs": [],
   "source": [
    "import pandas as pd\n",
    "import numpy as np\n",
    "\n",
    "import seaborn as sns\n",
    "import matplotlib.pyplot as plt\n",
    "\n",
    "import warnings\n",
    "warnings.filterwarnings(\"ignore\")"
   ]
  },
  {
   "cell_type": "code",
   "execution_count": 2,
   "id": "9f35710a",
   "metadata": {},
   "outputs": [
    {
     "data": {
      "text/html": [
       "<div>\n",
       "<style scoped>\n",
       "    .dataframe tbody tr th:only-of-type {\n",
       "        vertical-align: middle;\n",
       "    }\n",
       "\n",
       "    .dataframe tbody tr th {\n",
       "        vertical-align: top;\n",
       "    }\n",
       "\n",
       "    .dataframe thead th {\n",
       "        text-align: right;\n",
       "    }\n",
       "</style>\n",
       "<table border=\"1\" class=\"dataframe\">\n",
       "  <thead>\n",
       "    <tr style=\"text-align: right;\">\n",
       "      <th></th>\n",
       "      <th>Time</th>\n",
       "      <th>V1</th>\n",
       "      <th>V2</th>\n",
       "      <th>V3</th>\n",
       "      <th>V4</th>\n",
       "      <th>V5</th>\n",
       "      <th>V6</th>\n",
       "      <th>V7</th>\n",
       "      <th>V8</th>\n",
       "      <th>V9</th>\n",
       "      <th>...</th>\n",
       "      <th>V21</th>\n",
       "      <th>V22</th>\n",
       "      <th>V23</th>\n",
       "      <th>V24</th>\n",
       "      <th>V25</th>\n",
       "      <th>V26</th>\n",
       "      <th>V27</th>\n",
       "      <th>V28</th>\n",
       "      <th>Amount</th>\n",
       "      <th>Class</th>\n",
       "    </tr>\n",
       "  </thead>\n",
       "  <tbody>\n",
       "    <tr>\n",
       "      <th>0</th>\n",
       "      <td>0.0</td>\n",
       "      <td>-1.359807</td>\n",
       "      <td>-0.072781</td>\n",
       "      <td>2.536347</td>\n",
       "      <td>1.378155</td>\n",
       "      <td>-0.338321</td>\n",
       "      <td>0.462388</td>\n",
       "      <td>0.239599</td>\n",
       "      <td>0.098698</td>\n",
       "      <td>0.363787</td>\n",
       "      <td>...</td>\n",
       "      <td>-0.018307</td>\n",
       "      <td>0.277838</td>\n",
       "      <td>-0.110474</td>\n",
       "      <td>0.066928</td>\n",
       "      <td>0.128539</td>\n",
       "      <td>-0.189115</td>\n",
       "      <td>0.133558</td>\n",
       "      <td>-0.021053</td>\n",
       "      <td>149.62</td>\n",
       "      <td>0</td>\n",
       "    </tr>\n",
       "    <tr>\n",
       "      <th>1</th>\n",
       "      <td>0.0</td>\n",
       "      <td>1.191857</td>\n",
       "      <td>0.266151</td>\n",
       "      <td>0.166480</td>\n",
       "      <td>0.448154</td>\n",
       "      <td>0.060018</td>\n",
       "      <td>-0.082361</td>\n",
       "      <td>-0.078803</td>\n",
       "      <td>0.085102</td>\n",
       "      <td>-0.255425</td>\n",
       "      <td>...</td>\n",
       "      <td>-0.225775</td>\n",
       "      <td>-0.638672</td>\n",
       "      <td>0.101288</td>\n",
       "      <td>-0.339846</td>\n",
       "      <td>0.167170</td>\n",
       "      <td>0.125895</td>\n",
       "      <td>-0.008983</td>\n",
       "      <td>0.014724</td>\n",
       "      <td>2.69</td>\n",
       "      <td>0</td>\n",
       "    </tr>\n",
       "    <tr>\n",
       "      <th>2</th>\n",
       "      <td>1.0</td>\n",
       "      <td>-1.358354</td>\n",
       "      <td>-1.340163</td>\n",
       "      <td>1.773209</td>\n",
       "      <td>0.379780</td>\n",
       "      <td>-0.503198</td>\n",
       "      <td>1.800499</td>\n",
       "      <td>0.791461</td>\n",
       "      <td>0.247676</td>\n",
       "      <td>-1.514654</td>\n",
       "      <td>...</td>\n",
       "      <td>0.247998</td>\n",
       "      <td>0.771679</td>\n",
       "      <td>0.909412</td>\n",
       "      <td>-0.689281</td>\n",
       "      <td>-0.327642</td>\n",
       "      <td>-0.139097</td>\n",
       "      <td>-0.055353</td>\n",
       "      <td>-0.059752</td>\n",
       "      <td>378.66</td>\n",
       "      <td>0</td>\n",
       "    </tr>\n",
       "    <tr>\n",
       "      <th>3</th>\n",
       "      <td>1.0</td>\n",
       "      <td>-0.966272</td>\n",
       "      <td>-0.185226</td>\n",
       "      <td>1.792993</td>\n",
       "      <td>-0.863291</td>\n",
       "      <td>-0.010309</td>\n",
       "      <td>1.247203</td>\n",
       "      <td>0.237609</td>\n",
       "      <td>0.377436</td>\n",
       "      <td>-1.387024</td>\n",
       "      <td>...</td>\n",
       "      <td>-0.108300</td>\n",
       "      <td>0.005274</td>\n",
       "      <td>-0.190321</td>\n",
       "      <td>-1.175575</td>\n",
       "      <td>0.647376</td>\n",
       "      <td>-0.221929</td>\n",
       "      <td>0.062723</td>\n",
       "      <td>0.061458</td>\n",
       "      <td>123.50</td>\n",
       "      <td>0</td>\n",
       "    </tr>\n",
       "    <tr>\n",
       "      <th>4</th>\n",
       "      <td>2.0</td>\n",
       "      <td>-1.158233</td>\n",
       "      <td>0.877737</td>\n",
       "      <td>1.548718</td>\n",
       "      <td>0.403034</td>\n",
       "      <td>-0.407193</td>\n",
       "      <td>0.095921</td>\n",
       "      <td>0.592941</td>\n",
       "      <td>-0.270533</td>\n",
       "      <td>0.817739</td>\n",
       "      <td>...</td>\n",
       "      <td>-0.009431</td>\n",
       "      <td>0.798278</td>\n",
       "      <td>-0.137458</td>\n",
       "      <td>0.141267</td>\n",
       "      <td>-0.206010</td>\n",
       "      <td>0.502292</td>\n",
       "      <td>0.219422</td>\n",
       "      <td>0.215153</td>\n",
       "      <td>69.99</td>\n",
       "      <td>0</td>\n",
       "    </tr>\n",
       "  </tbody>\n",
       "</table>\n",
       "<p>5 rows × 31 columns</p>\n",
       "</div>"
      ],
      "text/plain": [
       "   Time        V1        V2        V3        V4        V5        V6        V7  \\\n",
       "0   0.0 -1.359807 -0.072781  2.536347  1.378155 -0.338321  0.462388  0.239599   \n",
       "1   0.0  1.191857  0.266151  0.166480  0.448154  0.060018 -0.082361 -0.078803   \n",
       "2   1.0 -1.358354 -1.340163  1.773209  0.379780 -0.503198  1.800499  0.791461   \n",
       "3   1.0 -0.966272 -0.185226  1.792993 -0.863291 -0.010309  1.247203  0.237609   \n",
       "4   2.0 -1.158233  0.877737  1.548718  0.403034 -0.407193  0.095921  0.592941   \n",
       "\n",
       "         V8        V9  ...       V21       V22       V23       V24       V25  \\\n",
       "0  0.098698  0.363787  ... -0.018307  0.277838 -0.110474  0.066928  0.128539   \n",
       "1  0.085102 -0.255425  ... -0.225775 -0.638672  0.101288 -0.339846  0.167170   \n",
       "2  0.247676 -1.514654  ...  0.247998  0.771679  0.909412 -0.689281 -0.327642   \n",
       "3  0.377436 -1.387024  ... -0.108300  0.005274 -0.190321 -1.175575  0.647376   \n",
       "4 -0.270533  0.817739  ... -0.009431  0.798278 -0.137458  0.141267 -0.206010   \n",
       "\n",
       "        V26       V27       V28  Amount  Class  \n",
       "0 -0.189115  0.133558 -0.021053  149.62      0  \n",
       "1  0.125895 -0.008983  0.014724    2.69      0  \n",
       "2 -0.139097 -0.055353 -0.059752  378.66      0  \n",
       "3 -0.221929  0.062723  0.061458  123.50      0  \n",
       "4  0.502292  0.219422  0.215153   69.99      0  \n",
       "\n",
       "[5 rows x 31 columns]"
      ]
     },
     "execution_count": 2,
     "metadata": {},
     "output_type": "execute_result"
    }
   ],
   "source": [
    "data = pd.read_csv('creditcard.csv')\n",
    "data.head()"
   ]
  },
  {
   "cell_type": "code",
   "execution_count": 19,
   "id": "5695fc0c",
   "metadata": {},
   "outputs": [
    {
     "data": {
      "text/plain": [
       "pandas.core.frame.DataFrame"
      ]
     },
     "execution_count": 19,
     "metadata": {},
     "output_type": "execute_result"
    }
   ],
   "source": [
    "type(data)"
   ]
  },
  {
   "cell_type": "code",
   "execution_count": 3,
   "id": "420a2ac5",
   "metadata": {},
   "outputs": [
    {
     "data": {
      "text/plain": [
       "(284807, 31)"
      ]
     },
     "execution_count": 3,
     "metadata": {},
     "output_type": "execute_result"
    }
   ],
   "source": [
    "data.shape"
   ]
  },
  {
   "cell_type": "code",
   "execution_count": 4,
   "id": "0bf75b54",
   "metadata": {},
   "outputs": [
    {
     "data": {
      "text/plain": [
       "Index(['Time', 'V1', 'V2', 'V3', 'V4', 'V5', 'V6', 'V7', 'V8', 'V9', 'V10',\n",
       "       'V11', 'V12', 'V13', 'V14', 'V15', 'V16', 'V17', 'V18', 'V19', 'V20',\n",
       "       'V21', 'V22', 'V23', 'V24', 'V25', 'V26', 'V27', 'V28', 'Amount',\n",
       "       'Class'],\n",
       "      dtype='object')"
      ]
     },
     "execution_count": 4,
     "metadata": {},
     "output_type": "execute_result"
    }
   ],
   "source": [
    "data.columns"
   ]
  },
  {
   "cell_type": "code",
   "execution_count": 5,
   "id": "057e91a1",
   "metadata": {},
   "outputs": [
    {
     "name": "stdout",
     "output_type": "stream",
     "text": [
      "<class 'pandas.core.frame.DataFrame'>\n",
      "RangeIndex: 284807 entries, 0 to 284806\n",
      "Data columns (total 31 columns):\n",
      " #   Column  Non-Null Count   Dtype  \n",
      "---  ------  --------------   -----  \n",
      " 0   Time    284807 non-null  float64\n",
      " 1   V1      284807 non-null  float64\n",
      " 2   V2      284807 non-null  float64\n",
      " 3   V3      284807 non-null  float64\n",
      " 4   V4      284807 non-null  float64\n",
      " 5   V5      284807 non-null  float64\n",
      " 6   V6      284807 non-null  float64\n",
      " 7   V7      284807 non-null  float64\n",
      " 8   V8      284807 non-null  float64\n",
      " 9   V9      284807 non-null  float64\n",
      " 10  V10     284807 non-null  float64\n",
      " 11  V11     284807 non-null  float64\n",
      " 12  V12     284807 non-null  float64\n",
      " 13  V13     284807 non-null  float64\n",
      " 14  V14     284807 non-null  float64\n",
      " 15  V15     284807 non-null  float64\n",
      " 16  V16     284807 non-null  float64\n",
      " 17  V17     284807 non-null  float64\n",
      " 18  V18     284807 non-null  float64\n",
      " 19  V19     284807 non-null  float64\n",
      " 20  V20     284807 non-null  float64\n",
      " 21  V21     284807 non-null  float64\n",
      " 22  V22     284807 non-null  float64\n",
      " 23  V23     284807 non-null  float64\n",
      " 24  V24     284807 non-null  float64\n",
      " 25  V25     284807 non-null  float64\n",
      " 26  V26     284807 non-null  float64\n",
      " 27  V27     284807 non-null  float64\n",
      " 28  V28     284807 non-null  float64\n",
      " 29  Amount  284807 non-null  float64\n",
      " 30  Class   284807 non-null  int64  \n",
      "dtypes: float64(30), int64(1)\n",
      "memory usage: 67.4 MB\n"
     ]
    }
   ],
   "source": [
    "data.info()"
   ]
  },
  {
   "cell_type": "code",
   "execution_count": 8,
   "id": "3ff18b90",
   "metadata": {},
   "outputs": [
    {
     "data": {
      "text/html": [
       "<div>\n",
       "<style scoped>\n",
       "    .dataframe tbody tr th:only-of-type {\n",
       "        vertical-align: middle;\n",
       "    }\n",
       "\n",
       "    .dataframe tbody tr th {\n",
       "        vertical-align: top;\n",
       "    }\n",
       "\n",
       "    .dataframe thead th {\n",
       "        text-align: right;\n",
       "    }\n",
       "</style>\n",
       "<table border=\"1\" class=\"dataframe\">\n",
       "  <thead>\n",
       "    <tr style=\"text-align: right;\">\n",
       "      <th></th>\n",
       "      <th>Time</th>\n",
       "      <th>V1</th>\n",
       "      <th>V2</th>\n",
       "      <th>V3</th>\n",
       "      <th>V4</th>\n",
       "      <th>V5</th>\n",
       "      <th>V6</th>\n",
       "      <th>V7</th>\n",
       "      <th>V8</th>\n",
       "      <th>V9</th>\n",
       "      <th>...</th>\n",
       "      <th>V21</th>\n",
       "      <th>V22</th>\n",
       "      <th>V23</th>\n",
       "      <th>V24</th>\n",
       "      <th>V25</th>\n",
       "      <th>V26</th>\n",
       "      <th>V27</th>\n",
       "      <th>V28</th>\n",
       "      <th>Amount</th>\n",
       "      <th>Class</th>\n",
       "    </tr>\n",
       "  </thead>\n",
       "  <tbody>\n",
       "    <tr>\n",
       "      <th>count</th>\n",
       "      <td>284807.0000</td>\n",
       "      <td>284807.0000</td>\n",
       "      <td>284807.0000</td>\n",
       "      <td>284807.0000</td>\n",
       "      <td>284807.0000</td>\n",
       "      <td>284807.0000</td>\n",
       "      <td>284807.0000</td>\n",
       "      <td>284807.0000</td>\n",
       "      <td>284807.0000</td>\n",
       "      <td>284807.0000</td>\n",
       "      <td>...</td>\n",
       "      <td>284807.0000</td>\n",
       "      <td>284807.0000</td>\n",
       "      <td>284807.0000</td>\n",
       "      <td>284807.0000</td>\n",
       "      <td>284807.0000</td>\n",
       "      <td>284807.0000</td>\n",
       "      <td>284807.0000</td>\n",
       "      <td>284807.0000</td>\n",
       "      <td>284807.0000</td>\n",
       "      <td>284807.0000</td>\n",
       "    </tr>\n",
       "    <tr>\n",
       "      <th>mean</th>\n",
       "      <td>94813.8596</td>\n",
       "      <td>0.0000</td>\n",
       "      <td>0.0000</td>\n",
       "      <td>-0.0000</td>\n",
       "      <td>0.0000</td>\n",
       "      <td>-0.0000</td>\n",
       "      <td>0.0000</td>\n",
       "      <td>-0.0000</td>\n",
       "      <td>-0.0000</td>\n",
       "      <td>-0.0000</td>\n",
       "      <td>...</td>\n",
       "      <td>0.0000</td>\n",
       "      <td>0.0000</td>\n",
       "      <td>0.0000</td>\n",
       "      <td>0.0000</td>\n",
       "      <td>0.0000</td>\n",
       "      <td>0.0000</td>\n",
       "      <td>-0.0000</td>\n",
       "      <td>-0.0000</td>\n",
       "      <td>88.3496</td>\n",
       "      <td>0.0017</td>\n",
       "    </tr>\n",
       "    <tr>\n",
       "      <th>std</th>\n",
       "      <td>47488.1460</td>\n",
       "      <td>1.9587</td>\n",
       "      <td>1.6513</td>\n",
       "      <td>1.5163</td>\n",
       "      <td>1.4159</td>\n",
       "      <td>1.3802</td>\n",
       "      <td>1.3323</td>\n",
       "      <td>1.2371</td>\n",
       "      <td>1.1944</td>\n",
       "      <td>1.0986</td>\n",
       "      <td>...</td>\n",
       "      <td>0.7345</td>\n",
       "      <td>0.7257</td>\n",
       "      <td>0.6245</td>\n",
       "      <td>0.6056</td>\n",
       "      <td>0.5213</td>\n",
       "      <td>0.4822</td>\n",
       "      <td>0.4036</td>\n",
       "      <td>0.3301</td>\n",
       "      <td>250.1201</td>\n",
       "      <td>0.0415</td>\n",
       "    </tr>\n",
       "    <tr>\n",
       "      <th>min</th>\n",
       "      <td>0.0000</td>\n",
       "      <td>-56.4075</td>\n",
       "      <td>-72.7157</td>\n",
       "      <td>-48.3256</td>\n",
       "      <td>-5.6832</td>\n",
       "      <td>-113.7433</td>\n",
       "      <td>-26.1605</td>\n",
       "      <td>-43.5572</td>\n",
       "      <td>-73.2167</td>\n",
       "      <td>-13.4341</td>\n",
       "      <td>...</td>\n",
       "      <td>-34.8304</td>\n",
       "      <td>-10.9331</td>\n",
       "      <td>-44.8077</td>\n",
       "      <td>-2.8366</td>\n",
       "      <td>-10.2954</td>\n",
       "      <td>-2.6046</td>\n",
       "      <td>-22.5657</td>\n",
       "      <td>-15.4301</td>\n",
       "      <td>0.0000</td>\n",
       "      <td>0.0000</td>\n",
       "    </tr>\n",
       "    <tr>\n",
       "      <th>25%</th>\n",
       "      <td>54201.5000</td>\n",
       "      <td>-0.9204</td>\n",
       "      <td>-0.5985</td>\n",
       "      <td>-0.8904</td>\n",
       "      <td>-0.8486</td>\n",
       "      <td>-0.6916</td>\n",
       "      <td>-0.7683</td>\n",
       "      <td>-0.5541</td>\n",
       "      <td>-0.2086</td>\n",
       "      <td>-0.6431</td>\n",
       "      <td>...</td>\n",
       "      <td>-0.2284</td>\n",
       "      <td>-0.5424</td>\n",
       "      <td>-0.1618</td>\n",
       "      <td>-0.3546</td>\n",
       "      <td>-0.3171</td>\n",
       "      <td>-0.3270</td>\n",
       "      <td>-0.0708</td>\n",
       "      <td>-0.0530</td>\n",
       "      <td>5.6000</td>\n",
       "      <td>0.0000</td>\n",
       "    </tr>\n",
       "    <tr>\n",
       "      <th>50%</th>\n",
       "      <td>84692.0000</td>\n",
       "      <td>0.0181</td>\n",
       "      <td>0.0655</td>\n",
       "      <td>0.1798</td>\n",
       "      <td>-0.0198</td>\n",
       "      <td>-0.0543</td>\n",
       "      <td>-0.2742</td>\n",
       "      <td>0.0401</td>\n",
       "      <td>0.0224</td>\n",
       "      <td>-0.0514</td>\n",
       "      <td>...</td>\n",
       "      <td>-0.0295</td>\n",
       "      <td>0.0068</td>\n",
       "      <td>-0.0112</td>\n",
       "      <td>0.0410</td>\n",
       "      <td>0.0166</td>\n",
       "      <td>-0.0521</td>\n",
       "      <td>0.0013</td>\n",
       "      <td>0.0112</td>\n",
       "      <td>22.0000</td>\n",
       "      <td>0.0000</td>\n",
       "    </tr>\n",
       "    <tr>\n",
       "      <th>75%</th>\n",
       "      <td>139320.5000</td>\n",
       "      <td>1.3156</td>\n",
       "      <td>0.8037</td>\n",
       "      <td>1.0272</td>\n",
       "      <td>0.7433</td>\n",
       "      <td>0.6119</td>\n",
       "      <td>0.3986</td>\n",
       "      <td>0.5704</td>\n",
       "      <td>0.3273</td>\n",
       "      <td>0.5971</td>\n",
       "      <td>...</td>\n",
       "      <td>0.1864</td>\n",
       "      <td>0.5286</td>\n",
       "      <td>0.1476</td>\n",
       "      <td>0.4395</td>\n",
       "      <td>0.3507</td>\n",
       "      <td>0.2410</td>\n",
       "      <td>0.0910</td>\n",
       "      <td>0.0783</td>\n",
       "      <td>77.1650</td>\n",
       "      <td>0.0000</td>\n",
       "    </tr>\n",
       "    <tr>\n",
       "      <th>max</th>\n",
       "      <td>172792.0000</td>\n",
       "      <td>2.4549</td>\n",
       "      <td>22.0577</td>\n",
       "      <td>9.3826</td>\n",
       "      <td>16.8753</td>\n",
       "      <td>34.8017</td>\n",
       "      <td>73.3016</td>\n",
       "      <td>120.5895</td>\n",
       "      <td>20.0072</td>\n",
       "      <td>15.5950</td>\n",
       "      <td>...</td>\n",
       "      <td>27.2028</td>\n",
       "      <td>10.5031</td>\n",
       "      <td>22.5284</td>\n",
       "      <td>4.5845</td>\n",
       "      <td>7.5196</td>\n",
       "      <td>3.5173</td>\n",
       "      <td>31.6122</td>\n",
       "      <td>33.8478</td>\n",
       "      <td>25691.1600</td>\n",
       "      <td>1.0000</td>\n",
       "    </tr>\n",
       "  </tbody>\n",
       "</table>\n",
       "<p>8 rows × 31 columns</p>\n",
       "</div>"
      ],
      "text/plain": [
       "              Time           V1           V2           V3           V4  \\\n",
       "count  284807.0000  284807.0000  284807.0000  284807.0000  284807.0000   \n",
       "mean    94813.8596       0.0000       0.0000      -0.0000       0.0000   \n",
       "std     47488.1460       1.9587       1.6513       1.5163       1.4159   \n",
       "min         0.0000     -56.4075     -72.7157     -48.3256      -5.6832   \n",
       "25%     54201.5000      -0.9204      -0.5985      -0.8904      -0.8486   \n",
       "50%     84692.0000       0.0181       0.0655       0.1798      -0.0198   \n",
       "75%    139320.5000       1.3156       0.8037       1.0272       0.7433   \n",
       "max    172792.0000       2.4549      22.0577       9.3826      16.8753   \n",
       "\n",
       "                V5           V6           V7           V8           V9  ...  \\\n",
       "count  284807.0000  284807.0000  284807.0000  284807.0000  284807.0000  ...   \n",
       "mean       -0.0000       0.0000      -0.0000      -0.0000      -0.0000  ...   \n",
       "std         1.3802       1.3323       1.2371       1.1944       1.0986  ...   \n",
       "min      -113.7433     -26.1605     -43.5572     -73.2167     -13.4341  ...   \n",
       "25%        -0.6916      -0.7683      -0.5541      -0.2086      -0.6431  ...   \n",
       "50%        -0.0543      -0.2742       0.0401       0.0224      -0.0514  ...   \n",
       "75%         0.6119       0.3986       0.5704       0.3273       0.5971  ...   \n",
       "max        34.8017      73.3016     120.5895      20.0072      15.5950  ...   \n",
       "\n",
       "               V21          V22          V23          V24          V25  \\\n",
       "count  284807.0000  284807.0000  284807.0000  284807.0000  284807.0000   \n",
       "mean        0.0000       0.0000       0.0000       0.0000       0.0000   \n",
       "std         0.7345       0.7257       0.6245       0.6056       0.5213   \n",
       "min       -34.8304     -10.9331     -44.8077      -2.8366     -10.2954   \n",
       "25%        -0.2284      -0.5424      -0.1618      -0.3546      -0.3171   \n",
       "50%        -0.0295       0.0068      -0.0112       0.0410       0.0166   \n",
       "75%         0.1864       0.5286       0.1476       0.4395       0.3507   \n",
       "max        27.2028      10.5031      22.5284       4.5845       7.5196   \n",
       "\n",
       "               V26          V27          V28       Amount        Class  \n",
       "count  284807.0000  284807.0000  284807.0000  284807.0000  284807.0000  \n",
       "mean        0.0000      -0.0000      -0.0000      88.3496       0.0017  \n",
       "std         0.4822       0.4036       0.3301     250.1201       0.0415  \n",
       "min        -2.6046     -22.5657     -15.4301       0.0000       0.0000  \n",
       "25%        -0.3270      -0.0708      -0.0530       5.6000       0.0000  \n",
       "50%        -0.0521       0.0013       0.0112      22.0000       0.0000  \n",
       "75%         0.2410       0.0910       0.0783      77.1650       0.0000  \n",
       "max         3.5173      31.6122      33.8478   25691.1600       1.0000  \n",
       "\n",
       "[8 rows x 31 columns]"
      ]
     },
     "execution_count": 8,
     "metadata": {},
     "output_type": "execute_result"
    }
   ],
   "source": [
    "data.describe().round(4)"
   ]
  },
  {
   "cell_type": "code",
   "execution_count": 12,
   "id": "8cd0df06",
   "metadata": {},
   "outputs": [
    {
     "data": {
      "text/plain": [
       "0"
      ]
     },
     "execution_count": 12,
     "metadata": {},
     "output_type": "execute_result"
    }
   ],
   "source": [
    "data.duplicated().sum()"
   ]
  },
  {
   "cell_type": "code",
   "execution_count": 10,
   "id": "b14bb96c",
   "metadata": {},
   "outputs": [],
   "source": [
    "data = data.drop_duplicates()"
   ]
  },
  {
   "cell_type": "code",
   "execution_count": 16,
   "id": "8e8944da",
   "metadata": {},
   "outputs": [
    {
     "data": {
      "image/png": "[encoded data removed]",
      "text/plain": [
       "<Figure size 432x288 with 1 Axes>"
      ]
     },
     "metadata": {},
     "output_type": "display_data"
    }
   ],
   "source": [
    "sns.set(rc={\"axes.unicode_minus\":False}, style = 'darkgrid')\n",
    "ax = sns.countplot(x = data['Class'], palette = 'RdBu')"
   ]
  },
  {
   "cell_type": "code",
   "execution_count": 11,
   "id": "d9f43bf4",
   "metadata": {},
   "outputs": [
    {
     "data": {
      "text/plain": [
       "0    284315\n",
       "1       492\n",
       "Name: Class, dtype: int64"
      ]
     },
     "execution_count": 11,
     "metadata": {},
     "output_type": "execute_result"
    }
   ],
   "source": [
    "data['Class'].value_counts()"
   ]
  },
  {
   "cell_type": "code",
   "execution_count": 17,
   "id": "7b313c9b",
   "metadata": {},
   "outputs": [
    {
     "data": {
      "text/plain": [
       "<AxesSubplot:>"
      ]
     },
     "execution_count": 17,
     "metadata": {},
     "output_type": "execute_result"
    },
    {
     "data": {
      "image/png": "[encoded data removed]",
      "text/plain": [
       "<Figure size 792x648 with 2 Axes>"
      ]
     },
     "metadata": {},
     "output_type": "display_data"
    }
   ],
   "source": [
    "corr=data.corr()\n",
    "mask = np.zeros_like(corr, dtype=np.bool)\n",
    "mask[np.triu_indices_from(mask)] = True\n",
    "# Set up the matplotlib figure\n",
    "f, ax = plt.subplots(figsize=(11, 9))\n",
    "# Generate a custom diverging colormap\n",
    "cmap = sns.diverging_palette(220, 10, as_cmap=True)\n",
    "# Draw the heatmap with the mask and correct aspect ratio\n",
    "sns.heatmap(corr, mask=mask, cmap=cmap, vmax=.5, center=0, linewidths=.5, cbar_kws={\"shrink\": .5})"
   ]
  },
  {
   "cell_type": "code",
   "execution_count": 66,
   "id": "6c4b170c",
   "metadata": {},
   "outputs": [
    {
     "data": {
      "text/plain": [
       "(283726, 31)"
      ]
     },
     "execution_count": 66,
     "metadata": {},
     "output_type": "execute_result"
    }
   ],
   "source": [
    "data.shape"
   ]
  },
  {
   "cell_type": "code",
   "execution_count": 69,
   "id": "f40e5ae6",
   "metadata": {},
   "outputs": [
    {
     "data": {
      "text/plain": [
       "<pandas.core.groupby.generic.DataFrameGroupBy object at 0x00000292C58B0148>"
      ]
     },
     "execution_count": 69,
     "metadata": {},
     "output_type": "execute_result"
    }
   ],
   "source": [
    "data_time = data.groupby('Time')\n",
    "data_time"
   ]
  },
  {
   "cell_type": "code",
   "execution_count": 60,
   "id": "7ed80490",
   "metadata": {},
   "outputs": [
    {
     "data": {
      "text/plain": [
       "pandas.core.groupby.generic.DataFrameGroupBy"
      ]
     },
     "execution_count": 60,
     "metadata": {},
     "output_type": "execute_result"
    }
   ],
   "source": [
    "type(data_time)"
   ]
  },
  {
   "cell_type": "code",
   "execution_count": 73,
   "id": "c7811468",
   "metadata": {},
   "outputs": [
    {
     "data": {
      "text/plain": [
       "pandas.core.groupby.generic.SeriesGroupBy"
      ]
     },
     "execution_count": 73,
     "metadata": {},
     "output_type": "execute_result"
    }
   ],
   "source": [
    "time_v1 = data_time['V1']\n",
    "type(time_v1)"
   ]
  },
  {
   "cell_type": "code",
   "execution_count": 85,
   "id": "7844a406",
   "metadata": {},
   "outputs": [
    {
     "data": {
      "text/plain": [
       "Time\n",
       "0.0         -0.083975\n",
       "1.0         -1.162313\n",
       "2.0         -0.792099\n",
       "4.0          1.229658\n",
       "7.0         -0.769278\n",
       "              ...    \n",
       "172785.0     0.120316\n",
       "172786.0   -11.881118\n",
       "172787.0    -0.732789\n",
       "172788.0     0.839562\n",
       "172792.0    -0.533413\n",
       "Name: V1, Length: 124592, dtype: float64"
      ]
     },
     "execution_count": 85,
     "metadata": {},
     "output_type": "execute_result"
    }
   ],
   "source": [
    "time_v1_mean = time_v1.mean()\n",
    "time_v1_mean"
   ]
  },
  {
   "cell_type": "code",
   "execution_count": 87,
   "id": "11d90eae",
   "metadata": {},
   "outputs": [],
   "source": [
    "import matplotlib.pyplot as plt"
   ]
  },
  {
   "cell_type": "code",
   "execution_count": 90,
   "id": "05d27e0a",
   "metadata": {},
   "outputs": [
    {
     "data": {
      "text/plain": [
       "<AxesSubplot:xlabel='Time'>"
      ]
     },
     "execution_count": 90,
     "metadata": {},
     "output_type": "execute_result"
    },
    {
     "data": {
      "image/png": "[encoded data removed]",
      "text/plain": [
       "<Figure size 432x288 with 1 Axes>"
      ]
     },
     "metadata": {},
     "output_type": "display_data"
    }
   ],
   "source": [
    "time_v1_mean.plot()"
   ]
  },
  {
   "cell_type": "code",
   "execution_count": null,
   "id": "84ed8517",
   "metadata": {},
   "outputs": [],
   "source": []
  }
 ],
 "metadata": {
  "kernelspec": {
   "display_name": "soyeon",
   "language": "python",
   "name": "soyeon"
  },
  "language_info": {
   "codemirror_mode": {
    "name": "ipython",
    "version": 3
   },
   "file_extension": ".py",
   "mimetype": "text/x-python",
   "name": "python",
   "nbconvert_exporter": "python",
   "pygments_lexer": "ipython3",
   "version": "3.7.13"
  }
 },
 "nbformat": 4,
 "nbformat_minor": 5
}
