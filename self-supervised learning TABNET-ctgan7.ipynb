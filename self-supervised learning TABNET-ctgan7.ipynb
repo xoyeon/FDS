{
 "cells": [
  {
   "cell_type": "markdown",
   "id": "beaa3c29",
   "metadata": {},
   "source": [
    "- https://medium.com/@vanillaxiangshuyang/self-supervised-learning-on-tabular-data-with-tabnet-544b3ec85cee\n",
    "- https://colab.research.google.com/drive/1P8Obe07DP3VeOld08ThyT1HnChLip_LO#scrollTo=gvy9vUUNOP0W\n",
    "\n",
    "- https://www.kaggle.com/code/sisharaneranjana/semi-supervised-pre-training-with-tabnet#%F0%9F%94%8FDescription-of-the-dataset-\n",
    "- https://dacon.io/en/codeshare/3837"
   ]
  },
  {
   "cell_type": "code",
   "execution_count": 1,
   "id": "133d6436",
   "metadata": {},
   "outputs": [],
   "source": [
    "import pandas as pd\n",
    "import numpy as np\n",
    "import pickle\n",
    "\n",
    "import warnings\n",
    "warnings.simplefilter(action='ignore')"
   ]
  },
  {
   "cell_type": "code",
   "execution_count": 2,
   "id": "09afb566",
   "metadata": {},
   "outputs": [],
   "source": [
    "# 원본 데이터\n",
    "data = pd.read_csv(\"./dataset/generated/data7.csv\")"
   ]
  },
  {
   "cell_type": "markdown",
   "id": "7392ef24",
   "metadata": {},
   "source": [
    "# 데이터 전처리"
   ]
  },
  {
   "cell_type": "code",
   "execution_count": 3,
   "id": "b17a9bd5",
   "metadata": {},
   "outputs": [],
   "source": [
    "df = data.copy()\n",
    "\n",
    "# Time 을 일중 시간으로 변환\n",
    "df.loc[:, \"Time\"] = df.loc[:, \"Time\"].apply(lambda x : x / 3600 % 24)\n",
    "\n",
    "# Amount column 은 편차가 크므로 log-scale 로 변환\n",
    "df['Amount'] = np.log(df.pop('Amount') + 0.001)"
   ]
  },
  {
   "cell_type": "code",
   "execution_count": 4,
   "id": "1ced8e53",
   "metadata": {},
   "outputs": [
    {
     "data": {
      "text/html": [
       "<div>\n",
       "<style scoped>\n",
       "    .dataframe tbody tr th:only-of-type {\n",
       "        vertical-align: middle;\n",
       "    }\n",
       "\n",
       "    .dataframe tbody tr th {\n",
       "        vertical-align: top;\n",
       "    }\n",
       "\n",
       "    .dataframe thead th {\n",
       "        text-align: right;\n",
       "    }\n",
       "</style>\n",
       "<table border=\"1\" class=\"dataframe\">\n",
       "  <thead>\n",
       "    <tr style=\"text-align: right;\">\n",
       "      <th></th>\n",
       "      <th>Unnamed: 0</th>\n",
       "      <th>Time</th>\n",
       "      <th>V1</th>\n",
       "      <th>V2</th>\n",
       "      <th>V3</th>\n",
       "      <th>V4</th>\n",
       "      <th>V5</th>\n",
       "      <th>V6</th>\n",
       "      <th>V7</th>\n",
       "      <th>V8</th>\n",
       "      <th>...</th>\n",
       "      <th>V21</th>\n",
       "      <th>V22</th>\n",
       "      <th>V23</th>\n",
       "      <th>V24</th>\n",
       "      <th>V25</th>\n",
       "      <th>V26</th>\n",
       "      <th>V27</th>\n",
       "      <th>V28</th>\n",
       "      <th>Class</th>\n",
       "      <th>Amount</th>\n",
       "    </tr>\n",
       "  </thead>\n",
       "  <tbody>\n",
       "    <tr>\n",
       "      <th>0</th>\n",
       "      <td>0</td>\n",
       "      <td>0.000000</td>\n",
       "      <td>-1.359807</td>\n",
       "      <td>-0.072781</td>\n",
       "      <td>2.536347</td>\n",
       "      <td>1.378155</td>\n",
       "      <td>-0.338321</td>\n",
       "      <td>0.462388</td>\n",
       "      <td>0.239599</td>\n",
       "      <td>0.098698</td>\n",
       "      <td>...</td>\n",
       "      <td>-0.018307</td>\n",
       "      <td>0.277838</td>\n",
       "      <td>-0.110474</td>\n",
       "      <td>0.066928</td>\n",
       "      <td>0.128539</td>\n",
       "      <td>-0.189115</td>\n",
       "      <td>0.133558</td>\n",
       "      <td>-0.021053</td>\n",
       "      <td>0</td>\n",
       "      <td>5.008105</td>\n",
       "    </tr>\n",
       "    <tr>\n",
       "      <th>1</th>\n",
       "      <td>1</td>\n",
       "      <td>0.000000</td>\n",
       "      <td>1.191857</td>\n",
       "      <td>0.266151</td>\n",
       "      <td>0.166480</td>\n",
       "      <td>0.448154</td>\n",
       "      <td>0.060018</td>\n",
       "      <td>-0.082361</td>\n",
       "      <td>-0.078803</td>\n",
       "      <td>0.085102</td>\n",
       "      <td>...</td>\n",
       "      <td>-0.225775</td>\n",
       "      <td>-0.638672</td>\n",
       "      <td>0.101288</td>\n",
       "      <td>-0.339846</td>\n",
       "      <td>0.167170</td>\n",
       "      <td>0.125895</td>\n",
       "      <td>-0.008983</td>\n",
       "      <td>0.014724</td>\n",
       "      <td>0</td>\n",
       "      <td>0.989913</td>\n",
       "    </tr>\n",
       "    <tr>\n",
       "      <th>2</th>\n",
       "      <td>2</td>\n",
       "      <td>0.000278</td>\n",
       "      <td>-1.358354</td>\n",
       "      <td>-1.340163</td>\n",
       "      <td>1.773209</td>\n",
       "      <td>0.379780</td>\n",
       "      <td>-0.503198</td>\n",
       "      <td>1.800499</td>\n",
       "      <td>0.791461</td>\n",
       "      <td>0.247676</td>\n",
       "      <td>...</td>\n",
       "      <td>0.247998</td>\n",
       "      <td>0.771679</td>\n",
       "      <td>0.909412</td>\n",
       "      <td>-0.689281</td>\n",
       "      <td>-0.327642</td>\n",
       "      <td>-0.139097</td>\n",
       "      <td>-0.055353</td>\n",
       "      <td>-0.059752</td>\n",
       "      <td>0</td>\n",
       "      <td>5.936641</td>\n",
       "    </tr>\n",
       "    <tr>\n",
       "      <th>3</th>\n",
       "      <td>3</td>\n",
       "      <td>0.000278</td>\n",
       "      <td>-0.966272</td>\n",
       "      <td>-0.185226</td>\n",
       "      <td>1.792993</td>\n",
       "      <td>-0.863291</td>\n",
       "      <td>-0.010309</td>\n",
       "      <td>1.247203</td>\n",
       "      <td>0.237609</td>\n",
       "      <td>0.377436</td>\n",
       "      <td>...</td>\n",
       "      <td>-0.108300</td>\n",
       "      <td>0.005274</td>\n",
       "      <td>-0.190321</td>\n",
       "      <td>-1.175575</td>\n",
       "      <td>0.647376</td>\n",
       "      <td>-0.221929</td>\n",
       "      <td>0.062723</td>\n",
       "      <td>0.061458</td>\n",
       "      <td>0</td>\n",
       "      <td>4.816249</td>\n",
       "    </tr>\n",
       "    <tr>\n",
       "      <th>4</th>\n",
       "      <td>4</td>\n",
       "      <td>0.000556</td>\n",
       "      <td>-1.158233</td>\n",
       "      <td>0.877737</td>\n",
       "      <td>1.548718</td>\n",
       "      <td>0.403034</td>\n",
       "      <td>-0.407193</td>\n",
       "      <td>0.095921</td>\n",
       "      <td>0.592941</td>\n",
       "      <td>-0.270533</td>\n",
       "      <td>...</td>\n",
       "      <td>-0.009431</td>\n",
       "      <td>0.798278</td>\n",
       "      <td>-0.137458</td>\n",
       "      <td>0.141267</td>\n",
       "      <td>-0.206010</td>\n",
       "      <td>0.502292</td>\n",
       "      <td>0.219422</td>\n",
       "      <td>0.215153</td>\n",
       "      <td>0</td>\n",
       "      <td>4.248367</td>\n",
       "    </tr>\n",
       "  </tbody>\n",
       "</table>\n",
       "<p>5 rows × 32 columns</p>\n",
       "</div>"
      ],
      "text/plain": [
       "   Unnamed: 0      Time        V1        V2        V3        V4        V5  \\\n",
       "0           0  0.000000 -1.359807 -0.072781  2.536347  1.378155 -0.338321   \n",
       "1           1  0.000000  1.191857  0.266151  0.166480  0.448154  0.060018   \n",
       "2           2  0.000278 -1.358354 -1.340163  1.773209  0.379780 -0.503198   \n",
       "3           3  0.000278 -0.966272 -0.185226  1.792993 -0.863291 -0.010309   \n",
       "4           4  0.000556 -1.158233  0.877737  1.548718  0.403034 -0.407193   \n",
       "\n",
       "         V6        V7        V8  ...       V21       V22       V23       V24  \\\n",
       "0  0.462388  0.239599  0.098698  ... -0.018307  0.277838 -0.110474  0.066928   \n",
       "1 -0.082361 -0.078803  0.085102  ... -0.225775 -0.638672  0.101288 -0.339846   \n",
       "2  1.800499  0.791461  0.247676  ...  0.247998  0.771679  0.909412 -0.689281   \n",
       "3  1.247203  0.237609  0.377436  ... -0.108300  0.005274 -0.190321 -1.175575   \n",
       "4  0.095921  0.592941 -0.270533  ... -0.009431  0.798278 -0.137458  0.141267   \n",
       "\n",
       "        V25       V26       V27       V28  Class    Amount  \n",
       "0  0.128539 -0.189115  0.133558 -0.021053      0  5.008105  \n",
       "1  0.167170  0.125895 -0.008983  0.014724      0  0.989913  \n",
       "2 -0.327642 -0.139097 -0.055353 -0.059752      0  5.936641  \n",
       "3  0.647376 -0.221929  0.062723  0.061458      0  4.816249  \n",
       "4 -0.206010  0.502292  0.219422  0.215153      0  4.248367  \n",
       "\n",
       "[5 rows x 32 columns]"
      ]
     },
     "execution_count": 4,
     "metadata": {},
     "output_type": "execute_result"
    }
   ],
   "source": [
    "df.head()"
   ]
  },
  {
   "cell_type": "markdown",
   "id": "bdaacba4",
   "metadata": {},
   "source": [
    "# train_test_split"
   ]
  },
  {
   "cell_type": "code",
   "execution_count": 5,
   "id": "55434ea7",
   "metadata": {},
   "outputs": [],
   "source": [
    "from sklearn.model_selection import train_test_split"
   ]
  },
  {
   "cell_type": "code",
   "execution_count": 6,
   "id": "4f0340ab",
   "metadata": {},
   "outputs": [],
   "source": [
    "features = df.values\n",
    "labels = np.array(df.pop('Class'))"
   ]
  },
  {
   "cell_type": "code",
   "execution_count": 7,
   "id": "b0af8321",
   "metadata": {},
   "outputs": [
    {
     "name": "stdout",
     "output_type": "stream",
     "text": [
      "X train shape:  (71577, 32)\n",
      "X validation shape:  (71577, 32)\n",
      "X test shape:  (143155, 32)\n",
      "Y train shape:  (71577,)\n",
      "Y validation shape:  (71577,)\n",
      "Y test shape:  (143155,)\n"
     ]
    }
   ],
   "source": [
    "X_train, X_test, y_train, y_test = train_test_split(features, labels, test_size=0.5, random_state=0, stratify=labels)\n",
    "X_train, X_val, y_train, y_val = train_test_split(X_train, y_train, test_size=0.5, random_state=0)\n",
    "\n",
    "print(\"X train shape: \", X_train.shape)\n",
    "print(\"X validation shape: \", X_val.shape)\n",
    "print(\"X test shape: \", X_test.shape)\n",
    "print(\"Y train shape: \", y_train.shape)\n",
    "print(\"Y validation shape: \", y_val.shape)\n",
    "print(\"Y test shape: \", y_test.shape)"
   ]
  },
  {
   "cell_type": "code",
   "execution_count": 8,
   "id": "bac72bef",
   "metadata": {},
   "outputs": [],
   "source": [
    "from sklearn.preprocessing import StandardScaler\n",
    "\n",
    "sc = StandardScaler()\n",
    "X_train = sc.fit_transform(X_train)\n",
    "X_test = sc.transform(X_test)\n",
    "x_val= sc.transform(X_val)"
   ]
  },
  {
   "cell_type": "markdown",
   "id": "6af6520d",
   "metadata": {},
   "source": [
    "# TabNetClassifier"
   ]
  },
  {
   "cell_type": "markdown",
   "id": "48ac5bab",
   "metadata": {},
   "source": [
    "https://github.com/dreamquark-ai/tabnet"
   ]
  },
  {
   "cell_type": "code",
   "execution_count": 9,
   "id": "35d0835b",
   "metadata": {},
   "outputs": [],
   "source": [
    "# train on the whole dataset with labels\n",
    "import torch\n",
    "from pytorch_tabnet.tab_model import TabNetClassifier\n",
    "\n",
    "supervised = TabNetClassifier(\n",
    "    optimizer_fn=torch.optim.Adam,\n",
    "    optimizer_params=dict(lr=2e-2),\n",
    "    scheduler_params={\"step_size\":10, # how to use learning rate scheduler\n",
    "                      \"gamma\":0.9},\n",
    "    scheduler_fn=torch.optim.lr_scheduler.StepLR,\n",
    "    mask_type='sparsemax' # This will be overwritten if using pretrain model\n",
    ")"
   ]
  },
  {
   "cell_type": "code",
   "execution_count": 10,
   "id": "80dd707f",
   "metadata": {},
   "outputs": [],
   "source": [
    "from pytorch_tabnet.metrics import Metric\n",
    "from sklearn.metrics import f1_score\n",
    "\n",
    "class F1_Score(Metric):\n",
    "    def __init__(self):\n",
    "        self._name = \"f1\"\n",
    "        self._maximize = True\n",
    "\n",
    "    def __call__(self, y_true, y_score):\n",
    "        score = f1_score(y_true, (y_score[:, 1]>0.5)*1)\n",
    "        return score"
   ]
  },
  {
   "cell_type": "code",
   "execution_count": 11,
   "id": "55f92b2e",
   "metadata": {},
   "outputs": [
    {
     "name": "stdout",
     "output_type": "stream",
     "text": [
      "epoch 0  | loss: 0.09331 | val_0_logloss: 0.01228 | val_0_f1: 0.83333 | val_1_logloss: 0.01032 | val_1_f1: 0.82251 |  0:00:11s\n",
      "epoch 1  | loss: 0.01054 | val_0_logloss: 0.00859 | val_0_f1: 0.87948 | val_1_logloss: 0.0077  | val_1_f1: 0.87349 |  0:00:24s\n",
      "epoch 2  | loss: 0.01005 | val_0_logloss: 0.01171 | val_0_f1: 0.80508 | val_1_logloss: 0.01103 | val_1_f1: 0.79916 |  0:00:36s\n",
      "epoch 3  | loss: 0.00872 | val_0_logloss: 0.00348 | val_0_f1: 0.94519 | val_1_logloss: 0.00465 | val_1_f1: 0.92925 |  0:00:48s\n",
      "epoch 4  | loss: 0.00656 | val_0_logloss: 0.00711 | val_0_f1: 0.84958 | val_1_logloss: 0.00769 | val_1_f1: 0.8312  |  0:00:59s\n",
      "epoch 5  | loss: 0.0053  | val_0_logloss: 0.00306 | val_0_f1: 0.95228 | val_1_logloss: 0.00319 | val_1_f1: 0.94583 |  0:01:10s\n",
      "epoch 6  | loss: 0.00285 | val_0_logloss: 0.00164 | val_0_f1: 0.97452 | val_1_logloss: 0.00178 | val_1_f1: 0.97646 |  0:01:21s\n",
      "epoch 7  | loss: 0.00164 | val_0_logloss: 0.01144 | val_0_f1: 0.89769 | val_1_logloss: 0.01308 | val_1_f1: 0.89333 |  0:01:32s\n",
      "epoch 8  | loss: 0.00114 | val_0_logloss: 0.01021 | val_0_f1: 0.91793 | val_1_logloss: 0.01268 | val_1_f1: 0.9033  |  0:01:43s\n",
      "epoch 9  | loss: 0.00122 | val_0_logloss: 0.00068 | val_0_f1: 0.99599 | val_1_logloss: 0.00042 | val_1_f1: 0.99597 |  0:01:55s\n",
      "epoch 10 | loss: 0.00095 | val_0_logloss: 0.00085 | val_0_f1: 0.99302 | val_1_logloss: 0.00038 | val_1_f1: 0.99497 |  0:02:06s\n",
      "epoch 11 | loss: 0.00059 | val_0_logloss: 0.00023 | val_0_f1: 0.99699 | val_1_logloss: 0.00039 | val_1_f1: 0.99697 |  0:02:18s\n",
      "epoch 12 | loss: 0.0006  | val_0_logloss: 0.00018 | val_0_f1: 0.998   | val_1_logloss: 0.00042 | val_1_f1: 0.99597 |  0:02:29s\n",
      "epoch 13 | loss: 0.00076 | val_0_logloss: 3e-05   | val_0_f1: 1.0     | val_1_logloss: 0.00024 | val_1_f1: 0.99698 |  0:02:40s\n",
      "epoch 14 | loss: 0.00084 | val_0_logloss: 0.00021 | val_0_f1: 0.999   | val_1_logloss: 0.00022 | val_1_f1: 0.99798 |  0:02:52s\n",
      "epoch 15 | loss: 0.00092 | val_0_logloss: 0.00027 | val_0_f1: 0.997   | val_1_logloss: 0.00025 | val_1_f1: 0.99798 |  0:03:04s\n",
      "epoch 16 | loss: 0.00058 | val_0_logloss: 0.00018 | val_0_f1: 0.999   | val_1_logloss: 6e-05   | val_1_f1: 0.99899 |  0:03:15s\n",
      "epoch 17 | loss: 0.00082 | val_0_logloss: 0.00044 | val_0_f1: 0.99398 | val_1_logloss: 0.00026 | val_1_f1: 0.99597 |  0:03:26s\n",
      "epoch 18 | loss: 0.00114 | val_0_logloss: 0.00049 | val_0_f1: 0.99295 | val_1_logloss: 0.00052 | val_1_f1: 0.99596 |  0:03:38s\n",
      "epoch 19 | loss: 0.00104 | val_0_logloss: 0.00097 | val_0_f1: 0.98004 | val_1_logloss: 0.00148 | val_1_f1: 0.96475 |  0:03:50s\n",
      "epoch 20 | loss: 0.00189 | val_0_logloss: 0.00362 | val_0_f1: 0.92574 | val_1_logloss: 0.00316 | val_1_f1: 0.93699 |  0:04:02s\n",
      "epoch 21 | loss: 0.00464 | val_0_logloss: 0.00199 | val_0_f1: 0.9669  | val_1_logloss: 0.00213 | val_1_f1: 0.96251 |  0:04:13s\n",
      "\n",
      "Early stopping occurred at epoch 21 with best_epoch = 16 and best_val_1_f1 = 0.99899\n"
     ]
    }
   ],
   "source": [
    "supervised.fit(X_train, y_train,\n",
    "               patience=5,\n",
    "               eval_set=[(X_train, y_train), (x_val,y_val)],\n",
    "               eval_metric=['logloss','f1']\n",
    ")"
   ]
  },
  {
   "cell_type": "code",
   "execution_count": 12,
   "id": "58330feb",
   "metadata": {},
   "outputs": [
    {
     "name": "stdout",
     "output_type": "stream",
     "text": [
      "0.9954932398597897\n"
     ]
    }
   ],
   "source": [
    "predicted_test = supervised.predict(X_test)\n",
    "score = f1_score(y_test,predicted_test)\n",
    "print(score)"
   ]
  },
  {
   "cell_type": "code",
   "execution_count": 13,
   "id": "da3e71f8",
   "metadata": {},
   "outputs": [],
   "source": [
    "from pytorch_tabnet.pretraining import TabNetPretrainer\n",
    "\n",
    "# TabNetPretrainer\n",
    "unsupervised = TabNetPretrainer(\n",
    "    optimizer_fn=torch.optim.Adam,\n",
    "    optimizer_params=dict(lr=2e-2),\n",
    "    mask_type='entmax' # \"sparsemax\"\n",
    ")"
   ]
  },
  {
   "cell_type": "code",
   "execution_count": 14,
   "id": "19d5344e",
   "metadata": {},
   "outputs": [
    {
     "name": "stdout",
     "output_type": "stream",
     "text": [
      "epoch 0  | loss: 1.34347 | val_0_unsup_loss_numpy: 89232504.0|  0:00:11s\n",
      "epoch 1  | loss: 0.98772 | val_0_unsup_loss_numpy: 8663917.0|  0:00:22s\n",
      "epoch 2  | loss: 0.98489 | val_0_unsup_loss_numpy: 39511256.0|  0:00:34s\n",
      "epoch 3  | loss: 0.96982 | val_0_unsup_loss_numpy: 62581820.0|  0:00:44s\n",
      "epoch 4  | loss: 0.96974 | val_0_unsup_loss_numpy: 1033215040.0|  0:00:55s\n",
      "epoch 5  | loss: 0.96441 | val_0_unsup_loss_numpy: 653611584.0|  0:01:06s\n",
      "epoch 6  | loss: 0.9639  | val_0_unsup_loss_numpy: 3123280640.0|  0:01:16s\n",
      "epoch 7  | loss: 0.95778 | val_0_unsup_loss_numpy: 4257378048.0|  0:01:27s\n",
      "epoch 8  | loss: 0.9589  | val_0_unsup_loss_numpy: 23222102016.0|  0:01:38s\n",
      "epoch 9  | loss: 0.96101 | val_0_unsup_loss_numpy: 36810911744.0|  0:01:50s\n",
      "epoch 10 | loss: 0.95535 | val_0_unsup_loss_numpy: 167888784.0|  0:02:01s\n",
      "epoch 11 | loss: 0.95811 | val_0_unsup_loss_numpy: 242935456.0|  0:02:13s\n",
      "\n",
      "Early stopping occurred at epoch 11 with best_epoch = 1 and best_val_0_unsup_loss_numpy = 8663917.0\n"
     ]
    }
   ],
   "source": [
    "unsupervised.fit(X_train,\n",
    "                 eval_set=[X_val],\n",
    "                 pretraining_ratio=0.8,\n",
    ")"
   ]
  },
  {
   "cell_type": "markdown",
   "id": "b96de21b",
   "metadata": {},
   "source": [
    "# Pre-trained 된 모델로 test"
   ]
  },
  {
   "cell_type": "code",
   "execution_count": 15,
   "id": "b1d15267",
   "metadata": {},
   "outputs": [],
   "source": [
    "clf = TabNetClassifier(\n",
    "    optimizer_fn=torch.optim.Adam,\n",
    "    optimizer_params=dict(lr=2e-2),\n",
    "    scheduler_params={\"step_size\":10, # how to use learning rate scheduler\n",
    "                      \"gamma\":0.9},\n",
    "    scheduler_fn=torch.optim.lr_scheduler.StepLR,\n",
    "    mask_type='sparsemax' # This will be overwritten if using pretrain model\n",
    ")"
   ]
  },
  {
   "cell_type": "code",
   "execution_count": 16,
   "id": "fb997d40",
   "metadata": {},
   "outputs": [
    {
     "name": "stdout",
     "output_type": "stream",
     "text": [
      "epoch 0  | loss: 0.09569 | train_logloss: 0.01269 | train_f1: 0.75682 | valid_logloss: 0.14967 | valid_f1: 0.29579 |  0:00:11s\n",
      "epoch 1  | loss: 0.00952 | train_logloss: 0.00736 | train_f1: 0.87983 | valid_logloss: 0.13115 | valid_f1: 0.34029 |  0:00:22s\n",
      "epoch 2  | loss: 0.00788 | train_logloss: 0.00848 | train_f1: 0.78746 | valid_logloss: 0.21431 | valid_f1: 0.03168 |  0:00:33s\n",
      "epoch 3  | loss: 0.00567 | train_logloss: 0.00201 | train_f1: 0.9702  | valid_logloss: 0.16939 | valid_f1: 0.04331 |  0:00:43s\n",
      "epoch 4  | loss: 0.00366 | train_logloss: 0.00461 | train_f1: 0.91751 | valid_logloss: 0.06147 | valid_f1: 0.36    |  0:00:52s\n",
      "epoch 5  | loss: 0.00333 | train_logloss: 0.00317 | train_f1: 0.9453  | valid_logloss: 0.09865 | valid_f1: 0.23345 |  0:01:02s\n",
      "epoch 6  | loss: 0.00268 | train_logloss: 0.00326 | train_f1: 0.9501  | valid_logloss: 0.04979 | valid_f1: 0.44564 |  0:01:12s\n",
      "epoch 7  | loss: 0.00226 | train_logloss: 0.00154 | train_f1: 0.96615 | valid_logloss: 0.06729 | valid_f1: 0.46154 |  0:01:20s\n",
      "epoch 8  | loss: 0.00192 | train_logloss: 0.00041 | train_f1: 0.99195 | valid_logloss: 0.08554 | valid_f1: 0.34258 |  0:01:27s\n",
      "epoch 9  | loss: 0.00147 | train_logloss: 0.00022 | train_f1: 0.99498 | valid_logloss: 0.07478 | valid_f1: 0.43277 |  0:01:35s\n",
      "epoch 10 | loss: 0.00107 | train_logloss: 2e-05   | train_f1: 0.999   | valid_logloss: 0.09347 | valid_f1: 0.19856 |  0:01:42s\n",
      "epoch 11 | loss: 0.0008  | train_logloss: 0.00248 | train_f1: 0.98035 | valid_logloss: 0.13032 | valid_f1: 0.04331 |  0:01:50s\n",
      "epoch 12 | loss: 0.0007  | train_logloss: 0.00061 | train_f1: 0.99404 | valid_logloss: 0.13006 | valid_f1: 0.02778 |  0:01:58s\n",
      "epoch 13 | loss: 0.00073 | train_logloss: 3e-05   | train_f1: 0.999   | valid_logloss: 0.14613 | valid_f1: 0.1787  |  0:02:05s\n",
      "epoch 14 | loss: 0.00134 | train_logloss: 0.00078 | train_f1: 0.98174 | valid_logloss: 0.14623 | valid_f1: 0.38669 |  0:02:12s\n",
      "epoch 15 | loss: 0.001   | train_logloss: 0.00018 | train_f1: 0.99599 | valid_logloss: 0.12624 | valid_f1: 0.39406 |  0:02:20s\n",
      "epoch 16 | loss: 0.00088 | train_logloss: 0.00055 | train_f1: 0.99602 | valid_logloss: 0.33192 | valid_f1: 0.06508 |  0:02:27s\n",
      "epoch 17 | loss: 0.00076 | train_logloss: 0.00014 | train_f1: 0.99502 | valid_logloss: 0.14127 | valid_f1: 0.06615 |  0:02:35s\n",
      "\n",
      "Early stopping occurred at epoch 17 with best_epoch = 7 and best_valid_f1 = 0.46154\n"
     ]
    }
   ],
   "source": [
    "clf.fit(X_train,y_train,\n",
    "    eval_set=[(X_train, y_train), (X_val, y_val)],\n",
    "    eval_name=['train', 'valid'],\n",
    "    eval_metric=['logloss','f1'],\n",
    "    from_unsupervised=unsupervised\n",
    ")"
   ]
  },
  {
   "cell_type": "code",
   "execution_count": 17,
   "id": "398e9c33",
   "metadata": {},
   "outputs": [
    {
     "name": "stdout",
     "output_type": "stream",
     "text": [
      "0.9663951120162932\n"
     ]
    }
   ],
   "source": [
    "predicted_test=clf.predict(X_test)\n",
    "score=f1_score(y_test,predicted_test)\n",
    "print(score)"
   ]
  },
  {
   "cell_type": "code",
   "execution_count": null,
   "id": "c63ceb78",
   "metadata": {},
   "outputs": [],
   "source": []
  }
 ],
 "metadata": {
  "kernelspec": {
   "display_name": "soyeon",
   "language": "python",
   "name": "soyeon"
  },
  "language_info": {
   "codemirror_mode": {
    "name": "ipython",
    "version": 3
   },
   "file_extension": ".py",
   "mimetype": "text/x-python",
   "name": "python",
   "nbconvert_exporter": "python",
   "pygments_lexer": "ipython3",
   "version": "3.8.13"
  }
 },
 "nbformat": 4,
 "nbformat_minor": 5
}
