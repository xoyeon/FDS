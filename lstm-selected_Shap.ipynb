{
 "cells": [
  {
   "cell_type": "code",
   "execution_count": 1,
   "id": "f032a645",
   "metadata": {},
   "outputs": [],
   "source": [
    "import pandas as pd\n",
    "import numpy as np\n",
    "import tensorflow as tf\n",
    "\n",
    "from tensorflow.keras.models import Sequential\n",
    "from tensorflow.keras.layers import LSTM, Input, Dropout, Dense, RepeatVector\n",
    "from sklearn import metrics\n",
    "\n",
    "from matplotlib import pyplot as plt\n",
    "import seaborn as sns"
   ]
  },
  {
   "cell_type": "code",
   "execution_count": 2,
   "id": "0615b3ff",
   "metadata": {},
   "outputs": [
    {
     "data": {
      "text/html": [
       "<div>\n",
       "<style scoped>\n",
       "    .dataframe tbody tr th:only-of-type {\n",
       "        vertical-align: middle;\n",
       "    }\n",
       "\n",
       "    .dataframe tbody tr th {\n",
       "        vertical-align: top;\n",
       "    }\n",
       "\n",
       "    .dataframe thead th {\n",
       "        text-align: right;\n",
       "    }\n",
       "</style>\n",
       "<table border=\"1\" class=\"dataframe\">\n",
       "  <thead>\n",
       "    <tr style=\"text-align: right;\">\n",
       "      <th></th>\n",
       "      <th>Time</th>\n",
       "      <th>V1</th>\n",
       "      <th>V2</th>\n",
       "      <th>V3</th>\n",
       "      <th>V4</th>\n",
       "      <th>V5</th>\n",
       "      <th>V6</th>\n",
       "      <th>V7</th>\n",
       "      <th>V8</th>\n",
       "      <th>V9</th>\n",
       "      <th>...</th>\n",
       "      <th>V21</th>\n",
       "      <th>V22</th>\n",
       "      <th>V23</th>\n",
       "      <th>V24</th>\n",
       "      <th>V25</th>\n",
       "      <th>V26</th>\n",
       "      <th>V27</th>\n",
       "      <th>V28</th>\n",
       "      <th>Amount</th>\n",
       "      <th>Class</th>\n",
       "    </tr>\n",
       "  </thead>\n",
       "  <tbody>\n",
       "    <tr>\n",
       "      <th>0</th>\n",
       "      <td>0:00:00</td>\n",
       "      <td>-1.359807</td>\n",
       "      <td>-0.072781</td>\n",
       "      <td>2.536347</td>\n",
       "      <td>1.378155</td>\n",
       "      <td>-0.338321</td>\n",
       "      <td>0.462388</td>\n",
       "      <td>0.239599</td>\n",
       "      <td>0.098698</td>\n",
       "      <td>0.363787</td>\n",
       "      <td>...</td>\n",
       "      <td>-0.018307</td>\n",
       "      <td>0.277838</td>\n",
       "      <td>-0.110474</td>\n",
       "      <td>0.066928</td>\n",
       "      <td>0.128539</td>\n",
       "      <td>-0.189115</td>\n",
       "      <td>0.133558</td>\n",
       "      <td>-0.021053</td>\n",
       "      <td>5.008105</td>\n",
       "      <td>0</td>\n",
       "    </tr>\n",
       "    <tr>\n",
       "      <th>1</th>\n",
       "      <td>0:00:00</td>\n",
       "      <td>1.191857</td>\n",
       "      <td>0.266151</td>\n",
       "      <td>0.166480</td>\n",
       "      <td>0.448154</td>\n",
       "      <td>0.060018</td>\n",
       "      <td>-0.082361</td>\n",
       "      <td>-0.078803</td>\n",
       "      <td>0.085102</td>\n",
       "      <td>-0.255425</td>\n",
       "      <td>...</td>\n",
       "      <td>-0.225775</td>\n",
       "      <td>-0.638672</td>\n",
       "      <td>0.101288</td>\n",
       "      <td>-0.339846</td>\n",
       "      <td>0.167170</td>\n",
       "      <td>0.125895</td>\n",
       "      <td>-0.008983</td>\n",
       "      <td>0.014724</td>\n",
       "      <td>0.989913</td>\n",
       "      <td>0</td>\n",
       "    </tr>\n",
       "    <tr>\n",
       "      <th>2</th>\n",
       "      <td>0:00:24</td>\n",
       "      <td>-1.358354</td>\n",
       "      <td>-1.340163</td>\n",
       "      <td>1.773209</td>\n",
       "      <td>0.379780</td>\n",
       "      <td>-0.503198</td>\n",
       "      <td>1.800499</td>\n",
       "      <td>0.791461</td>\n",
       "      <td>0.247676</td>\n",
       "      <td>-1.514654</td>\n",
       "      <td>...</td>\n",
       "      <td>0.247998</td>\n",
       "      <td>0.771679</td>\n",
       "      <td>0.909412</td>\n",
       "      <td>-0.689281</td>\n",
       "      <td>-0.327642</td>\n",
       "      <td>-0.139097</td>\n",
       "      <td>-0.055353</td>\n",
       "      <td>-0.059752</td>\n",
       "      <td>5.936641</td>\n",
       "      <td>0</td>\n",
       "    </tr>\n",
       "    <tr>\n",
       "      <th>3</th>\n",
       "      <td>0:00:24</td>\n",
       "      <td>-0.966272</td>\n",
       "      <td>-0.185226</td>\n",
       "      <td>1.792993</td>\n",
       "      <td>-0.863291</td>\n",
       "      <td>-0.010309</td>\n",
       "      <td>1.247203</td>\n",
       "      <td>0.237609</td>\n",
       "      <td>0.377436</td>\n",
       "      <td>-1.387024</td>\n",
       "      <td>...</td>\n",
       "      <td>-0.108300</td>\n",
       "      <td>0.005274</td>\n",
       "      <td>-0.190321</td>\n",
       "      <td>-1.175575</td>\n",
       "      <td>0.647376</td>\n",
       "      <td>-0.221929</td>\n",
       "      <td>0.062723</td>\n",
       "      <td>0.061458</td>\n",
       "      <td>4.816249</td>\n",
       "      <td>0</td>\n",
       "    </tr>\n",
       "    <tr>\n",
       "      <th>4</th>\n",
       "      <td>0:00:48</td>\n",
       "      <td>-1.158233</td>\n",
       "      <td>0.877737</td>\n",
       "      <td>1.548718</td>\n",
       "      <td>0.403034</td>\n",
       "      <td>-0.407193</td>\n",
       "      <td>0.095921</td>\n",
       "      <td>0.592941</td>\n",
       "      <td>-0.270533</td>\n",
       "      <td>0.817739</td>\n",
       "      <td>...</td>\n",
       "      <td>-0.009431</td>\n",
       "      <td>0.798278</td>\n",
       "      <td>-0.137458</td>\n",
       "      <td>0.141267</td>\n",
       "      <td>-0.206010</td>\n",
       "      <td>0.502292</td>\n",
       "      <td>0.219422</td>\n",
       "      <td>0.215153</td>\n",
       "      <td>4.248367</td>\n",
       "      <td>0</td>\n",
       "    </tr>\n",
       "  </tbody>\n",
       "</table>\n",
       "<p>5 rows × 31 columns</p>\n",
       "</div>"
      ],
      "text/plain": [
       "      Time        V1        V2        V3        V4        V5        V6  \\\n",
       "0  0:00:00 -1.359807 -0.072781  2.536347  1.378155 -0.338321  0.462388   \n",
       "1  0:00:00  1.191857  0.266151  0.166480  0.448154  0.060018 -0.082361   \n",
       "2  0:00:24 -1.358354 -1.340163  1.773209  0.379780 -0.503198  1.800499   \n",
       "3  0:00:24 -0.966272 -0.185226  1.792993 -0.863291 -0.010309  1.247203   \n",
       "4  0:00:48 -1.158233  0.877737  1.548718  0.403034 -0.407193  0.095921   \n",
       "\n",
       "         V7        V8        V9  ...       V21       V22       V23       V24  \\\n",
       "0  0.239599  0.098698  0.363787  ... -0.018307  0.277838 -0.110474  0.066928   \n",
       "1 -0.078803  0.085102 -0.255425  ... -0.225775 -0.638672  0.101288 -0.339846   \n",
       "2  0.791461  0.247676 -1.514654  ...  0.247998  0.771679  0.909412 -0.689281   \n",
       "3  0.237609  0.377436 -1.387024  ... -0.108300  0.005274 -0.190321 -1.175575   \n",
       "4  0.592941 -0.270533  0.817739  ... -0.009431  0.798278 -0.137458  0.141267   \n",
       "\n",
       "        V25       V26       V27       V28    Amount  Class  \n",
       "0  0.128539 -0.189115  0.133558 -0.021053  5.008105      0  \n",
       "1  0.167170  0.125895 -0.008983  0.014724  0.989913      0  \n",
       "2 -0.327642 -0.139097 -0.055353 -0.059752  5.936641      0  \n",
       "3  0.647376 -0.221929  0.062723  0.061458  4.816249      0  \n",
       "4 -0.206010  0.502292  0.219422  0.215153  4.248367      0  \n",
       "\n",
       "[5 rows x 31 columns]"
      ]
     },
     "execution_count": 2,
     "metadata": {},
     "output_type": "execute_result"
    }
   ],
   "source": [
    "data = pd.read_csv('./dataset/inflearn_creditcard.csv')\n",
    "data.head()"
   ]
  },
  {
   "cell_type": "code",
   "execution_count": 3,
   "id": "9ef7cf77",
   "metadata": {},
   "outputs": [],
   "source": [
    "df = data.copy()"
   ]
  },
  {
   "cell_type": "markdown",
   "id": "1e32f277",
   "metadata": {},
   "source": [
    "# Feature selection"
   ]
  },
  {
   "cell_type": "code",
   "execution_count": 4,
   "id": "f5ef6df5",
   "metadata": {},
   "outputs": [
    {
     "data": {
      "text/html": [
       "<div>\n",
       "<style scoped>\n",
       "    .dataframe tbody tr th:only-of-type {\n",
       "        vertical-align: middle;\n",
       "    }\n",
       "\n",
       "    .dataframe tbody tr th {\n",
       "        vertical-align: top;\n",
       "    }\n",
       "\n",
       "    .dataframe thead th {\n",
       "        text-align: right;\n",
       "    }\n",
       "</style>\n",
       "<table border=\"1\" class=\"dataframe\">\n",
       "  <thead>\n",
       "    <tr style=\"text-align: right;\">\n",
       "      <th></th>\n",
       "      <th>V1</th>\n",
       "      <th>V2</th>\n",
       "      <th>V3</th>\n",
       "      <th>V4</th>\n",
       "      <th>V7</th>\n",
       "      <th>V9</th>\n",
       "      <th>V10</th>\n",
       "      <th>V11</th>\n",
       "      <th>V12</th>\n",
       "      <th>V14</th>\n",
       "      <th>V16</th>\n",
       "      <th>V17</th>\n",
       "      <th>V18</th>\n",
       "      <th>V19</th>\n",
       "      <th>Amount</th>\n",
       "      <th>Class</th>\n",
       "    </tr>\n",
       "  </thead>\n",
       "  <tbody>\n",
       "    <tr>\n",
       "      <th>0</th>\n",
       "      <td>-1.359807</td>\n",
       "      <td>-0.072781</td>\n",
       "      <td>2.536347</td>\n",
       "      <td>1.378155</td>\n",
       "      <td>0.239599</td>\n",
       "      <td>0.363787</td>\n",
       "      <td>0.090794</td>\n",
       "      <td>-0.551600</td>\n",
       "      <td>-0.617801</td>\n",
       "      <td>-0.311169</td>\n",
       "      <td>-0.470401</td>\n",
       "      <td>0.207971</td>\n",
       "      <td>0.025791</td>\n",
       "      <td>0.403993</td>\n",
       "      <td>5.008105</td>\n",
       "      <td>0</td>\n",
       "    </tr>\n",
       "    <tr>\n",
       "      <th>1</th>\n",
       "      <td>1.191857</td>\n",
       "      <td>0.266151</td>\n",
       "      <td>0.166480</td>\n",
       "      <td>0.448154</td>\n",
       "      <td>-0.078803</td>\n",
       "      <td>-0.255425</td>\n",
       "      <td>-0.166974</td>\n",
       "      <td>1.612727</td>\n",
       "      <td>1.065235</td>\n",
       "      <td>-0.143772</td>\n",
       "      <td>0.463917</td>\n",
       "      <td>-0.114805</td>\n",
       "      <td>-0.183361</td>\n",
       "      <td>-0.145783</td>\n",
       "      <td>0.989913</td>\n",
       "      <td>0</td>\n",
       "    </tr>\n",
       "    <tr>\n",
       "      <th>2</th>\n",
       "      <td>-1.358354</td>\n",
       "      <td>-1.340163</td>\n",
       "      <td>1.773209</td>\n",
       "      <td>0.379780</td>\n",
       "      <td>0.791461</td>\n",
       "      <td>-1.514654</td>\n",
       "      <td>0.207643</td>\n",
       "      <td>0.624501</td>\n",
       "      <td>0.066084</td>\n",
       "      <td>-0.165946</td>\n",
       "      <td>-2.890083</td>\n",
       "      <td>1.109969</td>\n",
       "      <td>-0.121359</td>\n",
       "      <td>-2.261857</td>\n",
       "      <td>5.936641</td>\n",
       "      <td>0</td>\n",
       "    </tr>\n",
       "    <tr>\n",
       "      <th>3</th>\n",
       "      <td>-0.966272</td>\n",
       "      <td>-0.185226</td>\n",
       "      <td>1.792993</td>\n",
       "      <td>-0.863291</td>\n",
       "      <td>0.237609</td>\n",
       "      <td>-1.387024</td>\n",
       "      <td>-0.054952</td>\n",
       "      <td>-0.226487</td>\n",
       "      <td>0.178228</td>\n",
       "      <td>-0.287924</td>\n",
       "      <td>-1.059647</td>\n",
       "      <td>-0.684093</td>\n",
       "      <td>1.965775</td>\n",
       "      <td>-1.232622</td>\n",
       "      <td>4.816249</td>\n",
       "      <td>0</td>\n",
       "    </tr>\n",
       "    <tr>\n",
       "      <th>4</th>\n",
       "      <td>-1.158233</td>\n",
       "      <td>0.877737</td>\n",
       "      <td>1.548718</td>\n",
       "      <td>0.403034</td>\n",
       "      <td>0.592941</td>\n",
       "      <td>0.817739</td>\n",
       "      <td>0.753074</td>\n",
       "      <td>-0.822843</td>\n",
       "      <td>0.538196</td>\n",
       "      <td>-1.119670</td>\n",
       "      <td>-0.451449</td>\n",
       "      <td>-0.237033</td>\n",
       "      <td>-0.038195</td>\n",
       "      <td>0.803487</td>\n",
       "      <td>4.248367</td>\n",
       "      <td>0</td>\n",
       "    </tr>\n",
       "    <tr>\n",
       "      <th>...</th>\n",
       "      <td>...</td>\n",
       "      <td>...</td>\n",
       "      <td>...</td>\n",
       "      <td>...</td>\n",
       "      <td>...</td>\n",
       "      <td>...</td>\n",
       "      <td>...</td>\n",
       "      <td>...</td>\n",
       "      <td>...</td>\n",
       "      <td>...</td>\n",
       "      <td>...</td>\n",
       "      <td>...</td>\n",
       "      <td>...</td>\n",
       "      <td>...</td>\n",
       "      <td>...</td>\n",
       "      <td>...</td>\n",
       "    </tr>\n",
       "    <tr>\n",
       "      <th>283721</th>\n",
       "      <td>-11.881118</td>\n",
       "      <td>10.071785</td>\n",
       "      <td>-9.834783</td>\n",
       "      <td>-2.066656</td>\n",
       "      <td>-4.918215</td>\n",
       "      <td>1.914428</td>\n",
       "      <td>4.356170</td>\n",
       "      <td>-1.593105</td>\n",
       "      <td>2.711941</td>\n",
       "      <td>4.626942</td>\n",
       "      <td>1.107641</td>\n",
       "      <td>1.991691</td>\n",
       "      <td>0.510632</td>\n",
       "      <td>-0.682920</td>\n",
       "      <td>-0.260067</td>\n",
       "      <td>0</td>\n",
       "    </tr>\n",
       "    <tr>\n",
       "      <th>283722</th>\n",
       "      <td>-0.732789</td>\n",
       "      <td>-0.055080</td>\n",
       "      <td>2.035030</td>\n",
       "      <td>-0.738589</td>\n",
       "      <td>0.024330</td>\n",
       "      <td>0.584800</td>\n",
       "      <td>-0.975926</td>\n",
       "      <td>-0.150189</td>\n",
       "      <td>0.915802</td>\n",
       "      <td>-0.675143</td>\n",
       "      <td>-0.711757</td>\n",
       "      <td>-0.025693</td>\n",
       "      <td>-1.221179</td>\n",
       "      <td>-1.545556</td>\n",
       "      <td>3.210481</td>\n",
       "      <td>0</td>\n",
       "    </tr>\n",
       "    <tr>\n",
       "      <th>283723</th>\n",
       "      <td>1.919565</td>\n",
       "      <td>-0.301254</td>\n",
       "      <td>-3.249640</td>\n",
       "      <td>-0.557828</td>\n",
       "      <td>-0.296827</td>\n",
       "      <td>0.432454</td>\n",
       "      <td>-0.484782</td>\n",
       "      <td>0.411614</td>\n",
       "      <td>0.063119</td>\n",
       "      <td>-0.510602</td>\n",
       "      <td>0.140716</td>\n",
       "      <td>0.313502</td>\n",
       "      <td>0.395652</td>\n",
       "      <td>-0.577252</td>\n",
       "      <td>4.217756</td>\n",
       "      <td>0</td>\n",
       "    </tr>\n",
       "    <tr>\n",
       "      <th>283724</th>\n",
       "      <td>-0.240440</td>\n",
       "      <td>0.530483</td>\n",
       "      <td>0.702510</td>\n",
       "      <td>0.689799</td>\n",
       "      <td>-0.686180</td>\n",
       "      <td>0.392087</td>\n",
       "      <td>-0.399126</td>\n",
       "      <td>-1.933849</td>\n",
       "      <td>-0.962886</td>\n",
       "      <td>0.449624</td>\n",
       "      <td>-0.608577</td>\n",
       "      <td>0.509928</td>\n",
       "      <td>1.113981</td>\n",
       "      <td>2.897849</td>\n",
       "      <td>2.302685</td>\n",
       "      <td>0</td>\n",
       "    </tr>\n",
       "    <tr>\n",
       "      <th>283725</th>\n",
       "      <td>-0.533413</td>\n",
       "      <td>-0.189733</td>\n",
       "      <td>0.703337</td>\n",
       "      <td>-0.506271</td>\n",
       "      <td>1.577006</td>\n",
       "      <td>0.486180</td>\n",
       "      <td>-0.915427</td>\n",
       "      <td>-1.040458</td>\n",
       "      <td>-0.031513</td>\n",
       "      <td>-0.084316</td>\n",
       "      <td>-0.302620</td>\n",
       "      <td>-0.660377</td>\n",
       "      <td>0.167430</td>\n",
       "      <td>-0.256117</td>\n",
       "      <td>5.379902</td>\n",
       "      <td>0</td>\n",
       "    </tr>\n",
       "  </tbody>\n",
       "</table>\n",
       "<p>283726 rows × 16 columns</p>\n",
       "</div>"
      ],
      "text/plain": [
       "               V1         V2        V3        V4        V7        V9  \\\n",
       "0       -1.359807  -0.072781  2.536347  1.378155  0.239599  0.363787   \n",
       "1        1.191857   0.266151  0.166480  0.448154 -0.078803 -0.255425   \n",
       "2       -1.358354  -1.340163  1.773209  0.379780  0.791461 -1.514654   \n",
       "3       -0.966272  -0.185226  1.792993 -0.863291  0.237609 -1.387024   \n",
       "4       -1.158233   0.877737  1.548718  0.403034  0.592941  0.817739   \n",
       "...           ...        ...       ...       ...       ...       ...   \n",
       "283721 -11.881118  10.071785 -9.834783 -2.066656 -4.918215  1.914428   \n",
       "283722  -0.732789  -0.055080  2.035030 -0.738589  0.024330  0.584800   \n",
       "283723   1.919565  -0.301254 -3.249640 -0.557828 -0.296827  0.432454   \n",
       "283724  -0.240440   0.530483  0.702510  0.689799 -0.686180  0.392087   \n",
       "283725  -0.533413  -0.189733  0.703337 -0.506271  1.577006  0.486180   \n",
       "\n",
       "             V10       V11       V12       V14       V16       V17       V18  \\\n",
       "0       0.090794 -0.551600 -0.617801 -0.311169 -0.470401  0.207971  0.025791   \n",
       "1      -0.166974  1.612727  1.065235 -0.143772  0.463917 -0.114805 -0.183361   \n",
       "2       0.207643  0.624501  0.066084 -0.165946 -2.890083  1.109969 -0.121359   \n",
       "3      -0.054952 -0.226487  0.178228 -0.287924 -1.059647 -0.684093  1.965775   \n",
       "4       0.753074 -0.822843  0.538196 -1.119670 -0.451449 -0.237033 -0.038195   \n",
       "...          ...       ...       ...       ...       ...       ...       ...   \n",
       "283721  4.356170 -1.593105  2.711941  4.626942  1.107641  1.991691  0.510632   \n",
       "283722 -0.975926 -0.150189  0.915802 -0.675143 -0.711757 -0.025693 -1.221179   \n",
       "283723 -0.484782  0.411614  0.063119 -0.510602  0.140716  0.313502  0.395652   \n",
       "283724 -0.399126 -1.933849 -0.962886  0.449624 -0.608577  0.509928  1.113981   \n",
       "283725 -0.915427 -1.040458 -0.031513 -0.084316 -0.302620 -0.660377  0.167430   \n",
       "\n",
       "             V19    Amount  Class  \n",
       "0       0.403993  5.008105      0  \n",
       "1      -0.145783  0.989913      0  \n",
       "2      -2.261857  5.936641      0  \n",
       "3      -1.232622  4.816249      0  \n",
       "4       0.803487  4.248367      0  \n",
       "...          ...       ...    ...  \n",
       "283721 -0.682920 -0.260067      0  \n",
       "283722 -1.545556  3.210481      0  \n",
       "283723 -0.577252  4.217756      0  \n",
       "283724  2.897849  2.302685      0  \n",
       "283725 -0.256117  5.379902      0  \n",
       "\n",
       "[283726 rows x 16 columns]"
      ]
     },
     "execution_count": 4,
     "metadata": {},
     "output_type": "execute_result"
    }
   ],
   "source": [
    "df = data[['V1','V2','V3','V4','V7','V9','V10','V11','V12','V14','V16','V17','V18','V19','Amount','Class']]\n",
    "df"
   ]
  },
  {
   "cell_type": "code",
   "execution_count": 5,
   "id": "8692d0b0",
   "metadata": {},
   "outputs": [
    {
     "data": {
      "text/plain": [
       "Counter({0: 283253, 1: 473})"
      ]
     },
     "execution_count": 5,
     "metadata": {},
     "output_type": "execute_result"
    }
   ],
   "source": [
    "from collections import Counter\n",
    "LABELS = ['0', '1']\n",
    "Counter(df['Class'])"
   ]
  },
  {
   "cell_type": "markdown",
   "id": "a181a94f",
   "metadata": {},
   "source": [
    "# 데이터, 라벨 분리"
   ]
  },
  {
   "cell_type": "code",
   "execution_count": 9,
   "id": "1a627f21",
   "metadata": {},
   "outputs": [],
   "source": [
    "features = df.drop(['Class'], axis=1).values\n",
    "labels = np.array(df.pop('Class'))"
   ]
  },
  {
   "cell_type": "code",
   "execution_count": 10,
   "id": "31f2b0a2",
   "metadata": {},
   "outputs": [],
   "source": [
    "n_features = features.shape[1]"
   ]
  },
  {
   "cell_type": "markdown",
   "id": "ed92720b",
   "metadata": {},
   "source": [
    "# 시퀀스 data 생성"
   ]
  },
  {
   "cell_type": "code",
   "execution_count": 11,
   "id": "0a13759c",
   "metadata": {},
   "outputs": [],
   "source": [
    "# 모델에서 사용하기 위해 생성된 훈련 시퀀스\n",
    "def temporalize(X, y, timesteps):\n",
    "    output_X = []\n",
    "    output_y = []\n",
    "    for i in range(len(X) - timesteps - 1):\n",
    "        t = []\n",
    "        for j in range(1, timesteps + 1):\n",
    "            # Gather the past records upto the lookback period\n",
    "            t.append(X[[(i + j + 1)], :])\n",
    "        output_X.append(t)\n",
    "        output_y.append(y[i + timesteps + 1])\n",
    "    return np.squeeze(np.array(output_X)), np.array(output_y)"
   ]
  },
  {
   "cell_type": "code",
   "execution_count": 12,
   "id": "b9168e40",
   "metadata": {},
   "outputs": [
    {
     "name": "stdout",
     "output_type": "stream",
     "text": [
      "(283695, 30, 15)\n"
     ]
    }
   ],
   "source": [
    "timesteps = 30\n",
    "\n",
    "# Temporalize\n",
    "x, y = temporalize(features, labels, timesteps)\n",
    "print(x.shape) # (283695, 30, 15)"
   ]
  },
  {
   "cell_type": "markdown",
   "id": "338edca1",
   "metadata": {},
   "source": [
    "# Train, Test 분리"
   ]
  },
  {
   "cell_type": "code",
   "execution_count": 13,
   "id": "fad387bc",
   "metadata": {},
   "outputs": [],
   "source": [
    "from sklearn.model_selection import train_test_split"
   ]
  },
  {
   "cell_type": "code",
   "execution_count": 14,
   "id": "6e0b244f",
   "metadata": {},
   "outputs": [
    {
     "name": "stdout",
     "output_type": "stream",
     "text": [
      "70923\n",
      "70924\n",
      "141848\n"
     ]
    }
   ],
   "source": [
    "x_train, x_test, y_train, y_test = train_test_split(x, y, test_size=0.5)\n",
    "x_train, x_valid, y_train, y_valid = train_test_split(x_train, y_train, test_size=0.5)\n",
    "\n",
    "print(len(x_train))  # 70923\n",
    "print(len(x_valid))  # 70924\n",
    "print(len(x_test))   # 141848"
   ]
  },
  {
   "cell_type": "code",
   "execution_count": 15,
   "id": "f433ad4f",
   "metadata": {},
   "outputs": [],
   "source": [
    "# For training the autoencoder, split 0 / 1\n",
    "x_train_y0 = x_train[y_train == 0]\n",
    "x_train_y1 = x_train[y_train == 1]\n",
    "\n",
    "x_valid_y0 = x_valid[y_valid == 0]\n",
    "x_valid_y1 = x_valid[y_valid == 1]"
   ]
  },
  {
   "cell_type": "code",
   "execution_count": 16,
   "id": "9b0bd656",
   "metadata": {},
   "outputs": [
    {
     "data": {
      "text/plain": [
       "(70805, 30, 15)"
      ]
     },
     "execution_count": 16,
     "metadata": {},
     "output_type": "execute_result"
    }
   ],
   "source": [
    "x_train_y0.shape"
   ]
  },
  {
   "cell_type": "markdown",
   "id": "e7d63923",
   "metadata": {},
   "source": [
    "# Standardize"
   ]
  },
  {
   "cell_type": "code",
   "execution_count": 17,
   "id": "0698799d",
   "metadata": {},
   "outputs": [],
   "source": [
    "def flatten(X):\n",
    "    flattened_X = np.empty((X.shape[0], X.shape[2]))  # sample x features array.\n",
    "    for i in range(X.shape[0]):\n",
    "        flattened_X[i] = X[i, (X.shape[1]-1), :]\n",
    "    return(flattened_X)\n",
    "\n",
    "def scale(X, scaler):\n",
    "    for i in range(X.shape[0]):\n",
    "        X[i, :, :] = scaler.transform(X[i, :, :])\n",
    "        \n",
    "    return X"
   ]
  },
  {
   "cell_type": "code",
   "execution_count": 18,
   "id": "c1c53a31",
   "metadata": {},
   "outputs": [],
   "source": [
    "from sklearn.preprocessing import StandardScaler\n",
    "scaler = StandardScaler().fit(flatten(x_train_y0))\n",
    "\n",
    "x_train_y0_scaled = scale(x_train_y0, scaler)\n",
    "x_valid_scaled = scale(x_valid, scaler)\n",
    "x_valid_y0_scaled = scale(x_valid_y0, scaler)\n",
    "x_test_scaled = scale(x_test, scaler)"
   ]
  },
  {
   "cell_type": "markdown",
   "id": "ad209fee",
   "metadata": {},
   "source": [
    "# LSTM Autoencoder model"
   ]
  },
  {
   "cell_type": "code",
   "execution_count": 19,
   "id": "46354c83",
   "metadata": {},
   "outputs": [
    {
     "name": "stdout",
     "output_type": "stream",
     "text": [
      "Model: \"sequential\"\n",
      "_________________________________________________________________\n",
      " Layer (type)                Output Shape              Param #   \n",
      "=================================================================\n",
      " lstm (LSTM)                 (None, 32)                6144      \n",
      "                                                                 \n",
      " dropout (Dropout)           (None, 32)                0         \n",
      "                                                                 \n",
      " repeat_vector (RepeatVector  (None, 30, 32)           0         \n",
      " )                                                               \n",
      "                                                                 \n",
      " dropout_1 (Dropout)         (None, 30, 32)            0         \n",
      "                                                                 \n",
      " lstm_1 (LSTM)               (None, 30, 32)            8320      \n",
      "                                                                 \n",
      " dense (Dense)               (None, 30, 15)            495       \n",
      "                                                                 \n",
      "=================================================================\n",
      "Total params: 14,959\n",
      "Trainable params: 14,959\n",
      "Non-trainable params: 0\n",
      "_________________________________________________________________\n"
     ]
    }
   ],
   "source": [
    "model = Sequential()\n",
    "\n",
    "model.add(LSTM(32, input_shape=(timesteps, n_features)))\n",
    "\n",
    "model.add(Dropout(0.2))\n",
    "model.add(RepeatVector(timesteps))\n",
    "model.add(Dropout(0.2))\n",
    "\n",
    "model.add(LSTM(32, return_sequences=True))\n",
    "model.add(Dense(n_features))\n",
    "\n",
    "model.compile(optimizer='adam', loss='mse')\n",
    "model.summary()"
   ]
  },
  {
   "cell_type": "markdown",
   "id": "a5a78028",
   "metadata": {},
   "source": [
    "# Train"
   ]
  },
  {
   "cell_type": "code",
   "execution_count": 20,
   "id": "f6476c4a",
   "metadata": {},
   "outputs": [],
   "source": [
    "epochs = 30\n",
    "batch = 128\n",
    "validation_split = 0.1"
   ]
  },
  {
   "cell_type": "code",
   "execution_count": 21,
   "id": "c5d227fd",
   "metadata": {},
   "outputs": [
    {
     "name": "stdout",
     "output_type": "stream",
     "text": [
      "Epoch 1/30\n",
      "554/554 [==============================] - 39s 58ms/step - loss: 0.9588 - val_loss: 0.9440\n",
      "Epoch 2/30\n",
      "554/554 [==============================] - 31s 56ms/step - loss: 0.9402 - val_loss: 0.9367\n",
      "Epoch 3/30\n",
      "554/554 [==============================] - 31s 56ms/step - loss: 0.9361 - val_loss: 0.9348\n",
      "Epoch 4/30\n",
      "554/554 [==============================] - 31s 56ms/step - loss: 0.9338 - val_loss: 0.9307\n",
      "Epoch 5/30\n",
      "554/554 [==============================] - 35s 64ms/step - loss: 0.9298 - val_loss: 0.9258\n",
      "Epoch 6/30\n",
      "554/554 [==============================] - 37s 66ms/step - loss: 0.9264 - val_loss: 0.9214\n",
      "Epoch 7/30\n",
      "554/554 [==============================] - 32s 57ms/step - loss: 0.9235 - val_loss: 0.9177\n",
      "Epoch 8/30\n",
      "554/554 [==============================] - 33s 59ms/step - loss: 0.9210 - val_loss: 0.9134\n",
      "Epoch 9/30\n",
      "554/554 [==============================] - 32s 57ms/step - loss: 0.9187 - val_loss: 0.9118\n",
      "Epoch 10/30\n",
      "554/554 [==============================] - 32s 58ms/step - loss: 0.9169 - val_loss: 0.9125\n",
      "Epoch 11/30\n",
      "554/554 [==============================] - 32s 57ms/step - loss: 0.9150 - val_loss: 0.9110\n",
      "Epoch 12/30\n",
      "554/554 [==============================] - 30s 54ms/step - loss: 0.9130 - val_loss: 0.9023\n",
      "Epoch 13/30\n",
      "554/554 [==============================] - 32s 58ms/step - loss: 0.9129 - val_loss: 0.9028\n",
      "Epoch 14/30\n",
      "554/554 [==============================] - 33s 59ms/step - loss: 0.9102 - val_loss: 0.8992\n",
      "Epoch 15/30\n",
      "554/554 [==============================] - 32s 58ms/step - loss: 0.9078 - val_loss: 0.8958\n",
      "Epoch 16/30\n",
      "554/554 [==============================] - 32s 57ms/step - loss: 0.9071 - val_loss: 0.8987\n",
      "Epoch 17/30\n",
      "554/554 [==============================] - 35s 63ms/step - loss: 0.9063 - val_loss: 0.8929\n",
      "Epoch 18/30\n",
      "554/554 [==============================] - 37s 68ms/step - loss: 0.9050 - val_loss: 0.8915\n",
      "Epoch 19/30\n",
      "554/554 [==============================] - 35s 64ms/step - loss: 0.9036 - val_loss: 0.8890\n",
      "Epoch 20/30\n",
      "554/554 [==============================] - 32s 58ms/step - loss: 0.9038 - val_loss: 0.8896\n",
      "Epoch 21/30\n",
      "554/554 [==============================] - 31s 56ms/step - loss: 0.9019 - val_loss: 0.8836\n",
      "Epoch 22/30\n",
      "554/554 [==============================] - 31s 56ms/step - loss: 0.9005 - val_loss: 0.8872\n",
      "Epoch 23/30\n",
      "554/554 [==============================] - 33s 59ms/step - loss: 0.9002 - val_loss: 0.8838\n",
      "Epoch 24/30\n",
      "554/554 [==============================] - 31s 55ms/step - loss: 0.8990 - val_loss: 0.8809\n",
      "Epoch 25/30\n",
      "554/554 [==============================] - 30s 55ms/step - loss: 0.8981 - val_loss: 0.8794\n",
      "Epoch 26/30\n",
      "554/554 [==============================] - 32s 58ms/step - loss: 0.8973 - val_loss: 0.8811\n",
      "Epoch 27/30\n",
      "554/554 [==============================] - 30s 55ms/step - loss: 0.8966 - val_loss: 0.8745\n",
      "Epoch 28/30\n",
      "554/554 [==============================] - 30s 55ms/step - loss: 0.8956 - val_loss: 0.8875\n",
      "Epoch 29/30\n",
      "554/554 [==============================] - 32s 58ms/step - loss: 0.8948 - val_loss: 0.8727\n",
      "Epoch 30/30\n",
      "554/554 [==============================] - 35s 63ms/step - loss: 0.8943 - val_loss: 0.8732\n"
     ]
    }
   ],
   "source": [
    "history = model.fit(x_train_y0_scaled, x_train_y0_scaled,\n",
    "                    epochs=epochs, batch_size=batch, validation_data=(x_valid_y0_scaled,x_valid_y0_scaled),\n",
    "                    callbacks=[tf.keras.callbacks.EarlyStopping(monitor=\"val_loss\", patience=10, mode=\"min\")])"
   ]
  },
  {
   "cell_type": "code",
   "execution_count": 22,
   "id": "9557962a",
   "metadata": {},
   "outputs": [
    {
     "data": {
      "image/png": "[encoded data removed]",
      "text/plain": [
       "<Figure size 640x480 with 1 Axes>"
      ]
     },
     "metadata": {},
     "output_type": "display_data"
    }
   ],
   "source": [
    "plt.plot(history.history['loss'], label='train loss')\n",
    "plt.plot(history.history['val_loss'], label='valid loss')\n",
    "plt.legend()\n",
    "plt.xlabel('Epoch')\n",
    "plt.ylabel('loss')\n",
    "plt.show()"
   ]
  },
  {
   "cell_type": "markdown",
   "id": "03f241f9",
   "metadata": {},
   "source": [
    "# Threshold"
   ]
  },
  {
   "cell_type": "code",
   "execution_count": 23,
   "id": "43f9d237",
   "metadata": {},
   "outputs": [
    {
     "name": "stdout",
     "output_type": "stream",
     "text": [
      "2217/2217 [==============================] - 23s 10ms/step\n"
     ]
    }
   ],
   "source": [
    "valid_x_predictions = model.predict(x_valid_scaled)\n",
    "mse = np.mean(np.power(flatten(x_valid_scaled) - flatten(valid_x_predictions), 2), axis=1)"
   ]
  },
  {
   "cell_type": "code",
   "execution_count": 24,
   "id": "46c31dd7",
   "metadata": {},
   "outputs": [],
   "source": [
    "error_df = pd.DataFrame({'Reconstruction_error':mse, \n",
    "                         'True_class':list(y_valid)})\n",
    "precision_rt, recall_rt, threshold_rt = metrics.precision_recall_curve(\n",
    "    error_df['True_class'], error_df['Reconstruction_error'])"
   ]
  },
  {
   "cell_type": "code",
   "execution_count": 25,
   "id": "32ee11c6",
   "metadata": {},
   "outputs": [
    {
     "data": {
      "image/png": "[encoded data removed]",
      "text/plain": [
       "<Figure size 800x500 with 1 Axes>"
      ]
     },
     "metadata": {},
     "output_type": "display_data"
    }
   ],
   "source": [
    "plt.figure(figsize=(8,5))\n",
    "plt.plot(threshold_rt, precision_rt[1:], label='Precision')\n",
    "plt.plot(threshold_rt, recall_rt[1:], label='Recall')\n",
    "plt.xlabel('Threshold'); plt.ylabel('Precision/Recall')\n",
    "plt.legend()\n",
    "plt.show()"
   ]
  },
  {
   "cell_type": "code",
   "execution_count": 26,
   "id": "07823162",
   "metadata": {},
   "outputs": [
    {
     "name": "stdout",
     "output_type": "stream",
     "text": [
      "precision:  0.3008849557522124 , recall:  0.3008849557522124\n",
      "threshold:  10.74894895826968\n"
     ]
    }
   ],
   "source": [
    "# best position of threshold\n",
    "index_cnt = [cnt for cnt, (p, r) in enumerate(zip(precision_rt, recall_rt)) if p==r][0]\n",
    "print('precision: ',precision_rt[index_cnt],', recall: ',recall_rt[index_cnt])\n",
    "\n",
    "# fixed Threshold\n",
    "threshold_fixed = threshold_rt[index_cnt]\n",
    "print('threshold: ',threshold_fixed)"
   ]
  },
  {
   "cell_type": "markdown",
   "id": "aaa827d9",
   "metadata": {},
   "source": [
    "# Test"
   ]
  },
  {
   "cell_type": "code",
   "execution_count": 27,
   "id": "4958b4b8",
   "metadata": {},
   "outputs": [
    {
     "name": "stdout",
     "output_type": "stream",
     "text": [
      "4433/4433 [==============================] - 42s 10ms/step\n"
     ]
    }
   ],
   "source": [
    "test_x_predictions = model.predict(x_test_scaled)"
   ]
  },
  {
   "cell_type": "code",
   "execution_count": 28,
   "id": "848f6513",
   "metadata": {},
   "outputs": [],
   "source": [
    "mse = np.mean(np.power(flatten(x_test_scaled) - flatten(test_x_predictions), 2), axis=1)"
   ]
  },
  {
   "cell_type": "code",
   "execution_count": 29,
   "id": "330a90ed",
   "metadata": {},
   "outputs": [
    {
     "data": {
      "image/png": "[encoded data removed]",
      "text/plain": [
       "<Figure size 640x480 with 1 Axes>"
      ]
     },
     "metadata": {},
     "output_type": "display_data"
    }
   ],
   "source": [
    "error_df = pd.DataFrame({'Reconstruction_error': mse,\n",
    "                         'True_class': y_test.tolist()})\n",
    "\n",
    "groups = error_df.groupby('True_class')\n",
    "fig, ax = plt.subplots()\n",
    "\n",
    "for name, group in groups:\n",
    "    ax.plot(group.index, group.Reconstruction_error, marker='o', ms=3.5, linestyle='',\n",
    "            label= \"Break\" if name == 1 else \"Normal\")\n",
    "ax.hlines(threshold_fixed, ax.get_xlim()[0], ax.get_xlim()[1], colors=\"r\", zorder=100, label='Threshold')\n",
    "ax.legend()\n",
    "plt.title(\"Reconstruction error for different classes\")\n",
    "plt.ylabel(\"Reconstruction error\")\n",
    "plt.xlabel(\"Data point index\")\n",
    "plt.show();"
   ]
  },
  {
   "cell_type": "markdown",
   "id": "8e80ea2d",
   "metadata": {},
   "source": [
    "# Evaluation"
   ]
  },
  {
   "cell_type": "code",
   "execution_count": 30,
   "id": "b5e36f0c",
   "metadata": {},
   "outputs": [],
   "source": [
    "from sklearn.metrics import confusion_matrix"
   ]
  },
  {
   "cell_type": "code",
   "execution_count": 31,
   "id": "b57b4f62",
   "metadata": {
    "scrolled": false
   },
   "outputs": [
    {
     "data": {
      "image/png": "[encoded data removed]",
      "text/plain": [
       "<Figure size 700x700 with 2 Axes>"
      ]
     },
     "metadata": {},
     "output_type": "display_data"
    }
   ],
   "source": [
    "# classification by threshold\n",
    "pred_y = [1 if e > threshold_fixed else 0 for e in error_df['Reconstruction_error'].values]\n",
    "\n",
    "conf_matrix = metrics.confusion_matrix(error_df['True_class'], pred_y)\n",
    "plt.figure(figsize=(7, 7))\n",
    "sns.heatmap(conf_matrix, xticklabels=LABELS, yticklabels=LABELS, annot=True, fmt='d')\n",
    "plt.title('Confusion Matrix')\n",
    "plt.xlabel('Predicted Class'); plt.ylabel('True Class')\n",
    "plt.show()"
   ]
  },
  {
   "cell_type": "code",
   "execution_count": null,
   "id": "c76741ec",
   "metadata": {},
   "outputs": [],
   "source": []
  }
 ],
 "metadata": {
  "kernelspec": {
   "display_name": "soyeon",
   "language": "python",
   "name": "soyeon"
  },
  "language_info": {
   "codemirror_mode": {
    "name": "ipython",
    "version": 3
   },
   "file_extension": ".py",
   "mimetype": "text/x-python",
   "name": "python",
   "nbconvert_exporter": "python",
   "pygments_lexer": "ipython3",
   "version": "3.8.10"
  }
 },
 "nbformat": 4,
 "nbformat_minor": 5
}
