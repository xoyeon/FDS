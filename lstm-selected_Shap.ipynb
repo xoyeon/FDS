{
 "cells": [
  {
   "cell_type": "code",
   "execution_count": 1,
   "id": "f032a645",
   "metadata": {},
   "outputs": [],
   "source": [
    "import pandas as pd\n",
    "import numpy as np"
   ]
  },
  {
   "cell_type": "code",
   "execution_count": 2,
   "id": "0615b3ff",
   "metadata": {},
   "outputs": [
    {
     "data": {
      "text/html": [
       "<div>\n",
       "<style scoped>\n",
       "    .dataframe tbody tr th:only-of-type {\n",
       "        vertical-align: middle;\n",
       "    }\n",
       "\n",
       "    .dataframe tbody tr th {\n",
       "        vertical-align: top;\n",
       "    }\n",
       "\n",
       "    .dataframe thead th {\n",
       "        text-align: right;\n",
       "    }\n",
       "</style>\n",
       "<table border=\"1\" class=\"dataframe\">\n",
       "  <thead>\n",
       "    <tr style=\"text-align: right;\">\n",
       "      <th></th>\n",
       "      <th>Time</th>\n",
       "      <th>V1</th>\n",
       "      <th>V2</th>\n",
       "      <th>V3</th>\n",
       "      <th>V4</th>\n",
       "      <th>V5</th>\n",
       "      <th>V6</th>\n",
       "      <th>V7</th>\n",
       "      <th>V8</th>\n",
       "      <th>V9</th>\n",
       "      <th>...</th>\n",
       "      <th>V21</th>\n",
       "      <th>V22</th>\n",
       "      <th>V23</th>\n",
       "      <th>V24</th>\n",
       "      <th>V25</th>\n",
       "      <th>V26</th>\n",
       "      <th>V27</th>\n",
       "      <th>V28</th>\n",
       "      <th>Amount</th>\n",
       "      <th>Class</th>\n",
       "    </tr>\n",
       "  </thead>\n",
       "  <tbody>\n",
       "    <tr>\n",
       "      <th>0</th>\n",
       "      <td>0:00:00</td>\n",
       "      <td>-1.359807</td>\n",
       "      <td>-0.072781</td>\n",
       "      <td>2.536347</td>\n",
       "      <td>1.378155</td>\n",
       "      <td>-0.338321</td>\n",
       "      <td>0.462388</td>\n",
       "      <td>0.239599</td>\n",
       "      <td>0.098698</td>\n",
       "      <td>0.363787</td>\n",
       "      <td>...</td>\n",
       "      <td>-0.018307</td>\n",
       "      <td>0.277838</td>\n",
       "      <td>-0.110474</td>\n",
       "      <td>0.066928</td>\n",
       "      <td>0.128539</td>\n",
       "      <td>-0.189115</td>\n",
       "      <td>0.133558</td>\n",
       "      <td>-0.021053</td>\n",
       "      <td>5.008105</td>\n",
       "      <td>0</td>\n",
       "    </tr>\n",
       "    <tr>\n",
       "      <th>1</th>\n",
       "      <td>0:00:00</td>\n",
       "      <td>1.191857</td>\n",
       "      <td>0.266151</td>\n",
       "      <td>0.166480</td>\n",
       "      <td>0.448154</td>\n",
       "      <td>0.060018</td>\n",
       "      <td>-0.082361</td>\n",
       "      <td>-0.078803</td>\n",
       "      <td>0.085102</td>\n",
       "      <td>-0.255425</td>\n",
       "      <td>...</td>\n",
       "      <td>-0.225775</td>\n",
       "      <td>-0.638672</td>\n",
       "      <td>0.101288</td>\n",
       "      <td>-0.339846</td>\n",
       "      <td>0.167170</td>\n",
       "      <td>0.125895</td>\n",
       "      <td>-0.008983</td>\n",
       "      <td>0.014724</td>\n",
       "      <td>0.989913</td>\n",
       "      <td>0</td>\n",
       "    </tr>\n",
       "    <tr>\n",
       "      <th>2</th>\n",
       "      <td>0:00:24</td>\n",
       "      <td>-1.358354</td>\n",
       "      <td>-1.340163</td>\n",
       "      <td>1.773209</td>\n",
       "      <td>0.379780</td>\n",
       "      <td>-0.503198</td>\n",
       "      <td>1.800499</td>\n",
       "      <td>0.791461</td>\n",
       "      <td>0.247676</td>\n",
       "      <td>-1.514654</td>\n",
       "      <td>...</td>\n",
       "      <td>0.247998</td>\n",
       "      <td>0.771679</td>\n",
       "      <td>0.909412</td>\n",
       "      <td>-0.689281</td>\n",
       "      <td>-0.327642</td>\n",
       "      <td>-0.139097</td>\n",
       "      <td>-0.055353</td>\n",
       "      <td>-0.059752</td>\n",
       "      <td>5.936641</td>\n",
       "      <td>0</td>\n",
       "    </tr>\n",
       "    <tr>\n",
       "      <th>3</th>\n",
       "      <td>0:00:24</td>\n",
       "      <td>-0.966272</td>\n",
       "      <td>-0.185226</td>\n",
       "      <td>1.792993</td>\n",
       "      <td>-0.863291</td>\n",
       "      <td>-0.010309</td>\n",
       "      <td>1.247203</td>\n",
       "      <td>0.237609</td>\n",
       "      <td>0.377436</td>\n",
       "      <td>-1.387024</td>\n",
       "      <td>...</td>\n",
       "      <td>-0.108300</td>\n",
       "      <td>0.005274</td>\n",
       "      <td>-0.190321</td>\n",
       "      <td>-1.175575</td>\n",
       "      <td>0.647376</td>\n",
       "      <td>-0.221929</td>\n",
       "      <td>0.062723</td>\n",
       "      <td>0.061458</td>\n",
       "      <td>4.816249</td>\n",
       "      <td>0</td>\n",
       "    </tr>\n",
       "    <tr>\n",
       "      <th>4</th>\n",
       "      <td>0:00:48</td>\n",
       "      <td>-1.158233</td>\n",
       "      <td>0.877737</td>\n",
       "      <td>1.548718</td>\n",
       "      <td>0.403034</td>\n",
       "      <td>-0.407193</td>\n",
       "      <td>0.095921</td>\n",
       "      <td>0.592941</td>\n",
       "      <td>-0.270533</td>\n",
       "      <td>0.817739</td>\n",
       "      <td>...</td>\n",
       "      <td>-0.009431</td>\n",
       "      <td>0.798278</td>\n",
       "      <td>-0.137458</td>\n",
       "      <td>0.141267</td>\n",
       "      <td>-0.206010</td>\n",
       "      <td>0.502292</td>\n",
       "      <td>0.219422</td>\n",
       "      <td>0.215153</td>\n",
       "      <td>4.248367</td>\n",
       "      <td>0</td>\n",
       "    </tr>\n",
       "  </tbody>\n",
       "</table>\n",
       "<p>5 rows × 31 columns</p>\n",
       "</div>"
      ],
      "text/plain": [
       "      Time        V1        V2        V3        V4        V5        V6  \\\n",
       "0  0:00:00 -1.359807 -0.072781  2.536347  1.378155 -0.338321  0.462388   \n",
       "1  0:00:00  1.191857  0.266151  0.166480  0.448154  0.060018 -0.082361   \n",
       "2  0:00:24 -1.358354 -1.340163  1.773209  0.379780 -0.503198  1.800499   \n",
       "3  0:00:24 -0.966272 -0.185226  1.792993 -0.863291 -0.010309  1.247203   \n",
       "4  0:00:48 -1.158233  0.877737  1.548718  0.403034 -0.407193  0.095921   \n",
       "\n",
       "         V7        V8        V9  ...       V21       V22       V23       V24  \\\n",
       "0  0.239599  0.098698  0.363787  ... -0.018307  0.277838 -0.110474  0.066928   \n",
       "1 -0.078803  0.085102 -0.255425  ... -0.225775 -0.638672  0.101288 -0.339846   \n",
       "2  0.791461  0.247676 -1.514654  ...  0.247998  0.771679  0.909412 -0.689281   \n",
       "3  0.237609  0.377436 -1.387024  ... -0.108300  0.005274 -0.190321 -1.175575   \n",
       "4  0.592941 -0.270533  0.817739  ... -0.009431  0.798278 -0.137458  0.141267   \n",
       "\n",
       "        V25       V26       V27       V28    Amount  Class  \n",
       "0  0.128539 -0.189115  0.133558 -0.021053  5.008105      0  \n",
       "1  0.167170  0.125895 -0.008983  0.014724  0.989913      0  \n",
       "2 -0.327642 -0.139097 -0.055353 -0.059752  5.936641      0  \n",
       "3  0.647376 -0.221929  0.062723  0.061458  4.816249      0  \n",
       "4 -0.206010  0.502292  0.219422  0.215153  4.248367      0  \n",
       "\n",
       "[5 rows x 31 columns]"
      ]
     },
     "execution_count": 2,
     "metadata": {},
     "output_type": "execute_result"
    }
   ],
   "source": [
    "data = pd.read_csv('./dataset/inflearn_creditcard.csv')\n",
    "data.head()"
   ]
  },
  {
   "cell_type": "code",
   "execution_count": null,
   "id": "b1b2c50c",
   "metadata": {},
   "outputs": [],
   "source": [
    "df = data[['']]"
   ]
  },
  {
   "cell_type": "markdown",
   "id": "a181a94f",
   "metadata": {},
   "source": [
    "# train_test_split"
   ]
  },
  {
   "cell_type": "code",
   "execution_count": 6,
   "id": "85598c27",
   "metadata": {},
   "outputs": [],
   "source": [
    "from sklearn.model_selection import train_test_split"
   ]
  },
  {
   "cell_type": "code",
   "execution_count": 7,
   "id": "049700f8",
   "metadata": {},
   "outputs": [],
   "source": [
    "features = data.values\n",
    "labels = np.array(data.pop('Class'))"
   ]
  },
  {
   "cell_type": "code",
   "execution_count": 8,
   "id": "9557962a",
   "metadata": {},
   "outputs": [
    {
     "data": {
      "text/plain": [
       "((141863, 30), (141863, 30), (141863,), (141863,))"
      ]
     },
     "execution_count": 8,
     "metadata": {},
     "output_type": "execute_result"
    }
   ],
   "source": [
    "X_train, X_test, y_train, y_test = train_test_split(features, labels,\n",
    "                                                    test_size=0.5, random_state=0, stratify=labels)\n",
    "X_train.shape, X_test.shape, y_train.shape, y_test.shape"
   ]
  },
  {
   "cell_type": "markdown",
   "id": "aaa827d9",
   "metadata": {},
   "source": [
    "# LSTM"
   ]
  },
  {
   "cell_type": "code",
   "execution_count": 9,
   "id": "d8615a73",
   "metadata": {},
   "outputs": [],
   "source": [
    "import tensorflow as tf\n",
    "from tensorflow.keras.models import Sequential\n",
    "from tensorflow.keras.layers import LSTM, Input, Dropout, Dense, RepeatVector"
   ]
  },
  {
   "cell_type": "code",
   "execution_count": 10,
   "id": "4bae6708",
   "metadata": {},
   "outputs": [
    {
     "name": "stdout",
     "output_type": "stream",
     "text": [
      "Model: \"sequential\"\n",
      "_________________________________________________________________\n",
      " Layer (type)                Output Shape              Param #   \n",
      "=================================================================\n",
      " lstm (LSTM)                 (None, 32)                4352      \n",
      "                                                                 \n",
      " dropout (Dropout)           (None, 32)                0         \n",
      "                                                                 \n",
      " repeat_vector (RepeatVector  (None, 30, 32)           0         \n",
      " )                                                               \n",
      "                                                                 \n",
      " dropout_1 (Dropout)         (None, 30, 32)            0         \n",
      "                                                                 \n",
      " lstm_1 (LSTM)               (None, 30, 32)            8320      \n",
      "                                                                 \n",
      " dense (Dense)               (None, 30, 1)             33        \n",
      "                                                                 \n",
      "=================================================================\n",
      "Total params: 12,705\n",
      "Trainable params: 12,705\n",
      "Non-trainable params: 0\n",
      "_________________________________________________________________\n"
     ]
    }
   ],
   "source": [
    "model = Sequential()\n",
    "model.add(LSTM(32,input_shape=(X_train.shape[1], 1)))\n",
    "model.add(Dropout(0.2))\n",
    "model.add(RepeatVector(X_train.shape[1]))\n",
    "model.add(Dropout(0.2))\n",
    "model.add(LSTM(32, return_sequences=True))\n",
    "model.add(Dense(1))\n",
    "\n",
    "model.compile(optimizer='adam', loss='mse')\n",
    "model.summary()"
   ]
  },
  {
   "cell_type": "code",
   "execution_count": null,
   "id": "010bb9e2",
   "metadata": {},
   "outputs": [
    {
     "name": "stdout",
     "output_type": "stream",
     "text": [
      "Epoch 1/100\n",
      "998/998 [==============================] - 45s 40ms/step - loss: 1.2039 - val_loss: 1.0965\n",
      "Epoch 2/100\n",
      "998/998 [==============================] - 39s 39ms/step - loss: 0.9833 - val_loss: 0.9473\n",
      "Epoch 3/100\n",
      "998/998 [==============================] - 41s 41ms/step - loss: 0.9204 - val_loss: 1.0597\n",
      "Epoch 4/100\n",
      "998/998 [==============================] - 47s 47ms/step - loss: 0.8676 - val_loss: 0.8595\n",
      "Epoch 5/100\n",
      "998/998 [==============================] - 49s 49ms/step - loss: 0.8586 - val_loss: 0.8463\n",
      "Epoch 6/100\n",
      "998/998 [==============================] - 46s 46ms/step - loss: 0.8342 - val_loss: 1.3838\n",
      "Epoch 7/100\n",
      "998/998 [==============================] - 37s 37ms/step - loss: 0.8192 - val_loss: 0.8177\n",
      "Epoch 8/100\n",
      "998/998 [==============================] - 37s 37ms/step - loss: 0.8104 - val_loss: 0.8003\n",
      "Epoch 9/100\n",
      "998/998 [==============================] - 37s 37ms/step - loss: 0.7892 - val_loss: 0.8044\n",
      "Epoch 10/100\n",
      "998/998 [==============================] - 37s 37ms/step - loss: 0.7772 - val_loss: 0.7673\n",
      "Epoch 11/100\n",
      "998/998 [==============================] - 45s 45ms/step - loss: 0.8054 - val_loss: 0.7728\n",
      "Epoch 12/100\n",
      "998/998 [==============================] - 58s 58ms/step - loss: 0.7717 - val_loss: 0.7568\n",
      "Epoch 13/100\n",
      "998/998 [==============================] - 58s 58ms/step - loss: 0.9482 - val_loss: 0.8834\n",
      "Epoch 14/100\n",
      "998/998 [==============================] - 59s 59ms/step - loss: 0.8105 - val_loss: 0.7553\n",
      "Epoch 15/100\n",
      "998/998 [==============================] - 58s 58ms/step - loss: 0.7560 - val_loss: 0.7340\n",
      "Epoch 16/100\n",
      "998/998 [==============================] - 58s 58ms/step - loss: 0.7294 - val_loss: 0.6774\n",
      "Epoch 17/100\n",
      "998/998 [==============================] - 58s 59ms/step - loss: 0.6984 - val_loss: 0.6434\n",
      "Epoch 18/100\n",
      "998/998 [==============================] - 58s 58ms/step - loss: 0.6581 - val_loss: 0.6204\n",
      "Epoch 19/100\n",
      "998/998 [==============================] - 58s 58ms/step - loss: 0.6655 - val_loss: 0.6122\n",
      "Epoch 20/100\n",
      "998/998 [==============================] - 58s 58ms/step - loss: 0.6749 - val_loss: 0.5799\n",
      "Epoch 21/100\n",
      "998/998 [==============================] - 58s 58ms/step - loss: 0.6102 - val_loss: 0.5520\n",
      "Epoch 22/100\n",
      "998/998 [==============================] - 59s 59ms/step - loss: 0.5883 - val_loss: 0.5387\n",
      "Epoch 23/100\n",
      "998/998 [==============================] - 58s 59ms/step - loss: 0.6443 - val_loss: 0.5479\n",
      "Epoch 24/100\n",
      "998/998 [==============================] - 59s 59ms/step - loss: 0.5684 - val_loss: 0.5143\n",
      "Epoch 25/100\n",
      "998/998 [==============================] - 59s 59ms/step - loss: 0.5627 - val_loss: 0.5030\n",
      "Epoch 26/100\n",
      "998/998 [==============================] - 58s 58ms/step - loss: 0.5434 - val_loss: 0.4846\n",
      "Epoch 27/100\n",
      "998/998 [==============================] - 58s 58ms/step - loss: 0.5351 - val_loss: 0.4792\n",
      "Epoch 28/100\n",
      "998/998 [==============================] - 57s 58ms/step - loss: 0.8328 - val_loss: 0.7950\n",
      "Epoch 29/100\n",
      "998/998 [==============================] - 57s 57ms/step - loss: 0.6817 - val_loss: 0.5521\n",
      "Epoch 30/100\n",
      "998/998 [==============================] - 58s 58ms/step - loss: 0.5702 - val_loss: 0.5046\n",
      "Epoch 31/100\n",
      "998/998 [==============================] - 57s 57ms/step - loss: 0.5508 - val_loss: 0.4837\n",
      "Epoch 32/100\n",
      "998/998 [==============================] - 58s 58ms/step - loss: 0.5991 - val_loss: 0.5487\n",
      "Epoch 33/100\n",
      "998/998 [==============================] - 58s 58ms/step - loss: 0.5503 - val_loss: 0.4792\n",
      "Epoch 34/100\n",
      "998/998 [==============================] - 58s 58ms/step - loss: 0.5265 - val_loss: 0.4760\n",
      "Epoch 35/100\n",
      "998/998 [==============================] - 58s 58ms/step - loss: 0.5937 - val_loss: 0.4704\n",
      "Epoch 36/100\n",
      "998/998 [==============================] - 58s 59ms/step - loss: 0.5060 - val_loss: 0.4456\n",
      "Epoch 37/100\n",
      "998/998 [==============================] - 59s 59ms/step - loss: 0.4978 - val_loss: 0.4465\n",
      "Epoch 38/100\n",
      "998/998 [==============================] - 58s 58ms/step - loss: 0.4871 - val_loss: 0.4357\n",
      "Epoch 39/100\n",
      "998/998 [==============================] - 57s 58ms/step - loss: 0.4825 - val_loss: 0.4216\n",
      "Epoch 40/100\n",
      "998/998 [==============================] - 57s 57ms/step - loss: 0.5452 - val_loss: 0.4301\n",
      "Epoch 41/100\n",
      "998/998 [==============================] - 57s 57ms/step - loss: 0.4877 - val_loss: 0.4370\n",
      "Epoch 42/100\n",
      "998/998 [==============================] - 57s 57ms/step - loss: 0.4843 - val_loss: 0.4032\n",
      "Epoch 43/100\n",
      "998/998 [==============================] - 58s 58ms/step - loss: 0.4634 - val_loss: 0.3937\n",
      "Epoch 44/100\n",
      "998/998 [==============================] - 58s 58ms/step - loss: 0.4661 - val_loss: 0.3951\n",
      "Epoch 45/100\n",
      "998/998 [==============================] - 57s 57ms/step - loss: 0.4599 - val_loss: 0.3838\n",
      "Epoch 46/100\n",
      " 61/998 [>.............................] - ETA: 39s - loss: 0.4327"
     ]
    }
   ],
   "source": [
    "history = model.fit(X_train, X_train,epochs=100,\n",
    "                    batch_size=128, validation_split=0.1,\n",
    "                    callbacks=[tf.keras.callbacks.EarlyStopping(\n",
    "                        monitor=\"val_loss\", patience=10, mode=\"min\")])"
   ]
  },
  {
   "cell_type": "code",
   "execution_count": null,
   "id": "26e9c649",
   "metadata": {},
   "outputs": [],
   "source": [
    "plt.plot(history.history[\"loss\"], label=\"Training Loss\")\n",
    "plt.plot(history.history[\"val_loss\"], label=\"Validation Loss\")\n",
    "plt.legend()\n",
    "plt.show()"
   ]
  },
  {
   "cell_type": "code",
   "execution_count": null,
   "id": "20c71847",
   "metadata": {},
   "outputs": [],
   "source": [
    "X_train_pred = model.predict(X_train)\n",
    "train_mae_loss = np.mean(np.abs(X_train_pred - X_train), axis=1)\n",
    "\n",
    "plt.hist(train_mae_loss, bins=50)\n",
    "plt.xlabel(\"Train MAE loss\")\n",
    "plt.ylabel(\"Number of samples\")\n",
    "plt.show()"
   ]
  },
  {
   "cell_type": "code",
   "execution_count": null,
   "id": "ea1a99f3",
   "metadata": {},
   "outputs": [],
   "source": [
    "threshold = np.max(train_mae_loss)\n",
    "print(\"재구성 오류 임계값: \", threshold)"
   ]
  },
  {
   "cell_type": "code",
   "execution_count": null,
   "id": "a6ddcd4f",
   "metadata": {},
   "outputs": [],
   "source": [
    "# 첫 번째 시퀀스가  어떻게 학습되었는지 확인\n",
    "plt.plot(X_train[0], label='Train set')\n",
    "plt.plot(X_train_pred[0], label='Reconstructed')\n",
    "plt.xlabel(\"Time Step\")\n",
    "plt.legend()"
   ]
  },
  {
   "cell_type": "code",
   "execution_count": null,
   "id": "33a0db51",
   "metadata": {},
   "outputs": [],
   "source": [
    "df_test_value = (df_daily_jumpsup - training_mean) / training_std\n",
    "fig, ax = plt.subplots()\n",
    "df_test_value.plot(legend=False, ax=ax)\n",
    "plt.show()"
   ]
  },
  {
   "cell_type": "code",
   "execution_count": null,
   "id": "b488fff5",
   "metadata": {},
   "outputs": [],
   "source": [
    "x_test = create_sequences(df_test_value.values)\n",
    "print(\"Test input shape: \", x_test.shape)"
   ]
  },
  {
   "cell_type": "code",
   "execution_count": null,
   "id": "a78873a6",
   "metadata": {},
   "outputs": [],
   "source": [
    "x_test_pred = model.predict(x_test)\n",
    "test_mae_loss = np.mean(np.abs(x_test_pred - x_test), axis=1)\n",
    "test_mae_loss = test_mae_loss.reshape((-1))"
   ]
  },
  {
   "cell_type": "code",
   "execution_count": null,
   "id": "377d48b4",
   "metadata": {},
   "outputs": [],
   "source": [
    "plt.hist(test_mae_loss, bins=50)\n",
    "plt.xlabel(\"test MAE loss\")\n",
    "plt.ylabel(\"No of samples\")\n",
    "plt.show()"
   ]
  },
  {
   "cell_type": "code",
   "execution_count": null,
   "id": "534539bb",
   "metadata": {},
   "outputs": [],
   "source": []
  },
  {
   "cell_type": "code",
   "execution_count": null,
   "id": "c5d23b17",
   "metadata": {},
   "outputs": [],
   "source": []
  },
  {
   "cell_type": "code",
   "execution_count": null,
   "id": "6fc99ec7",
   "metadata": {},
   "outputs": [],
   "source": []
  },
  {
   "cell_type": "code",
   "execution_count": null,
   "id": "afb1610d",
   "metadata": {},
   "outputs": [],
   "source": []
  },
  {
   "cell_type": "code",
   "execution_count": null,
   "id": "b5e36f0c",
   "metadata": {},
   "outputs": [],
   "source": [
    "from sklearn.metrics import confusion_matrix, f1_score\n",
    "from sklearn.metrics import accuracy_score, precision_score, recall_score,roc_curve, roc_auc_score"
   ]
  }
 ],
 "metadata": {
  "kernelspec": {
   "display_name": "soyeon",
   "language": "python",
   "name": "soyeon"
  },
  "language_info": {
   "codemirror_mode": {
    "name": "ipython",
    "version": 3
   },
   "file_extension": ".py",
   "mimetype": "text/x-python",
   "name": "python",
   "nbconvert_exporter": "python",
   "pygments_lexer": "ipython3",
   "version": "3.8.10"
  }
 },
 "nbformat": 4,
 "nbformat_minor": 5
}
