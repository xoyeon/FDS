{
 "cells": [
  {
   "cell_type": "code",
   "execution_count": 1,
   "id": "45c0549b",
   "metadata": {},
   "outputs": [],
   "source": [
    "import pandas as pd\n",
    "import numpy as np\n",
    "\n",
    "import seaborn as sns\n",
    "import matplotlib.pyplot as plt\n",
    "\n",
    "import warnings\n",
    "warnings.filterwarnings('ignore')"
   ]
  },
  {
   "cell_type": "code",
   "execution_count": 2,
   "id": "a6e7499c",
   "metadata": {},
   "outputs": [],
   "source": [
    "data = pd.read_csv('./dataset/creditcard.csv')\n",
    "new_data = pd.read_csv('./dataset/new_creditcard.csv')"
   ]
  },
  {
   "cell_type": "code",
   "execution_count": 3,
   "id": "4ee81367",
   "metadata": {},
   "outputs": [],
   "source": [
    "from sklearn.preprocessing import StandardScaler, RobustScaler, MinMaxScaler\n",
    "\n",
    "sc = StandardScaler()\n",
    "rb = RobustScaler()\n",
    "mn = MinMaxScaler()\n",
    "\n",
    "data['Amount'] = rb.fit_transform(data['Amount'].values.reshape(-1, 1))\n",
    "data['Time'] = mn.fit_transform(data['Time'].values.reshape(-1, 1))\n",
    "\n",
    "new_data['Amount'] = rb.fit_transform(new_data['Amount'].values.reshape(-1, 1))\n",
    "new_data['Time'] = mn.fit_transform(new_data['Time'].values.reshape(-1, 1))\n",
    "\n",
    "data.drop_duplicates(inplace=True)\n",
    "new_data.drop_duplicates(inplace=True)"
   ]
  },
  {
   "cell_type": "markdown",
   "id": "ec538d9f",
   "metadata": {},
   "source": [
    "### Feature Selection"
   ]
  },
  {
   "cell_type": "code",
   "execution_count": 4,
   "id": "00e49843",
   "metadata": {},
   "outputs": [],
   "source": [
    "data_sf = data[['V16', 'V14', 'V12', 'V9', 'V8', 'V4', 'V11', 'V10', 'Class']]\n",
    "new_sf = new_data[['V18', 'V16','V14', 'V12', 'V10', 'V5', 'V4', 'V3', 'V2', 'V17', 'V11','Class']]"
   ]
  },
  {
   "cell_type": "code",
   "execution_count": 6,
   "id": "c7511bee",
   "metadata": {},
   "outputs": [
    {
     "name": "stdout",
     "output_type": "stream",
     "text": [
      "(283726, 9)\n",
      "(567549, 12)\n"
     ]
    }
   ],
   "source": [
    "print(data_sf.shape)\n",
    "print(new_sf.shape)"
   ]
  },
  {
   "cell_type": "markdown",
   "id": "b87d9b2a",
   "metadata": {},
   "source": [
    "# data_sf 모델 비교"
   ]
  },
  {
   "cell_type": "code",
   "execution_count": 35,
   "id": "509e7fc5",
   "metadata": {},
   "outputs": [],
   "source": [
    "from sklearn.model_selection import train_test_split\n",
    "from sklearn.metrics import accuracy_score,confusion_matrix,classification_report, f1_score\n",
    "from sklearn.neighbors import KNeighborsClassifier\n",
    "from sklearn.linear_model import LogisticRegression\n",
    "from sklearn.naive_bayes import GaussianNB\n",
    "from sklearn.tree import DecisionTreeClassifier\n",
    "from sklearn.ensemble import RandomForestClassifier"
   ]
  },
  {
   "cell_type": "code",
   "execution_count": 20,
   "id": "afde0d22",
   "metadata": {},
   "outputs": [],
   "source": [
    "X = data_sf.iloc[:,:-1]\n",
    "Y = data_sf.iloc[:,-1]"
   ]
  },
  {
   "cell_type": "code",
   "execution_count": 21,
   "id": "441e89d9",
   "metadata": {},
   "outputs": [],
   "source": [
    "xtrain, xtest, ytrain, ytest = train_test_split(X,Y,random_state=2,test_size=0.4, stratify=Y)"
   ]
  },
  {
   "cell_type": "code",
   "execution_count": 22,
   "id": "b961daf9",
   "metadata": {},
   "outputs": [],
   "source": [
    "def mymodel(model):\n",
    "    model.fit(xtrain,ytrain)\n",
    "    ypred=model.predict(xtest)\n",
    "    \n",
    "    tr=model.score(xtrain,ytrain)\n",
    "    te=model.score(xtest,ytest)\n",
    "    \n",
    "    print('F1 score',f1_score(ytest, ypred))\n",
    "    print(str(model)[:-2],'Accuracy: ',accuracy_score(ytest,ypred),\\\n",
    "          '\\nConfusion Matrix: \\n',confusion_matrix(ytest,ypred))\n",
    "    print(\"Classification report: \\n\",classification_report(ytest,ypred))\n",
    "    print(f'Training Accuracy: {tr}\\nTesting Accuracy: {te}')\n",
    "    \n",
    "    return model"
   ]
  },
  {
   "cell_type": "code",
   "execution_count": 23,
   "id": "78ff20cc",
   "metadata": {
    "scrolled": true
   },
   "outputs": [
    {
     "name": "stdout",
     "output_type": "stream",
     "text": [
      "F1 score 0.8106508875739645\n",
      "KNeighborsClassifier Accuracy:  0.9994360786317857 \n",
      "Confusion Matrix: \n",
      " [[113290     12]\n",
      " [    52    137]]\n",
      "Classification report: \n",
      "               precision    recall  f1-score   support\n",
      "\n",
      "           0       1.00      1.00      1.00    113302\n",
      "           1       0.92      0.72      0.81       189\n",
      "\n",
      "    accuracy                           1.00    113491\n",
      "   macro avg       0.96      0.86      0.91    113491\n",
      "weighted avg       1.00      1.00      1.00    113491\n",
      "\n",
      "Training Accuracy: 0.9996475460392986\n",
      "Testing Accuracy: 0.9994360786317857\n"
     ]
    }
   ],
   "source": [
    "knn=mymodel(KNeighborsClassifier())"
   ]
  },
  {
   "cell_type": "code",
   "execution_count": 25,
   "id": "8efb3685",
   "metadata": {},
   "outputs": [
    {
     "name": "stdout",
     "output_type": "stream",
     "text": [
      "F1 score 0.7075208913649025\n",
      "DecisionTreeClassifier Accuracy:  0.9990748165052735 \n",
      "Confusion Matrix: \n",
      " [[113259     43]\n",
      " [    62    127]]\n",
      "Classification report: \n",
      "               precision    recall  f1-score   support\n",
      "\n",
      "           0       1.00      1.00      1.00    113302\n",
      "           1       0.75      0.67      0.71       189\n",
      "\n",
      "    accuracy                           1.00    113491\n",
      "   macro avg       0.87      0.84      0.85    113491\n",
      "weighted avg       1.00      1.00      1.00    113491\n",
      "\n",
      "Training Accuracy: 1.0\n",
      "Testing Accuracy: 0.9990748165052735\n"
     ]
    }
   ],
   "source": [
    "dt=mymodel(DecisionTreeClassifier())"
   ]
  },
  {
   "cell_type": "code",
   "execution_count": 26,
   "id": "3c2e7c43",
   "metadata": {},
   "outputs": [
    {
     "name": "stdout",
     "output_type": "stream",
     "text": [
      "F1 score 0.2107466852756455\n",
      "GaussianNB Accuracy:  0.9900344520710893 \n",
      "Confusion Matrix: \n",
      " [[112209   1093]\n",
      " [    38    151]]\n",
      "Classification report: \n",
      "               precision    recall  f1-score   support\n",
      "\n",
      "           0       1.00      0.99      0.99    113302\n",
      "           1       0.12      0.80      0.21       189\n",
      "\n",
      "    accuracy                           0.99    113491\n",
      "   macro avg       0.56      0.89      0.60    113491\n",
      "weighted avg       1.00      0.99      0.99    113491\n",
      "\n",
      "Training Accuracy: 0.9899080682585837\n",
      "Testing Accuracy: 0.9900344520710893\n"
     ]
    }
   ],
   "source": [
    "gnb=mymodel(GaussianNB())"
   ]
  },
  {
   "cell_type": "code",
   "execution_count": 27,
   "id": "fa994f33",
   "metadata": {
    "scrolled": false
   },
   "outputs": [
    {
     "name": "stdout",
     "output_type": "stream",
     "text": [
      "F1 score 0.689873417721519\n",
      "LogisticRegression Accuracy:  0.999136495404922 \n",
      "Confusion Matrix: \n",
      " [[113284     18]\n",
      " [    80    109]]\n",
      "Classification report: \n",
      "               precision    recall  f1-score   support\n",
      "\n",
      "           0       1.00      1.00      1.00    113302\n",
      "           1       0.86      0.58      0.69       189\n",
      "\n",
      "    accuracy                           1.00    113491\n",
      "   macro avg       0.93      0.79      0.84    113491\n",
      "weighted avg       1.00      1.00      1.00    113491\n",
      "\n",
      "Training Accuracy: 0.9991541104943167\n",
      "Testing Accuracy: 0.999136495404922\n"
     ]
    }
   ],
   "source": [
    "lr=mymodel(LogisticRegression())"
   ]
  },
  {
   "cell_type": "markdown",
   "id": "18acd898",
   "metadata": {},
   "source": [
    "# new_sf 모델 비교"
   ]
  },
  {
   "cell_type": "code",
   "execution_count": 28,
   "id": "594cf08c",
   "metadata": {},
   "outputs": [],
   "source": [
    "X = new_sf.iloc[:,:-1]\n",
    "Y = new_sf.iloc[:,-1]"
   ]
  },
  {
   "cell_type": "code",
   "execution_count": 29,
   "id": "78a888bf",
   "metadata": {},
   "outputs": [],
   "source": [
    "xtrain, xtest, ytrain, ytest = train_test_split(X,Y,random_state=2,test_size=0.4, stratify=Y)"
   ]
  },
  {
   "cell_type": "code",
   "execution_count": 30,
   "id": "96874350",
   "metadata": {},
   "outputs": [],
   "source": [
    "def mymodel(model):\n",
    "    model.fit(xtrain,ytrain)\n",
    "    ypred=model.predict(xtest)\n",
    "    \n",
    "    tr=model.score(xtrain,ytrain)\n",
    "    te=model.score(xtest,ytest)\n",
    "    \n",
    "    print('F1 score',f1_score(ytest, ypred))\n",
    "    print(str(model)[:-2],'Accuracy: ',accuracy_score(ytest,ypred),\\\n",
    "          '\\nConfusion Matrix: \\n',confusion_matrix(ytest,ypred))\n",
    "    print(\"Classification report: \\n\",classification_report(ytest,ypred))\n",
    "    print(f'Training Accuracy: {tr}\\nTesting Accuracy: {te}')\n",
    "    \n",
    "    return model"
   ]
  },
  {
   "cell_type": "code",
   "execution_count": 31,
   "id": "0f40d906",
   "metadata": {
    "scrolled": true
   },
   "outputs": [
    {
     "name": "stdout",
     "output_type": "stream",
     "text": [
      "F1 score 0.9996393765612357\n",
      "KNeighborsClassifier Accuracy:  0.9996387983437582 \n",
      "Confusion Matrix: \n",
      " [[113287     14]\n",
      " [    68 113651]]\n",
      "Classification report: \n",
      "               precision    recall  f1-score   support\n",
      "\n",
      "           0       1.00      1.00      1.00    113301\n",
      "           1       1.00      1.00      1.00    113719\n",
      "\n",
      "    accuracy                           1.00    227020\n",
      "   macro avg       1.00      1.00      1.00    227020\n",
      "weighted avg       1.00      1.00      1.00    227020\n",
      "\n",
      "Training Accuracy: 0.9996828463948738\n",
      "Testing Accuracy: 0.9996387983437582\n"
     ]
    }
   ],
   "source": [
    "knn=mymodel(KNeighborsClassifier())"
   ]
  },
  {
   "cell_type": "code",
   "execution_count": 32,
   "id": "ca14e9d9",
   "metadata": {},
   "outputs": [
    {
     "name": "stdout",
     "output_type": "stream",
     "text": [
      "F1 score 0.9989800942533587\n",
      "DecisionTreeClassifier Accuracy:  0.9989780636067307 \n",
      "Confusion Matrix: \n",
      " [[113168    133]\n",
      " [    99 113620]]\n",
      "Classification report: \n",
      "               precision    recall  f1-score   support\n",
      "\n",
      "           0       1.00      1.00      1.00    113301\n",
      "           1       1.00      1.00      1.00    113719\n",
      "\n",
      "    accuracy                           1.00    227020\n",
      "   macro avg       1.00      1.00      1.00    227020\n",
      "weighted avg       1.00      1.00      1.00    227020\n",
      "\n",
      "Training Accuracy: 1.0\n",
      "Testing Accuracy: 0.9989780636067307\n"
     ]
    }
   ],
   "source": [
    "dt=mymodel(DecisionTreeClassifier())"
   ]
  },
  {
   "cell_type": "code",
   "execution_count": 33,
   "id": "06120705",
   "metadata": {},
   "outputs": [
    {
     "name": "stdout",
     "output_type": "stream",
     "text": [
      "F1 score 0.9926572022281593\n",
      "GaussianNB Accuracy:  0.9925909611487974 \n",
      "Confusion Matrix: \n",
      " [[111645   1656]\n",
      " [    26 113693]]\n",
      "Classification report: \n",
      "               precision    recall  f1-score   support\n",
      "\n",
      "           0       1.00      0.99      0.99    113301\n",
      "           1       0.99      1.00      0.99    113719\n",
      "\n",
      "    accuracy                           0.99    227020\n",
      "   macro avg       0.99      0.99      0.99    227020\n",
      "weighted avg       0.99      0.99      0.99    227020\n",
      "\n",
      "Training Accuracy: 0.9924118063366115\n",
      "Testing Accuracy: 0.9925909611487974\n"
     ]
    }
   ],
   "source": [
    "gnb=mymodel(GaussianNB())"
   ]
  },
  {
   "cell_type": "code",
   "execution_count": 34,
   "id": "6da3e0e0",
   "metadata": {
    "scrolled": false
   },
   "outputs": [
    {
     "name": "stdout",
     "output_type": "stream",
     "text": [
      "F1 score 0.9994150374947771\n",
      "LogisticRegression Accuracy:  0.9994141485331689 \n",
      "Confusion Matrix: \n",
      " [[113271     30]\n",
      " [   103 113616]]\n",
      "Classification report: \n",
      "               precision    recall  f1-score   support\n",
      "\n",
      "           0       1.00      1.00      1.00    113301\n",
      "           1       1.00      1.00      1.00    113719\n",
      "\n",
      "    accuracy                           1.00    227020\n",
      "   macro avg       1.00      1.00      1.00    227020\n",
      "weighted avg       1.00      1.00      1.00    227020\n",
      "\n",
      "Training Accuracy: 0.9993979954717513\n",
      "Testing Accuracy: 0.9994141485331689\n"
     ]
    }
   ],
   "source": [
    "lr=mymodel(LogisticRegression())"
   ]
  },
  {
   "cell_type": "code",
   "execution_count": 36,
   "id": "7868bf68",
   "metadata": {},
   "outputs": [
    {
     "name": "stdout",
     "output_type": "stream",
     "text": [
      "F1 score 0.9996922211083558\n",
      "RandomForestClassifier Accuracy:  0.9996916571227205 \n",
      "Confusion Matrix: \n",
      " [[113267     34]\n",
      " [    36 113683]]\n",
      "Classification report: \n",
      "               precision    recall  f1-score   support\n",
      "\n",
      "           0       1.00      1.00      1.00    113301\n",
      "           1       1.00      1.00      1.00    113719\n",
      "\n",
      "    accuracy                           1.00    227020\n",
      "   macro avg       1.00      1.00      1.00    227020\n",
      "weighted avg       1.00      1.00      1.00    227020\n",
      "\n",
      "Training Accuracy: 1.0\n",
      "Testing Accuracy: 0.9996916571227205\n"
     ]
    }
   ],
   "source": [
    "rf = mymodel(RandomForestClassifier())"
   ]
  },
  {
   "cell_type": "code",
   "execution_count": null,
   "id": "fce1cb28",
   "metadata": {},
   "outputs": [],
   "source": []
  }
 ],
 "metadata": {
  "kernelspec": {
   "display_name": "soyeon",
   "language": "python",
   "name": "soyeon"
  },
  "language_info": {
   "codemirror_mode": {
    "name": "ipython",
    "version": 3
   },
   "file_extension": ".py",
   "mimetype": "text/x-python",
   "name": "python",
   "nbconvert_exporter": "python",
   "pygments_lexer": "ipython3",
   "version": "3.11.1"
  }
 },
 "nbformat": 4,
 "nbformat_minor": 5
}
